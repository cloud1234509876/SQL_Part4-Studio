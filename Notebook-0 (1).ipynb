{
    "metadata": {
        "kernelspec": {
            "name": "SQL",
            "display_name": "SQL",
            "language": "sql"
        },
        "language_info": {
            "name": "sql",
            "version": ""
        },
        "extensions": {
            "azuredatastudio": {
                "version": 1,
                "views": []
            }
        }
    },
    "nbformat_minor": 2,
    "nbformat": 4,
    "cells": [
        {
            "cell_type": "markdown",
            "source": [
                "# SQL Part 4 Studio\n",
                "\n",
                "For this studio, you will be working in small groups and using the BooksDB.  One group member should screen share while fellow group members code along in their own notebooks.  Each group member will submit a link to their studio notebook.\n",
                "\n",
                "You are back at the bookstore helping employees with their inventory of books.   Four employees need your help with finding books to create in-store displays.  Read their requests and decide if you want to use a correlated subquery, nested subquery, UNION operator, EXCEPT operator, or INTERSECT operator.  You may not use any joins or add multiple statements to the WHERE clause unless explicitly asked."
            ],
            "metadata": {
                "azdata_cell_guid": "3ea3f8a2-b444-4354-be8b-eebc139b3c13"
            },
            "attachments": {}
        },
        {
            "cell_type": "markdown",
            "source": [
                "## QUESTION 1:  Willow\n",
                "\n",
                "Willow wants a list of book titles that have multiple authors attributed to them.  Write a query to return her desired results."
            ],
            "metadata": {
                "azdata_cell_guid": "5c8b1c77-0878-4dc6-8e79-7f64e5e1df0d"
            },
            "attachments": {}
        },
        {
            "cell_type": "code",
            "source": [
                ""
            ],
            "metadata": {
                "azdata_cell_guid": "46c76d2f-acbc-4fd2-9c2a-367044fda616",
                "tags": [],
                "language": "sql"
            },
            "outputs": [
                {
                    "output_type": "display_data",
                    "data": {
                        "text/html": "Commands completed successfully."
                    },
                    "metadata": {}
                },
                {
                    "output_type": "display_data",
                    "data": {
                        "text/html": "Total execution time: 00:00:00"
                    },
                    "metadata": {}
                }
            ],
            "execution_count": 16
        },
        {
            "cell_type": "markdown",
            "source": [
                "## QUESTION 2: Ira\n",
                "\n",
                "Ira was asked by a customer for titles that have been tagged \"Meditation\".  As you create a query for Ira, think about how the tables in BooksDB are organized as you write your query."
            ],
            "metadata": {
                "azdata_cell_guid": "06f2a08a-a54e-484e-8053-c74594da9db2"
            },
            "attachments": {}
        },
        {
            "cell_type": "code",
            "source": [
                "-- Code here:\r\n",
                "SELECT b.tag_name, b.tag_id, tr.title, tr.average_rating, tr.authors\r\n",
                "FROM BooksDB.dbo.tags AS b\r\n",
                "LEFT JOIN BooksDB.dbo.books AS tr\r\n",
                "ON b.tag_name = tr.title\r\n",
                "WHERE tag_name LIKE 'Meditation'\r\n",
                "OR tag_name LIKE 'meditation'\r\n",
                ""
            ],
            "metadata": {
                "azdata_cell_guid": "552924f9-a1cc-4979-8f53-15ba959550c2",
                "tags": [],
                "language": "sql"
            },
            "outputs": [
                {
                    "output_type": "display_data",
                    "data": {
                        "text/html": "(1 row affected)"
                    },
                    "metadata": {}
                },
                {
                    "output_type": "display_data",
                    "data": {
                        "text/html": "Total execution time: 00:00:00.118"
                    },
                    "metadata": {}
                },
                {
                    "output_type": "execute_result",
                    "metadata": {},
                    "execution_count": 17,
                    "data": {
                        "application/vnd.dataresource+json": {
                            "schema": {
                                "fields": [
                                    {
                                        "name": "tag_name"
                                    },
                                    {
                                        "name": "tag_id"
                                    },
                                    {
                                        "name": "title"
                                    },
                                    {
                                        "name": "average_rating"
                                    },
                                    {
                                        "name": "authors"
                                    }
                                ]
                            },
                            "data": [
                                {
                                    "tag_name": "meditation",
                                    "tag_id": "19682",
                                    "title": "NULL",
                                    "average_rating": "NULL",
                                    "authors": "NULL"
                                }
                            ]
                        },
                        "text/html": [
                            "<table>",
                            "<tr><th>tag_name</th><th>tag_id</th><th>title</th><th>average_rating</th><th>authors</th></tr>",
                            "<tr><td>meditation</td><td>19682</td><td>NULL</td><td>NULL</td><td>NULL</td></tr>",
                            "</table>"
                        ]
                    }
                }
            ],
            "execution_count": 17
        },
        {
            "cell_type": "markdown",
            "source": [
                "## QUESTION 3:  Alyce\n",
                "\n",
                "Alyce wants to create a display of books with an average rating of 4.2 or higher, but she only wants books that share both title and original title.  Write a query that displays both the original title and title for Alyce, in descending order by rating.  Make sure that none of the original titles contain NULL values either."
            ],
            "metadata": {
                "azdata_cell_guid": "1d758d74-b4f0-4836-bdfe-d7280b5b4592"
            },
            "attachments": {}
        },
        {
            "cell_type": "code",
            "source": [
                "-- Code here:\r\n",
                "SELECT average_rating, title \r\n",
                "FROM dbo.books \r\n",
                "WHERE (average_rating > 4.2) "
            ],
            "metadata": {
                "azdata_cell_guid": "2c693b4e-6987-4c49-ba55-61094e677608",
                "tags": [],
                "language": "sql"
            },
            "outputs": [
                {
                    "output_type": "display_data",
                    "data": {
                        "text/html": "(2110 rows affected)"
                    },
                    "metadata": {}
                },
                {
                    "output_type": "display_data",
                    "data": {
                        "text/html": "Total execution time: 00:00:00.233"
                    },
                    "metadata": {}
                },
                {
                    "output_type": "execute_result",
                    "metadata": {},
                    "execution_count": 18,
                    "data": {
                        "application/vnd.dataresource+json": {
                            "schema": {
                                "fields": [
                                    {
                                        "name": "average_rating"
                                    },
                                    {
                                        "name": "title"
                                    }
                                ]
                            },
                            "data": [
                                {
                                    "average_rating": "4.34",
                                    "title": "The Hunger Games (The Hunger Games, #1)"
                                },
                                {
                                    "average_rating": "4.44",
                                    "title": "Harry Potter and the Sorcerer's Stone (Harry Potter, #1)"
                                },
                                {
                                    "average_rating": "4.25",
                                    "title": "To Kill a Mockingbird"
                                },
                                {
                                    "average_rating": "4.26",
                                    "title": "The Fault in Our Stars"
                                },
                                {
                                    "average_rating": "4.25",
                                    "title": "The Hobbit"
                                },
                                {
                                    "average_rating": "4.24",
                                    "title": "Pride and Prejudice"
                                },
                                {
                                    "average_rating": "4.26",
                                    "title": "The Kite Runner"
                                },
                                {
                                    "average_rating": "4.24",
                                    "title": "Divergent (Divergent, #1)"
                                },
                                {
                                    "average_rating": "4.3",
                                    "title": "Catching Fire (The Hunger Games, #2)"
                                },
                                {
                                    "average_rating": "4.53",
                                    "title": "Harry Potter and the Prisoner of Azkaban (Harry Potter, #3)"
                                },
                                {
                                    "average_rating": "4.34",
                                    "title": "The Fellowship of the Ring (The Lord of the Rings, #1)"
                                },
                                {
                                    "average_rating": "4.46",
                                    "title": "Harry Potter and the Order of the Phoenix (Harry Potter, #5)"
                                },
                                {
                                    "average_rating": "4.37",
                                    "title": "Harry Potter and the Chamber of Secrets (Harry Potter, #2)"
                                },
                                {
                                    "average_rating": "4.53",
                                    "title": "Harry Potter and the Goblet of Fire (Harry Potter, #4)"
                                },
                                {
                                    "average_rating": "4.61",
                                    "title": "Harry Potter and the Deathly Hallows (Harry Potter, #7)"
                                },
                                {
                                    "average_rating": "4.54",
                                    "title": "Harry Potter and the Half-Blood Prince (Harry Potter, #6)"
                                },
                                {
                                    "average_rating": "4.45",
                                    "title": "The Help"
                                },
                                {
                                    "average_rating": "4.45",
                                    "title": "A Game of Thrones (A Song of Ice and Fire, #1)"
                                },
                                {
                                    "average_rating": "4.23",
                                    "title": "The Lightning Thief (Percy Jackson and the Olympians, #1)"
                                },
                                {
                                    "average_rating": "4.36",
                                    "title": "The Book Thief"
                                },
                                {
                                    "average_rating": "4.29",
                                    "title": "Where the Sidewalk Ends"
                                },
                                {
                                    "average_rating": "4.28",
                                    "title": "Gone with the Wind"
                                },
                                {
                                    "average_rating": "4.34",
                                    "title": "A Thousand Splendid Suns"
                                },
                                {
                                    "average_rating": "4.21",
                                    "title": "The Perks of Being a Wallflower"
                                },
                                {
                                    "average_rating": "4.3",
                                    "title": "Ender's Game (Ender's Saga, #1)"
                                },
                                {
                                    "average_rating": "4.28",
                                    "title": "The Little Prince"
                                },
                                {
                                    "average_rating": "4.24",
                                    "title": "The Glass Castle"
                                },
                                {
                                    "average_rating": "4.38",
                                    "title": "The Giving Tree"
                                },
                                {
                                    "average_rating": "4.3",
                                    "title": "Night (The Night Trilogy #1)"
                                },
                                {
                                    "average_rating": "4.25",
                                    "title": "The Princess Bride "
                                },
                                {
                                    "average_rating": "4.22",
                                    "title": "The Girl Who Played with Fire (Millennium, #2)"
                                },
                                {
                                    "average_rating": "4.22",
                                    "title": "Where the Wild Things Are"
                                },
                                {
                                    "average_rating": "4.21",
                                    "title": "The Count of Monte Cristo"
                                },
                                {
                                    "average_rating": "4.4",
                                    "title": "A Clash of Kings  (A Song of Ice and Fire, #2)"
                                },
                                {
                                    "average_rating": "4.27",
                                    "title": "Me Before You (Me Before You, #1)"
                                },
                                {
                                    "average_rating": "4.23",
                                    "title": "Anne of Green Gables (Anne of Green Gables, #1)"
                                },
                                {
                                    "average_rating": "4.34",
                                    "title": "City of Glass (The Mortal Instruments, #3)"
                                },
                                {
                                    "average_rating": "4.54",
                                    "title": "A Storm of Swords (A Song of Ice and Fire, #3)"
                                },
                                {
                                    "average_rating": "4.39",
                                    "title": "The Martian"
                                },
                                {
                                    "average_rating": "4.29",
                                    "title": "The Pillars of the Earth (The Kingsbridge Series, #1)"
                                },
                                {
                                    "average_rating": "4.31",
                                    "title": "All the Light We Cannot See"
                                },
                                {
                                    "average_rating": "4.4",
                                    "title": "Unbroken: A World War II Story of Survival, Resilience, and Redemption"
                                },
                                {
                                    "average_rating": "4.23",
                                    "title": "The Sea of Monsters (Percy Jackson and the Olympians, #2)"
                                },
                                {
                                    "average_rating": "4.21",
                                    "title": "City of Ashes (The Mortal Instruments, #2)"
                                },
                                {
                                    "average_rating": "4.42",
                                    "title": "The Two Towers (The Lord of the Rings, #2)"
                                },
                                {
                                    "average_rating": "4.29",
                                    "title": "Green Eggs and Ham"
                                },
                                {
                                    "average_rating": "4.39",
                                    "title": "The Battle of the Labyrinth (Percy Jackson and the Olympians, #4)"
                                },
                                {
                                    "average_rating": "4.51",
                                    "title": "The Return of the King (The Lord of the Rings, #3)"
                                },
                                {
                                    "average_rating": "4.35",
                                    "title": "The Lost Hero (The Heroes of Olympus, #1)"
                                },
                                {
                                    "average_rating": "4.34",
                                    "title": "The Stand"
                                },
                                {
                                    "average_rating": "4.5",
                                    "title": "The Last Olympian (Percy Jackson and the Olympians, #5)"
                                },
                                {
                                    "average_rating": "4.33",
                                    "title": "Clockwork Angel (The Infernal Devices, #1)"
                                },
                                {
                                    "average_rating": "4.29",
                                    "title": "Matilda"
                                },
                                {
                                    "average_rating": "4.31",
                                    "title": "A Dance with Dragons (A Song of Ice and Fire, #5)"
                                },
                                {
                                    "average_rating": "4.47",
                                    "title": "The Lord of the Rings (The Lord of the Rings, #1-3)"
                                },
                                {
                                    "average_rating": "4.35",
                                    "title": "Watchmen"
                                },
                                {
                                    "average_rating": "4.55",
                                    "title": "The Name of the Wind (The Kingkiller Chronicle, #1)"
                                },
                                {
                                    "average_rating": "4.23",
                                    "title": "And Then There Were None"
                                },
                                {
                                    "average_rating": "4.33",
                                    "title": "The Titan's Curse (Percy Jackson and the Olympians, #3)"
                                },
                                {
                                    "average_rating": "4.31",
                                    "title": "Ready Player One"
                                },
                                {
                                    "average_rating": "4.24",
                                    "title": "The Chronicles of Narnia (Chronicles of Narnia, #1-7)"
                                },
                                {
                                    "average_rating": "4.23",
                                    "title": "Twilight: The Complete Illustrated Movie Companion"
                                },
                                {
                                    "average_rating": "4.35",
                                    "title": "East of Eden"
                                },
                                {
                                    "average_rating": "4.43",
                                    "title": "Wonder"
                                },
                                {
                                    "average_rating": "4.24",
                                    "title": "The Shadow of the Wind (The Cemetery of Forgotten Books,  #1)"
                                },
                                {
                                    "average_rating": "4.24",
                                    "title": "A Tree Grows in Brooklyn"
                                },
                                {
                                    "average_rating": "4.54",
                                    "title": "The Nightingale"
                                },
                                {
                                    "average_rating": "4.36",
                                    "title": "The Godfather"
                                },
                                {
                                    "average_rating": "4.34",
                                    "title": "A Light in the Attic"
                                },
                                {
                                    "average_rating": "4.25",
                                    "title": "Good Omens: The Nice and Accurate Prophecies of Agnes Nutter, Witch"
                                },
                                {
                                    "average_rating": "4.28",
                                    "title": "Cutting for Stone"
                                },
                                {
                                    "average_rating": "4.44",
                                    "title": "The Son of Neptune (The Heroes of Olympus, #2)"
                                },
                                {
                                    "average_rating": "4.29",
                                    "title": "11/22/63"
                                },
                                {
                                    "average_rating": "4.29",
                                    "title": "The Very Hungry Caterpillar Board Book"
                                },
                                {
                                    "average_rating": "4.57",
                                    "title": "The Wise Man's Fear (The Kingkiller Chronicle, #2)"
                                },
                                {
                                    "average_rating": "4.22",
                                    "title": "The Thorn Birds"
                                },
                                {
                                    "average_rating": "4.3",
                                    "title": "City of Lost Souls (The Mortal Instruments, #5)"
                                },
                                {
                                    "average_rating": "4.22",
                                    "title": "A Prayer for Owen Meany"
                                },
                                {
                                    "average_rating": "4.25",
                                    "title": "The Last Lecture"
                                },
                                {
                                    "average_rating": "4.3",
                                    "title": "Still Alice"
                                },
                                {
                                    "average_rating": "4.33",
                                    "title": "Reflected in You (Crossfire, #2)"
                                },
                                {
                                    "average_rating": "4.37",
                                    "title": "The Ultimate Hitchhiker's Guide to the Galaxy"
                                },
                                {
                                    "average_rating": "4.27",
                                    "title": "Goodnight Moon"
                                },
                                {
                                    "average_rating": "4.46",
                                    "title": "Clockwork Prince (The Infernal Devices, #2)"
                                },
                                {
                                    "average_rating": "4.34",
                                    "title": "Oh, The Places You'll Go!"
                                },
                                {
                                    "average_rating": "4.21",
                                    "title": "The Screwtape Letters"
                                },
                                {
                                    "average_rating": "4.36",
                                    "title": "How the Grinch Stole Christmas!"
                                },
                                {
                                    "average_rating": "4.25",
                                    "title": "V for Vendetta"
                                },
                                {
                                    "average_rating": "4.22",
                                    "title": "The BFG"
                                },
                                {
                                    "average_rating": "4.3",
                                    "title": "Frostbite (Vampire Academy, #2)"
                                },
                                {
                                    "average_rating": "4.43",
                                    "title": "The Final Empire (Mistborn, #1)"
                                },
                                {
                                    "average_rating": "4.35",
                                    "title": "The Lorax"
                                },
                                {
                                    "average_rating": "4.24",
                                    "title": "Throne of Glass (Throne of Glass, #1)"
                                },
                                {
                                    "average_rating": "4.37",
                                    "title": "Shadow Kiss (Vampire Academy, #3)"
                                },
                                {
                                    "average_rating": "4.26",
                                    "title": "Fried Green Tomatoes at the Whistle Stop Cafe"
                                },
                                {
                                    "average_rating": "4.23",
                                    "title": "The Five Love Languages: How to Express Heartfelt Commitment to Your Mate"
                                },
                                {
                                    "average_rating": "4.37",
                                    "title": "Spirit Bound (Vampire Academy, #5)"
                                },
                                {
                                    "average_rating": "4.35",
                                    "title": "Blood Promise (Vampire Academy, #4)"
                                },
                                {
                                    "average_rating": "4.74",
                                    "title": "Harry Potter Boxset (Harry Potter, #1-7)"
                                },
                                {
                                    "average_rating": "4.47",
                                    "title": "The Mark of Athena (The Heroes of Olympus, #3)"
                                },
                                {
                                    "average_rating": "4.21",
                                    "title": "Dark Lover (Black Dagger Brotherhood, #1)"
                                },
                                {
                                    "average_rating": "4.23",
                                    "title": "The Invention of Wings"
                                },
                                {
                                    "average_rating": "4.26",
                                    "title": "Fall of Giants (The Century Trilogy, #1)"
                                },
                                {
                                    "average_rating": "4.34",
                                    "title": "Winnie-the-Pooh (Winnie-the-Pooh, #1)"
                                },
                                {
                                    "average_rating": "4.24",
                                    "title": "If You Give a Mouse a Cookie"
                                },
                                {
                                    "average_rating": "4.35",
                                    "title": "A Man Called Ove"
                                },
                                {
                                    "average_rating": "4.59",
                                    "title": "Clockwork Princess (The Infernal Devices, #3)"
                                },
                                {
                                    "average_rating": "4.31",
                                    "title": "Dragonfly in Amber (Outlander, #2)"
                                },
                                {
                                    "average_rating": "4.43",
                                    "title": "Holy Bible: King James Version"
                                },
                                {
                                    "average_rating": "4.48",
                                    "title": "The Hobbit: Graphic Novel"
                                },
                                {
                                    "average_rating": "4.33",
                                    "title": "Man's Search for Meaning"
                                },
                                {
                                    "average_rating": "4.3",
                                    "title": "The Brothers Karamazov"
                                },
                                {
                                    "average_rating": "4.42",
                                    "title": "The Green Mile"
                                },
                                {
                                    "average_rating": "4.22",
                                    "title": "The Prophet"
                                },
                                {
                                    "average_rating": "4.35",
                                    "title": "Maus I: A Survivor's Tale: My Father Bleeds History (Maus, #1)"
                                },
                                {
                                    "average_rating": "4.31",
                                    "title": "Mere Christianity"
                                },
                                {
                                    "average_rating": "4.3",
                                    "title": "The Walking Dead, Vol. 01: Days Gone Bye"
                                },
                                {
                                    "average_rating": "4.48",
                                    "title": "Redeeming Love"
                                },
                                {
                                    "average_rating": "4.21",
                                    "title": "The One (The Selection, #3)"
                                },
                                {
                                    "average_rating": "4.49",
                                    "title": "The Hunger Games Trilogy Boxset (The Hunger Games, #1-3)"
                                },
                                {
                                    "average_rating": "4.37",
                                    "title": "The Complete Stories and Poems"
                                },
                                {
                                    "average_rating": "4.42",
                                    "title": "The Hiding Place: The Triumphant True Story of Corrie Ten Boom"
                                },
                                {
                                    "average_rating": "4.29",
                                    "title": "The Adventures of Sherlock Holmes"
                                },
                                {
                                    "average_rating": "4.22",
                                    "title": "The Prince of Tides"
                                },
                                {
                                    "average_rating": "4.23",
                                    "title": "The Dragon Reborn (Wheel of Time, #3)"
                                },
                                {
                                    "average_rating": "4.23",
                                    "title": "Batman: Year One"
                                },
                                {
                                    "average_rating": "4.34",
                                    "title": "Hopeless (Hopeless, #1)"
                                },
                                {
                                    "average_rating": "4.42",
                                    "title": "Last Sacrifice (Vampire Academy, #6)"
                                },
                                {
                                    "average_rating": "4.29",
                                    "title": "The Velveteen Rabbit"
                                },
                                {
                                    "average_rating": "4.28",
                                    "title": "Corduroy"
                                },
                                {
                                    "average_rating": "4.38",
                                    "title": "Voyager (Outlander, #3)"
                                },
                                {
                                    "average_rating": "4.22",
                                    "title": "The Phantom Tollbooth"
                                },
                                {
                                    "average_rating": "4.64",
                                    "title": "The Way of Kings (The Stormlight Archive, #1)"
                                },
                                {
                                    "average_rating": "4.35",
                                    "title": "The Well of Ascension (Mistborn, #2)"
                                },
                                {
                                    "average_rating": "4.25",
                                    "title": "Batman: The Dark Knight Returns (The Dark Knight Saga, #1)"
                                },
                                {
                                    "average_rating": "4.3",
                                    "title": "Scarlet (The Lunar Chronicles, #2)"
                                },
                                {
                                    "average_rating": "4.42",
                                    "title": "Death Note, Vol. 1: Boredom (Death Note, #1)"
                                },
                                {
                                    "average_rating": "4.32",
                                    "title": "The Master and Margarita"
                                },
                                {
                                    "average_rating": "4.22",
                                    "title": "The Restaurant at the End of the Universe (Hitchhiker's Guide, #2)"
                                },
                                {
                                    "average_rating": "4.46",
                                    "title": "The Hero of Ages (Mistborn, #3)"
                                },
                                {
                                    "average_rating": "4.48",
                                    "title": "City of Heavenly Fire (The Mortal Instruments, #6)"
                                },
                                {
                                    "average_rating": "4.34",
                                    "title": "Love You Forever"
                                },
                                {
                                    "average_rating": "4.32",
                                    "title": "The Boys in the Boat: Nine Americans and Their Epic Quest for Gold at the 1936 Berlin Olympics"
                                },
                                {
                                    "average_rating": "4.23",
                                    "title": "The Drawing of the Three (The Dark Tower, #2)"
                                },
                                {
                                    "average_rating": "4.29",
                                    "title": "The Polar Express"
                                },
                                {
                                    "average_rating": "4.29",
                                    "title": "The True Story of the 3 Little Pigs"
                                },
                                {
                                    "average_rating": "4.3",
                                    "title": "The Twilight Saga Breaking Dawn Part 1: The Official Illustrated Movie Companion (The Twilight Saga: The Official Illustrated Movie Companion, #4)"
                                },
                                {
                                    "average_rating": "4.23",
                                    "title": "World Without End (The Kingsbridge Series, #2)"
                                },
                                {
                                    "average_rating": "4.29",
                                    "title": "Slammed (Slammed, #1)"
                                },
                                {
                                    "average_rating": "4.22",
                                    "title": "Alexander and the Terrible, Horrible, No Good, Very Bad Day"
                                },
                                {
                                    "average_rating": "4.26",
                                    "title": "Americanah"
                                },
                                {
                                    "average_rating": "4.27",
                                    "title": "Born to Run: A Hidden Tribe, Superathletes, and the Greatest Race the World Has Never Seen"
                                },
                                {
                                    "average_rating": "4.22",
                                    "title": "Madeline"
                                },
                                {
                                    "average_rating": "4.54",
                                    "title": "The House of Hades (The Heroes of Olympus, #4)"
                                },
                                {
                                    "average_rating": "4.31",
                                    "title": "On Writing: A Memoir of the Craft"
                                },
                                {
                                    "average_rating": "4.34",
                                    "title": "Drums of Autumn (Outlander, #4)"
                                },
                                {
                                    "average_rating": "4.29",
                                    "title": "Prodigy (Legend, #2)"
                                },
                                {
                                    "average_rating": "4.51",
                                    "title": "The Hunger Games: Official Illustrated Movie Companion"
                                },
                                {
                                    "average_rating": "4.21",
                                    "title": "Bleach, Volume 01"
                                },
                                {
                                    "average_rating": "4.21",
                                    "title": "The Shadow Rising (Wheel of Time, #4)"
                                },
                                {
                                    "average_rating": "4.26",
                                    "title": "Shantaram"
                                },
                                {
                                    "average_rating": "4.24",
                                    "title": "The Waste Lands (The Dark Tower, #3)"
                                },
                                {
                                    "average_rating": "4.21",
                                    "title": "Hyperion (Hyperion Cantos, #1)"
                                },
                                {
                                    "average_rating": "4.42",
                                    "title": "Roots: The Saga of an American Family"
                                },
                                {
                                    "average_rating": "4.36",
                                    "title": "Batman: The Killing Joke"
                                },
                                {
                                    "average_rating": "4.34",
                                    "title": "Different Seasons"
                                },
                                {
                                    "average_rating": "4.33",
                                    "title": "The Little House Collection (Little House, #1-9)"
                                },
                                {
                                    "average_rating": "4.24",
                                    "title": "Wool Omnibus (Silo, #1)"
                                },
                                {
                                    "average_rating": "4.26",
                                    "title": "Lamb: The Gospel According to Biff, Christ's Childhood Pal"
                                },
                                {
                                    "average_rating": "4.3",
                                    "title": "The Lies of Locke Lamora (Gentleman Bastard, #1)"
                                },
                                {
                                    "average_rating": "4.26",
                                    "title": "The Storyteller"
                                },
                                {
                                    "average_rating": "4.23",
                                    "title": "Obsidian (Lux, #1)"
                                },
                                {
                                    "average_rating": "4.49",
                                    "title": "Crown of Midnight (Throne of Glass, #2)"
                                },
                                {
                                    "average_rating": "4.22",
                                    "title": "Mort (Death, #1; Discworld, #4)"
                                },
                                {
                                    "average_rating": "4.47",
                                    "title": "Lonesome Dove"
                                },
                                {
                                    "average_rating": "4.22",
                                    "title": "Bloodlines (Bloodlines, #1)"
                                },
                                {
                                    "average_rating": "4.3",
                                    "title": "Ender's Shadow (Ender's Shadow, #1)"
                                },
                                {
                                    "average_rating": "4.34",
                                    "title": "Schindler's List"
                                },
                                {
                                    "average_rating": "4.29",
                                    "title": "The Autobiography of Malcolm X"
                                },
                                {
                                    "average_rating": "4.3",
                                    "title": "Preludes & Nocturnes (The Sandman #1)"
                                },
                                {
                                    "average_rating": "4.5",
                                    "title": "The Complete Sherlock Holmes"
                                },
                                {
                                    "average_rating": "4.46",
                                    "title": "Cress (The Lunar Chronicles, #3)"
                                },
                                {
                                    "average_rating": "4.34",
                                    "title": "A Fine Balance"
                                },
                                {
                                    "average_rating": "4.61",
                                    "title": "Calvin and Hobbes"
                                },
                                {
                                    "average_rating": "4.33",
                                    "title": "Falling Up"
                                },
                                {
                                    "average_rating": "4.31",
                                    "title": "The Complete Grimm's Fairy Tales"
                                },
                                {
                                    "average_rating": "4.24",
                                    "title": "On Dublin Street (On Dublin Street, #1)"
                                },
                                {
                                    "average_rating": "4.23",
                                    "title": "Fruits Basket, Vol. 1"
                                },
                                {
                                    "average_rating": "4.24",
                                    "title": "Wizard and Glass (The Dark Tower, #4)"
                                },
                                {
                                    "average_rating": "4.23",
                                    "title": "The Invention of Hugo Cabret"
                                },
                                {
                                    "average_rating": "4.36",
                                    "title": "Ouran High School Host Club, Vol. 1 (Ouran High School Host Club, #1)"
                                },
                                {
                                    "average_rating": "4.21",
                                    "title": "Fallen Too Far (Rosemary Beach, #1; Too Far, #1)"
                                },
                                {
                                    "average_rating": "4.3",
                                    "title": "Howl's Moving Castle (Howl's Moving Castle, #1)"
                                },
                                {
                                    "average_rating": "4.23",
                                    "title": "Persepolis: The Story of a Childhood (Persepolis, #1)"
                                },
                                {
                                    "average_rating": "4.35",
                                    "title": "Naruto, Vol. 01: The Tests of the Ninja (Naruto, #1)"
                                },
                                {
                                    "average_rating": "4.37",
                                    "title": "Shōgun (Asian Saga, #1)"
                                },
                                {
                                    "average_rating": "4.45",
                                    "title": "Lover Awakened (Black Dagger Brotherhood, #3)"
                                },
                                {
                                    "average_rating": "4.29",
                                    "title": "A Court of Thorns and Roses (A Court of Thorns and Roses, #1)"
                                },
                                {
                                    "average_rating": "4.21",
                                    "title": "Chicka Chicka Boom Boom"
                                },
                                {
                                    "average_rating": "4.26",
                                    "title": "Animal Farm / 1984"
                                },
                                {
                                    "average_rating": "4.32",
                                    "title": "When Breath Becomes Air"
                                },
                                {
                                    "average_rating": "4.26",
                                    "title": "Red Rising (Red Rising, #1)"
                                },
                                {
                                    "average_rating": "4.23",
                                    "title": "Walking Disaster (Beautiful, #2)"
                                },
                                {
                                    "average_rating": "4.77",
                                    "title": "Words of Radiance (The Stormlight Archive, #2)"
                                },
                                {
                                    "average_rating": "4.36",
                                    "title": "Guess How Much I Love You"
                                },
                                {
                                    "average_rating": "4.26",
                                    "title": "The Fiery Cross (Outlander, #5)"
                                },
                                {
                                    "average_rating": "4.3",
                                    "title": "Team of Rivals: The Political Genius of Abraham Lincoln"
                                },
                                {
                                    "average_rating": "4.24",
                                    "title": "Harold and the Purple Crayon"
                                },
                                {
                                    "average_rating": "4.35",
                                    "title": "Lover Eternal (Black Dagger Brotherhood, #2)"
                                },
                                {
                                    "average_rating": "4.23",
                                    "title": "Second Foundation (Foundation #3)"
                                },
                                {
                                    "average_rating": "4.49",
                                    "title": "Fullmetal Alchemist, Vol. 1 (Fullmetal Alchemist, #1)"
                                },
                                {
                                    "average_rating": "4.32",
                                    "title": "Guards! Guards! (Discworld, #8)"
                                },
                                {
                                    "average_rating": "4.23",
                                    "title": "Old Man's War (Old Man's War, #1)"
                                },
                                {
                                    "average_rating": "4.25",
                                    "title": "His Dark Materials (His Dark Materials #1-3)"
                                },
                                {
                                    "average_rating": "4.26",
                                    "title": "The Edge of Never (The Edge of Never, #1)"
                                },
                                {
                                    "average_rating": "4.27",
                                    "title": "The Dark Tower (The Dark Tower, #7)"
                                },
                                {
                                    "average_rating": "4.29",
                                    "title": "Surely You're Joking, Mr. Feynman!: Adventures of a Curious Character"
                                },
                                {
                                    "average_rating": "4.42",
                                    "title": "The Complete Anne of Green Gables Boxed Set (Anne of Green Gables, #1-8)"
                                },
                                {
                                    "average_rating": "4.34",
                                    "title": "The Gathering Storm (Wheel of Time, #12)"
                                },
                                {
                                    "average_rating": "4.3",
                                    "title": "Point of Retreat (Slammed, #2)"
                                },
                                {
                                    "average_rating": "4.59",
                                    "title": "J.R.R. Tolkien 4-Book Boxed Set: The Hobbit and The Lord of the Rings"
                                },
                                {
                                    "average_rating": "4.44",
                                    "title": "Dr. Seuss's Green Eggs and Ham: For Soprano, Boy Soprano, and Orchestra"
                                },
                                {
                                    "average_rating": "4.4",
                                    "title": "Between the World and Me"
                                },
                                {
                                    "average_rating": "4.26",
                                    "title": "The Big Short: Inside the Doomsday Machine"
                                },
                                {
                                    "average_rating": "4.36",
                                    "title": "A Monster Calls"
                                },
                                {
                                    "average_rating": "4.42",
                                    "title": "Towers of Midnight (Wheel of Time, #13)"
                                },
                                {
                                    "average_rating": "4.25",
                                    "title": "The Day of the Jackal"
                                },
                                {
                                    "average_rating": "4.31",
                                    "title": "All Creatures Great and Small (All Creatures Great and Small, #1-2)"
                                },
                                {
                                    "average_rating": "4.45",
                                    "title": "The Monster at the End of this Book"
                                },
                                {
                                    "average_rating": "4.37",
                                    "title": "Champion (Legend, #3)"
                                },
                                {
                                    "average_rating": "4.65",
                                    "title": "The Essential Calvin and Hobbes: A Calvin and Hobbes Treasury"
                                },
                                {
                                    "average_rating": "4.21",
                                    "title": "Royal Assassin (Farseer Trilogy, #2)"
                                },
                                {
                                    "average_rating": "4.53",
                                    "title": "Heir of Fire (Throne of Glass, #3)"
                                },
                                {
                                    "average_rating": "4.43",
                                    "title": "A Breath of Snow and Ashes (Outlander, #6)"
                                },
                                {
                                    "average_rating": "4.41",
                                    "title": "The Blood of Olympus (The Heroes of Olympus, #5)"
                                },
                                {
                                    "average_rating": "4.25",
                                    "title": "Saga, Vol. 1 (Saga, #1)"
                                },
                                {
                                    "average_rating": "4.37",
                                    "title": "Effortless (Thoughtless, #2)"
                                },
                                {
                                    "average_rating": "4.24",
                                    "title": "The One and Only Ivan"
                                },
                                {
                                    "average_rating": "4.21",
                                    "title": "Career of Evil (Cormoran Strike, #3)"
                                },
                                {
                                    "average_rating": "4.29",
                                    "title": "Winter of the World (The Century Trilogy #2)"
                                },
                                {
                                    "average_rating": "4.31",
                                    "title": "Tao Te Ching"
                                },
                                {
                                    "average_rating": "4.27",
                                    "title": "Kane and Abel (Kane and Abel, #1)"
                                },
                                {
                                    "average_rating": "4.28",
                                    "title": "The Great Divorce"
                                },
                                {
                                    "average_rating": "4.28",
                                    "title": "The Complete Fairy Tales"
                                },
                                {
                                    "average_rating": "4.34",
                                    "title": "New Moon: The Complete Illustrated Movie Companion (The Twilight Saga: The Official Illustrated Movie Companion, #2)"
                                },
                                {
                                    "average_rating": "4.33",
                                    "title": "Maybe Someday (Maybe, #1)"
                                },
                                {
                                    "average_rating": "4.21",
                                    "title": "Anne of the Island (Anne of Green Gables, #3)"
                                },
                                {
                                    "average_rating": "4.22",
                                    "title": "Finale (Hush, Hush, #4)"
                                },
                                {
                                    "average_rating": "4.3",
                                    "title": "Summer Knight (The Dresden Files, #4)"
                                },
                                {
                                    "average_rating": "4.3",
                                    "title": "Ugly Love"
                                },
                                {
                                    "average_rating": "4.22",
                                    "title": "Gabriel's Rapture (Gabriel's Inferno, #2)"
                                },
                                {
                                    "average_rating": "4.25",
                                    "title": "Cryptonomicon"
                                },
                                {
                                    "average_rating": "4.24",
                                    "title": "Moneyball: The Art of Winning an Unfair Game"
                                },
                                {
                                    "average_rating": "4.33",
                                    "title": "Exodus"
                                },
                                {
                                    "average_rating": "4.33",
                                    "title": "Onyx (Lux, #2)"
                                },
                                {
                                    "average_rating": "4.28",
                                    "title": "Unravel Me (Shatter Me, #2)"
                                },
                                {
                                    "average_rating": "4.42",
                                    "title": "Attack on Titan, Vol. 1 (Attack on Titan, #1)"
                                },
                                {
                                    "average_rating": "4.36",
                                    "title": "Between Shades of Gray"
                                },
                                {
                                    "average_rating": "4.27",
                                    "title": "A Little Life"
                                },
                                {
                                    "average_rating": "4.34",
                                    "title": "Aristotle and Dante Discover the Secrets of the Universe (Aristotle and Dante Discover the Secrets of the Universe, #1)"
                                },
                                {
                                    "average_rating": "4.21",
                                    "title": "Anne of Avonlea (Anne of Green Gables, #2)"
                                },
                                {
                                    "average_rating": "4.24",
                                    "title": "This Present Darkness (Darkness, #1)"
                                },
                                {
                                    "average_rating": "4.21",
                                    "title": "The Coincidence of Callie & Kayden (The Coincidence, #1)"
                                },
                                {
                                    "average_rating": "4.39",
                                    "title": "The Foundation Trilogy (Foundation, #1-3)"
                                },
                                {
                                    "average_rating": "4.32",
                                    "title": "Death Masks (The Dresden Files, #5)"
                                },
                                {
                                    "average_rating": "4.22",
                                    "title": "Stellaluna"
                                },
                                {
                                    "average_rating": "4.27",
                                    "title": "Before They Are Hanged (The First Law #2)"
                                },
                                {
                                    "average_rating": "4.35",
                                    "title": "Cosmos"
                                },
                                {
                                    "average_rating": "4.22",
                                    "title": "A Scandal in Bohemia (The Adventures of Sherlock Holmes, #1)"
                                },
                                {
                                    "average_rating": "4.21",
                                    "title": "The Reckoning (Darkest Powers, #3)"
                                },
                                {
                                    "average_rating": "4.23",
                                    "title": "Red Seas Under Red Skies (Gentleman Bastard, #2)"
                                },
                                {
                                    "average_rating": "4.28",
                                    "title": "City of Thieves"
                                },
                                {
                                    "average_rating": "4.29",
                                    "title": "Abhorsen (Abhorsen, #3)"
                                },
                                {
                                    "average_rating": "4.6",
                                    "title": "Queen of Shadows (Throne of Glass, #4)"
                                },
                                {
                                    "average_rating": "4.41",
                                    "title": "Maus II: A Survivor's Tale: And Here My Troubles Began (Maus, #2)"
                                },
                                {
                                    "average_rating": "4.36",
                                    "title": "The Night Before Christmas"
                                },
                                {
                                    "average_rating": "4.42",
                                    "title": "An Echo in the Bone (Outlander, #7)"
                                },
                                {
                                    "average_rating": "4.26",
                                    "title": "Miss Nelson Is Missing! (Miss Nelson, #1)"
                                },
                                {
                                    "average_rating": "4.3",
                                    "title": "Lover Revealed (Black Dagger Brotherhood, #4)"
                                },
                                {
                                    "average_rating": "4.25",
                                    "title": "'Salem's Lot"
                                },
                                {
                                    "average_rating": "4.21",
                                    "title": "Never Too Far (Rosemary Beach, #2; Too Far, #2)"
                                },
                                {
                                    "average_rating": "4.33",
                                    "title": "Blood Rites (The Dresden Files, #6)"
                                },
                                {
                                    "average_rating": "4.72",
                                    "title": "A Court of Mist and Fury (A Court of Thorns and Roses, #2)"
                                },
                                {
                                    "average_rating": "4.42",
                                    "title": "Band of Brothers: E Company, 506th Regiment, 101st Airborne from Normandy to Hitler's Eagle's Nest"
                                },
                                {
                                    "average_rating": "4.46",
                                    "title": "The Complete Sherlock Holmes, Vol 2"
                                },
                                {
                                    "average_rating": "4.42",
                                    "title": "One Piece, Volume 01: Romance Dawn (One Piece, #1)"
                                },
                                {
                                    "average_rating": "4.23",
                                    "title": "I Am Pilgrim (Pilgrim, #1)"
                                },
                                {
                                    "average_rating": "4.26",
                                    "title": "Go the Fuck to Sleep"
                                },
                                {
                                    "average_rating": "4.33",
                                    "title": "Lover Unbound (Black Dagger Brotherhood, #5)"
                                },
                                {
                                    "average_rating": "4.36",
                                    "title": "Going Postal (Discworld, #33; Moist von Lipwig, #1)"
                                },
                                {
                                    "average_rating": "4.37",
                                    "title": "The Book of Mormon: Another Testament of Jesus Christ"
                                },
                                {
                                    "average_rating": "4.43",
                                    "title": "Dead Beat (The Dresden Files, #7)"
                                },
                                {
                                    "average_rating": "4.46",
                                    "title": "Golden Son (Red Rising, #2)"
                                },
                                {
                                    "average_rating": "4.47",
                                    "title": "Night Watch (Discworld, #29; City Watch, #6)"
                                },
                                {
                                    "average_rating": "4.26",
                                    "title": "Last Argument of Kings (The First Law, #3)"
                                },
                                {
                                    "average_rating": "4.29",
                                    "title": "Lirael (Abhorsen, #2)"
                                },
                                {
                                    "average_rating": "4.37",
                                    "title": "Black Butler, Vol. 1 (Black Butler, #1)"
                                },
                                {
                                    "average_rating": "4.49",
                                    "title": "Winter (The Lunar Chronicles, #4)"
                                },
                                {
                                    "average_rating": "4.4",
                                    "title": "The Hunger Games Tribute Guide"
                                },
                                {
                                    "average_rating": "4.27",
                                    "title": "The Warded Man (Demon Cycle, #1)"
                                },
                                {
                                    "average_rating": "4.28",
                                    "title": "The Serpent's Shadow (Kane Chronicles, #3)"
                                },
                                {
                                    "average_rating": "4.41",
                                    "title": "Proven Guilty (The Dresden Files, #8)"
                                },
                                {
                                    "average_rating": "4.27",
                                    "title": "Small Gods (Discworld, #13)"
                                },
                                {
                                    "average_rating": "4.5",
                                    "title": "A Memory of Light (Wheel of Time, #14)"
                                },
                                {
                                    "average_rating": "4.34",
                                    "title": "Janet Evanovich Three and Four Two-Book Set (Stephanie Plum, #3-4)"
                                },
                                {
                                    "average_rating": "4.53",
                                    "title": "The Complete Maus (Maus, #1-2)"
                                },
                                {
                                    "average_rating": "4.41",
                                    "title": "White Night (The Dresden Files, #9)"
                                },
                                {
                                    "average_rating": "4.28",
                                    "title": "The Burning Bridge (Ranger's Apprentice, #2)"
                                },
                                {
                                    "average_rating": "4.34",
                                    "title": "Lone Survivor: The Eyewitness Account of Operation Redwing and the Lost Heroes of SEAL Team 10"
                                },
                                {
                                    "average_rating": "4.27",
                                    "title": "Shadow's Edge (Night Angel, #2)"
                                },
                                {
                                    "average_rating": "4.36",
                                    "title": "The Golden Lily (Bloodlines, #2)"
                                },
                                {
                                    "average_rating": "4.43",
                                    "title": "The Stand: Captain Trips"
                                },
                                {
                                    "average_rating": "4.21",
                                    "title": "Cabin Fever (Diary of a Wimpy Kid, #6)"
                                },
                                {
                                    "average_rating": "4.29",
                                    "title": "Beyond the Shadows (Night Angel, #3)"
                                },
                                {
                                    "average_rating": "4.21",
                                    "title": "Make Way for Ducklings"
                                },
                                {
                                    "average_rating": "4.43",
                                    "title": "Small Favor (The Dresden Files, #10)"
                                },
                                {
                                    "average_rating": "4.43",
                                    "title": "The Walking Dead, Compendium 1"
                                },
                                {
                                    "average_rating": "4.26",
                                    "title": "Grip of the Shadow Plague (Fablehaven, #3)"
                                },
                                {
                                    "average_rating": "4.32",
                                    "title": "The Memoirs of Sherlock Holmes"
                                },
                                {
                                    "average_rating": "4.36",
                                    "title": "The Complete Persepolis"
                                },
                                {
                                    "average_rating": "4.35",
                                    "title": "A Dog's Purpose (A Dog's Purpose, #1)"
                                },
                                {
                                    "average_rating": "4.32",
                                    "title": "An Ember in the Ashes (An Ember in the Ashes, #1)"
                                },
                                {
                                    "average_rating": "4.27",
                                    "title": "Alanna: The First Adventure (Song of the Lioness, #1)"
                                },
                                {
                                    "average_rating": "4.38",
                                    "title": "Lover Avenged (Black Dagger Brotherhood, #7)"
                                },
                                {
                                    "average_rating": "4.23",
                                    "title": "Wild Swans: Three Daughters of China"
                                },
                                {
                                    "average_rating": "4.21",
                                    "title": "The Complete Poems of Emily Dickinson"
                                },
                                {
                                    "average_rating": "4.56",
                                    "title": "A Storm of Swords: Blood and Gold (A Song of Ice and Fire, #3: Part 2 of 2)"
                                },
                                {
                                    "average_rating": "4.35",
                                    "title": "Small Great Things"
                                },
                                {
                                    "average_rating": "4.21",
                                    "title": "Days of Blood & Starlight (Daughter of Smoke & Bone, #2)"
                                },
                                {
                                    "average_rating": "4.24",
                                    "title": "Jitterbug Perfume"
                                },
                                {
                                    "average_rating": "4.32",
                                    "title": "The Battle for Skandia (Ranger's Apprentice, #4)"
                                },
                                {
                                    "average_rating": "4.26",
                                    "title": "The Darkest Minds (The Darkest Minds, #1)"
                                },
                                {
                                    "average_rating": "4.4",
                                    "title": "Fairy Tail, Vol. 1 (Fairy Tail, #1)"
                                },
                                {
                                    "average_rating": "4.41",
                                    "title": "Lover Mine (Black Dagger Brotherhood, #8)"
                                },
                                {
                                    "average_rating": "4.24",
                                    "title": "The Iron Queen (The Iron Fey, #3)"
                                },
                                {
                                    "average_rating": "4.36",
                                    "title": "The House at Pooh Corner (Winnie-the-Pooh, #2)"
                                },
                                {
                                    "average_rating": "4.24",
                                    "title": "The Black Prism (Lightbringer, #1)"
                                },
                                {
                                    "average_rating": "4.3",
                                    "title": "The Killer Angels (The Civil War Trilogy, #2)"
                                },
                                {
                                    "average_rating": "4.24",
                                    "title": "Ptolemy's Gate (Bartimaeus, #3)"
                                },
                                {
                                    "average_rating": "4.34",
                                    "title": "Opal (Lux, #3)"
                                },
                                {
                                    "average_rating": "4.37",
                                    "title": "Out of My Mind"
                                },
                                {
                                    "average_rating": "4.25",
                                    "title": "Confess"
                                },
                                {
                                    "average_rating": "4.44",
                                    "title": "It Ends with Us"
                                },
                                {
                                    "average_rating": "4.28",
                                    "title": "Dream Country (The Sandman #3)"
                                },
                                {
                                    "average_rating": "4.4",
                                    "title": "Being Mortal: Medicine and What Matters in the End"
                                },
                                {
                                    "average_rating": "4.31",
                                    "title": "Long Walk to Freedom"
                                },
                                {
                                    "average_rating": "4.34",
                                    "title": "The Power of One (The Power of One, #1)"
                                },
                                {
                                    "average_rating": "4.54",
                                    "title": "Changes (The Dresden Files, #12)"
                                },
                                {
                                    "average_rating": "4.35",
                                    "title": "The Story of Ferdinand"
                                },
                                {
                                    "average_rating": "4.29",
                                    "title": "Impulse (Impulse, #1)"
                                },
                                {
                                    "average_rating": "4.44",
                                    "title": "Eclipse: The Complete Illustrated Movie Companion (The Twilight Saga: The Official Illustrated Movie Companion, #3)"
                                },
                                {
                                    "average_rating": "4.6",
                                    "title": "A Voice in the Wind (Mark of the Lion, #1)"
                                },
                                {
                                    "average_rating": "4.31",
                                    "title": "The Twilight Saga Complete Collection  (Twilight, #1-4 + 3.5)"
                                },
                                {
                                    "average_rating": "4.29",
                                    "title": "Batman: The Long Halloween"
                                },
                                {
                                    "average_rating": "4.35",
                                    "title": "Secrets of the Dragon Sanctuary (Fablehaven, #4)"
                                },
                                {
                                    "average_rating": "4.45",
                                    "title": "Turn Coat (The Dresden Files, #11)"
                                },
                                {
                                    "average_rating": "4.23",
                                    "title": "The Mitten"
                                },
                                {
                                    "average_rating": "4.23",
                                    "title": "Click, Clack, Moo: Cows That Type"
                                },
                                {
                                    "average_rating": "4.36",
                                    "title": "Iron Kissed (Mercy Thompson, #3)"
                                },
                                {
                                    "average_rating": "4.44",
                                    "title": "Ignite Me (Shatter Me, #3)"
                                },
                                {
                                    "average_rating": "4.31",
                                    "title": "Blood Bound (Mercy Thompson, #2)"
                                },
                                {
                                    "average_rating": "4.51",
                                    "title": "Cold Days (The Dresden Files, #14)"
                                },
                                {
                                    "average_rating": "4.3",
                                    "title": "All Things Bright and Beautiful (All Creatures Great and Small)"
                                },
                                {
                                    "average_rating": "4.31",
                                    "title": "Infinite Jest"
                                },
                                {
                                    "average_rating": "4.22",
                                    "title": "Warbreaker (Warbreaker, #1)"
                                },
                                {
                                    "average_rating": "4.24",
                                    "title": "Shakespeare's Sonnets"
                                },
                                {
                                    "average_rating": "4.46",
                                    "title": "Six of Crows (Six of Crows, #1)"
                                },
                                {
                                    "average_rating": "4.21",
                                    "title": "Same Kind of Different as Me"
                                },
                                {
                                    "average_rating": "4.21",
                                    "title": "Mountains Beyond Mountains: The Quest of Dr. Paul Farmer, A Man Who Would Cure the World"
                                },
                                {
                                    "average_rating": "4.3",
                                    "title": "Beneath This Man (This Man, #2)"
                                },
                                {
                                    "average_rating": "4.23",
                                    "title": "The Richest Man in Babylon"
                                },
                                {
                                    "average_rating": "4.35",
                                    "title": "The Great Dune Trilogy  "
                                },
                                {
                                    "average_rating": "4.25",
                                    "title": "Ghost Story (The Dresden Files,  #13)"
                                },
                                {
                                    "average_rating": "4.21",
                                    "title": "Mother Night"
                                },
                                {
                                    "average_rating": "4.35",
                                    "title": "Essential Tales and Poems"
                                },
                                {
                                    "average_rating": "4.39",
                                    "title": "My Utmost for His Highest"
                                },
                                {
                                    "average_rating": "4.25",
                                    "title": "The Wee Free Men (Discworld, #30; Tiffany Aching, #1)"
                                },
                                {
                                    "average_rating": "4.5",
                                    "title": "Written in My Own Heart's Blood (Outlander, #8)"
                                },
                                {
                                    "average_rating": "4.24",
                                    "title": "The Desert Spear (Demon Cycle, #2)"
                                },
                                {
                                    "average_rating": "4.36",
                                    "title": "Endurance: Shackleton's Incredible Voyage"
                                },
                                {
                                    "average_rating": "4.37",
                                    "title": "The Love Dare"
                                },
                                {
                                    "average_rating": "4.21",
                                    "title": "Born in Fire (Born In Trilogy, #1)"
                                },
                                {
                                    "average_rating": "4.23",
                                    "title": "Reason to Breathe (Breathing, #1)"
                                },
                                {
                                    "average_rating": "4.57",
                                    "title": "The Mortal Instruments Boxed Set: City of Bones; City of Ashes; City of Glass (The Mortal Instruments, #1-3)"
                                },
                                {
                                    "average_rating": "4.42",
                                    "title": "Keys to the Demon Prison (Fablehaven, #5)"
                                },
                                {
                                    "average_rating": "4.21",
                                    "title": "Real (Real, #1)"
                                },
                                {
                                    "average_rating": "4.42",
                                    "title": "Reckless (Thoughtless, #3)"
                                },
                                {
                                    "average_rating": "4.22",
                                    "title": "Strega Nona"
                                },
                                {
                                    "average_rating": "4.29",
                                    "title": "Don't Let the Pigeon Drive the Bus!"
                                },
                                {
                                    "average_rating": "4.27",
                                    "title": "The Dream Thieves (The Raven Cycle, #2)"
                                },
                                {
                                    "average_rating": "4.28",
                                    "title": "The Raven"
                                },
                                {
                                    "average_rating": "4.63",
                                    "title": "The Calvin and Hobbes Tenth Anniversary Book"
                                },
                                {
                                    "average_rating": "4.28",
                                    "title": "Half of a Yellow Sun"
                                },
                                {
                                    "average_rating": "4.5",
                                    "title": "Morning Star (Red Rising, #3)"
                                },
                                {
                                    "average_rating": "4.25",
                                    "title": "Magician: Master (The Riftwar Saga, #2)"
                                },
                                {
                                    "average_rating": "4.26",
                                    "title": "Anne Frank Remembered: The Story of the Woman Who Helped to Hide the Frank Family"
                                },
                                {
                                    "average_rating": "4.31",
                                    "title": "One Foot in the Grave (Night Huntress, #2)"
                                },
                                {
                                    "average_rating": "4.21",
                                    "title": "A Bear Called Paddington (Paddington, #1)"
                                },
                                {
                                    "average_rating": "4.26",
                                    "title": "InuYasha: Turning Back Time (InuYasha, #1)"
                                },
                                {
                                    "average_rating": "4.35",
                                    "title": "These Is My Words: The Diary of Sarah Agnes Prine, 1881-1901, Arizona Territories (Sarah Agnes Prine, #1)"
                                },
                                {
                                    "average_rating": "4.41",
                                    "title": "The Kissing Hand"
                                },
                                {
                                    "average_rating": "4.29",
                                    "title": "The Emperor of All Maladies: A Biography of Cancer"
                                },
                                {
                                    "average_rating": "4.28",
                                    "title": "Glass (Crank, #2)"
                                },
                                {
                                    "average_rating": "4.25",
                                    "title": "In the Hand of the Goddess (Song of the Lioness, #2)"
                                },
                                {
                                    "average_rating": "4.22",
                                    "title": "Bird by Bird: Some Instructions on Writing and Life"
                                },
                                {
                                    "average_rating": "4.28",
                                    "title": "Lioness Rampant (Song of the Lioness, #4)"
                                },
                                {
                                    "average_rating": "4.24",
                                    "title": "A Bad Case of Stripes"
                                },
                                {
                                    "average_rating": "4.27",
                                    "title": "Homeland (Forgotten Realms: The Dark Elf Trilogy, #1; Legend of Drizzt, #1)"
                                },
                                {
                                    "average_rating": "4.28",
                                    "title": "Stoner"
                                },
                                {
                                    "average_rating": "4.34",
                                    "title": "Bone Crossed (Mercy Thompson, #4)"
                                },
                                {
                                    "average_rating": "4.41",
                                    "title": "The Indigo Spell (Bloodlines, #3)"
                                },
                                {
                                    "average_rating": "4.43",
                                    "title": "Dreamfever (Fever, #4)"
                                },
                                {
                                    "average_rating": "4.44",
                                    "title": "The Doll's House (The Sandman #2)"
                                },
                                {
                                    "average_rating": "4.26",
                                    "title": "Dust (Silo, #3)"
                                },
                                {
                                    "average_rating": "4.46",
                                    "title": "Shadowfever (Fever, #5)"
                                },
                                {
                                    "average_rating": "4.47",
                                    "title": "Blood Song (Raven's Shadow, #1)"
                                },
                                {
                                    "average_rating": "4.22",
                                    "title": "Rules of Attraction (Perfect Chemistry, #2)"
                                },
                                {
                                    "average_rating": "4.44",
                                    "title": "Someone Knows My Name"
                                },
                                {
                                    "average_rating": "4.27",
                                    "title": "Reaper Man (Discworld, #11; Death, #2)"
                                },
                                {
                                    "average_rating": "4.3",
                                    "title": "Piercing the Darkness (Darkness, #2)"
                                },
                                {
                                    "average_rating": "4.33",
                                    "title": "Battlefield of the Mind: Winning the Battle in Your Mind"
                                },
                                {
                                    "average_rating": "4.28",
                                    "title": "Lover Unleashed (Black Dagger Brotherhood, #9)"
                                },
                                {
                                    "average_rating": "4.23",
                                    "title": "If You Give a Pig a Pancake "
                                },
                                {
                                    "average_rating": "4.3",
                                    "title": "Bloodfever (Fever, #2)"
                                },
                                {
                                    "average_rating": "4.34",
                                    "title": "Faefever (Fever, #3)"
                                },
                                {
                                    "average_rating": "4.33",
                                    "title": "The Evolution of Mara Dyer (Mara Dyer, #2)"
                                },
                                {
                                    "average_rating": "4.26",
                                    "title": "The Sword of Summer (Magnus Chase and the Gods of Asgard, #1)"
                                },
                                {
                                    "average_rating": "4.38",
                                    "title": "Silver Borne (Mercy Thompson, #5)"
                                },
                                {
                                    "average_rating": "4.29",
                                    "title": "Fool's Errand (Tawny Man, #1)"
                                },
                                {
                                    "average_rating": "4.22",
                                    "title": "Jewels of the Sun (Gallaghers of Ardmore, #1)"
                                },
                                {
                                    "average_rating": "4.24",
                                    "title": "Forever Too Far (Rosemary Beach, #3; Too Far, #3)"
                                },
                                {
                                    "average_rating": "4.49",
                                    "title": "A Storm of Swords: Steel and Snow (A Song of Ice and Fire, #3: Part 1 of 2)"
                                },
                                {
                                    "average_rating": "4.31",
                                    "title": "The Power of a Praying Wife"
                                },
                                {
                                    "average_rating": "4.48",
                                    "title": "Harry Potter: Film Wizardry"
                                },
                                {
                                    "average_rating": "4.23",
                                    "title": "The Republic of Thieves (Gentleman Bastard, #3)"
                                },
                                {
                                    "average_rating": "4.22",
                                    "title": "World After (Penryn & the End of Days, #2)"
                                },
                                {
                                    "average_rating": "4.26",
                                    "title": "Bring Up the Bodies (Thomas Cromwell, #2)"
                                },
                                {
                                    "average_rating": "4.39",
                                    "title": "Losing Hope (Hopeless, #2)"
                                },
                                {
                                    "average_rating": "4.36",
                                    "title": "Men at Arms (Discworld, #15; City Watch #2)"
                                },
                                {
                                    "average_rating": "4.24",
                                    "title": "American Assassin (Mitch Rapp, #1)"
                                },
                                {
                                    "average_rating": "4.24",
                                    "title": "Daring Greatly: How the Courage to Be Vulnerable Transforms the Way We Live, Love, Parent, and Lead"
                                },
                                {
                                    "average_rating": "4.34",
                                    "title": "The Miraculous Journey of Edward Tulane"
                                },
                                {
                                    "average_rating": "4.21",
                                    "title": "The Third Wheel (Diary of a Wimpy Kid, #7)"
                                },
                                {
                                    "average_rating": "4.24",
                                    "title": "Burned (Burned, #1)"
                                },
                                {
                                    "average_rating": "4.36",
                                    "title": "The Complete Tales"
                                },
                                {
                                    "average_rating": "4.55",
                                    "title": "Skin Game (The Dresden Files, #15)"
                                },
                                {
                                    "average_rating": "4.34",
                                    "title": "The Qur'an / القرآن الكريم"
                                },
                                {
                                    "average_rating": "4.22",
                                    "title": "Hogfather (Discworld, #20; Death, #4)"
                                },
                                {
                                    "average_rating": "4.34",
                                    "title": "Identical"
                                },
                                {
                                    "average_rating": "4.52",
                                    "title": "The Stand: Soul Survivors"
                                },
                                {
                                    "average_rating": "4.31",
                                    "title": "The Sneetches and Other Stories"
                                },
                                {
                                    "average_rating": "4.26",
                                    "title": "Skip Beat!, Vol. 01"
                                },
                                {
                                    "average_rating": "4.21",
                                    "title": "Batman: The Dark Knight Returns #1"
                                },
                                {
                                    "average_rating": "4.66",
                                    "title": "The Harry Potter Collection 1-4 (Harry Potter, #1-4)"
                                },
                                {
                                    "average_rating": "4.26",
                                    "title": "The Importance of Being Earnest and Other Plays"
                                },
                                {
                                    "average_rating": "4.43",
                                    "title": "This Man Confessed (This Man, #3)"
                                },
                                {
                                    "average_rating": "4.24",
                                    "title": "Scott Pilgrim, Volume 2: Scott Pilgrim vs. The World"
                                },
                                {
                                    "average_rating": "4.28",
                                    "title": "Black Hawk Down"
                                },
                                {
                                    "average_rating": "4.29",
                                    "title": "Firefight (The Reckoners, #2)"
                                },
                                {
                                    "average_rating": "4.25",
                                    "title": "Elon Musk: Inventing the Future"
                                },
                                {
                                    "average_rating": "4.28",
                                    "title": "Caliban's War (The Expanse, #2)"
                                },
                                {
                                    "average_rating": "4.33",
                                    "title": "Barely Breathing (Breathing, #2)"
                                },
                                {
                                    "average_rating": "4.24",
                                    "title": "Kingdom Come"
                                },
                                {
                                    "average_rating": "4.23",
                                    "title": "Papillon"
                                },
                                {
                                    "average_rating": "4.21",
                                    "title": "The Wishing Spell (The Land of Stories, #1)"
                                },
                                {
                                    "average_rating": "4.63",
                                    "title": "A Song of Ice and Fire (A Song of Ice and Fire, #1-4)"
                                },
                                {
                                    "average_rating": "4.24",
                                    "title": "Sea Swept (Chesapeake Bay Saga, #1)"
                                },
                                {
                                    "average_rating": "4.45",
                                    "title": "The Blinding Knife (Lightbringer, #2)"
                                },
                                {
                                    "average_rating": "4.22",
                                    "title": "The Icebound Land (Ranger's Apprentice, #3)"
                                },
                                {
                                    "average_rating": "4.58",
                                    "title": "Empire of Storms (Throne of Glass, #5)"
                                },
                                {
                                    "average_rating": "4.26",
                                    "title": "Alexander Hamilton"
                                },
                                {
                                    "average_rating": "4.41",
                                    "title": "The Cat in the Hat and Other Dr. Seuss Favorites"
                                },
                                {
                                    "average_rating": "4.3",
                                    "title": "The Deal (Off-Campus, #1)"
                                },
                                {
                                    "average_rating": "4.21",
                                    "title": "Tikki Tikki Tembo"
                                },
                                {
                                    "average_rating": "4.47",
                                    "title": "Lady Midnight (The Dark Artifices, #1)"
                                },
                                {
                                    "average_rating": "4.41",
                                    "title": "Sapiens: A Brief History of Humankind"
                                },
                                {
                                    "average_rating": "4.49",
                                    "title": "The Complete Works"
                                },
                                {
                                    "average_rating": "4.47",
                                    "title": "Fireproof"
                                },
                                {
                                    "average_rating": "4.27",
                                    "title": "The Demon-Haunted World: Science as a Candle in the Dark"
                                },
                                {
                                    "average_rating": "4.61",
                                    "title": "Holy Bible: New International Version"
                                },
                                {
                                    "average_rating": "4.35",
                                    "title": "Lover Reborn (Black Dagger Brotherhood, #10)"
                                },
                                {
                                    "average_rating": "4.57",
                                    "title": "Saga, Vol. 2 (Saga, #2)"
                                },
                                {
                                    "average_rating": "4.54",
                                    "title": "Jesus Calling: Enjoying Peace in His Presence"
                                },
                                {
                                    "average_rating": "4.29",
                                    "title": "A Pocket for Corduroy"
                                },
                                {
                                    "average_rating": "4.23",
                                    "title": "Bonhoeffer: Pastor, Martyr, Prophet, Spy"
                                },
                                {
                                    "average_rating": "4.38",
                                    "title": "The Pursuit of God"
                                },
                                {
                                    "average_rating": "4.23",
                                    "title": "The Iron Knight (The Iron Fey, #4)"
                                },
                                {
                                    "average_rating": "4.32",
                                    "title": "Magician (The Riftwar Saga, #1-2)"
                                },
                                {
                                    "average_rating": "4.26",
                                    "title": "Feet of Clay (Discworld, #19; City Watch, #3)"
                                },
                                {
                                    "average_rating": "4.46",
                                    "title": "The Millennium Trilogy (Millennium Trilogy, #1-3)"
                                },
                                {
                                    "average_rating": "4.34",
                                    "title": "Destined for an Early Grave (Night Huntress, #4)"
                                },
                                {
                                    "average_rating": "4.31",
                                    "title": "At Grave's End (Night Huntress, #3)"
                                },
                                {
                                    "average_rating": "4.25",
                                    "title": "ساق البامبو"
                                },
                                {
                                    "average_rating": "4.38",
                                    "title": "Fool's Fate (Tawny Man, #3)"
                                },
                                {
                                    "average_rating": "4.29",
                                    "title": "Every Which Way But Dead (The Hollows, #3)"
                                },
                                {
                                    "average_rating": "4.29",
                                    "title": "The Total Money Makeover: A Proven Plan for Financial Fitness"
                                },
                                {
                                    "average_rating": "4.23",
                                    "title": "Night Pleasures (Dark-Hunter, #1)"
                                },
                                {
                                    "average_rating": "4.26",
                                    "title": "The Player of Games (Culture, #2)"
                                },
                                {
                                    "average_rating": "4.21",
                                    "title": "Mile High (Up in the Air, #2)"
                                },
                                {
                                    "average_rating": "4.41",
                                    "title": "November 9"
                                },
                                {
                                    "average_rating": "4.27",
                                    "title": "The Song of Achilles"
                                },
                                {
                                    "average_rating": "4.26",
                                    "title": "Columbine"
                                },
                                {
                                    "average_rating": "4.24",
                                    "title": "Yellow Crocus"
                                },
                                {
                                    "average_rating": "4.54",
                                    "title": "Season of Mists (The Sandman #4)"
                                },
                                {
                                    "average_rating": "4.44",
                                    "title": "Origin (Lux, #4)"
                                },
                                {
                                    "average_rating": "4.27",
                                    "title": "Angle of Repose"
                                },
                                {
                                    "average_rating": "4.32",
                                    "title": "Golden Fool (Tawny Man, #2)"
                                },
                                {
                                    "average_rating": "4.27",
                                    "title": "Persepolis, Volume 1"
                                },
                                {
                                    "average_rating": "4.4",
                                    "title": "The Further Adventures of Sherlock Holmes: After Sir Arthur Conan Doyle (Classic Crime)"
                                },
                                {
                                    "average_rating": "4.35",
                                    "title": "Princeps' Fury (Codex Alera, #5)"
                                },
                                {
                                    "average_rating": "4.31",
                                    "title": "Chrysanthemum"
                                },
                                {
                                    "average_rating": "4.36",
                                    "title": "The Winds of War (The Henry Family, #1)"
                                },
                                {
                                    "average_rating": "4.23",
                                    "title": "The Last Kingdom (The Saxon Stories, #1)"
                                },
                                {
                                    "average_rating": "4.24",
                                    "title": "Exile (Forgotten Realms: The Dark Elf Trilogy, #2; Legend of Drizzt, #2)"
                                },
                                {
                                    "average_rating": "4.29",
                                    "title": "Only the Good Spy Young (Gallagher Girls, #4)"
                                },
                                {
                                    "average_rating": "4.33",
                                    "title": "Rurouni Kenshin, Vol. 1: Meiji Swordsman Romantic Story (Rurouni Kenshin, #1)"
                                },
                                {
                                    "average_rating": "4.42",
                                    "title": "Nothing to Envy: Ordinary Lives in North Korea"
                                },
                                {
                                    "average_rating": "4.24",
                                    "title": "Collide (Collide, #1)"
                                },
                                {
                                    "average_rating": "4.37",
                                    "title": "First Lord's Fury (Codex Alera, #6)"
                                },
                                {
                                    "average_rating": "4.34",
                                    "title": "The Sea of Tranquility"
                                },
                                {
                                    "average_rating": "4.23",
                                    "title": "Persepolis 2: The Story of a Return (Persepolis, #2)"
                                },
                                {
                                    "average_rating": "4.33",
                                    "title": "Mastering the Art of French Cooking"
                                },
                                {
                                    "average_rating": "4.36",
                                    "title": "Blue Exorcist, Vol. 1  (Blue Exorcist, #1)"
                                },
                                {
                                    "average_rating": "4.22",
                                    "title": "The False Prince (The Ascendance Trilogy #1)"
                                },
                                {
                                    "average_rating": "4.23",
                                    "title": "The Waste Land and Other Poems"
                                },
                                {
                                    "average_rating": "4.22",
                                    "title": "Little Bear"
                                },
                                {
                                    "average_rating": "4.29",
                                    "title": "Thud! (Discworld, #34; City Watch #7)"
                                },
                                {
                                    "average_rating": "4.29",
                                    "title": "Into the Wild (Warriors, #1)"
                                },
                                {
                                    "average_rating": "4.21",
                                    "title": "Bury My Heart at Wounded Knee: An Indian History of the American West"
                                },
                                {
                                    "average_rating": "4.24",
                                    "title": "The Pianist: The Extraordinary Story of One Man's Survival in Warsaw, 1939–45"
                                },
                                {
                                    "average_rating": "4.28",
                                    "title": "Swan Song"
                                },
                                {
                                    "average_rating": "4.38",
                                    "title": "Captain's Fury (Codex Alera, #4)"
                                },
                                {
                                    "average_rating": "4.21",
                                    "title": "The Last Coyote (Harry Bosch, #4; Harry Bosch Universe, #4)"
                                },
                                {
                                    "average_rating": "4.34",
                                    "title": "The Bronze Horseman (The Bronze Horseman, #1)"
                                },
                                {
                                    "average_rating": "4.28",
                                    "title": "Act of Treason (Mitch Rapp, #9)"
                                },
                                {
                                    "average_rating": "4.27",
                                    "title": "Academ's Fury (Codex Alera, #2)"
                                },
                                {
                                    "average_rating": "4.63",
                                    "title": "A Song of Ice and Fire (A Song of Ice and Fire, #1-5)"
                                },
                                {
                                    "average_rating": "4.37",
                                    "title": "The Story of a New Name (The Neapolitan Novels #2)"
                                },
                                {
                                    "average_rating": "4.3",
                                    "title": "Soul Eater, Vol. 01 (Soul Eater, #1)"
                                },
                                {
                                    "average_rating": "4.32",
                                    "title": "Peter Pan (A Little Golden Book)"
                                },
                                {
                                    "average_rating": "4.39",
                                    "title": "Dance with the Devil (Dark-Hunter #3)"
                                },
                                {
                                    "average_rating": "4.32",
                                    "title": "Blue Lily, Lily Blue (The Raven Cycle, #3)"
                                },
                                {
                                    "average_rating": "4.25",
                                    "title": "Monsters of Men (Chaos Walking, #3)"
                                },
                                {
                                    "average_rating": "4.24",
                                    "title": "Beautiful Stranger (Beautiful Bastard, #2)"
                                },
                                {
                                    "average_rating": "4.33",
                                    "title": "SantaLand Diaries"
                                },
                                {
                                    "average_rating": "4.4",
                                    "title": "Maid-sama! Vol. 01 (Maid-sama!, #1)"
                                },
                                {
                                    "average_rating": "4.29",
                                    "title": "Tiny Beautiful Things: Advice on Love and Life from Dear Sugar"
                                },
                                {
                                    "average_rating": "4.24",
                                    "title": "The Fall of Five (Lorien Legacies, #4)"
                                },
                                {
                                    "average_rating": "4.23",
                                    "title": "The Daylight War (Demon Cycle, #3)"
                                },
                                {
                                    "average_rating": "4.29",
                                    "title": "A Hat Full of Sky (Discworld, #32; Tiffany Aching, #2)"
                                },
                                {
                                    "average_rating": "4.47",
                                    "title": "We Should All Be Feminists"
                                },
                                {
                                    "average_rating": "4.26",
                                    "title": "River Marked (Mercy Thompson, #6)"
                                },
                                {
                                    "average_rating": "4.3",
                                    "title": "Memorial Day (Mitch Rapp, #7)"
                                },
                                {
                                    "average_rating": "4.32",
                                    "title": "Wild Magic (Immortals, #1)"
                                },
                                {
                                    "average_rating": "4.45",
                                    "title": "You Are Special (Wemmicksville, #1)"
                                },
                                {
                                    "average_rating": "4.31",
                                    "title": "Half the Sky: Turning Oppression into Opportunity for Women Worldwide"
                                },
                                {
                                    "average_rating": "4.48",
                                    "title": "The Assassin's Blade (Throne of Glass, #0.1-0.5)"
                                },
                                {
                                    "average_rating": "4.36",
                                    "title": "Cursor's Fury (Codex Alera, #3)"
                                },
                                {
                                    "average_rating": "4.43",
                                    "title": "The World of Winnie-the-Pooh (Winnie-the-Pooh, #1-2)"
                                },
                                {
                                    "average_rating": "4.22",
                                    "title": "Undaunted Courage: The Pioneering First Mission to Explore America's Wild Frontier"
                                },
                                {
                                    "average_rating": "4.23",
                                    "title": "Sojourn (Forgotten Realms: The Dark Elf Trilogy, #3; Legend of Drizzt, #3)"
                                },
                                {
                                    "average_rating": "4.37",
                                    "title": "Ender's Game, Volume 1: Battle School (Ender's Saga)"
                                },
                                {
                                    "average_rating": "4.23",
                                    "title": "Kimi ni Todoke: From Me to You, Vol. 1"
                                },
                                {
                                    "average_rating": "4.29",
                                    "title": "As a Man Thinketh"
                                },
                                {
                                    "average_rating": "4.26",
                                    "title": "Twisted Perfection (Rosemary Beach, #5; Perfection, #1)"
                                },
                                {
                                    "average_rating": "4.27",
                                    "title": "Milk and Honey"
                                },
                                {
                                    "average_rating": "4.25",
                                    "title": "Thief of Time (Discworld, #26; Death, #5)"
                                },
                                {
                                    "average_rating": "4.27",
                                    "title": "The Napping House"
                                },
                                {
                                    "average_rating": "4.25",
                                    "title": "Practicing the Power of Now: Essential Teachings, Meditations, and Exercises from the Power of Now"
                                },
                                {
                                    "average_rating": "4.29",
                                    "title": "Awake at Dawn (Shadow Falls, #2)"
                                },
                                {
                                    "average_rating": "4.29",
                                    "title": "The Road to the Dark Tower: Exploring Stephen King's Magnum Opus"
                                },
                                {
                                    "average_rating": "4.21",
                                    "title": "Dead Poets Society"
                                },
                                {
                                    "average_rating": "4.24",
                                    "title": "The Fifth Elephant (Discworld, #24; City Watch, #5)"
                                },
                                {
                                    "average_rating": "4.25",
                                    "title": "The Sorcerer in the North (Ranger's Apprentice, #5)"
                                },
                                {
                                    "average_rating": "4.22",
                                    "title": "Autobiography of a Yogi"
                                },
                                {
                                    "average_rating": "4.22",
                                    "title": "Hexed (The Iron Druid Chronicles, #2)"
                                },
                                {
                                    "average_rating": "4.33",
                                    "title": "Twenty Love Poems and a Song of Despair"
                                },
                                {
                                    "average_rating": "4.29",
                                    "title": "Grounded (Up in the Air, #3)"
                                },
                                {
                                    "average_rating": "4.3",
                                    "title": "Hinds' Feet on High Places"
                                },
                                {
                                    "average_rating": "4.56",
                                    "title": "Saga, Vol. 3 (Saga, #3)"
                                },
                                {
                                    "average_rating": "4.31",
                                    "title": "Lilac Girls"
                                },
                                {
                                    "average_rating": "4.24",
                                    "title": "While It Lasts (Sea Breeze, #3)"
                                },
                                {
                                    "average_rating": "4.33",
                                    "title": "The Siege of Macindaw (Ranger's Apprentice, #6)"
                                },
                                {
                                    "average_rating": "4.26",
                                    "title": "A Grief Observed"
                                },
                                {
                                    "average_rating": "4.23",
                                    "title": "Transmetropolitan, Vol. 1: Back on the Street (Transmetropolitan, #1)"
                                },
                                {
                                    "average_rating": "4.3",
                                    "title": "Emperor Mage (Immortals, #3)"
                                },
                                {
                                    "average_rating": "4.3",
                                    "title": "Shadows of Self (Mistborn, #5)"
                                },
                                {
                                    "average_rating": "4.45",
                                    "title": "Archer's Voice"
                                },
                                {
                                    "average_rating": "4.27",
                                    "title": "I, Claudius (Claudius, #1)"
                                },
                                {
                                    "average_rating": "4.26",
                                    "title": "The Good, the Bad, and the Undead (The Hollows, #2)"
                                },
                                {
                                    "average_rating": "4.23",
                                    "title": "Dreams of Gods & Monsters (Daughter of Smoke & Bone, #3)"
                                },
                                {
                                    "average_rating": "4.25",
                                    "title": "Deadhouse Gates (The Malazan Book of the Fallen, #2)"
                                },
                                {
                                    "average_rating": "4.36",
                                    "title": "Consent to Kill (Mitch Rapp, #8)"
                                },
                                {
                                    "average_rating": "4.31",
                                    "title": "The Warmth of Other Suns: The Epic Story of America's Great Migration"
                                },
                                {
                                    "average_rating": "4.32",
                                    "title": "Separation of Power (Mitch Rapp, #5)"
                                },
                                {
                                    "average_rating": "4.41",
                                    "title": "Homegoing"
                                },
                                {
                                    "average_rating": "4.43",
                                    "title": "Left to Tell: Discovering God Amidst the Rwandan Holocaust"
                                },
                                {
                                    "average_rating": "4.24",
                                    "title": "Battle Royale"
                                },
                                {
                                    "average_rating": "4.26",
                                    "title": "Knuffle Bunny: A Cautionary Tale (Knuffle Bunny, #1)"
                                },
                                {
                                    "average_rating": "4.23",
                                    "title": "The Gashlycrumb Tinies (The Vinegar Works, #1)"
                                },
                                {
                                    "average_rating": "4.22",
                                    "title": "What We Talk About When We Talk About Love"
                                },
                                {
                                    "average_rating": "4.21",
                                    "title": "Theft of Swords (The Riyria Revelations, #1-2)"
                                },
                                {
                                    "average_rating": "4.21",
                                    "title": "Necessary Lies (Necessary Lies, #1)"
                                },
                                {
                                    "average_rating": "4.49",
                                    "title": "The Complete Tales and Poems of Winnie-the-Pooh (Winnie-the-Pooh, #1-4)"
                                },
                                {
                                    "average_rating": "4.32",
                                    "title": "Divergent Series Complete Box Set (Divergent, #1-3)"
                                },
                                {
                                    "average_rating": "4.23",
                                    "title": "Making Money (Discworld, #36; Moist Von Lipwig, #2)"
                                },
                                {
                                    "average_rating": "4.33",
                                    "title": "Never Fade (The Darkest Minds, #2)"
                                },
                                {
                                    "average_rating": "4.33",
                                    "title": "For a Few Demons More (The Hollows, #5)"
                                },
                                {
                                    "average_rating": "4.55",
                                    "title": "Mistborn Trilogy Boxed Set (Mistborn, #1-3)"
                                },
                                {
                                    "average_rating": "4.23",
                                    "title": "The Complete Adventures of Curious George"
                                },
                                {
                                    "average_rating": "4.29",
                                    "title": "Sailor Moon, #1 (Sailor Moon, #1)"
                                },
                                {
                                    "average_rating": "4.29",
                                    "title": "Momo"
                                },
                                {
                                    "average_rating": "4.3",
                                    "title": "The Power of Myth"
                                },
                                {
                                    "average_rating": "4.21",
                                    "title": "Claim Me (Stark Trilogy, #2)"
                                },
                                {
                                    "average_rating": "4.31",
                                    "title": "Transfer of Power (Mitch Rapp, #3)"
                                },
                                {
                                    "average_rating": "4.23",
                                    "title": "Ariel"
                                },
                                {
                                    "average_rating": "4.3",
                                    "title": "Batman, Volume 1: The Court of Owls"
                                },
                                {
                                    "average_rating": "4.38",
                                    "title": "The Outlaw Demon Wails (The Hollows, #6)"
                                },
                                {
                                    "average_rating": "4.25",
                                    "title": "Gregor and the Code of Claw (Underland Chronicles, #5)"
                                },
                                {
                                    "average_rating": "4.43",
                                    "title": "A Game of You (The Sandman #5)"
                                },
                                {
                                    "average_rating": "4.6",
                                    "title": "An Echo in the Darkness (Mark of the Lion, #2)"
                                },
                                {
                                    "average_rating": "4.25",
                                    "title": "Tai-Pan (Asian Saga, #2)"
                                },
                                {
                                    "average_rating": "4.25",
                                    "title": "The Truth (Discworld, #25; Industrial Revolution, #2)"
                                },
                                {
                                    "average_rating": "4.24",
                                    "title": "The Blue Sword (Damar, #1)"
                                },
                                {
                                    "average_rating": "4.3",
                                    "title": "Lover at Last (Black Dagger Brotherhood, #11)"
                                },
                                {
                                    "average_rating": "4.45",
                                    "title": "Vampire Academy: The Ultimate Guide (Vampire Academy)"
                                },
                                {
                                    "average_rating": "4.3",
                                    "title": "Gödel, Escher, Bach: An Eternal Golden Braid"
                                },
                                {
                                    "average_rating": "4.28",
                                    "title": "Trickster's Queen (Daughter of the Lioness, #2)"
                                },
                                {
                                    "average_rating": "4.23",
                                    "title": "The Poetry of Robert Frost (Collected Poems, Complete & Unabridged)"
                                },
                                {
                                    "average_rating": "4.21",
                                    "title": "What's So Amazing About Grace?"
                                },
                                {
                                    "average_rating": "4.3",
                                    "title": "Kill Shot (Mitch Rapp, #2)"
                                },
                                {
                                    "average_rating": "4.28",
                                    "title": "Hard Luck (Diary of a Wimpy Kid, #8)"
                                },
                                {
                                    "average_rating": "4.44",
                                    "title": "Magic Strikes (Kate Daniels, #3)"
                                },
                                {
                                    "average_rating": "4.35",
                                    "title": "Kurt Vonnegut's Cat's Cradle (Modern Critical Interpretations)"
                                },
                                {
                                    "average_rating": "4.33",
                                    "title": "The Emperor's Soul"
                                },
                                {
                                    "average_rating": "4.21",
                                    "title": "Frog and Toad Together (Frog and Toad, #2)"
                                },
                                {
                                    "average_rating": "4.39",
                                    "title": "The Fiery Heart (Bloodlines, #4)"
                                },
                                {
                                    "average_rating": "4.46",
                                    "title": "Magic Bleeds (Kate Daniels, #4)"
                                },
                                {
                                    "average_rating": "4.26",
                                    "title": "If You Take a Mouse to School"
                                },
                                {
                                    "average_rating": "4.3",
                                    "title": "Finding Cinderella (Hopeless, #2.5)"
                                },
                                {
                                    "average_rating": "4.25",
                                    "title": "Beauty from Pain (Beauty, #1)"
                                },
                                {
                                    "average_rating": "4.21",
                                    "title": "The Hero and the Crown (Damar, #2)"
                                },
                                {
                                    "average_rating": "4.22",
                                    "title": "Desert Solitaire"
                                },
                                {
                                    "average_rating": "4.57",
                                    "title": "Vampire Academy Box Set (Vampire Academy, #1-4)"
                                },
                                {
                                    "average_rating": "4.23",
                                    "title": "The Right Stuff"
                                },
                                {
                                    "average_rating": "4.22",
                                    "title": "The Tell-Tale Heart"
                                },
                                {
                                    "average_rating": "4.23",
                                    "title": "Stone Soup"
                                },
                                {
                                    "average_rating": "4.61",
                                    "title": "Harry Potter and the Chamber of Secrets: Sheet Music for Flute with C.D"
                                },
                                {
                                    "average_rating": "4.21",
                                    "title": "Death: The High Cost of Living Collected"
                                },
                                {
                                    "average_rating": "4.27",
                                    "title": "Destroy Me (Shatter Me, #1.5)"
                                },
                                {
                                    "average_rating": "4.32",
                                    "title": "The Paper Bag Princess"
                                },
                                {
                                    "average_rating": "4.26",
                                    "title": "Love Unrehearsed (Love, #2)"
                                },
                                {
                                    "average_rating": "4.55",
                                    "title": "Brief Lives (The Sandman #7)"
                                },
                                {
                                    "average_rating": "4.45",
                                    "title": "Fables and Reflections (The Sandman #6)"
                                },
                                {
                                    "average_rating": "4.3",
                                    "title": "The Source"
                                },
                                {
                                    "average_rating": "4.29",
                                    "title": "ثلاثية غرناطة"
                                },
                                {
                                    "average_rating": "4.27",
                                    "title": "We're Going on a Bear Hunt"
                                },
                                {
                                    "average_rating": "4.61",
                                    "title": "Vampire Academy Collection (Vampire Academy, #1-3)"
                                },
                                {
                                    "average_rating": "4.24",
                                    "title": "Pandora's Star"
                                },
                                {
                                    "average_rating": "4.3",
                                    "title": "The Raven and other poems"
                                },
                                {
                                    "average_rating": "4.33",
                                    "title": "Magic Burns (Kate Daniels, #2)"
                                },
                                {
                                    "average_rating": "4.42",
                                    "title": "Dragon Ball, Vol. 1: The Monkey King (Dragon Ball, #1)"
                                },
                                {
                                    "average_rating": "4.21",
                                    "title": "A Hunger Like No Other (Immortals After Dark #2)"
                                },
                                {
                                    "average_rating": "4.26",
                                    "title": "The High King (The Chronicles of Prydain #5)"
                                },
                                {
                                    "average_rating": "4.47",
                                    "title": "Ficciones"
                                },
                                {
                                    "average_rating": "4.24",
                                    "title": "Winter Prey (Lucas Davenport, #5)"
                                },
                                {
                                    "average_rating": "4.28",
                                    "title": "The Complete Short Stories"
                                },
                                {
                                    "average_rating": "4.26",
                                    "title": "The Atonement Child"
                                },
                                {
                                    "average_rating": "4.25",
                                    "title": "The Rithmatist (The Rithmatist, #1)"
                                },
                                {
                                    "average_rating": "4.22",
                                    "title": "The Christmas Shoes (Christmas Hope #1)"
                                },
                                {
                                    "average_rating": "4.25",
                                    "title": "Mystery Man (Dream Man, #1)"
                                },
                                {
                                    "average_rating": "4.22",
                                    "title": "Curious George Goes to the Hospital"
                                },
                                {
                                    "average_rating": "4.26",
                                    "title": "The Bride (Lairds' Fiancées, #1)"
                                },
                                {
                                    "average_rating": "4.31",
                                    "title": "Erak's Ransom (Ranger's Apprentice, #7)"
                                },
                                {
                                    "average_rating": "4.38",
                                    "title": "Halt's Peril (Ranger's Apprentice, #9)"
                                },
                                {
                                    "average_rating": "4.25",
                                    "title": "Betty Crocker's Cookbook"
                                },
                                {
                                    "average_rating": "4.33",
                                    "title": "Executive Power (Mitch Rapp, #6)"
                                },
                                {
                                    "average_rating": "4.44",
                                    "title": "The Essential Rumi"
                                },
                                {
                                    "average_rating": "4.39",
                                    "title": "Memories of Ice (The Malazan Book of the Fallen, #3)"
                                },
                                {
                                    "average_rating": "4.32",
                                    "title": "The Realms of the Gods (Immortals, #4)"
                                },
                                {
                                    "average_rating": "4.26",
                                    "title": "The Darkest Kiss (Lords of the Underworld #2)"
                                },
                                {
                                    "average_rating": "4.34",
                                    "title": "Pure (Covenant, #2)"
                                },
                                {
                                    "average_rating": "4.22",
                                    "title": "Hammered (The Iron Druid Chronicles, #3)"
                                },
                                {
                                    "average_rating": "4.3",
                                    "title": "No Rest for the Wicked (Immortals After Dark #3)"
                                },
                                {
                                    "average_rating": "4.32",
                                    "title": "Extreme Measures (Mitch Rapp, #11)"
                                },
                                {
                                    "average_rating": "4.47",
                                    "title": "Saga, Vol. 4 (Saga, #4)"
                                },
                                {
                                    "average_rating": "4.32",
                                    "title": "Seduced in the Dark (The Dark Duet, #2)"
                                },
                                {
                                    "average_rating": "4.35",
                                    "title": "Pursuit of Honor (Mitch Rapp, #12)"
                                },
                                {
                                    "average_rating": "4.59",
                                    "title": "Acheron (Dark-Hunter #14)"
                                },
                                {
                                    "average_rating": "4.58",
                                    "title": "Percy Jackson and the Olympians (Percy Jackson and the Olympians, #1-3)"
                                },
                                {
                                    "average_rating": "4.22",
                                    "title": "The Ripper (The Vampire Diaries: Stefan's Diaries, #4)"
                                },
                                {
                                    "average_rating": "4.36",
                                    "title": "Salt to the Sea"
                                },
                                {
                                    "average_rating": "4.59",
                                    "title": "The Lord of the Rings: The Art of The Fellowship of the Ring"
                                },
                                {
                                    "average_rating": "4.28",
                                    "title": "Tales from a Not-So-Popular Party Girl (Dork Diaries, #2)"
                                },
                                {
                                    "average_rating": "4.62",
                                    "title": "Crooked Kingdom (Six of Crows, #2)"
                                },
                                {
                                    "average_rating": "4.27",
                                    "title": "Trickster's Choice (Daughter of the Lioness, #1)"
                                },
                                {
                                    "average_rating": "4.33",
                                    "title": "The Arrival"
                                },
                                {
                                    "average_rating": "4.23",
                                    "title": "Noble House (Asian Saga, #5)"
                                },
                                {
                                    "average_rating": "4.57",
                                    "title": "NARUTO -ナルト- 巻ノ四十三"
                                },
                                {
                                    "average_rating": "4.77",
                                    "title": "Harry Potter Boxed Set, Books 1-5 (Harry Potter, #1-5)"
                                },
                                {
                                    "average_rating": "4.21",
                                    "title": "The Mad Ship (Liveship Traders, #2)"
                                },
                                {
                                    "average_rating": "4.26",
                                    "title": "Inside the Human Body (The Magic School Bus, #3)"
                                },
                                {
                                    "average_rating": "4.48",
                                    "title": "A Game of Thrones: The Graphic Novel, Vol. 1"
                                },
                                {
                                    "average_rating": "4.4",
                                    "title": "The Exploits of Sherlock Holmes"
                                },
                                {
                                    "average_rating": "4.29",
                                    "title": "Those Who Leave and Those Who Stay (The Neapolitan Novels #3)"
                                },
                                {
                                    "average_rating": "4.21",
                                    "title": "Ship of Destiny (Liveship Traders, #3)"
                                },
                                {
                                    "average_rating": "4.28",
                                    "title": "Daughter of the Forest  (Sevenwaters, #1)"
                                },
                                {
                                    "average_rating": "4.23",
                                    "title": "Complications: A Surgeon's Notes on an Imperfect Science"
                                },
                                {
                                    "average_rating": "4.23",
                                    "title": "Side Jobs: Stories from the Dresden Files (The Dresden Files, #12.5)"
                                },
                                {
                                    "average_rating": "4.29",
                                    "title": "Mort: The Play"
                                },
                                {
                                    "average_rating": "4.21",
                                    "title": "Skulduggery Pleasant (Skulduggery Pleasant, #1)"
                                },
                                {
                                    "average_rating": "4.39",
                                    "title": "Men at Arms: The Play"
                                },
                                {
                                    "average_rating": "4.21",
                                    "title": "Carpe Corpus (The Morganville Vampires, #6)"
                                },
                                {
                                    "average_rating": "4.28",
                                    "title": "A Fistful of Charms (The Hollows, #4)"
                                },
                                {
                                    "average_rating": "4.25",
                                    "title": "UnWholly (Unwind, #2)"
                                },
                                {
                                    "average_rating": "4.25",
                                    "title": "Consider the Lobster and Other Essays"
                                },
                                {
                                    "average_rating": "4.45",
                                    "title": "The Bands of Mourning (Mistborn, #6)"
                                },
                                {
                                    "average_rating": "4.27",
                                    "title": "The Road Not Taken and Other Poems"
                                },
                                {
                                    "average_rating": "4.26",
                                    "title": "Simon vs. the Homo Sapiens Agenda"
                                },
                                {
                                    "average_rating": "4.29",
                                    "title": "The Little House"
                                },
                                {
                                    "average_rating": "4.28",
                                    "title": "Survival in Auschwitz"
                                },
                                {
                                    "average_rating": "4.51",
                                    "title": "The Hitchhiker's Guide to the Galaxy: A Trilogy in Four Parts"
                                },
                                {
                                    "average_rating": "4.35",
                                    "title": "Frost Burned (Mercy Thompson, #7)"
                                },
                                {
                                    "average_rating": "4.36",
                                    "title": "Night Play (Dark-Hunter #5, Were-Hunter #1)"
                                },
                                {
                                    "average_rating": "4.31",
                                    "title": "Knowing God"
                                },
                                {
                                    "average_rating": "4.59",
                                    "title": "The Kindly Ones (The Sandman #9)"
                                },
                                {
                                    "average_rating": "4.48",
                                    "title": "Worlds' End (The Sandman #8)"
                                },
                                {
                                    "average_rating": "4.25",
                                    "title": "The Mastery of Love: A Practical Guide to the Art of Relationship --Toltec Wisdom Book"
                                },
                                {
                                    "average_rating": "4.31",
                                    "title": "Driven (Driven, #1)"
                                },
                                {
                                    "average_rating": "4.27",
                                    "title": "Hunting Ground (Alpha & Omega, #2)"
                                },
                                {
                                    "average_rating": "4.21",
                                    "title": "Centennial"
                                },
                                {
                                    "average_rating": "4.24",
                                    "title": "Dragonsong (Harper Hall, #1)"
                                },
                                {
                                    "average_rating": "4.23",
                                    "title": "Noughts & Crosses (Noughts & Crosses, #1)"
                                },
                                {
                                    "average_rating": "4.24",
                                    "title": "The Enchantress (The Secrets of the Immortal Nicholas Flamel, #6)"
                                },
                                {
                                    "average_rating": "4.33",
                                    "title": "Taken at Dusk (Shadow Falls, #3)"
                                },
                                {
                                    "average_rating": "4.32",
                                    "title": "The Raven King (The Raven Cycle, #4)"
                                },
                                {
                                    "average_rating": "4.3",
                                    "title": "Term Limits"
                                },
                                {
                                    "average_rating": "4.34",
                                    "title": "Letters to a Young Poet"
                                },
                                {
                                    "average_rating": "4.25",
                                    "title": "Night Embrace (Dark-Hunter #2)"
                                },
                                {
                                    "average_rating": "4.26",
                                    "title": "Les Fleurs du Mal"
                                },
                                {
                                    "average_rating": "4.22",
                                    "title": "The Last Mile (Amos Decker, #2)"
                                },
                                {
                                    "average_rating": "4.43",
                                    "title": "Magic Slays (Kate Daniels, #5)"
                                },
                                {
                                    "average_rating": "4.26",
                                    "title": "The Third Option (Mitch Rapp, #4)"
                                },
                                {
                                    "average_rating": "4.44",
                                    "title": "The Complete Stories"
                                },
                                {
                                    "average_rating": "4.25",
                                    "title": "Tricked (The Iron Druid Chronicles, #4)"
                                },
                                {
                                    "average_rating": "4.47",
                                    "title": "The Coldest Winter Ever"
                                },
                                {
                                    "average_rating": "4.23",
                                    "title": "Zen Mind, Beginner's Mind: Informal Talks on Zen Meditation and Practice"
                                },
                                {
                                    "average_rating": "4.27",
                                    "title": "Emperor of Thorns (The Broken Empire, #3)"
                                },
                                {
                                    "average_rating": "4.25",
                                    "title": "The Rise of Theodore Roosevelt"
                                },
                                {
                                    "average_rating": "4.58",
                                    "title": "Just Mercy: A Story of Justice and Redemption"
                                },
                                {
                                    "average_rating": "4.28",
                                    "title": "This Side of the Grave (Night Huntress, #5)"
                                },
                                {
                                    "average_rating": "4.24",
                                    "title": "First Test (Protector of the Small, #1)"
                                },
                                {
                                    "average_rating": "4.21",
                                    "title": "Giovanni's Room"
                                },
                                {
                                    "average_rating": "4.31",
                                    "title": "The Little Mouse, the Red Ripe Strawberry, and the Big Hungry Bear"
                                },
                                {
                                    "average_rating": "4.21",
                                    "title": "Neil Gaiman's Neverwhere"
                                },
                                {
                                    "average_rating": "4.33",
                                    "title": "The Hidden Oracle (The Trials of Apollo, #1)"
                                },
                                {
                                    "average_rating": "4.24",
                                    "title": "Once Burned (Night Prince, #1)"
                                },
                                {
                                    "average_rating": "4.21",
                                    "title": "The End of Eternity"
                                },
                                {
                                    "average_rating": "4.22",
                                    "title": "Love Comes Softly (Love Comes Softly, #1)"
                                },
                                {
                                    "average_rating": "4.46",
                                    "title": "The Broken Eye (Lightbringer, #3)"
                                },
                                {
                                    "average_rating": "4.25",
                                    "title": "The Collected Poems of W.B. Yeats"
                                },
                                {
                                    "average_rating": "4.3",
                                    "title": "Lady Knight (Protector of the Small, #4)"
                                },
                                {
                                    "average_rating": "4.3",
                                    "title": "Rudolph the Red-Nosed Reindeer"
                                },
                                {
                                    "average_rating": "4.36",
                                    "title": "The Walking Dead, Book One (The Walking Dead #1-12)"
                                },
                                {
                                    "average_rating": "4.22",
                                    "title": "Wintersmith (Discworld, #35; Tiffany Aching, #3)"
                                },
                                {
                                    "average_rating": "4.21",
                                    "title": "The Miracle Worker"
                                },
                                {
                                    "average_rating": "4.51",
                                    "title": "Fueled (Driven, #2)"
                                },
                                {
                                    "average_rating": "4.28",
                                    "title": "Good Night, Mr. Tom"
                                },
                                {
                                    "average_rating": "4.34",
                                    "title": "The Exiled Queen (Seven Realms, #2)"
                                },
                                {
                                    "average_rating": "4.37",
                                    "title": "Wicked Deeds on a Winter's Night (Immortals After Dark #4)"
                                },
                                {
                                    "average_rating": "4.32",
                                    "title": "Sleeping Beauty (Disney Princess, 5)"
                                },
                                {
                                    "average_rating": "4.32",
                                    "title": "Out of Breath (Breathing, #3)"
                                },
                                {
                                    "average_rating": "4.23",
                                    "title": "The Ragamuffin Gospel: Good News for the Bedraggled, Beat-Up, and Burnt Out"
                                },
                                {
                                    "average_rating": "4.22",
                                    "title": "The Shock Doctrine: The Rise of Disaster Capitalism"
                                },
                                {
                                    "average_rating": "4.3",
                                    "title": "The Return of Sherlock Holmes"
                                },
                                {
                                    "average_rating": "4.27",
                                    "title": "Llama Llama Red Pajama"
                                },
                                {
                                    "average_rating": "4.32",
                                    "title": "House of Chains (The Malazan Book of the Fallen, #4)"
                                },
                                {
                                    "average_rating": "4.43",
                                    "title": "Opposition (Lux, #5)"
                                },
                                {
                                    "average_rating": "4.21",
                                    "title": "Calling Me Home"
                                },
                                {
                                    "average_rating": "4.42",
                                    "title": "The Emperor of Nihon-Ja (Ranger's Apprentice, #10)"
                                },
                                {
                                    "average_rating": "4.82",
                                    "title": "The Complete Calvin and Hobbes"
                                },
                                {
                                    "average_rating": "4.29",
                                    "title": "Pulse (Collide, #2)"
                                },
                                {
                                    "average_rating": "4.42",
                                    "title": "Bone: The Complete Edition"
                                },
                                {
                                    "average_rating": "4.21",
                                    "title": "Wolf-Speaker (Immortals, #2)"
                                },
                                {
                                    "average_rating": "4.28",
                                    "title": "A Supposedly Fun Thing I'll Never Do Again:  Essays and Arguments"
                                },
                                {
                                    "average_rating": "4.21",
                                    "title": "Nana, Vol. 1 (Nana, #1)"
                                },
                                {
                                    "average_rating": "4.4",
                                    "title": "Beauty and the Beast (Disney)"
                                },
                                {
                                    "average_rating": "4.53",
                                    "title": "The Wake (The Sandman #10)"
                                },
                                {
                                    "average_rating": "4.36",
                                    "title": "Lady and the Tramp"
                                },
                                {
                                    "average_rating": "4.27",
                                    "title": "Squire (Protector of the Small, #3)"
                                },
                                {
                                    "average_rating": "4.35",
                                    "title": "Out of Sight, Out of Time (Gallagher Girls, #5)"
                                },
                                {
                                    "average_rating": "4.25",
                                    "title": "Just for Now (Sea Breeze, #4)"
                                },
                                {
                                    "average_rating": "4.26",
                                    "title": "The Charm School"
                                },
                                {
                                    "average_rating": "4.23",
                                    "title": "Y: The Last Man, Vol. 2: Cycles (Y: The Last Man, #2)"
                                },
                                {
                                    "average_rating": "4.35",
                                    "title": "White Witch, Black Curse (The Hollows, #7)"
                                },
                                {
                                    "average_rating": "4.39",
                                    "title": "The Gray Wolf Throne (Seven Realms, #3)"
                                },
                                {
                                    "average_rating": "4.41",
                                    "title": "Scott Pilgrim, Volume 6: Scott Pilgrim's Finest Hour"
                                },
                                {
                                    "average_rating": "4.26",
                                    "title": "The Cabinet of Curiosities (Pendergast, #3)"
                                },
                                {
                                    "average_rating": "4.32",
                                    "title": "The Practice of the Presence of God"
                                },
                                {
                                    "average_rating": "4.23",
                                    "title": "Buried Prey (Lucas Davenport, #21)"
                                },
                                {
                                    "average_rating": "4.25",
                                    "title": "Love Does: Discover a Secretly Incredible Life in an Ordinary World"
                                },
                                {
                                    "average_rating": "4.27",
                                    "title": "The Intelligent Investor (Collins Business Essentials)"
                                },
                                {
                                    "average_rating": "4.26",
                                    "title": "The Heroes (First Law World, #5)"
                                },
                                {
                                    "average_rating": "4.33",
                                    "title": "The Real Mother Goose"
                                },
                                {
                                    "average_rating": "4.22",
                                    "title": "The Opportunist (Love Me with Lies, #1)"
                                },
                                {
                                    "average_rating": "4.25",
                                    "title": "A Kingdom of Dreams (Westmoreland, #1)"
                                },
                                {
                                    "average_rating": "4.39",
                                    "title": "The Story of the Lost Child (The Neapolitan Novels, #4)"
                                },
                                {
                                    "average_rating": "4.35",
                                    "title": "Rise of Empire (The Riyria Revelations, #3-4)"
                                },
                                {
                                    "average_rating": "4.35",
                                    "title": "I Shall Wear Midnight (Discworld, #38; Tiffany Aching, #4)"
                                },
                                {
                                    "average_rating": "4.38",
                                    "title": "Beautiful Player (Beautiful Bastard, #3)"
                                },
                                {
                                    "average_rating": "4.24",
                                    "title": "Creativity, Inc.: Overcoming the Unseen Forces That Stand in the Way of True Inspiration"
                                },
                                {
                                    "average_rating": "4.56",
                                    "title": "Harry Potter Page to Screen: The Complete Filmmaking Journey"
                                },
                                {
                                    "average_rating": "4.28",
                                    "title": "The Darkest Pleasure (Lords of the Underworld #3)"
                                },
                                {
                                    "average_rating": "4.21",
                                    "title": "Panda Bear, Panda Bear, What Do You See?"
                                },
                                {
                                    "average_rating": "4.34",
                                    "title": "Edenbrooke (Edenbrooke, #1)"
                                },
                                {
                                    "average_rating": "4.28",
                                    "title": "Sweet Peril (Sweet, #2)"
                                },
                                {
                                    "average_rating": "4.73",
                                    "title": "Harry Potter Collection (Harry Potter, #1-6)"
                                },
                                {
                                    "average_rating": "4.43",
                                    "title": "Sookie Stackhouse 7-copy Boxed Set (Sookie Stackhouse, #1-7)"
                                },
                                {
                                    "average_rating": "4.44",
                                    "title": "Anne McCaffrey's Dragonflight #1"
                                },
                                {
                                    "average_rating": "4.28",
                                    "title": "Trapped (The Iron Druid Chronicles, #5)"
                                },
                                {
                                    "average_rating": "4.32",
                                    "title": "Illuminae (The Illuminae Files, #1)"
                                },
                                {
                                    "average_rating": "4.38",
                                    "title": "War and Remembrance (The Henry Family, #2)"
                                },
                                {
                                    "average_rating": "4.53",
                                    "title": "A Game of Thrones / A Clash of Kings (A Song of Ice and Fire, #1-2)"
                                },
                                {
                                    "average_rating": "4.25",
                                    "title": "Fear (Gone, #5)"
                                },
                                {
                                    "average_rating": "4.34",
                                    "title": "Protect and Defend (Mitch Rapp, #10)"
                                },
                                {
                                    "average_rating": "4.37",
                                    "title": "Silver Shadows (Bloodlines, #5)"
                                },
                                {
                                    "average_rating": "4.29",
                                    "title": "Tricks (Tricks, #1)"
                                },
                                {
                                    "average_rating": "4.46",
                                    "title": "Heir of Novron (The Riyria Revelations, #5-6)"
                                },
                                {
                                    "average_rating": "4.24",
                                    "title": "A Good Man is Hard to Find and Other Stories"
                                },
                                {
                                    "average_rating": "4.25",
                                    "title": "The Walking Dead, Vol. 02: Miles Behind Us"
                                },
                                {
                                    "average_rating": "4.22",
                                    "title": "Alice's Adventures in Wonderland & Other Stories"
                                },
                                {
                                    "average_rating": "4.39",
                                    "title": "Black Magic Sanction (The Hollows, #8)"
                                },
                                {
                                    "average_rating": "4.31",
                                    "title": "The Best of H.P. Lovecraft: Bloodcurdling Tales of Horror and the Macabre"
                                },
                                {
                                    "average_rating": "4.45",
                                    "title": "Pale Demon (The Hollows, #9)"
                                },
                                {
                                    "average_rating": "4.25",
                                    "title": "The Call of Cthulhu and Other Weird Stories"
                                },
                                {
                                    "average_rating": "4.25",
                                    "title": "Glory in Death (In Death, #2)"
                                },
                                {
                                    "average_rating": "4.29",
                                    "title": "Batman: Hush"
                                },
                                {
                                    "average_rating": "4.29",
                                    "title": "The Magic Faraway Tree (The Faraway Tree, #2)"
                                },
                                {
                                    "average_rating": "4.25",
                                    "title": "Midnight Awakening (Midnight Breed, #3)"
                                },
                                {
                                    "average_rating": "4.31",
                                    "title": "Tales from a Not-So-Talented Pop Star (Dork Diaries, #3)"
                                },
                                {
                                    "average_rating": "4.41",
                                    "title": "Deity (Covenant, #3)"
                                },
                                {
                                    "average_rating": "4.38",
                                    "title": "Dark Desires After Dusk (Immortals After Dark #6)"
                                },
                                {
                                    "average_rating": "4.25",
                                    "title": "Searching for Dragons (Enchanted Forest Chronicles, #2)"
                                },
                                {
                                    "average_rating": "4.22",
                                    "title": "Kiss of Death (The Morganville Vampires, #8)"
                                },
                                {
                                    "average_rating": "4.24",
                                    "title": "Maximum Ride, Vol. 1 (Maximum Ride: The Manga, #1)"
                                },
                                {
                                    "average_rating": "4.27",
                                    "title": "for colored girls who have considered suicide/when the rainbow is enuf"
                                },
                                {
                                    "average_rating": "4.23",
                                    "title": "Twice Bitten (Chicagoland Vampires, #3)"
                                },
                                {
                                    "average_rating": "4.49",
                                    "title": "Born a Crime: Stories From a South African Childhood"
                                },
                                {
                                    "average_rating": "4.26",
                                    "title": "The Secret (Highlands' Lairds #1)"
                                },
                                {
                                    "average_rating": "4.38",
                                    "title": "The Power of a Praying Woman"
                                },
                                {
                                    "average_rating": "4.22",
                                    "title": "Hand, Hand, Fingers, Thumb"
                                },
                                {
                                    "average_rating": "4.32",
                                    "title": "Dark Needs at Night's Edge (Immortals After Dark #5)"
                                },
                                {
                                    "average_rating": "4.28",
                                    "title": "Hellsing, Vol. 01 (Hellsing, #1)"
                                },
                                {
                                    "average_rating": "4.35",
                                    "title": "The Physician (Cole Family Trilogy, #1)"
                                },
                                {
                                    "average_rating": "4.47",
                                    "title": "Demon from the Dark (Immortals After Dark #10)"
                                },
                                {
                                    "average_rating": "4.37",
                                    "title": "The King (Black Dagger Brotherhood, #12)"
                                },
                                {
                                    "average_rating": "4.25",
                                    "title": "When Nietzsche Wept"
                                },
                                {
                                    "average_rating": "4.23",
                                    "title": "Not a Fan: Becoming a Completely Committed Follower of Jesus"
                                },
                                {
                                    "average_rating": "4.29",
                                    "title": "Scott Pilgrim, Volume 3: Scott Pilgrim & The Infinite Sadness"
                                },
                                {
                                    "average_rating": "4.27",
                                    "title": "The Winter King (The Warlord Chronicles, #1)"
                                },
                                {
                                    "average_rating": "4.25",
                                    "title": "Matterhorn"
                                },
                                {
                                    "average_rating": "4.35",
                                    "title": "The Cost of Discipleship"
                                },
                                {
                                    "average_rating": "4.37",
                                    "title": "A Gentleman in Moscow"
                                },
                                {
                                    "average_rating": "4.49",
                                    "title": "The New Jim Crow: Mass Incarceration in the Age of Colorblindness"
                                },
                                {
                                    "average_rating": "4.27",
                                    "title": "Ghost Town (The Morganville Vampires, #9)"
                                },
                                {
                                    "average_rating": "4.32",
                                    "title": "Experiencing God: Knowing and Doing the Will of God, Workbook"
                                },
                                {
                                    "average_rating": "4.26",
                                    "title": "Dragonsinger (Harper Hall, #2)"
                                },
                                {
                                    "average_rating": "4.21",
                                    "title": "D.Gray-man, Volume 01"
                                },
                                {
                                    "average_rating": "4.29",
                                    "title": "Avatar: The Last Airbender (The Search, #1)"
                                },
                                {
                                    "average_rating": "4.36",
                                    "title": "Fire and Ice (Warriors, #2)"
                                },
                                {
                                    "average_rating": "4.33",
                                    "title": "The Darkest Whisper (Lords of the Underworld #4)"
                                },
                                {
                                    "average_rating": "4.34",
                                    "title": "Frog and Toad All Year (Frog and Toad, #3)"
                                },
                                {
                                    "average_rating": "4.33",
                                    "title": "The Dark Elf Trilogy Collector's Edition (Forgotten Realms: Dark Elf Trilogy, #1-3; Legend of Drizzt, #1-3)"
                                },
                                {
                                    "average_rating": "4.22",
                                    "title": "Sin City, Vol. 4: That Yellow Bastard (Sin City, #4)"
                                },
                                {
                                    "average_rating": "4.23",
                                    "title": "Krew elfów (Saga o Wiedźminie, #3)"
                                },
                                {
                                    "average_rating": "4.29",
                                    "title": "The Kings of Clonmel (Ranger's Apprentice, #8)"
                                },
                                {
                                    "average_rating": "4.28",
                                    "title": "The Revenge of Seven (Lorien Legacies, #5)"
                                },
                                {
                                    "average_rating": "4.27",
                                    "title": "The Pale Horseman (The Saxon Stories, #2)"
                                },
                                {
                                    "average_rating": "4.21",
                                    "title": "Marvels"
                                },
                                {
                                    "average_rating": "4.3",
                                    "title": "Judas Unchained"
                                },
                                {
                                    "average_rating": "4.21",
                                    "title": "The Barefoot Contessa Cookbook"
                                },
                                {
                                    "average_rating": "4.37",
                                    "title": "Marked / Betrayed / Chosen / Untamed (House of Night, #1-4)"
                                },
                                {
                                    "average_rating": "4.25",
                                    "title": "Anne Frank: Beyond the Diary - A Photographic Remembrance"
                                },
                                {
                                    "average_rating": "4.31",
                                    "title": "Kushiel's Chosen (Phèdre's Trilogy, #2)"
                                },
                                {
                                    "average_rating": "4.45",
                                    "title": "The Far Side Gallery 3"
                                },
                                {
                                    "average_rating": "4.29",
                                    "title": "When Things Fall Apart: Heart Advice for Difficult Times"
                                },
                                {
                                    "average_rating": "4.34",
                                    "title": "The Last Man (Mitch Rapp, #13)"
                                },
                                {
                                    "average_rating": "4.32",
                                    "title": "Scott Pilgrim, Volume 4: Scott Pilgrim Gets It Together"
                                },
                                {
                                    "average_rating": "4.23",
                                    "title": "Complete Me (Stark Trilogy, #3)"
                                },
                                {
                                    "average_rating": "4.35",
                                    "title": "Fool's Assassin (The Fitz and the Fool, #1)"
                                },
                                {
                                    "average_rating": "4.29",
                                    "title": "The Gamble (Colorado Mountain, #1)"
                                },
                                {
                                    "average_rating": "4.23",
                                    "title": "The Twilight Saga: The Official Illustrated Guide (Twilight, #4.5)"
                                },
                                {
                                    "average_rating": "4.26",
                                    "title": "Demons"
                                },
                                {
                                    "average_rating": "4.36",
                                    "title": "Seize the Night (Dark-Hunter #6)"
                                },
                                {
                                    "average_rating": "4.55",
                                    "title": "Harry Potter: A Pop-Up Book: Based on the Film Phenomenon"
                                },
                                {
                                    "average_rating": "4.36",
                                    "title": "Making Faces"
                                },
                                {
                                    "average_rating": "4.28",
                                    "title": "Once We Were Brothers"
                                },
                                {
                                    "average_rating": "4.29",
                                    "title": "Fallout (Crank, #3)"
                                },
                                {
                                    "average_rating": "4.41",
                                    "title": "How the Light Gets In (Chief Inspector Armand Gamache, #9)"
                                },
                                {
                                    "average_rating": "4.36",
                                    "title": "Book of Mormon, Doctrine and Covenants, Pearl of Great Price"
                                },
                                {
                                    "average_rating": "4.32",
                                    "title": "God's Smuggler"
                                },
                                {
                                    "average_rating": "4.22",
                                    "title": "Just Go to Bed"
                                },
                                {
                                    "average_rating": "4.33",
                                    "title": "Miss Nelson Is Back (Miss Nelson, #2)"
                                },
                                {
                                    "average_rating": "4.22",
                                    "title": "Page (Protector of the Small, #2)"
                                },
                                {
                                    "average_rating": "4.25",
                                    "title": "Fight with Me (With Me in Seattle, #2)"
                                },
                                {
                                    "average_rating": "4.21",
                                    "title": "Black: The Birth of Evil (The Circle, #1)"
                                },
                                {
                                    "average_rating": "4.28",
                                    "title": "Chess Story"
                                },
                                {
                                    "average_rating": "4.46",
                                    "title": "The Lion King: A little Golden Book"
                                },
                                {
                                    "average_rating": "4.22",
                                    "title": "The Lion (John Corey, #5)"
                                },
                                {
                                    "average_rating": "4.31",
                                    "title": "Kiss of the Highlander (Highlander, #4)"
                                },
                                {
                                    "average_rating": "4.21",
                                    "title": "Roadside Picnic"
                                },
                                {
                                    "average_rating": "4.43",
                                    "title": "Motorcycle Man (Dream Man, #4)"
                                },
                                {
                                    "average_rating": "4.28",
                                    "title": "Preacher, Volume 2: Until the End of the World"
                                },
                                {
                                    "average_rating": "4.53",
                                    "title": "The Lord of the Rings: Weapons and Warfare"
                                },
                                {
                                    "average_rating": "4.26",
                                    "title": "Twilight (The Mediator, #6)"
                                },
                                {
                                    "average_rating": "4.29",
                                    "title": "Dumbo: A Little Golden Book"
                                },
                                {
                                    "average_rating": "4.43",
                                    "title": "Marked / Betrayed / Chosen / Untamed / Hunted (House of Night #1-5)"
                                },
                                {
                                    "average_rating": "4.34",
                                    "title": "A Torch Against the Night (An Ember in the Ashes, #2)"
                                },
                                {
                                    "average_rating": "4.25",
                                    "title": "Skippyjon Jones"
                                },
                                {
                                    "average_rating": "4.34",
                                    "title": "The Complete Stories and Poems"
                                },
                                {
                                    "average_rating": "4.26",
                                    "title": "Devil in Winter (Wallflowers, #3)"
                                },
                                {
                                    "average_rating": "4.3",
                                    "title": "White: The Great Pursuit (The Circle, #3)"
                                },
                                {
                                    "average_rating": "4.37",
                                    "title": "The Darkest Passion (Lords of the Underworld #5)"
                                },
                                {
                                    "average_rating": "4.36",
                                    "title": "Selected Stories"
                                },
                                {
                                    "average_rating": "4.24",
                                    "title": "Smiley's People"
                                },
                                {
                                    "average_rating": "4.36",
                                    "title": "Redemption (Redemption, #1)"
                                },
                                {
                                    "average_rating": "4.33",
                                    "title": "Alice's Adventures in Wonderland: A Pop-Up Adaptation"
                                },
                                {
                                    "average_rating": "4.32",
                                    "title": "Piano/Vocal/Guitar Sheet Music: The Chronicles of Narnia: The Lion, the Witch and The Wardrobe"
                                },
                                {
                                    "average_rating": "4.32",
                                    "title": "100 Selected Poems"
                                },
                                {
                                    "average_rating": "4.4",
                                    "title": "Forest of Secrets (Warriors, #3)"
                                },
                                {
                                    "average_rating": "4.42",
                                    "title": "Night Broken (Mercy Thompson, #8)"
                                },
                                {
                                    "average_rating": "4.32",
                                    "title": "Lords of the North (The Saxon Stories, #3)"
                                },
                                {
                                    "average_rating": "4.39",
                                    "title": "As Sure as the Dawn (Mark of the Lion, #3)"
                                },
                                {
                                    "average_rating": "4.24",
                                    "title": "Down London Road (On Dublin Street, #2)"
                                },
                                {
                                    "average_rating": "4.31",
                                    "title": "The Walking Dead, Vol. 03: Safety Behind Bars"
                                },
                                {
                                    "average_rating": "4.23",
                                    "title": "A Knight in Shining Armor"
                                },
                                {
                                    "average_rating": "4.46",
                                    "title": "Labyrinths:  Selected Stories and Other Writings"
                                },
                                {
                                    "average_rating": "4.34",
                                    "title": "Tiger's Quest (The Tiger Saga, #2)"
                                },
                                {
                                    "average_rating": "4.41",
                                    "title": "The Day the Crayons Quit"
                                },
                                {
                                    "average_rating": "4.4",
                                    "title": "Kisses from Katie: A Story of Relentless Love and Redemption"
                                },
                                {
                                    "average_rating": "4.26",
                                    "title": "The Success Principles: How to Get from Where You Are to Where You Want to Be"
                                },
                                {
                                    "average_rating": "4.25",
                                    "title": "The Autobiography of Henry VIII: With Notes by His Fool, Will Somers"
                                },
                                {
                                    "average_rating": "4.56",
                                    "title": "Crashed (Driven, #3)"
                                },
                                {
                                    "average_rating": "4.28",
                                    "title": "Stone Soup"
                                },
                                {
                                    "average_rating": "4.33",
                                    "title": "A Gathering of Shadows (Shades of Magic, #2)"
                                },
                                {
                                    "average_rating": "4.23",
                                    "title": "Barefoot Contessa Back to Basics"
                                },
                                {
                                    "average_rating": "4.21",
                                    "title": "A Rule Against Murder (Chief Inspector Armand Gamache, #4)"
                                },
                                {
                                    "average_rating": "4.59",
                                    "title": "The Lord of the Rings: The Return of the King: Visual Companion"
                                },
                                {
                                    "average_rating": "4.28",
                                    "title": "美少女戦士セーラームーン新装版 1 [Bishōjo Senshi Sailor Moon Shinsōban 1]"
                                },
                                {
                                    "average_rating": "4.21",
                                    "title": "Kiss an Angel"
                                },
                                {
                                    "average_rating": "4.26",
                                    "title": "Immortal in Death (In Death, #3)"
                                },
                                {
                                    "average_rating": "4.47",
                                    "title": "The Walking Dead, Vol. 08: Made to Suffer"
                                },
                                {
                                    "average_rating": "4.41",
                                    "title": "Pleasure of a Dark Prince (Immortals After Dark #9)"
                                },
                                {
                                    "average_rating": "4.21",
                                    "title": "The Crossing (Harry Bosch, #20; Mickey Haller, #7; Harry Bosch Universe, #25)"
                                },
                                {
                                    "average_rating": "4.37",
                                    "title": "Kushiel's Avatar (Phèdre's Trilogy, #3)"
                                },
                                {
                                    "average_rating": "4.39",
                                    "title": "The Aleph and Other Stories "
                                },
                                {
                                    "average_rating": "4.23",
                                    "title": "The Long Goodbye (Philip Marlowe, #6)"
                                },
                                {
                                    "average_rating": "4.29",
                                    "title": "Sisters"
                                },
                                {
                                    "average_rating": "4.37",
                                    "title": "Nemesis Games (The Expanse, #5)"
                                },
                                {
                                    "average_rating": "4.29",
                                    "title": "A Return to Love: Reflections on the Principles of \"A Course in Miracles\""
                                },
                                {
                                    "average_rating": "4.29",
                                    "title": "Mine (Real, #2)"
                                },
                                {
                                    "average_rating": "4.3",
                                    "title": "Tatiana and Alexander (The Bronze Horseman, #2)"
                                },
                                {
                                    "average_rating": "4.24",
                                    "title": "Archangel's Kiss (Guild Hunter, #2)"
                                },
                                {
                                    "average_rating": "4.75",
                                    "title": "It's a Magical World: A Calvin and Hobbes Collection"
                                },
                                {
                                    "average_rating": "4.24",
                                    "title": "Avatar: The Last Airbender (The Promise, #1)"
                                },
                                {
                                    "average_rating": "4.4",
                                    "title": "Miecz przeznaczenia (Saga o Wiedźminie, #2)"
                                },
                                {
                                    "average_rating": "4.22",
                                    "title": "Y: The Last Man, Vol. 8: Kimono Dragons (Y: The Last Man, #8)"
                                },
                                {
                                    "average_rating": "4.27",
                                    "title": "Y: The Last Man, Vol. 5: Ring of Truth (Y: The Last Man, #5)"
                                },
                                {
                                    "average_rating": "4.44",
                                    "title": "Saga, Vol. 5 (Saga, #5)"
                                },
                                {
                                    "average_rating": "4.27",
                                    "title": "Red Country (First Law World, #6)"
                                },
                                {
                                    "average_rating": "4.28",
                                    "title": "The Lords of Discipline"
                                },
                                {
                                    "average_rating": "4.52",
                                    "title": "The Darkest Hour (Warriors, #6)"
                                },
                                {
                                    "average_rating": "4.24",
                                    "title": "Kiss of the Night (Dark-Hunter, #4)"
                                },
                                {
                                    "average_rating": "4.37",
                                    "title": "He Chose the Nails"
                                },
                                {
                                    "average_rating": "4.4",
                                    "title": "With the Old Breed: At Peleliu and Okinawa"
                                },
                                {
                                    "average_rating": "4.34",
                                    "title": "Midnight Tides (The Malazan Book of the Fallen, #5)"
                                },
                                {
                                    "average_rating": "4.27",
                                    "title": "The Hidden Messages in Water"
                                },
                                {
                                    "average_rating": "4.34",
                                    "title": "India After Gandhi: The History of the World's Largest Democracy"
                                },
                                {
                                    "average_rating": "4.27",
                                    "title": "The Sight (Warriors: Power of Three, #1)"
                                },
                                {
                                    "average_rating": "4.3",
                                    "title": "Bad for You (Sea Breeze, #7)"
                                },
                                {
                                    "average_rating": "4.21",
                                    "title": "Gifted Hands: The Ben Carson Story"
                                },
                                {
                                    "average_rating": "4.25",
                                    "title": "The Little Old Lady Who Was Not Afraid of Anything"
                                },
                                {
                                    "average_rating": "4.35",
                                    "title": "The Holiness of God"
                                },
                                {
                                    "average_rating": "4.22",
                                    "title": "Wemberly Worried"
                                },
                                {
                                    "average_rating": "4.21",
                                    "title": "Born of Night (The League, #1)"
                                },
                                {
                                    "average_rating": "4.21",
                                    "title": "Murder Must Advertise  (Lord Peter Wimsey, #10)"
                                },
                                {
                                    "average_rating": "4.27",
                                    "title": "Dead Heat (Alpha & Omega #4)"
                                },
                                {
                                    "average_rating": "4.31",
                                    "title": "The Way to Cook"
                                },
                                {
                                    "average_rating": "4.31",
                                    "title": "Vampire Knight, Vol. 9"
                                },
                                {
                                    "average_rating": "4.53",
                                    "title": "The Walking Dead, Compendium 2"
                                },
                                {
                                    "average_rating": "4.21",
                                    "title": "Flyy Girl (Flyy Girl, #1)"
                                },
                                {
                                    "average_rating": "4.61",
                                    "title": "The Sandman: King of Dreams"
                                },
                                {
                                    "average_rating": "4.22",
                                    "title": "Stephen King's N."
                                },
                                {
                                    "average_rating": "4.24",
                                    "title": "By the Sword (Valdemar)"
                                },
                                {
                                    "average_rating": "4.25",
                                    "title": "Owen"
                                },
                                {
                                    "average_rating": "4.31",
                                    "title": "The America's Test Kitchen Family Cookbook"
                                },
                                {
                                    "average_rating": "4.23",
                                    "title": "Rumpelstiltskin"
                                },
                                {
                                    "average_rating": "4.32",
                                    "title": "A Higher Call: An Incredible True Story of Combat and Chivalry in the War-Torn Skies of World War II"
                                },
                                {
                                    "average_rating": "4.22",
                                    "title": "It Ain't Me, Babe (Hades Hangmen, #1)"
                                },
                                {
                                    "average_rating": "4.38",
                                    "title": "The Sandman: The Dream Hunters"
                                },
                                {
                                    "average_rating": "4.27",
                                    "title": "The Stories of John Cheever"
                                },
                                {
                                    "average_rating": "4.29",
                                    "title": "Extreme Prey (Lucas Davenport, #26)"
                                },
                                {
                                    "average_rating": "4.25",
                                    "title": "Phantoms in the Brain: Probing the Mysteries of the Human Mind"
                                },
                                {
                                    "average_rating": "4.32",
                                    "title": "Divided in Death (In Death, #18)"
                                },
                                {
                                    "average_rating": "4.26",
                                    "title": "Very Good Lives: The Fringe Benefits of Failure and the Importance of Imagination"
                                },
                                {
                                    "average_rating": "4.29",
                                    "title": "The Walking Dead, Vol. 10: What We Become"
                                },
                                {
                                    "average_rating": "4.24",
                                    "title": "A Leaf on the Wind of All Hallows (Outlander, #8.5)"
                                },
                                {
                                    "average_rating": "4.24",
                                    "title": "The Last Detective (Elvis Cole, #9)"
                                },
                                {
                                    "average_rating": "4.6",
                                    "title": "Ender's Game, Volume 2: Command School"
                                },
                                {
                                    "average_rating": "4.76",
                                    "title": "ESV Study Bible"
                                },
                                {
                                    "average_rating": "4.24",
                                    "title": "Auschwitz: A Doctor's Eyewitness Account"
                                },
                                {
                                    "average_rating": "4.21",
                                    "title": "Disappearing Acts"
                                },
                                {
                                    "average_rating": "4.41",
                                    "title": "Fruits Basket, Vol. 7"
                                },
                                {
                                    "average_rating": "4.33",
                                    "title": "Reunion in Death (In Death, #14)"
                                },
                                {
                                    "average_rating": "4.22",
                                    "title": "Where Is God When It Hurts?"
                                },
                                {
                                    "average_rating": "4.24",
                                    "title": "Kushiel's Justice (Imriel's Trilogy, #2)"
                                },
                                {
                                    "average_rating": "4.24",
                                    "title": "The Orenda"
                                },
                                {
                                    "average_rating": "4.31",
                                    "title": "The Julian Chapter (Wonder Story)"
                                },
                                {
                                    "average_rating": "4.38",
                                    "title": "Secret History (Mistborn, #3.5)"
                                },
                                {
                                    "average_rating": "4.21",
                                    "title": "The Five Love Languages of Children"
                                },
                                {
                                    "average_rating": "4.33",
                                    "title": "Visions in Death (In Death, #19)"
                                },
                                {
                                    "average_rating": "4.37",
                                    "title": "Safe with Me (With Me in Seattle, #5)"
                                },
                                {
                                    "average_rating": "4.21",
                                    "title": "Monster in His Eyes (Monster in His Eyes, #1)"
                                },
                                {
                                    "average_rating": "4.27",
                                    "title": "Vision in Silver (The Others, #3)"
                                },
                                {
                                    "average_rating": "4.34",
                                    "title": "Imitation in Death (In Death, #17)"
                                },
                                {
                                    "average_rating": "4.34",
                                    "title": "The Book with No Pictures"
                                },
                                {
                                    "average_rating": "4.23",
                                    "title": "Anne Frank's Tales from the Secret Annex"
                                },
                                {
                                    "average_rating": "4.22",
                                    "title": "The Gift of Therapy: An Open Letter to a New Generation of Therapists and Their Patients"
                                },
                                {
                                    "average_rating": "4.26",
                                    "title": "The Belgariad Boxed Set: Pawn of Prophecy / Queen of Sorcery / Magician's Gambit / Castle of Wizardry / Enchanters' End Game (The Belgariad, #1-5)"
                                },
                                {
                                    "average_rating": "4.21",
                                    "title": "Envy (Fallen Angels, #3)"
                                },
                                {
                                    "average_rating": "4.21",
                                    "title": "Dream Warrior (Dream-Hunter #4; Dark-Hunter #17)"
                                },
                                {
                                    "average_rating": "4.39",
                                    "title": "The Lord God Made Them All"
                                },
                                {
                                    "average_rating": "4.4",
                                    "title": "The Frog and Toad Treasury: Frog and Toad are Friends/Frog and Toad Together/Frog and Toad All Year  (Frog and Toad #1-3)"
                                },
                                {
                                    "average_rating": "4.44",
                                    "title": "Rock Chick Reckoning (Rock Chick, #6)"
                                },
                                {
                                    "average_rating": "4.28",
                                    "title": "Fish in a Tree"
                                },
                                {
                                    "average_rating": "4.28",
                                    "title": "Fables, Vol. 8: Wolves"
                                },
                                {
                                    "average_rating": "4.34",
                                    "title": "Dark Demon (Dark, #16)"
                                },
                                {
                                    "average_rating": "4.34",
                                    "title": "The Walking Dead, Vol. 14: No Way Out"
                                },
                                {
                                    "average_rating": "4.35",
                                    "title": "The Walking Dead, Book Two (The Walking Dead #13-24)"
                                },
                                {
                                    "average_rating": "4.38",
                                    "title": "The Return of the Prodigal Son: A Story of Homecoming"
                                },
                                {
                                    "average_rating": "4.27",
                                    "title": "The Lions of Al-Rassan"
                                },
                                {
                                    "average_rating": "4.24",
                                    "title": "The 5 Greatest Warriors (Jack West Jr, #3)"
                                },
                                {
                                    "average_rating": "4.35",
                                    "title": "Brotherhood in Death (In Death, #42)"
                                },
                                {
                                    "average_rating": "4.4",
                                    "title": "The Invaders (Brotherband Chronicles, #2)"
                                },
                                {
                                    "average_rating": "4.65",
                                    "title": "The Absolute Sandman, Volume One"
                                },
                                {
                                    "average_rating": "4.55",
                                    "title": "Rock Chick Regret (Rock Chick, #7)"
                                },
                                {
                                    "average_rating": "4.43",
                                    "title": "The Walking Dead, Book Three (The Walking Dead #25-36)"
                                },
                                {
                                    "average_rating": "4.4",
                                    "title": "Transmetropolitan, Vol. 3: Year of the Bastard (Transmetropolitan, #3)"
                                },
                                {
                                    "average_rating": "4.32",
                                    "title": "A Severe Mercy: A Story of Faith, Tragedy and Triumph"
                                },
                                {
                                    "average_rating": "4.26",
                                    "title": "Point of Impact (Bob Lee Swagger, #1)"
                                },
                                {
                                    "average_rating": "4.22",
                                    "title": "Punk 57"
                                },
                                {
                                    "average_rating": "4.24",
                                    "title": "Pygmalion & My Fair Lady"
                                },
                                {
                                    "average_rating": "4.26",
                                    "title": "Magic's Price (Valdemar: Last Herald-Mage #3)"
                                },
                                {
                                    "average_rating": "4.23",
                                    "title": "The Hedge Knight (The Tales of Dunk and Egg, #1)"
                                },
                                {
                                    "average_rating": "4.27",
                                    "title": "Death Note, Vol. 8: Target (Death Note, #8)"
                                },
                                {
                                    "average_rating": "4.26",
                                    "title": "X-Men: The Dark Phoenix Saga"
                                },
                                {
                                    "average_rating": "4.22",
                                    "title": "Manufacturing Consent: The Political Economy of the Mass Media"
                                },
                                {
                                    "average_rating": "4.39",
                                    "title": "Endless Knight (The Arcana Chronicles, #2)"
                                },
                                {
                                    "average_rating": "4.28",
                                    "title": "The Complete Poems"
                                },
                                {
                                    "average_rating": "4.46",
                                    "title": "Ouran High School Host Club, Vol. 2 (Ouran High School Host Club, #2)"
                                },
                                {
                                    "average_rating": "4.27",
                                    "title": "The Problem Child (The Sisters Grimm, #3)"
                                },
                                {
                                    "average_rating": "4.53",
                                    "title": "Fearless: The Heroic Story of One Navy SEAL's Sacrifice in the Hunt for Osama Bin Laden and the Unwavering Devotion of the Woman Who Loved Him"
                                },
                                {
                                    "average_rating": "4.58",
                                    "title": "The Last Question"
                                },
                                {
                                    "average_rating": "4.25",
                                    "title": "The Death of Kings (Emperor, #2)"
                                },
                                {
                                    "average_rating": "4.44",
                                    "title": "Naruto, Vol. 05: Exam Hell (Naruto, #5)"
                                },
                                {
                                    "average_rating": "4.52",
                                    "title": "The Tale of Three Trees"
                                },
                                {
                                    "average_rating": "4.28",
                                    "title": "Crash into You (Pushing the Limits, #3)"
                                },
                                {
                                    "average_rating": "4.5",
                                    "title": "The Book of Disquiet"
                                },
                                {
                                    "average_rating": "4.26",
                                    "title": "Once Upon a Crime (The Sisters Grimm, #4)"
                                },
                                {
                                    "average_rating": "4.24",
                                    "title": "Fables, Vol. 9: Sons of Empire"
                                },
                                {
                                    "average_rating": "4.28",
                                    "title": "Starlight (Warriors: The New Prophecy, #4)"
                                },
                                {
                                    "average_rating": "4.34",
                                    "title": "Creation in Death (In Death, #25)"
                                },
                                {
                                    "average_rating": "4.28",
                                    "title": "Llama Llama Mad at Mama"
                                },
                                {
                                    "average_rating": "4.3",
                                    "title": "Branded by Fire (Psy-Changeling #6)"
                                },
                                {
                                    "average_rating": "4.29",
                                    "title": "The Bird and the Sword (The Bird and the Sword Chronicles, #1)"
                                },
                                {
                                    "average_rating": "4.28",
                                    "title": "Sovereign (Matthew Shardlake, #3)"
                                },
                                {
                                    "average_rating": "4.48",
                                    "title": "On Food and Cooking: The Science and Lore of the Kitchen"
                                },
                                {
                                    "average_rating": "4.29",
                                    "title": "Magic and Other Misdemeanors (The Sisters Grimm, #5)"
                                },
                                {
                                    "average_rating": "4.31",
                                    "title": "Delusion in Death (In Death, #35)"
                                },
                                {
                                    "average_rating": "4.21",
                                    "title": "Run Baby Run"
                                },
                                {
                                    "average_rating": "4.34",
                                    "title": "Tortured for Christ N/E"
                                },
                                {
                                    "average_rating": "4.26",
                                    "title": "The Inimitable Jeeves (Jeeves, #2)"
                                },
                                {
                                    "average_rating": "4.35",
                                    "title": "Death Note, Vol. 5: Whiteout (Death Note, #5)"
                                },
                                {
                                    "average_rating": "4.38",
                                    "title": "Homicide: A Year on the Killing Streets"
                                },
                                {
                                    "average_rating": "4.36",
                                    "title": "A Work in Progress"
                                },
                                {
                                    "average_rating": "4.32",
                                    "title": "The Secret Race: Inside the Hidden World of the Tour de France: Doping, Cover-ups, and Winning at All Costs"
                                },
                                {
                                    "average_rating": "4.24",
                                    "title": "Monster Hunter Vendetta (Monster Hunter International, #2)"
                                },
                                {
                                    "average_rating": "4.32",
                                    "title": "Big Nate on a Roll (Big Nate Novels, #3)"
                                },
                                {
                                    "average_rating": "4.23",
                                    "title": "The New Bedside, Bathtub and Armchair Companion to Agatha Christie"
                                },
                                {
                                    "average_rating": "4.28",
                                    "title": "Shadow's Claim (Immortals After Dark, #13; The Dacians, #1)"
                                },
                                {
                                    "average_rating": "4.3",
                                    "title": "Twilight (Warriors: The New Prophecy, #5)"
                                },
                                {
                                    "average_rating": "4.48",
                                    "title": "Evicted: Poverty and Profit in the American City"
                                },
                                {
                                    "average_rating": "4.42",
                                    "title": "The Assassin and the Empire (Throne of Glass, #0.5)"
                                },
                                {
                                    "average_rating": "4.22",
                                    "title": "Deep and Dark and Dangerous (A Ghost Story)"
                                },
                                {
                                    "average_rating": "4.52",
                                    "title": "The Green Mile, Part 4: The Bad Death of Eduard Delacroix"
                                },
                                {
                                    "average_rating": "4.28",
                                    "title": "Pani Jeziora (Saga o Wiedźminie, #7)"
                                },
                                {
                                    "average_rating": "4.23",
                                    "title": "Philosophical Investigations"
                                },
                                {
                                    "average_rating": "4.38",
                                    "title": "Enemy of God (The Warlord Chronicles, #2)"
                                },
                                {
                                    "average_rating": "4.29",
                                    "title": "Cage (Corps Security, #2)"
                                },
                                {
                                    "average_rating": "4.26",
                                    "title": "Archangel's Blade (Guild Hunter, #4)"
                                },
                                {
                                    "average_rating": "4.47",
                                    "title": "Kiss of Snow (Psy-Changeling #10)"
                                },
                                {
                                    "average_rating": "4.34",
                                    "title": "Yotsuba&!, Vol. 01 (Yotsuba&! #1)"
                                },
                                {
                                    "average_rating": "4.33",
                                    "title": "Dark Legend (Dark, #8)"
                                },
                                {
                                    "average_rating": "4.53",
                                    "title": "Courageous"
                                },
                                {
                                    "average_rating": "4.38",
                                    "title": "Convicted (Consequences, #3)"
                                },
                                {
                                    "average_rating": "4.45",
                                    "title": "Praying God's Word: Breaking Free From Spiritual Strongholds"
                                },
                                {
                                    "average_rating": "4.32",
                                    "title": "The Missing Piece Meets the Big O "
                                },
                                {
                                    "average_rating": "4.27",
                                    "title": "Coming Home"
                                },
                                {
                                    "average_rating": "4.31",
                                    "title": "The Staff of Serapis (Percy Jackson & Kane Chronicles Crossover #2)"
                                },
                                {
                                    "average_rating": "4.22",
                                    "title": "A Different Blue"
                                },
                                {
                                    "average_rating": "4.24",
                                    "title": "Sailing Alone Around the Room: New and Selected Poems"
                                },
                                {
                                    "average_rating": "4.32",
                                    "title": "Mirror Dance (Vorkosigan Saga, #8)"
                                },
                                {
                                    "average_rating": "4.38",
                                    "title": "Stone Cold Touch (The Dark Elements, #2)"
                                },
                                {
                                    "average_rating": "4.43",
                                    "title": "Incendiary (The Premonition, #4)"
                                },
                                {
                                    "average_rating": "4.31",
                                    "title": "Financial Peace Revisited"
                                },
                                {
                                    "average_rating": "4.49",
                                    "title": "At Peace (The 'Burg, #2)"
                                },
                                {
                                    "average_rating": "4.36",
                                    "title": "Echo"
                                },
                                {
                                    "average_rating": "4.3",
                                    "title": "MacRieve (Immortals After Dark, #14)"
                                },
                                {
                                    "average_rating": "4.21",
                                    "title": "American Tabloid (Underworld USA, #1)"
                                },
                                {
                                    "average_rating": "4.34",
                                    "title": "Origin in Death (In Death, #21)"
                                },
                                {
                                    "average_rating": "4.32",
                                    "title": "Firestar's Quest (Warriors Super Edition, #1)"
                                },
                                {
                                    "average_rating": "4.23",
                                    "title": "This is Not My Hat"
                                },
                                {
                                    "average_rating": "4.45",
                                    "title": "Rejoice (Redemption, #4)"
                                },
                                {
                                    "average_rating": "4.29",
                                    "title": "Tales From the Hood (The Sisters Grimm, #6)"
                                },
                                {
                                    "average_rating": "4.25",
                                    "title": "What the Bleep Do We Know!?: Discovering the Endless Possibilities for Altering Your Everyday Reality"
                                },
                                {
                                    "average_rating": "4.23",
                                    "title": "Gentle Rogue (Malory-Anderson Family, #3)"
                                },
                                {
                                    "average_rating": "4.34",
                                    "title": "The Shepherd's Crown (Discworld, #41; Tiffany Aching, #5)"
                                },
                                {
                                    "average_rating": "4.41",
                                    "title": "Death Note, Vol. 7: Zero (Death Note, #7)"
                                },
                                {
                                    "average_rating": "4.58",
                                    "title": "Styxx (Dark-Hunter, #22)"
                                },
                                {
                                    "average_rating": "4.26",
                                    "title": "Essentials of Classic Italian Cooking"
                                },
                                {
                                    "average_rating": "4.28",
                                    "title": "The Girl Who Was on Fire: Your Favorite Authors on Suzanne Collins' Hunger Games Trilogy"
                                },
                                {
                                    "average_rating": "4.25",
                                    "title": "A Bargain for Frances"
                                },
                                {
                                    "average_rating": "4.23",
                                    "title": "Calculated in Death (In Death, #36)"
                                },
                                {
                                    "average_rating": "4.23",
                                    "title": "The Shadow Throne (The Ascendance Trilogy, #3)"
                                },
                                {
                                    "average_rating": "4.23",
                                    "title": "Memórias Póstumas de Brás Cubas"
                                },
                                {
                                    "average_rating": "4.3",
                                    "title": "Kushiel's Mercy (Imriel's Trilogy, #3)"
                                },
                                {
                                    "average_rating": "4.34",
                                    "title": "Burn for Me (Hidden Legacy, #1)"
                                },
                                {
                                    "average_rating": "4.31",
                                    "title": "Vampire Knight, Vol. 4 (Vampire Knight, #4)"
                                },
                                {
                                    "average_rating": "4.44",
                                    "title": "Press Here"
                                },
                                {
                                    "average_rating": "4.36",
                                    "title": "Dawn of Wonder (The Wakening, #1)"
                                },
                                {
                                    "average_rating": "4.28",
                                    "title": "Celebrity in Death (In Death, #34)"
                                },
                                {
                                    "average_rating": "4.39",
                                    "title": "Every Thing on It"
                                },
                                {
                                    "average_rating": "4.28",
                                    "title": "The Snowman"
                                },
                                {
                                    "average_rating": "4.21",
                                    "title": "Nash (Marked Men, #4)"
                                },
                                {
                                    "average_rating": "4.48",
                                    "title": "Just One Drop (The Grey Wolves, #3)"
                                },
                                {
                                    "average_rating": "4.26",
                                    "title": "Billions & Billions: Thoughts on Life and Death at the Brink of the Millennium"
                                },
                                {
                                    "average_rating": "4.21",
                                    "title": "Sharpe's Rifles (Sharpe, #6)"
                                },
                                {
                                    "average_rating": "4.26",
                                    "title": "Gaudy Night (Lord Peter Wimsey, #12)"
                                },
                                {
                                    "average_rating": "4.5",
                                    "title": "Kings Rising (Captive Prince, #3)"
                                },
                                {
                                    "average_rating": "4.39",
                                    "title": "I Love You Through and Through"
                                },
                                {
                                    "average_rating": "4.26",
                                    "title": "Black Dawn (The Morganville Vampires, #12)"
                                },
                                {
                                    "average_rating": "4.21",
                                    "title": "Parable of the Talents (Earthseed, #2)"
                                },
                                {
                                    "average_rating": "4.5",
                                    "title": "Locke & Key, Vol. 6: Alpha & Omega"
                                },
                                {
                                    "average_rating": "4.28",
                                    "title": "The Country Mouse and the City Mouse; The Fox and the Crow; The Dog and His Bone"
                                },
                                {
                                    "average_rating": "4.37",
                                    "title": "The Assassin and the Underworld (Throne of Glass, #0.4)"
                                },
                                {
                                    "average_rating": "4.36",
                                    "title": "Infamous (Chronicles of Nick, #3)"
                                },
                                {
                                    "average_rating": "4.49",
                                    "title": "Reunion (Redemption, #5)"
                                },
                                {
                                    "average_rating": "4.42",
                                    "title": "H.M.S. Surprise"
                                },
                                {
                                    "average_rating": "4.29",
                                    "title": "Strangers in Death (In Death, #26)"
                                },
                                {
                                    "average_rating": "4.46",
                                    "title": "The Complete Adventures of Peter Rabbit"
                                },
                                {
                                    "average_rating": "4.48",
                                    "title": "A Charlie Brown Christmas"
                                },
                                {
                                    "average_rating": "4.21",
                                    "title": "Sin City: Una Dura Despedida, #1 de 3"
                                },
                                {
                                    "average_rating": "4.22",
                                    "title": "Hostage to Pleasure (Psy-Changeling, #5)"
                                },
                                {
                                    "average_rating": "4.23",
                                    "title": "Random Family: Love, Drugs, Trouble, and Coming of Age in the Bronx"
                                },
                                {
                                    "average_rating": "4.28",
                                    "title": "Old School (Diary of a Wimpy Kid, #10)"
                                },
                                {
                                    "average_rating": "4.43",
                                    "title": "Avatar: The Last Airbender (The Promise, #2)"
                                },
                                {
                                    "average_rating": "4.3",
                                    "title": "Little Bear's Friend"
                                },
                                {
                                    "average_rating": "4.34",
                                    "title": "The Complete Works of H.P. Lovecraft"
                                },
                                {
                                    "average_rating": "4.26",
                                    "title": "You Were Mine (Rosemary Beach, #9)"
                                },
                                {
                                    "average_rating": "4.58",
                                    "title": "The Annotated Sherlock Holmes: The Four Novels and the Fifty-Six Short Stories Complete (2 Volume Set)"
                                },
                                {
                                    "average_rating": "4.3",
                                    "title": "Devil's Game (Reapers MC, #3)"
                                },
                                {
                                    "average_rating": "4.22",
                                    "title": "There's a Nightmare in My Closet"
                                },
                                {
                                    "average_rating": "4.43",
                                    "title": "Breaking Free: Discover the Victory of Total Surrender"
                                },
                                {
                                    "average_rating": "4.28",
                                    "title": "Out to Canaan (Mitford Years, #4)"
                                },
                                {
                                    "average_rating": "4.28",
                                    "title": "Thankless in Death (In Death, #37)"
                                },
                                {
                                    "average_rating": "4.29",
                                    "title": "Will You Please Be Quiet, Please?"
                                },
                                {
                                    "average_rating": "4.4",
                                    "title": "The Selected Poetry of Rainer Maria Rilke"
                                },
                                {
                                    "average_rating": "4.21",
                                    "title": "Eternal Rider (Lords of Deliverance, #1, Demonica, #6)"
                                },
                                {
                                    "average_rating": "4.25",
                                    "title": "Concealed in Death (In Death, #38)"
                                },
                                {
                                    "average_rating": "4.32",
                                    "title": "Women's Bodies, Women's Wisdom: Creating Physical and Emotional Health and Healing"
                                },
                                {
                                    "average_rating": "4.21",
                                    "title": "Planetary, Volume 1: All Over the World and Other Stories"
                                },
                                {
                                    "average_rating": "4.47",
                                    "title": "The Green Mile, Part 2: The Mouse on the Mile"
                                },
                                {
                                    "average_rating": "4.48",
                                    "title": "Assata: An Autobiography"
                                },
                                {
                                    "average_rating": "4.76",
                                    "title": "Mark of the Lion Trilogy"
                                },
                                {
                                    "average_rating": "4.41",
                                    "title": "The Weight of Glory"
                                },
                                {
                                    "average_rating": "4.25",
                                    "title": "There are No Children Here: The Story of Two Boys Growing Up in the Other America"
                                },
                                {
                                    "average_rating": "4.22",
                                    "title": "Happily Ever After (The Selection, #0.4, 0.5, 2.5, 2.6)"
                                },
                                {
                                    "average_rating": "4.4",
                                    "title": "Transmetropolitan, Vol. 5: Lonely City (Transmetropolitan, #5)"
                                },
                                {
                                    "average_rating": "4.34",
                                    "title": "Fruits Basket, Vol. 2"
                                },
                                {
                                    "average_rating": "4.22",
                                    "title": "Wait for It"
                                },
                                {
                                    "average_rating": "4.28",
                                    "title": "The Book on the Taboo Against Knowing Who You Are"
                                },
                                {
                                    "average_rating": "4.28",
                                    "title": "Up from the Grave (Night Huntress, #7)"
                                },
                                {
                                    "average_rating": "4.29",
                                    "title": "The Blood Mirror (Lightbringer, #4)"
                                },
                                {
                                    "average_rating": "4.34",
                                    "title": "Her Daughter's Dream (Marta's Legacy, #2)"
                                },
                                {
                                    "average_rating": "4.46",
                                    "title": "Rock Chick Revolution (Rock Chick, #8)"
                                },
                                {
                                    "average_rating": "4.24",
                                    "title": "Each Peach Pear Plum"
                                },
                                {
                                    "average_rating": "4.24",
                                    "title": "The Phoenix Project: A Novel About IT, DevOps, and Helping Your Business Win"
                                },
                                {
                                    "average_rating": "4.5",
                                    "title": "Humans of New York"
                                },
                                {
                                    "average_rating": "4.39",
                                    "title": "Red Notice: A True Story of High Finance, Murder, and One Man’s Fight for Justice"
                                },
                                {
                                    "average_rating": "4.63",
                                    "title": "The Divan"
                                },
                                {
                                    "average_rating": "4.36",
                                    "title": "Twelfth Grade Kills (The Chronicles of Vladimir Tod, #5)"
                                },
                                {
                                    "average_rating": "4.22",
                                    "title": "A. Lincoln"
                                },
                                {
                                    "average_rating": "4.41",
                                    "title": "Four Great Tragedies: Hamlet / Othello / King Lear / Macbeth"
                                },
                                {
                                    "average_rating": "4.24",
                                    "title": "If I Stay Collection (If I Stay, #1-2)"
                                },
                                {
                                    "average_rating": "4.52",
                                    "title": "Rita Hayworth and Shawshank Redemption: A Story from Different Seasons"
                                },
                                {
                                    "average_rating": "4.71",
                                    "title": "The Revenge of the Baby-Sat"
                                },
                                {
                                    "average_rating": "4.37",
                                    "title": "Fables, Vol. 10: The Good Prince"
                                },
                                {
                                    "average_rating": "4.47",
                                    "title": "Fallen Crest Public (Fallen Crest High, #3)"
                                },
                                {
                                    "average_rating": "4.24",
                                    "title": "Dispatches"
                                },
                                {
                                    "average_rating": "4.42",
                                    "title": "The Path to Power (The Years of Lyndon Johnson, #1)"
                                },
                                {
                                    "average_rating": "4.38",
                                    "title": "Love You to Death: The Unofficial Companion to the Vampire Diaries"
                                },
                                {
                                    "average_rating": "4.28",
                                    "title": "Play of Passion (Psy-Changeling #9)"
                                },
                                {
                                    "average_rating": "4.29",
                                    "title": "Angels in America"
                                },
                                {
                                    "average_rating": "4.3",
                                    "title": "The Will (Magdalene, #1)"
                                },
                                {
                                    "average_rating": "4.54",
                                    "title": "A Grimm Warning (The Land of Stories, #3)"
                                },
                                {
                                    "average_rating": "4.25",
                                    "title": "Never Love a Highlander (McCabe Trilogy, #3)"
                                },
                                {
                                    "average_rating": "4.31",
                                    "title": "The Pragmatic Programmer: From Journeyman to Master"
                                },
                                {
                                    "average_rating": "4.36",
                                    "title": "Y: The Last Man - The Deluxe Edition Book One"
                                },
                                {
                                    "average_rating": "4.31",
                                    "title": "Unattainable (Undeniable, #3)"
                                },
                                {
                                    "average_rating": "4.25",
                                    "title": "Vampire Chronicles: Interview with the Vampire, The Vampire Lestat, The Queen of the Damned (Anne Rice)"
                                },
                                {
                                    "average_rating": "4.28",
                                    "title": "Hot Ticket (Sinners on Tour, #3)"
                                },
                                {
                                    "average_rating": "4.4",
                                    "title": "Harry Potter Schoolbooks Box Set: Two Classic Books from the Library of Hogwarts School of Witchcraft and Wizardry"
                                },
                                {
                                    "average_rating": "4.21",
                                    "title": "The Infernal Devices: Clockwork Angel (The Infernal Devices: Manga, #1)"
                                },
                                {
                                    "average_rating": "4.38",
                                    "title": "Sixth Grave on the Edge (Charley Davidson, #6)"
                                },
                                {
                                    "average_rating": "4.4",
                                    "title": "The Royal Ranger (Ranger's Apprentice, #12)"
                                },
                                {
                                    "average_rating": "4.26",
                                    "title": "The Lord of the Rings Sketchbook"
                                },
                                {
                                    "average_rating": "4.43",
                                    "title": "Shadows over Innsmouth"
                                },
                                {
                                    "average_rating": "4.27",
                                    "title": "Bite Me If You Can (Argeneau #6)"
                                },
                                {
                                    "average_rating": "4.46",
                                    "title": "The Golden Dynasty (Fantasyland, #2)"
                                },
                                {
                                    "average_rating": "4.32",
                                    "title": "The Folk of the Faraway Tree (The Faraway Tree, #3)"
                                },
                                {
                                    "average_rating": "4.71",
                                    "title": "Preach My Gospel: A Guide To Missionary Service"
                                },
                                {
                                    "average_rating": "4.27",
                                    "title": "Like a Fire Burning (The Work and the Glory, #2)"
                                },
                                {
                                    "average_rating": "4.21",
                                    "title": "Friends and Lovers"
                                },
                                {
                                    "average_rating": "4.39",
                                    "title": "Death Note, Vol. 6: Give-and-Take (Death Note, #6)"
                                },
                                {
                                    "average_rating": "4.23",
                                    "title": "When Crickets Cry"
                                },
                                {
                                    "average_rating": "4.3",
                                    "title": "Until Lilly (Until, #3)"
                                },
                                {
                                    "average_rating": "4.22",
                                    "title": "Bambi"
                                },
                                {
                                    "average_rating": "4.48",
                                    "title": "The Complete Tales and Poems"
                                },
                                {
                                    "average_rating": "4.27",
                                    "title": "When Christ and His Saints Slept  (Henry II & Eleanor of Aquitaine, #1)"
                                },
                                {
                                    "average_rating": "4.33",
                                    "title": "Pinocchio"
                                },
                                {
                                    "average_rating": "4.47",
                                    "title": "The Complete Short Novels"
                                },
                                {
                                    "average_rating": "4.28",
                                    "title": "The Berenstain Bears Go to School"
                                },
                                {
                                    "average_rating": "4.28",
                                    "title": "Curious George Takes a Job"
                                },
                                {
                                    "average_rating": "4.25",
                                    "title": "Unhinged (Splintered, #2)"
                                },
                                {
                                    "average_rating": "4.39",
                                    "title": "Streams in the Desert"
                                },
                                {
                                    "average_rating": "4.52",
                                    "title": "Carrie / 'Salem's Lot / The Shining"
                                },
                                {
                                    "average_rating": "4.67",
                                    "title": "The Way of Kings, Part 1 (The Stormlight Archive #1.1)"
                                },
                                {
                                    "average_rating": "4.45",
                                    "title": "Dark Days (Skulduggery Pleasant, #4)"
                                },
                                {
                                    "average_rating": "4.5",
                                    "title": "The Green Mile, Part 3: Coffey's Hands"
                                },
                                {
                                    "average_rating": "4.32",
                                    "title": "If I Die (Soul Screamers, #5)"
                                },
                                {
                                    "average_rating": "4.33",
                                    "title": "Amazing Grace"
                                },
                                {
                                    "average_rating": "4.44",
                                    "title": "Ouran High School Host Club, Vol. 3 (Ouran High School Host Club, #3)"
                                },
                                {
                                    "average_rating": "4.35",
                                    "title": "On the Night You Were Born"
                                },
                                {
                                    "average_rating": "4.25",
                                    "title": "Justice: What's the Right Thing to Do?"
                                },
                                {
                                    "average_rating": "4.26",
                                    "title": "13 Hours: The Inside Account of What Really Happened In Benghazi"
                                },
                                {
                                    "average_rating": "4.59",
                                    "title": "City of Bones / City of Ashes / City of Glass / City of Fallen Angels / City of Lost Souls (The Mortal Instruments, #1-5)"
                                },
                                {
                                    "average_rating": "4.27",
                                    "title": "Roller Girl"
                                },
                                {
                                    "average_rating": "4.28",
                                    "title": "Ghost Wars: The Secret History of the CIA, Afghanistan, and bin Laden from the Soviet Invasion to September 10, 2001"
                                },
                                {
                                    "average_rating": "4.38",
                                    "title": "Bone: Tall Tales"
                                },
                                {
                                    "average_rating": "4.31",
                                    "title": "Peace Child: An Unforgettable Story of Primitive Jungle Treachery in the 20th Century"
                                },
                                {
                                    "average_rating": "4.26",
                                    "title": "Second Shift: Order (Shift, #2)"
                                },
                                {
                                    "average_rating": "4.25",
                                    "title": "Curious George Visits the Library"
                                },
                                {
                                    "average_rating": "4.3",
                                    "title": "Truth Will Prevail (The Work and the Glory, #3)"
                                },
                                {
                                    "average_rating": "4.39",
                                    "title": "Fruits Basket, Vol. 4"
                                },
                                {
                                    "average_rating": "4.25",
                                    "title": "How I Raised Myself from Failure to Success in Selling"
                                },
                                {
                                    "average_rating": "4.45",
                                    "title": "Wicked - Piano/Vocal Arrangement"
                                },
                                {
                                    "average_rating": "4.36",
                                    "title": "Kulti"
                                },
                                {
                                    "average_rating": "4.24",
                                    "title": "The Fifth Dominion (Imajica Part #1/2)"
                                },
                                {
                                    "average_rating": "4.34",
                                    "title": "The Pagan Lord (The Saxon Stories, #7)"
                                },
                                {
                                    "average_rating": "4.25",
                                    "title": "See You at the Top"
                                },
                                {
                                    "average_rating": "4.25",
                                    "title": "In the Clearing (Tracy Crosswhite, #3)"
                                },
                                {
                                    "average_rating": "4.23",
                                    "title": "Staked (The Iron Druid Chronicles, #8)"
                                },
                                {
                                    "average_rating": "4.45",
                                    "title": "Harry Potter and Philosophy: If Aristotle Ran Hogwarts"
                                },
                                {
                                    "average_rating": "4.22",
                                    "title": "Do No Harm: Stories of Life, Death and Brain Surgery"
                                },
                                {
                                    "average_rating": "4.29",
                                    "title": "Dark Destiny (Dark, #13)"
                                },
                                {
                                    "average_rating": "4.32",
                                    "title": "The Auschwitz Escape"
                                },
                                {
                                    "average_rating": "4.28",
                                    "title": "One Flew Over the Cuckoo's Nest"
                                },
                                {
                                    "average_rating": "4.31",
                                    "title": "Ever After (Lost Love, #2)"
                                },
                                {
                                    "average_rating": "4.29",
                                    "title": "The Dark Is Rising Sequence  (The Dark Is Rising #1-5)"
                                },
                                {
                                    "average_rating": "4.4",
                                    "title": "The Healer (O'Malley #5)"
                                },
                                {
                                    "average_rating": "4.4",
                                    "title": "The Guardian (O'Malley #2)"
                                },
                                {
                                    "average_rating": "4.54",
                                    "title": "Ouran High School Host Club, Vol. 15 (Ouran High School Host Club, #15)"
                                },
                                {
                                    "average_rating": "4.23",
                                    "title": "キスよりも早く1 [Kisu Yorimo Hayaku 1] (Faster than a Kiss #1)"
                                },
                                {
                                    "average_rating": "4.29",
                                    "title": "Artemis Fowl Boxed Set, Bks 1-5 (Artemis Fowl, #1-5)"
                                },
                                {
                                    "average_rating": "4.26",
                                    "title": "The Field of Swords (Emperor, #3)"
                                },
                                {
                                    "average_rating": "4.38",
                                    "title": "The Protector (O'Malley #4)"
                                },
                                {
                                    "average_rating": "4.37",
                                    "title": "The Wheel of Time: Boxed Set  (Wheel of Time, #1-8)"
                                },
                                {
                                    "average_rating": "4.4",
                                    "title": "Diary ng Panget"
                                },
                                {
                                    "average_rating": "4.55",
                                    "title": "The Green Mile, Part 6: Coffey on the Mile"
                                },
                                {
                                    "average_rating": "4.27",
                                    "title": "Miles to Go (The Walk, #2)"
                                },
                                {
                                    "average_rating": "4.29",
                                    "title": "No Place to Run (KGI, #2)"
                                },
                                {
                                    "average_rating": "4.33",
                                    "title": "The Dragonslayer (Bone, #4)"
                                },
                                {
                                    "average_rating": "4.21",
                                    "title": "Rain Reign"
                                },
                                {
                                    "average_rating": "4.52",
                                    "title": "Avatar Volume 1: The Last Airbender (Avatar #1)"
                                },
                                {
                                    "average_rating": "4.29",
                                    "title": "Deeper Than Midnight (Midnight Breed, #9)"
                                },
                                {
                                    "average_rating": "4.21",
                                    "title": "Mercy Blade (Jane Yellowrock, #3)"
                                },
                                {
                                    "average_rating": "4.25",
                                    "title": "Skippyjon Jones in Mummy Trouble (Skippyjon Jones, #3)"
                                },
                                {
                                    "average_rating": "4.28",
                                    "title": "Hairy Maclary from Donaldson's Dairy"
                                },
                                {
                                    "average_rating": "4.23",
                                    "title": "The Incredible Hulk: Planet Hulk"
                                },
                                {
                                    "average_rating": "4.25",
                                    "title": "Rumors of War (Children of the Promise, #1)"
                                },
                                {
                                    "average_rating": "4.32",
                                    "title": "In This Mountain (Mitford Years, #7)"
                                },
                                {
                                    "average_rating": "4.46",
                                    "title": "Fruits Basket, Vol. 14"
                                },
                                {
                                    "average_rating": "4.27",
                                    "title": "Hawkeye, Volume 2: Little Hits"
                                },
                                {
                                    "average_rating": "4.27",
                                    "title": "Hands Of Light"
                                },
                                {
                                    "average_rating": "4.28",
                                    "title": "A Series of Unfortunate Events Box: The Complete Wreck (Books 1-13)"
                                },
                                {
                                    "average_rating": "4.32",
                                    "title": "Independence (Significance, #4)"
                                },
                                {
                                    "average_rating": "4.56",
                                    "title": "Gemina (The Illuminae Files, #2)"
                                },
                                {
                                    "average_rating": "4.26",
                                    "title": "Any Human Heart"
                                },
                                {
                                    "average_rating": "4.41",
                                    "title": "Fifty Shades Duo: Fifty Shades Darker / Fifty Shades Freed (Fifty Shades, #2-3)"
                                },
                                {
                                    "average_rating": "4.26",
                                    "title": "Festive in Death (In Death, #39)"
                                },
                                {
                                    "average_rating": "4.23",
                                    "title": "The Penderwicks on Gardam Street (The Penderwicks, #2)"
                                },
                                {
                                    "average_rating": "4.23",
                                    "title": "A Bite to Remember (Argeneau #5)"
                                },
                                {
                                    "average_rating": "4.23",
                                    "title": "Just a Mess (Little Critter)"
                                },
                                {
                                    "average_rating": "4.29",
                                    "title": "The Gods of War (Emperor, #4)"
                                },
                                {
                                    "average_rating": "4.36",
                                    "title": "The Obelisk Gate (The Broken Earth, #2)"
                                },
                                {
                                    "average_rating": "4.32",
                                    "title": "Counterfeit Gods: The Empty Promises of Money, Sex, and Power, and the Only Hope that Matters"
                                },
                                {
                                    "average_rating": "4.24",
                                    "title": "Beyond Band of Brothers: The War Memoirs of Major Dick Winters"
                                },
                                {
                                    "average_rating": "4.24",
                                    "title": "Honor Among Enemies (Honor Harrington, #6)"
                                },
                                {
                                    "average_rating": "4.33",
                                    "title": "Obsession in Death (In Death, #40)"
                                },
                                {
                                    "average_rating": "4.33",
                                    "title": "Crush"
                                },
                                {
                                    "average_rating": "4.33",
                                    "title": "Until Nico (Until, #4)"
                                },
                                {
                                    "average_rating": "4.45",
                                    "title": "Fruits Basket, Vol. 15"
                                },
                                {
                                    "average_rating": "4.32",
                                    "title": "Plenty"
                                },
                                {
                                    "average_rating": "4.25",
                                    "title": "Vicious (Sinners of Saint, #1)"
                                },
                                {
                                    "average_rating": "4.52",
                                    "title": "Attack on Titan: No Regrets, Volume 01"
                                },
                                {
                                    "average_rating": "4.72",
                                    "title": "Attack of the Deranged Mutant Killer Monster Snow Goons"
                                },
                                {
                                    "average_rating": "4.62",
                                    "title": "The Hate U Give"
                                },
                                {
                                    "average_rating": "4.21",
                                    "title": "المانيفستو"
                                },
                                {
                                    "average_rating": "4.24",
                                    "title": "Dynasty of Evil (Star Wars: Darth Bane, #3)"
                                },
                                {
                                    "average_rating": "4.22",
                                    "title": "Flag in Exile (Honor Harrington, #5)"
                                },
                                {
                                    "average_rating": "4.37",
                                    "title": "Berserk, Vol. 1 (Berserk, #1)"
                                },
                                {
                                    "average_rating": "4.34",
                                    "title": "Egomaniac"
                                },
                                {
                                    "average_rating": "4.25",
                                    "title": "Scaredy Squirrel (Scaredy Squirrel)"
                                },
                                {
                                    "average_rating": "4.33",
                                    "title": "Gathering Darkness (Falling Kingdoms, #3)"
                                },
                                {
                                    "average_rating": "4.47",
                                    "title": "Soul Eater, Vol. 02 (Soul Eater, #2)"
                                },
                                {
                                    "average_rating": "4.34",
                                    "title": "Fame (Firstborn, #1)"
                                },
                                {
                                    "average_rating": "4.41",
                                    "title": "Transmetropolitan, Vol. 4: The New Scum (Transmetropolitan, #4)"
                                },
                                {
                                    "average_rating": "4.34",
                                    "title": "Truce (Neighbor from Hell, #4)"
                                },
                                {
                                    "average_rating": "4.32",
                                    "title": "Vampire, Interrupted (Argeneau #9)"
                                },
                                {
                                    "average_rating": "4.24",
                                    "title": "Hello, Mrs. Piggle-Wiggle (Mrs. Piggle Wiggle, #4)"
                                },
                                {
                                    "average_rating": "4.26",
                                    "title": "The Secret of the Unicorn (Tintin, #11)"
                                },
                                {
                                    "average_rating": "4.26",
                                    "title": "The Gay Science"
                                },
                                {
                                    "average_rating": "4.38",
                                    "title": "Fruits Basket, Vol. 3"
                                },
                                {
                                    "average_rating": "4.25",
                                    "title": "Fantasy in Death (In Death, #30)"
                                },
                                {
                                    "average_rating": "4.3",
                                    "title": "The Places That Scare You: A Guide to Fearlessness in Difficult Times"
                                },
                                {
                                    "average_rating": "4.25",
                                    "title": "Lost Stars (Star Wars: Journey to the Force Awakens)"
                                },
                                {
                                    "average_rating": "4.34",
                                    "title": "Hard Limit (Hacker, #4)"
                                },
                                {
                                    "average_rating": "4.57",
                                    "title": "Magic Binds (Kate Daniels, #9)"
                                },
                                {
                                    "average_rating": "4.24",
                                    "title": "The River Why"
                                },
                                {
                                    "average_rating": "4.27",
                                    "title": "The Fall of Berlin 1945"
                                },
                                {
                                    "average_rating": "4.48",
                                    "title": "UnDivided (Unwind, #4)"
                                },
                                {
                                    "average_rating": "4.22",
                                    "title": "Economics in One Lesson: The Shortest & Surest Way to Understand Basic Economics"
                                },
                                {
                                    "average_rating": "4.37",
                                    "title": "Darker After Midnight (Midnight Breed, #10)"
                                },
                                {
                                    "average_rating": "4.25",
                                    "title": "Mad Dogs (Cherub, #8)"
                                },
                                {
                                    "average_rating": "4.28",
                                    "title": "Percy Jackson and the Sword of Hades (Percy Jackson and the Olympians, #4.5)"
                                },
                                {
                                    "average_rating": "4.23",
                                    "title": "The Walking Dead, Vol. 13: Too Far Gone"
                                },
                                {
                                    "average_rating": "4.31",
                                    "title": "Kindred in Death (In Death, #29)"
                                },
                                {
                                    "average_rating": "4.41",
                                    "title": "The Story of Ruby Bridges"
                                },
                                {
                                    "average_rating": "4.39",
                                    "title": "Stand Tall, Molly Lou Melon"
                                },
                                {
                                    "average_rating": "4.34",
                                    "title": "The Complete Robot (Robot #0.3)"
                                },
                                {
                                    "average_rating": "4.22",
                                    "title": "Wild Seed (Patternmaster, #1)"
                                },
                                {
                                    "average_rating": "4.46",
                                    "title": "The Summer I Turned Pretty Trilogy: The Summer I Turned Pretty; It's Not Summer Without You; We'll Always Have Summer"
                                },
                                {
                                    "average_rating": "4.48",
                                    "title": "Mortal Coil (Skulduggery Pleasant, #5)"
                                },
                                {
                                    "average_rating": "4.4",
                                    "title": "Seventh Grave and No Body (Charley Davidson, #7)"
                                },
                                {
                                    "average_rating": "4.29",
                                    "title": "Necronomicon: The Best Weird Tales"
                                },
                                {
                                    "average_rating": "4.53",
                                    "title": "Maid-sama! Vol. 02 (Maid-sama! #2)"
                                },
                                {
                                    "average_rating": "4.33",
                                    "title": "Batman, Volume 3: Death of the Family"
                                },
                                {
                                    "average_rating": "4.22",
                                    "title": "Selected Poems"
                                },
                                {
                                    "average_rating": "4.27",
                                    "title": "Hope: A Memoir of Survival in Cleveland"
                                },
                                {
                                    "average_rating": "4.31",
                                    "title": "A Kiss for Little Bear (An I Can Read Book) by Minarik, Else Holmelund [1984]"
                                },
                                {
                                    "average_rating": "4.31",
                                    "title": "Bleach, Volume 03"
                                },
                                {
                                    "average_rating": "4.22",
                                    "title": "The Space Between (Outlander, #7.5)"
                                },
                                {
                                    "average_rating": "4.22",
                                    "title": "Cinderella"
                                },
                                {
                                    "average_rating": "4.31",
                                    "title": "Heartstone (Matthew Shardlake, #5)"
                                },
                                {
                                    "average_rating": "4.63",
                                    "title": "One Piece, Volume 38: Rocketman!! (One Piece, #38)"
                                },
                                {
                                    "average_rating": "4.22",
                                    "title": "The Center Cannot Hold: My Journey Through Madness"
                                },
                                {
                                    "average_rating": "4.23",
                                    "title": "Neighbor Dearest"
                                },
                                {
                                    "average_rating": "4.25",
                                    "title": "Vampires are Forever (Argeneau #8)"
                                },
                                {
                                    "average_rating": "4.48",
                                    "title": "The Lion King (Disney's Wonderful World of Reading)"
                                },
                                {
                                    "average_rating": "4.33",
                                    "title": "Danger in the Shadows (O'Malley #0.5)"
                                },
                                {
                                    "average_rating": "4.25",
                                    "title": "Animal-Speak: The Spiritual & Magical Powers of Creatures Great & Small"
                                },
                                {
                                    "average_rating": "4.31",
                                    "title": "Lake in the Clouds (Wilderness, #3)"
                                },
                                {
                                    "average_rating": "4.39",
                                    "title": "Tyrant (King, #2)"
                                },
                                {
                                    "average_rating": "4.48",
                                    "title": "The Chronicles of Narnia - The Lion, the Witch, and the Wardrobe Official Illustrated Movie Companion"
                                },
                                {
                                    "average_rating": "4.5",
                                    "title": "Humans of New York: Stories"
                                },
                                {
                                    "average_rating": "4.21",
                                    "title": "The Other Side of Dawn (Tomorrow, #7)"
                                },
                                {
                                    "average_rating": "4.23",
                                    "title": "The Tiger Who Came to Tea"
                                },
                                {
                                    "average_rating": "4.43",
                                    "title": "A Civil Campaign (Vorkosigan Saga, #12)"
                                },
                                {
                                    "average_rating": "4.27",
                                    "title": "Vampire Knight, Vol. 3 (Vampire Knight, #3)"
                                },
                                {
                                    "average_rating": "4.24",
                                    "title": "Money, and the Law of Attraction: Learning to Attract Wealth, Health, and Happiness"
                                },
                                {
                                    "average_rating": "4.3",
                                    "title": "Copper Sun"
                                },
                                {
                                    "average_rating": "4.27",
                                    "title": "Dark River (Warriors: Power of Three, #2)"
                                },
                                {
                                    "average_rating": "4.39",
                                    "title": "The Last Council (Amulet, #4)"
                                },
                                {
                                    "average_rating": "4.3",
                                    "title": "Froi of the Exiles (Lumatere Chronicles, #2)"
                                },
                                {
                                    "average_rating": "4.25",
                                    "title": "13 Gifts (Willow Falls, #3)"
                                },
                                {
                                    "average_rating": "4.26",
                                    "title": "Salvation in Death (In Death, #27)"
                                },
                                {
                                    "average_rating": "4.23",
                                    "title": "Death Without Company (Walt Longmire, #2)"
                                },
                                {
                                    "average_rating": "4.45",
                                    "title": "Ouran High School Host Club, Vol. 4 (Ouran High School Host Club, #4)"
                                },
                                {
                                    "average_rating": "4.46",
                                    "title": "Henry's Freedom Box: A True Story from the Underground Railroad"
                                },
                                {
                                    "average_rating": "4.29",
                                    "title": "A Thousand Boy Kisses"
                                },
                                {
                                    "average_rating": "4.51",
                                    "title": "The Green Mile, Part 5: Night Journey"
                                },
                                {
                                    "average_rating": "4.22",
                                    "title": "Bread and   Wine: A Love Letter to Life Around the Table with Recipes"
                                },
                                {
                                    "average_rating": "4.25",
                                    "title": "Parts (Parts, #1)"
                                },
                                {
                                    "average_rating": "4.23",
                                    "title": "Nourishing Traditions: The Cookbook That Challenges Politically Correct Nutrition and the Diet Dictocrats"
                                },
                                {
                                    "average_rating": "4.49",
                                    "title": "Sherlock Holmes and the Case of the Hound of the Baskervilles (Illustrated Classic Editions)"
                                },
                                {
                                    "average_rating": "4.46",
                                    "title": "Rock Bottom (Tristan & Danika, #2)"
                                },
                                {
                                    "average_rating": "4.25",
                                    "title": "Vampire Knight, Vol. 2 (Vampire Knight, #2)"
                                },
                                {
                                    "average_rating": "4.45",
                                    "title": "Ride Steady (Chaos, #3)"
                                },
                                {
                                    "average_rating": "4.4",
                                    "title": "Sherlock Holmes of Baker Street: A Life of the World's First Consulting Detective"
                                },
                                {
                                    "average_rating": "4.31",
                                    "title": "Marked in Flesh (The Others, #4)"
                                },
                                {
                                    "average_rating": "4.34",
                                    "title": "الحرافيش"
                                },
                                {
                                    "average_rating": "4.48",
                                    "title": "Blue exorcist, Tome 2"
                                },
                                {
                                    "average_rating": "4.35",
                                    "title": "Night Light (Restoration #2)"
                                },
                                {
                                    "average_rating": "4.5",
                                    "title": "Out of the Dark (The Grey Wolves, #4)"
                                },
                                {
                                    "average_rating": "4.32",
                                    "title": "The Everafter War (The Sisters Grimm, #7)"
                                },
                                {
                                    "average_rating": "4.25",
                                    "title": "Means of Ascent (The Years of Lyndon Johnson, #2)"
                                },
                                {
                                    "average_rating": "4.35",
                                    "title": "The Mauritius Command"
                                },
                                {
                                    "average_rating": "4.22",
                                    "title": "Y: The Last Man, Vol. 3: One Small Step (Y: The Last Man, #3)"
                                },
                                {
                                    "average_rating": "4.25",
                                    "title": "Bear Snores On"
                                },
                                {
                                    "average_rating": "4.33",
                                    "title": "Bury Your Dead (Chief Inspector Armand Gamache, #6)"
                                },
                                {
                                    "average_rating": "4.38",
                                    "title": "Rising Storm (Warriors, #4)"
                                },
                                {
                                    "average_rating": "4.23",
                                    "title": "The Brutal Telling (Chief Inspector Armand Gamache, #5)"
                                },
                                {
                                    "average_rating": "4.24",
                                    "title": "The Souls of Black Folk"
                                },
                                {
                                    "average_rating": "4.48",
                                    "title": "The Crimson Crown (Seven Realms, #4)"
                                },
                                {
                                    "average_rating": "4.27",
                                    "title": "Eragon & Eldest (Inheritance, #1-2)"
                                },
                                {
                                    "average_rating": "4.36",
                                    "title": "The Wrong Side of Goodbye (Harry Bosch, #21; Harry Bosch Universe, #26)"
                                },
                                {
                                    "average_rating": "4.22",
                                    "title": "Barbarians at the Gate: The Fall of RJR Nabisco"
                                },
                                {
                                    "average_rating": "4.27",
                                    "title": "My Family and Other Animals (Corfu Trilogy, #1)"
                                },
                                {
                                    "average_rating": "4.3",
                                    "title": "Cathedral"
                                },
                                {
                                    "average_rating": "4.41",
                                    "title": "Fantastic Beasts and Where to Find Them: The Original Screenplay"
                                },
                                {
                                    "average_rating": "4.26",
                                    "title": "The Body"
                                },
                                {
                                    "average_rating": "4.25",
                                    "title": "Chicken Soup with Rice: A Book of Months (The Nutshell Library)"
                                },
                                {
                                    "average_rating": "4.3",
                                    "title": "Hunted (The Iron Druid Chronicles, #6)"
                                },
                                {
                                    "average_rating": "4.55",
                                    "title": "The Complete Novels"
                                },
                                {
                                    "average_rating": "4.32",
                                    "title": "Pale Blue Dot: A Vision of the Human Future in Space"
                                },
                                {
                                    "average_rating": "4.25",
                                    "title": "Simple Perfection (Rosemary Beach, #6; Perfection, #2)"
                                },
                                {
                                    "average_rating": "4.29",
                                    "title": "Scorpia Rising (Alex Rider #9)"
                                },
                                {
                                    "average_rating": "4.25",
                                    "title": "Journey to the End of the Night"
                                },
                                {
                                    "average_rating": "4.29",
                                    "title": "Stalingrad: The Fateful Siege, 1942–1943"
                                },
                                {
                                    "average_rating": "4.21",
                                    "title": "Beast Master, Vol. 1 (Beast Master, #1)"
                                },
                                {
                                    "average_rating": "4.28",
                                    "title": "The Defector (Gabriel Allon, #9)"
                                },
                                {
                                    "average_rating": "4.21",
                                    "title": "Unlimited Power : The New Science Of Personal Achievement"
                                },
                                {
                                    "average_rating": "4.59",
                                    "title": "BookRags Summary:  A Storm of Swords"
                                },
                                {
                                    "average_rating": "4.29",
                                    "title": "Written in Red (The Others, #1)"
                                },
                                {
                                    "average_rating": "4.21",
                                    "title": "Gregor and the Marks of Secret (Underland Chronicles, #4)"
                                },
                                {
                                    "average_rating": "4.39",
                                    "title": "The Prodigal God: Recovering the Heart of the Christian Faith"
                                },
                                {
                                    "average_rating": "4.32",
                                    "title": "A Deepness in the Sky (Zones of Thought, #2)"
                                },
                                {
                                    "average_rating": "4.4",
                                    "title": "Gates of Fire: An Epic Novel of the Battle of Thermopylae"
                                },
                                {
                                    "average_rating": "4.23",
                                    "title": "Gabriel's Redemption (Gabriel's Inferno, #3)"
                                },
                                {
                                    "average_rating": "4.33",
                                    "title": "Scott Pilgrim, Volume 5: Scott Pilgrim Vs. the Universe"
                                },
                                {
                                    "average_rating": "4.26",
                                    "title": "Leave Me Breathless (Ross Siblings, #3)"
                                },
                                {
                                    "average_rating": "4.33",
                                    "title": "Play (Stage Dive, #2)"
                                },
                                {
                                    "average_rating": "4.39",
                                    "title": "Twilight and Philosophy: Vampires, Vegetarians, and the Pursuit of Immortality"
                                },
                                {
                                    "average_rating": "4.25",
                                    "title": "D-Day, June 6, 1944: The Battle for the Normandy Beaches"
                                },
                                {
                                    "average_rating": "4.23",
                                    "title": "A Long Walk to Water: Based on a True Story"
                                },
                                {
                                    "average_rating": "4.4",
                                    "title": "Light (Gone, #6)"
                                },
                                {
                                    "average_rating": "4.26",
                                    "title": "Rapture in Death (In Death, #4)"
                                },
                                {
                                    "average_rating": "4.38",
                                    "title": "Whispers at Moonrise (Shadow Falls, #4)"
                                },
                                {
                                    "average_rating": "4.42",
                                    "title": "A Dangerous Path (Warriors, #5)"
                                },
                                {
                                    "average_rating": "4.26",
                                    "title": "Bloodhound (Beka Cooper, #2)"
                                },
                                {
                                    "average_rating": "4.42",
                                    "title": "The Night Angel Trilogy (Night Angel, #1-3)"
                                },
                                {
                                    "average_rating": "4.66",
                                    "title": "The Holy Bible: English Standard Version"
                                },
                                {
                                    "average_rating": "4.34",
                                    "title": "Unleash the Night (Dark Hunter, #8; Were-Hunter, #2)"
                                },
                                {
                                    "average_rating": "4.27",
                                    "title": "Be Here Now"
                                },
                                {
                                    "average_rating": "4.34",
                                    "title": "Genghis: Birth of an Empire (Conqueror, #1)"
                                },
                                {
                                    "average_rating": "4.35",
                                    "title": "Kiss of a Demon King (Immortals After Dark #7)"
                                },
                                {
                                    "average_rating": "4.42",
                                    "title": "The Bonehunters (Malazan Book of the Fallen, #6)"
                                },
                                {
                                    "average_rating": "4.32",
                                    "title": "Battle Cry of Freedom"
                                },
                                {
                                    "average_rating": "4.36",
                                    "title": "The Little Mermaid"
                                },
                                {
                                    "average_rating": "4.34",
                                    "title": "Because of Mr. Terupt"
                                },
                                {
                                    "average_rating": "4.25",
                                    "title": "One Grave at a Time (Night Huntress, #6)"
                                },
                                {
                                    "average_rating": "4.4",
                                    "title": "Apollyon (Covenant, #4)"
                                },
                                {
                                    "average_rating": "4.35",
                                    "title": "Complete Poems, 1904-1962"
                                },
                                {
                                    "average_rating": "4.26",
                                    "title": "The Rembrandt Affair (Gabriel Allon, #10)"
                                },
                                {
                                    "average_rating": "4.22",
                                    "title": "The Ruby Circle (Bloodlines, #6)"
                                },
                                {
                                    "average_rating": "4.24",
                                    "title": "Where the Mountain Meets the Moon"
                                },
                                {
                                    "average_rating": "4.51",
                                    "title": "Father Mine (Black Dagger Brotherhood, #6.5)"
                                },
                                {
                                    "average_rating": "4.34",
                                    "title": "Peace Is Every Step: The Path of Mindfulness in Everyday Life"
                                },
                                {
                                    "average_rating": "4.3",
                                    "title": "Electric Daisy, Vol. 1 (Dengeki Daisy, #1)"
                                },
                                {
                                    "average_rating": "4.21",
                                    "title": "Eternal Kiss of Darkness (Night Huntress World, #2)"
                                },
                                {
                                    "average_rating": "4.27",
                                    "title": "The Missing Piece"
                                },
                                {
                                    "average_rating": "4.27",
                                    "title": "Freedom™ (Daemon, #2)"
                                },
                                {
                                    "average_rating": "4.63",
                                    "title": "Jesus the Christ"
                                },
                                {
                                    "average_rating": "4.49",
                                    "title": "Disney's the Lion King"
                                },
                                {
                                    "average_rating": "4.29",
                                    "title": "Fables, Vol. 4: March of the Wooden Soldiers"
                                },
                                {
                                    "average_rating": "4.27",
                                    "title": "Preacher, Volume 3: Proud Americans"
                                },
                                {
                                    "average_rating": "4.24",
                                    "title": "Madeline's Rescue"
                                },
                                {
                                    "average_rating": "4.38",
                                    "title": "A Perfect Blood (The Hollows, #10)"
                                },
                                {
                                    "average_rating": "4.23",
                                    "title": "Joni: An Unforgettable Story"
                                },
                                {
                                    "average_rating": "4.29",
                                    "title": "Second Grave on the Left (Charley Davidson, #2)"
                                },
                                {
                                    "average_rating": "4.29",
                                    "title": "We Were Soldiers Once... and Young: Ia Drang - The Battle that Changed the War in Vietnam"
                                },
                                {
                                    "average_rating": "4.57",
                                    "title": "Percy Jackson and the Olympians Boxed Set (Percy Jackson and the Olympians, #1-5)"
                                },
                                {
                                    "average_rating": "4.25",
                                    "title": "Trials of Death (Cirque Du Freak, #5)"
                                },
                                {
                                    "average_rating": "4.27",
                                    "title": "The Score (Off-Campus, #3)"
                                },
                                {
                                    "average_rating": "4.26",
                                    "title": "Even Now (Lost Love, #1)"
                                },
                                {
                                    "average_rating": "4.49",
                                    "title": "Magic Rises (Kate Daniels, #6)"
                                },
                                {
                                    "average_rating": "4.3",
                                    "title": "Red: The Heroic Rescue (The Circle, #2)"
                                },
                                {
                                    "average_rating": "4.29",
                                    "title": "A Trick of the Light (Chief Inspector Armand Gamache, #7)"
                                },
                                {
                                    "average_rating": "4.28",
                                    "title": "White Hot Kiss (The Dark Elements, #1)"
                                },
                                {
                                    "average_rating": "4.25",
                                    "title": "At the Mountains of Madness and Other Tales of Terror"
                                },
                                {
                                    "average_rating": "4.34",
                                    "title": "The Complete Stories"
                                },
                                {
                                    "average_rating": "4.49",
                                    "title": "Kürk Mantolu Madonna"
                                },
                                {
                                    "average_rating": "4.43",
                                    "title": "Lothaire (Immortals After Dark #12)"
                                },
                                {
                                    "average_rating": "4.28",
                                    "title": "Knuffle Bunny Too: A Case of Mistaken Identity (Knuffle Bunny, #2)"
                                },
                                {
                                    "average_rating": "4.26",
                                    "title": "Midnight (Warriors: The New Prophecy, #1)"
                                },
                                {
                                    "average_rating": "4.4",
                                    "title": "Promises in Death (In Death, #28)"
                                },
                                {
                                    "average_rating": "4.31",
                                    "title": "The Fifth Season (The Broken Earth, #1)"
                                },
                                {
                                    "average_rating": "4.28",
                                    "title": "The Mysterious Benedict Society and the Prisoner's Dilemma (The Mysterious Benedict Society, #3)"
                                },
                                {
                                    "average_rating": "4.23",
                                    "title": "Orthodoxy"
                                },
                                {
                                    "average_rating": "4.33",
                                    "title": "The Long Haul (Diary of a Wimpy Kid, #9)"
                                },
                                {
                                    "average_rating": "4.32",
                                    "title": "The Negotiator (O'Malley, #1)"
                                },
                                {
                                    "average_rating": "4.34",
                                    "title": "Fair Game (Alpha & Omega, #3)"
                                },
                                {
                                    "average_rating": "4.26",
                                    "title": "The Son of Sobek (Percy Jackson & Kane Chronicles Crossover, #1)"
                                },
                                {
                                    "average_rating": "4.32",
                                    "title": "Passion Unleashed (Demonica #3)"
                                },
                                {
                                    "average_rating": "4.25",
                                    "title": "Just for You (Little Critter)"
                                },
                                {
                                    "average_rating": "4.24",
                                    "title": "Daughter of the Empire (The Empire Trilogy, #1)"
                                },
                                {
                                    "average_rating": "4.39",
                                    "title": "Dreams of a Dark Warrior (Immortals After Dark #11)"
                                },
                                {
                                    "average_rating": "4.22",
                                    "title": "Own the Wind (Chaos, #1)"
                                },
                                {
                                    "average_rating": "4.35",
                                    "title": "Tiger's Voyage (The Tiger Saga, #3)"
                                },
                                {
                                    "average_rating": "4.22",
                                    "title": "The Going-To-Bed Book"
                                },
                                {
                                    "average_rating": "4.26",
                                    "title": "Shadow Divers"
                                },
                                {
                                    "average_rating": "4.26",
                                    "title": "Ceremony in Death (In Death, #5)"
                                },
                                {
                                    "average_rating": "4.27",
                                    "title": "Mila 18"
                                },
                                {
                                    "average_rating": "4.23",
                                    "title": "Bite Club (The Morganville Vampires, #10)"
                                },
                                {
                                    "average_rating": "4.24",
                                    "title": "A Sand County Almanac and Sketches Here and There"
                                },
                                {
                                    "average_rating": "4.21",
                                    "title": "The China Study: The Most Comprehensive Study of Nutrition Ever Conducted And the Startling Implications for Diet, Weight Loss, And Long-term Health"
                                },
                                {
                                    "average_rating": "4.47",
                                    "title": "The Gruffalo"
                                },
                                {
                                    "average_rating": "4.43",
                                    "title": "Tokyo Ghoul, tome 1 (Tokyo Ghoul, #1)"
                                },
                                {
                                    "average_rating": "4.28",
                                    "title": "Sword Song (The Saxon Stories, #4)"
                                },
                                {
                                    "average_rating": "4.38",
                                    "title": "Truth (Consequences, #2)"
                                },
                                {
                                    "average_rating": "4.3",
                                    "title": "We Wish to Inform You That Tomorrow We Will Be Killed with Our Families"
                                },
                                {
                                    "average_rating": "4.25",
                                    "title": "Seeds of Rebellion (Beyonders, #2)"
                                },
                                {
                                    "average_rating": "4.23",
                                    "title": "Chosen Prey (Lucas Davenport, #12)"
                                },
                                {
                                    "average_rating": "4.43",
                                    "title": "Raymond E. Feist's Magician Master"
                                },
                                {
                                    "average_rating": "4.25",
                                    "title": "Bossman"
                                },
                                {
                                    "average_rating": "4.32",
                                    "title": "The Black Dagger Brotherhood: An Insider's Guide"
                                },
                                {
                                    "average_rating": "4.36",
                                    "title": "Locke & Key, Vol. 2: Head Games"
                                },
                                {
                                    "average_rating": "4.25",
                                    "title": "Hopscotch"
                                },
                                {
                                    "average_rating": "4.23",
                                    "title": "Fallen (Will Trent, #5)"
                                },
                                {
                                    "average_rating": "4.27",
                                    "title": "Stars Above (The Lunar Chronicles, #4.5)"
                                },
                                {
                                    "average_rating": "4.27",
                                    "title": "Stories of Your Life and Others"
                                },
                                {
                                    "average_rating": "4.42",
                                    "title": "Sweet Dreams (Colorado Mountain, #2)"
                                },
                                {
                                    "average_rating": "4.25",
                                    "title": "Nicholas and Alexandra"
                                },
                                {
                                    "average_rating": "4.28",
                                    "title": "Her Mother's Hope (Marta's Legacy, #1)"
                                },
                                {
                                    "average_rating": "4.24",
                                    "title": "Slouching Towards Bethlehem"
                                },
                                {
                                    "average_rating": "4.26",
                                    "title": "Addicted"
                                },
                                {
                                    "average_rating": "4.23",
                                    "title": "The Vampire Prince (Cirque Du Freak, #6)"
                                },
                                {
                                    "average_rating": "4.35",
                                    "title": "Perfect (Impulse, #2)"
                                },
                                {
                                    "average_rating": "4.33",
                                    "title": "Play with Me (With Me in Seattle, #3)"
                                },
                                {
                                    "average_rating": "4.37",
                                    "title": "Portrait in Death (In Death, #16)"
                                },
                                {
                                    "average_rating": "4.25",
                                    "title": "Y: The Last Man, Vol. 4: Safeword (Y: The Last Man, #4)"
                                },
                                {
                                    "average_rating": "4.25",
                                    "title": "Y: The Last Man, Vol. 7: Paper Dolls (Y: The Last Man, #7)"
                                },
                                {
                                    "average_rating": "4.23",
                                    "title": "The Walking Dead, Vol. 04: The Heart's Desire"
                                },
                                {
                                    "average_rating": "4.33",
                                    "title": "The Stonekeeper's Curse (Amulet, #2)"
                                },
                                {
                                    "average_rating": "4.68",
                                    "title": "The Days Are Just Packed: A Calvin and Hobbes Collection"
                                },
                                {
                                    "average_rating": "4.21",
                                    "title": "Discipline and Punish: The Birth of the Prison"
                                },
                                {
                                    "average_rating": "4.32",
                                    "title": "Devil May Cry (Dark-Hunter, #11)"
                                },
                                {
                                    "average_rating": "4.44",
                                    "title": "Magician: Apprentice  (Raymond E. Feist's Magician: Apprentice #1)"
                                },
                                {
                                    "average_rating": "4.29",
                                    "title": "A Woman After God's Own Heart"
                                },
                                {
                                    "average_rating": "4.26",
                                    "title": "Twilight: The Graphic Novel, Vol. 2  (Twilight: The Graphic Novel, #2)"
                                },
                                {
                                    "average_rating": "4.23",
                                    "title": "Raw (RAW Family, #1)"
                                },
                                {
                                    "average_rating": "4.31",
                                    "title": "The Great Book of Amber (The Chronicles of Amber, #1-10)"
                                },
                                {
                                    "average_rating": "4.32",
                                    "title": "The Darkest Lie (Lords of the Underworld #6)"
                                },
                                {
                                    "average_rating": "4.32",
                                    "title": "Czas pogardy (Saga o Wiedźminie, #4)"
                                },
                                {
                                    "average_rating": "4.32",
                                    "title": "Paradise (Second Opportunities, #1)"
                                },
                                {
                                    "average_rating": "4.22",
                                    "title": "The Recruit (Cherub, #1)"
                                },
                                {
                                    "average_rating": "4.22",
                                    "title": "Fermat's Enigma: The Epic Quest to Solve the World's Greatest Mathematical Problem"
                                },
                                {
                                    "average_rating": "4.24",
                                    "title": "The Hero With a Thousand Faces"
                                },
                                {
                                    "average_rating": "4.21",
                                    "title": "Bad Blood (Virgil Flowers, #4)"
                                },
                                {
                                    "average_rating": "4.22",
                                    "title": "Police (Harry Hole, #10)"
                                },
                                {
                                    "average_rating": "4.24",
                                    "title": "The Confusion (The Baroque Cycle, #2)"
                                },
                                {
                                    "average_rating": "4.21",
                                    "title": "Hellboy, Vol. 3: The Chained Coffin and Others (Hellboy, #3)"
                                },
                                {
                                    "average_rating": "4.31",
                                    "title": "The Dark Highlander (Highlander, #5)"
                                },
                                {
                                    "average_rating": "4.34",
                                    "title": "The Immortal Highlander (Highlander, #6)"
                                },
                                {
                                    "average_rating": "4.23",
                                    "title": "The Runaway King (The Ascendance Trilogy, #2)"
                                },
                                {
                                    "average_rating": "4.27",
                                    "title": "Y: The Last Man, Vol. 9: Motherland (Y: The Last Man, #9)"
                                },
                                {
                                    "average_rating": "4.43",
                                    "title": "Hunter x Hunter, Vol. 01 (Hunter x Hunter, #1)"
                                },
                                {
                                    "average_rating": "4.34",
                                    "title": "Vengeance in Death (In Death, #6)"
                                },
                                {
                                    "average_rating": "4.65",
                                    "title": "A Game of Thrones: Comic Book, Issue 1"
                                },
                                {
                                    "average_rating": "4.42",
                                    "title": "Where I'm Calling From: New and Selected Stories"
                                },
                                {
                                    "average_rating": "4.23",
                                    "title": "Darke (Septimus Heap, #6)"
                                },
                                {
                                    "average_rating": "4.34",
                                    "title": "Y: The Last Man, Vol. 10: Whys and Wherefores (Y: The Last Man, #10)"
                                },
                                {
                                    "average_rating": "4.54",
                                    "title": "The Constitution of the United States of America"
                                },
                                {
                                    "average_rating": "4.27",
                                    "title": "Hark! A Vagrant"
                                },
                                {
                                    "average_rating": "4.22",
                                    "title": "The Tibetan Book of Living and Dying"
                                },
                                {
                                    "average_rating": "4.27",
                                    "title": "The Soldiers of Halla (Pendragon, #10)"
                                },
                                {
                                    "average_rating": "4.37",
                                    "title": "The Improbable Adventures of Sherlock Holmes"
                                },
                                {
                                    "average_rating": "4.45",
                                    "title": "The Fire Next Time"
                                },
                                {
                                    "average_rating": "4.35",
                                    "title": "Don't Let the Pigeon Stay Up Late!"
                                },
                                {
                                    "average_rating": "4.51",
                                    "title": "Percy Jackson's Greek Gods (A Percy Jackson and the Olympians Guide)"
                                },
                                {
                                    "average_rating": "4.24",
                                    "title": "Undone (Will Trent, #3)"
                                },
                                {
                                    "average_rating": "4.22",
                                    "title": "The Dragonriders of Pern (Dragonriders of Pern, #1-3)"
                                },
                                {
                                    "average_rating": "4.46",
                                    "title": "A Great Reckoning (Chief Inspector Armand Gamache, #12)"
                                },
                                {
                                    "average_rating": "4.29",
                                    "title": "The Burning Land (The Saxon Stories, #5)"
                                },
                                {
                                    "average_rating": "4.25",
                                    "title": "A Color of His Own"
                                },
                                {
                                    "average_rating": "4.31",
                                    "title": "Don't Panic: The Official Hitchhiker's Guide to the Galaxy Companion"
                                },
                                {
                                    "average_rating": "4.25",
                                    "title": "Vicious (Villains, #1)"
                                },
                                {
                                    "average_rating": "4.23",
                                    "title": "The Rent Collector"
                                },
                                {
                                    "average_rating": "4.36",
                                    "title": "Until You (Fall Away, #1.5)"
                                },
                                {
                                    "average_rating": "4.3",
                                    "title": "The Walking Dead, Vol. 05: The Best Defense"
                                },
                                {
                                    "average_rating": "4.24",
                                    "title": "Portrait of a Spy (Gabriel Allon, #11)"
                                },
                                {
                                    "average_rating": "4.22",
                                    "title": "The Crossover"
                                },
                                {
                                    "average_rating": "4.36",
                                    "title": "In The Afterlight (The Darkest Minds, #3)"
                                },
                                {
                                    "average_rating": "4.3",
                                    "title": "Totto-chan: The Little Girl at the Window"
                                },
                                {
                                    "average_rating": "4.38",
                                    "title": "Kamisama Kiss, Vol. 1"
                                },
                                {
                                    "average_rating": "4.45",
                                    "title": "Sherlock Holmes: The Complete Novels and Stories, Volume I"
                                },
                                {
                                    "average_rating": "4.42",
                                    "title": "The Far Side Gallery"
                                },
                                {
                                    "average_rating": "4.26",
                                    "title": "The Eternity Cure (Blood of Eden, #2)"
                                },
                                {
                                    "average_rating": "4.31",
                                    "title": "Holiday in Death (In Death, #7)"
                                },
                                {
                                    "average_rating": "4.4",
                                    "title": "Thief (Love Me with Lies, #3)"
                                },
                                {
                                    "average_rating": "4.25",
                                    "title": "Legend (The Drenai Saga, #1)"
                                },
                                {
                                    "average_rating": "4.24",
                                    "title": "All My Friends Are Dead"
                                },
                                {
                                    "average_rating": "4.41",
                                    "title": "Bleach, Volume 15"
                                },
                                {
                                    "average_rating": "4.37",
                                    "title": "And the Band Played On: Politics, People, and the AIDS Epidemic"
                                },
                                {
                                    "average_rating": "4.27",
                                    "title": "Found in You (Fixed, #2)"
                                },
                                {
                                    "average_rating": "4.23",
                                    "title": "Midnight Rising (Midnight Breed, #4)"
                                },
                                {
                                    "average_rating": "4.22",
                                    "title": "The Feast of the Goat"
                                },
                                {
                                    "average_rating": "4.25",
                                    "title": "Drums, Girls & Dangerous Pie (Drums, Girls & Dangerous Pie, #1)"
                                },
                                {
                                    "average_rating": "4.28",
                                    "title": "The Pursuit of Holiness"
                                },
                                {
                                    "average_rating": "4.25",
                                    "title": "Halo: The Fall of Reach"
                                },
                                {
                                    "average_rating": "4.45",
                                    "title": "Ever After (The Hollows, #11)"
                                },
                                {
                                    "average_rating": "4.66",
                                    "title": "The Calvin and Hobbes Lazy Sunday Book"
                                },
                                {
                                    "average_rating": "4.21",
                                    "title": "Y: The Last Man, Vol. 6: Girl on Girl (Y: The Last Man, #6)"
                                },
                                {
                                    "average_rating": "4.22",
                                    "title": "If You Give a Pig a Party"
                                },
                                {
                                    "average_rating": "4.27",
                                    "title": "Servant of the Empire (The Empire Trilogy, #2)"
                                },
                                {
                                    "average_rating": "4.26",
                                    "title": "This Book Is Full of Spiders: Seriously, Dude, Don't Touch It (John Dies at the End, #2)"
                                },
                                {
                                    "average_rating": "4.25",
                                    "title": "Desire Unchained (Demonica #2)"
                                },
                                {
                                    "average_rating": "4.29",
                                    "title": "The Dhammapada"
                                },
                                {
                                    "average_rating": "4.33",
                                    "title": "Law Man (Dream Man, #3)"
                                },
                                {
                                    "average_rating": "4.38",
                                    "title": "Through Gates of Splendor"
                                },
                                {
                                    "average_rating": "4.22",
                                    "title": "Dirty Red (Love Me with Lies, #2)"
                                },
                                {
                                    "average_rating": "4.24",
                                    "title": "The Hating Game"
                                },
                                {
                                    "average_rating": "4.25",
                                    "title": "Goliath (Leviathan, #3)"
                                },
                                {
                                    "average_rating": "4.22",
                                    "title": "Reborn! Vol. 01: Reborn Arrives! (Reborn!, #1)"
                                },
                                {
                                    "average_rating": "4.21",
                                    "title": "Criminal (Will Trent, #6)"
                                },
                                {
                                    "average_rating": "4.21",
                                    "title": "I'm Just Here for the Food: Food + Heat = Cooking"
                                },
                                {
                                    "average_rating": "4.39",
                                    "title": "All Things Wise and Wonderful"
                                },
                                {
                                    "average_rating": "4.34",
                                    "title": "Reaper's Gale (The Malazan Book of the Fallen, #7)"
                                },
                                {
                                    "average_rating": "4.41",
                                    "title": "Locke & Key, Vol. 3: Crown of Shadows"
                                },
                                {
                                    "average_rating": "4.21",
                                    "title": "Blue-Eyed Devil (Travises, #2)"
                                },
                                {
                                    "average_rating": "4.29",
                                    "title": "Batman: The Black Mirror"
                                },
                                {
                                    "average_rating": "4.22",
                                    "title": "Killers of the Dawn (Cirque Du Freak, #9)"
                                },
                                {
                                    "average_rating": "4.47",
                                    "title": "Tramp for the Lord"
                                },
                                {
                                    "average_rating": "4.41",
                                    "title": "Remember (Redemption, #2)"
                                },
                                {
                                    "average_rating": "4.34",
                                    "title": "The Last Seven Months of Anne Frank"
                                },
                                {
                                    "average_rating": "4.3",
                                    "title": "The System of the World (The Baroque Cycle, #3)"
                                },
                                {
                                    "average_rating": "4.3",
                                    "title": "Twice Tempted (Night Prince, #2)"
                                },
                                {
                                    "average_rating": "4.29",
                                    "title": "Collected Poems, 1909-1962"
                                },
                                {
                                    "average_rating": "4.39",
                                    "title": "Beauty and the Beast"
                                },
                                {
                                    "average_rating": "4.32",
                                    "title": "Lead (Stage Dive, #3)"
                                },
                                {
                                    "average_rating": "4.23",
                                    "title": "Big Nate Strikes Again (Big Nate Novels, #2)"
                                },
                                {
                                    "average_rating": "4.41",
                                    "title": "Pete the Cat: I Love My White Shoes"
                                },
                                {
                                    "average_rating": "4.32",
                                    "title": "Son of the Shadows (Sevenwaters, #2)"
                                },
                                {
                                    "average_rating": "4.26",
                                    "title": "Barefoot Contessa Family Style: Easy Ideas and Recipes That Make Everyone Feel Like Family"
                                },
                                {
                                    "average_rating": "4.25",
                                    "title": "Vain (The Seven Deadly, #1)"
                                },
                                {
                                    "average_rating": "4.26",
                                    "title": "Veil of Midnight (Midnight Breed, #5)"
                                },
                                {
                                    "average_rating": "4.33",
                                    "title": "Preacher, Volume 9: Alamo"
                                },
                                {
                                    "average_rating": "4.58",
                                    "title": "Collected Fictions"
                                },
                                {
                                    "average_rating": "4.24",
                                    "title": "Just Me in the Tub (Mercer Mayer's Little Critter)"
                                },
                                {
                                    "average_rating": "4.24",
                                    "title": "Crush (Crash, #3)"
                                },
                                {
                                    "average_rating": "4.32",
                                    "title": "The Walking Dead, Vol. 06: This Sorrowful Life"
                                },
                                {
                                    "average_rating": "4.33",
                                    "title": "The Farseer Trilogy (Farseer Trilogy #1-3)"
                                },
                                {
                                    "average_rating": "4.39",
                                    "title": "Third Grave Dead Ahead (Charley Davidson, #3)"
                                },
                                {
                                    "average_rating": "4.32",
                                    "title": "The Heart of Betrayal (The Remnant Chronicles, #2)"
                                },
                                {
                                    "average_rating": "4.29",
                                    "title": "First They Killed My Father: A Daughter of Cambodia Remembers"
                                },
                                {
                                    "average_rating": "4.24",
                                    "title": "Sometimes a Great Notion"
                                },
                                {
                                    "average_rating": "4.37",
                                    "title": "Chosen at Nightfall (Shadow Falls, #5)"
                                },
                                {
                                    "average_rating": "4.3",
                                    "title": "Rock with Me (With Me in Seattle, #4)"
                                },
                                {
                                    "average_rating": "4.24",
                                    "title": "Driving Miss Daisy"
                                },
                                {
                                    "average_rating": "4.27",
                                    "title": "Hardpressed (Hacker, #2)"
                                },
                                {
                                    "average_rating": "4.35",
                                    "title": "Conspiracy in Death (In Death, #8)"
                                },
                                {
                                    "average_rating": "4.28",
                                    "title": "Shattered (The Iron Druid Chronicles, #7)"
                                },
                                {
                                    "average_rating": "4.22",
                                    "title": "The First Commandment (Scot Harvath, #6)"
                                },
                                {
                                    "average_rating": "4.45",
                                    "title": "Complete Works of Oscar Wilde"
                                },
                                {
                                    "average_rating": "4.21",
                                    "title": "The Nature of the Beast (Chief Inspector Armand Gamache #11)"
                                },
                                {
                                    "average_rating": "4.53",
                                    "title": "Black Butler, Vol. 3 (Black Butler, #3)"
                                },
                                {
                                    "average_rating": "4.31",
                                    "title": "The Crown Tower (The Riyria Chronicles, #1)"
                                },
                                {
                                    "average_rating": "4.31",
                                    "title": "Daytripper"
                                },
                                {
                                    "average_rating": "4.28",
                                    "title": "Accordance (Significance, #2)"
                                },
                                {
                                    "average_rating": "4.42",
                                    "title": "Tales from a Not-So-Smart Miss Know-It-All (Dork Diaries, #5)"
                                },
                                {
                                    "average_rating": "4.28",
                                    "title": "Three Little Kittens"
                                },
                                {
                                    "average_rating": "4.35",
                                    "title": "Before Jamaica Lane (On Dublin Street, #3)"
                                },
                                {
                                    "average_rating": "4.23",
                                    "title": "The Bitter Kingdom (Fire and Thorns, #3)"
                                },
                                {
                                    "average_rating": "4.34",
                                    "title": "Frosty the Snowman (Frosty the Snowman)"
                                },
                                {
                                    "average_rating": "4.34",
                                    "title": "Preacher, Volume 6: War in the Sun"
                                },
                                {
                                    "average_rating": "4.23",
                                    "title": "The Queen of Attolia (The Queen's Thief, #2)"
                                },
                                {
                                    "average_rating": "4.22",
                                    "title": "Honor's Splendour"
                                },
                                {
                                    "average_rating": "4.23",
                                    "title": "Deep Kiss of Winter (Includes: Immortals After Dark, #8; Alien Huntress, #3.5)"
                                },
                                {
                                    "average_rating": "4.21",
                                    "title": "Wild Man (Dream Man, #2)"
                                },
                                {
                                    "average_rating": "4.32",
                                    "title": "Sleeping Beauty: a Little Golden Book (Disney Princess)"
                                },
                                {
                                    "average_rating": "4.42",
                                    "title": "The Darkest Surrender  (Lords of the Underworld #8)"
                                },
                                {
                                    "average_rating": "4.22",
                                    "title": "A Mango-Shaped Space"
                                },
                                {
                                    "average_rating": "4.67",
                                    "title": "Life Application Study Bible: NIV"
                                },
                                {
                                    "average_rating": "4.34",
                                    "title": "The Sandman: Endless Nights"
                                },
                                {
                                    "average_rating": "4.32",
                                    "title": "Boy's Life"
                                },
                                {
                                    "average_rating": "4.49",
                                    "title": "The Green Mile, Part 1: The Two Dead Girls"
                                },
                                {
                                    "average_rating": "4.33",
                                    "title": "Toll the Hounds (The Malazan Book of the Fallen, #8)"
                                },
                                {
                                    "average_rating": "4.31",
                                    "title": "Right Ho, Jeeves (Jeeves, #6)"
                                },
                                {
                                    "average_rating": "4.23",
                                    "title": "If You're Reading This, It's Too Late (Secret, #2)"
                                },
                                {
                                    "average_rating": "4.31",
                                    "title": "Moonrise (Warriors: The New Prophecy, #2)"
                                },
                                {
                                    "average_rating": "4.3",
                                    "title": "A Child's Garden of Verses"
                                },
                                {
                                    "average_rating": "4.34",
                                    "title": "The Walking Dead, Vol. 12: Life Among Them"
                                },
                                {
                                    "average_rating": "4.25",
                                    "title": "Pedagogy of the Oppressed"
                                },
                                {
                                    "average_rating": "4.26",
                                    "title": "The Gospel According to Jesus Christ"
                                },
                                {
                                    "average_rating": "4.41",
                                    "title": "Avatar: The Last Airbender: The Lost Adventures"
                                },
                                {
                                    "average_rating": "4.32",
                                    "title": "الطنطورية"
                                },
                                {
                                    "average_rating": "4.45",
                                    "title": "Miss Rumphius"
                                },
                                {
                                    "average_rating": "4.24",
                                    "title": "Days with Frog and Toad (Frog and Toad, #4)"
                                },
                                {
                                    "average_rating": "4.37",
                                    "title": "The King of Attolia (The Queen's Thief, #3)"
                                },
                                {
                                    "average_rating": "4.28",
                                    "title": "What Do You Care What Other People Think?"
                                },
                                {
                                    "average_rating": "4.21",
                                    "title": "The Honor of the Queen (Honor Harrington, #2)"
                                },
                                {
                                    "average_rating": "4.27",
                                    "title": "Angels in America, Part One: Millennium Approaches"
                                },
                                {
                                    "average_rating": "4.22",
                                    "title": "Dreaming of You (The Gamblers, #2)"
                                },
                                {
                                    "average_rating": "4.24",
                                    "title": "The Complete Poems"
                                },
                                {
                                    "average_rating": "4.33",
                                    "title": "Almost Heaven (Sequels, #3)"
                                },
                                {
                                    "average_rating": "4.31",
                                    "title": "Three Day Road"
                                },
                                {
                                    "average_rating": "4.27",
                                    "title": "Trust in Me (Wait for You, #1.5)"
                                },
                                {
                                    "average_rating": "4.5",
                                    "title": "Naruto, Vol. 11: Impassioned Efforts (Naruto, #11)"
                                },
                                {
                                    "average_rating": "4.27",
                                    "title": "The Untethered Soul: The Journey Beyond Yourself"
                                },
                                {
                                    "average_rating": "4.22",
                                    "title": "The Prize"
                                },
                                {
                                    "average_rating": "4.3",
                                    "title": "One Tiny Lie (Ten Tiny Breaths, #2)"
                                },
                                {
                                    "average_rating": "4.44",
                                    "title": "United We Spy (Gallagher Girls, #6)"
                                },
                                {
                                    "average_rating": "4.36",
                                    "title": "The Morganville Vampires, Volume 1 (The Morganville Vampires, #1-2)"
                                },
                                {
                                    "average_rating": "4.48",
                                    "title": "Three Comrades"
                                },
                                {
                                    "average_rating": "4.36",
                                    "title": "Chrzest ognia (Saga o Wiedźminie, #5)"
                                },
                                {
                                    "average_rating": "4.22",
                                    "title": "Surface Detail (Culture #9)"
                                },
                                {
                                    "average_rating": "4.35",
                                    "title": "The Fixed Trilogy (Fixed, #1-3)"
                                },
                                {
                                    "average_rating": "4.35",
                                    "title": "Guards! Guards!: The Play"
                                },
                                {
                                    "average_rating": "4.35",
                                    "title": "The Pigeon Finds a Hot Dog!"
                                },
                                {
                                    "average_rating": "4.57",
                                    "title": "الرحيق المختوم"
                                },
                                {
                                    "average_rating": "4.29",
                                    "title": "The Shadows (Black Dagger Brotherhood, #13)"
                                },
                                {
                                    "average_rating": "4.33",
                                    "title": "Wethering the Storm (The Storm, #2)"
                                },
                                {
                                    "average_rating": "4.24",
                                    "title": "The Enchanted Wood (The Faraway Tree, #1)"
                                },
                                {
                                    "average_rating": "4.3",
                                    "title": "Cardcaptor Sakura, Vol. 1 (Cardcaptor Sakura, #1)"
                                },
                                {
                                    "average_rating": "4.31",
                                    "title": "The Pioneer Woman Cooks: Food from My Frontier "
                                },
                                {
                                    "average_rating": "4.31",
                                    "title": "Defiance (Significance, #3)"
                                },
                                {
                                    "average_rating": "4.52",
                                    "title": "Magic Breaks (Kate Daniels, #7)"
                                },
                                {
                                    "average_rating": "4.42",
                                    "title": "New York to Dallas (In Death, #33)"
                                },
                                {
                                    "average_rating": "4.31",
                                    "title": "The Longest Day"
                                },
                                {
                                    "average_rating": "4.29",
                                    "title": "Mistress of the Empire (The Empire Trilogy, #3)"
                                },
                                {
                                    "average_rating": "4.56",
                                    "title": "Harry Potter and the Order of the Phoenix (Harry Potter, #5, Part 1)"
                                },
                                {
                                    "average_rating": "4.41",
                                    "title": "One Tuesday Morning (9/11, #1)"
                                },
                                {
                                    "average_rating": "4.34",
                                    "title": "The Wall of Winnipeg and Me"
                                },
                                {
                                    "average_rating": "4.22",
                                    "title": "Cross Justice (Alex Cross, #23)"
                                },
                                {
                                    "average_rating": "4.29",
                                    "title": "Intuition (The Premonition, #2)"
                                },
                                {
                                    "average_rating": "4.25",
                                    "title": "Secret Prey (Lucas Davenport, #9)"
                                },
                                {
                                    "average_rating": "4.21",
                                    "title": "The Complete Clive Barker's The Great And Secret Show"
                                },
                                {
                                    "average_rating": "4.27",
                                    "title": "His Last Bow: 8 Stories"
                                },
                                {
                                    "average_rating": "4.36",
                                    "title": "Ecstasy Unveiled (Demonica #4)"
                                },
                                {
                                    "average_rating": "4.35",
                                    "title": "Sunset (Warriors: The New Prophecy, #6)"
                                },
                                {
                                    "average_rating": "4.56",
                                    "title": "The Divergent Series 2-Book Collection (Divergent, #1-2)"
                                },
                                {
                                    "average_rating": "4.35",
                                    "title": "Sin Undone (Demonica #5)"
                                },
                                {
                                    "average_rating": "4.38",
                                    "title": "Unbeautifully (Undeniable, #2)"
                                },
                                {
                                    "average_rating": "4.44",
                                    "title": "Lady Luck (Colorado Mountain, #3)"
                                },
                                {
                                    "average_rating": "4.33",
                                    "title": "Ransom (Highlands' Lairds, #2)"
                                },
                                {
                                    "average_rating": "4.26",
                                    "title": "From the Two Rivers: The Eye of the World, Part 1 (Wheel of time, #1-1)"
                                },
                                {
                                    "average_rating": "4.22",
                                    "title": "Leaving (Bailey Flanigan, #1)"
                                },
                                {
                                    "average_rating": "4.48",
                                    "title": "The World of the Hunger Games (Hunger Games Trilogy)"
                                },
                                {
                                    "average_rating": "4.32",
                                    "title": "The Magic Strings of Frankie Presto"
                                },
                                {
                                    "average_rating": "4.53",
                                    "title": "Fool's Quest  (The Fitz and The Fool, #2)"
                                },
                                {
                                    "average_rating": "4.21",
                                    "title": "First Shift: Legacy (Shift, #1)"
                                },
                                {
                                    "average_rating": "4.22",
                                    "title": "The Unlikely Spy"
                                },
                                {
                                    "average_rating": "4.22",
                                    "title": "Dragon Slippers (Dragon Slippers, #1)"
                                },
                                {
                                    "average_rating": "4.44",
                                    "title": "The Crippled God (The Malazan Book of the Fallen, #10)"
                                },
                                {
                                    "average_rating": "4.38",
                                    "title": "Tales from a Not-So-Graceful Ice Princess (Dork Diaries, #4)"
                                },
                                {
                                    "average_rating": "4.23",
                                    "title": "On Writing Well: The Classic Guide to Writing Nonfiction"
                                },
                                {
                                    "average_rating": "4.35",
                                    "title": "Fire Touched (Mercy Thompson, #9)"
                                },
                                {
                                    "average_rating": "4.25",
                                    "title": "Frosty the Snow Man"
                                },
                                {
                                    "average_rating": "4.23",
                                    "title": "Savage Inequalities: Children in America's Schools"
                                },
                                {
                                    "average_rating": "4.25",
                                    "title": "Little Princes: One Man's Promise to Bring Home the Lost Children of Nepal"
                                },
                                {
                                    "average_rating": "4.44",
                                    "title": "The Poetry of Pablo Neruda"
                                },
                                {
                                    "average_rating": "4.35",
                                    "title": "The Crimson Campaign (Powder Mage, #2)"
                                },
                                {
                                    "average_rating": "4.38",
                                    "title": "The Looming Tower: Al-Qaeda and the Road to 9/11"
                                },
                                {
                                    "average_rating": "4.31",
                                    "title": "Memory in Death (In Death, #22)"
                                },
                                {
                                    "average_rating": "4.24",
                                    "title": "Tenth Grade Bleeds (The Chronicles of Vladimir Tod, #3)"
                                },
                                {
                                    "average_rating": "4.23",
                                    "title": "Trinity"
                                },
                                {
                                    "average_rating": "4.25",
                                    "title": "The Secret Servant (Gabriel Allon, #7)"
                                },
                                {
                                    "average_rating": "4.23",
                                    "title": "A Light in the Window (Mitford Years, #2)"
                                },
                                {
                                    "average_rating": "4.31",
                                    "title": "Dawn (Warriors: The New Prophecy, #3)"
                                },
                                {
                                    "average_rating": "4.32",
                                    "title": "A Dance with Dragons: Dreams and Dust (A Song of Ice and Fire #5, Part 1 of 2)"
                                },
                                {
                                    "average_rating": "4.26",
                                    "title": "Full Black (Scot Harvath, #10)"
                                },
                                {
                                    "average_rating": "4.74",
                                    "title": "There's Treasure Everywhere: A Calvin and Hobbes Collection"
                                },
                                {
                                    "average_rating": "4.25",
                                    "title": "The Evolutionary Void"
                                },
                                {
                                    "average_rating": "4.42",
                                    "title": "The Twelve Chairs"
                                },
                                {
                                    "average_rating": "4.38",
                                    "title": "The Beatles Anthology"
                                },
                                {
                                    "average_rating": "4.36",
                                    "title": "Night World: The Ultimate Fan Guide"
                                },
                                {
                                    "average_rating": "4.21",
                                    "title": "Dragonlance Chronicles (Dragonlance #1-3)"
                                },
                                {
                                    "average_rating": "4.3",
                                    "title": "Fables, Vol. 6: Homelands"
                                },
                                {
                                    "average_rating": "4.24",
                                    "title": "The Temporal Void"
                                },
                                {
                                    "average_rating": "4.29",
                                    "title": "The Winner's Kiss (The Winner's Trilogy, #3)"
                                },
                                {
                                    "average_rating": "4.33",
                                    "title": "Bad Things (Tristan & Danika, #1)"
                                },
                                {
                                    "average_rating": "4.3",
                                    "title": "Here be Dragons (Welsh Princes, #1)"
                                },
                                {
                                    "average_rating": "4.22",
                                    "title": "Short Stories from Hogwarts of Heroism, Hardship and Dangerous Hobbies (Pottermore Presents, #1)"
                                },
                                {
                                    "average_rating": "4.25",
                                    "title": "Path of Destruction (Star Wars: Darth Bane, #1)"
                                },
                                {
                                    "average_rating": "4.32",
                                    "title": "The Making of the Atomic Bomb"
                                },
                                {
                                    "average_rating": "4.26",
                                    "title": "Unveiled: Tamar (Lineage of Grace #1)"
                                },
                                {
                                    "average_rating": "4.26",
                                    "title": "Angels in America, Part Two: Perestroika"
                                },
                                {
                                    "average_rating": "4.23",
                                    "title": "The Complete Poetry and Prose"
                                },
                                {
                                    "average_rating": "4.42",
                                    "title": "Death Note, Vol. 2: Confluence (Death Note, #2)"
                                },
                                {
                                    "average_rating": "4.36",
                                    "title": "Akira, Vol. 1"
                                },
                                {
                                    "average_rating": "4.23",
                                    "title": "Gakuen Alice, Vol. 01 (Gakuen Alice, #1)"
                                },
                                {
                                    "average_rating": "4.37",
                                    "title": "The Miracle of Forgiveness"
                                },
                                {
                                    "average_rating": "4.32",
                                    "title": "The Darkest Secret (Lords of the Underworld #7)"
                                },
                                {
                                    "average_rating": "4.49",
                                    "title": "Sentinel (Covenant, #5)"
                                },
                                {
                                    "average_rating": "4.4",
                                    "title": "The Sunne in Splendour"
                                },
                                {
                                    "average_rating": "4.22",
                                    "title": "The Masterharper of Pern (Pern, #15)"
                                },
                                {
                                    "average_rating": "4.24",
                                    "title": "Don't Make Me Think: A Common Sense Approach to Web Usability"
                                },
                                {
                                    "average_rating": "4.23",
                                    "title": "Shrill: Notes from a Loud Woman"
                                },
                                {
                                    "average_rating": "4.37",
                                    "title": "Queen of the Darkness (The Black Jewels, #3)"
                                },
                                {
                                    "average_rating": "4.41",
                                    "title": "A Dance with Dragons: After the Feast (A Song of Ice and Fire #5, Part 2 of 2)"
                                },
                                {
                                    "average_rating": "4.21",
                                    "title": "I Was So Mad"
                                },
                                {
                                    "average_rating": "4.23",
                                    "title": "The Blue Castle "
                                },
                                {
                                    "average_rating": "4.28",
                                    "title": "The Immortals Boxed Set (The Immortals, #1-3)"
                                },
                                {
                                    "average_rating": "4.28",
                                    "title": "Shades of Midnight (Midnight Breed, #7)"
                                },
                                {
                                    "average_rating": "4.25",
                                    "title": "The Hat"
                                },
                                {
                                    "average_rating": "4.23",
                                    "title": "The Caine Mutiny"
                                },
                                {
                                    "average_rating": "4.49",
                                    "title": "Saga, Vol. 6 (Saga, #6)"
                                },
                                {
                                    "average_rating": "4.49",
                                    "title": "The Enchantress Returns (The Land of Stories, #2)"
                                },
                                {
                                    "average_rating": "4.23",
                                    "title": "The Jordan Rules"
                                },
                                {
                                    "average_rating": "4.21",
                                    "title": "The Heretic Queen"
                                },
                                {
                                    "average_rating": "4.34",
                                    "title": "The Talisman (Volume 1): The Road of Trials"
                                },
                                {
                                    "average_rating": "4.26",
                                    "title": "Hardline (Hacker, #3)"
                                },
                                {
                                    "average_rating": "4.22",
                                    "title": "War"
                                },
                                {
                                    "average_rating": "4.37",
                                    "title": "The Outcasts (Brotherband Chronicles, #1)"
                                },
                                {
                                    "average_rating": "4.36",
                                    "title": "Case Closed, Vol. 1"
                                },
                                {
                                    "average_rating": "4.29",
                                    "title": "Yu Yu Hakusho, Volume 1: Goodbye, Material World! (Yu Yu Hakusho, #1)"
                                },
                                {
                                    "average_rating": "4.46",
                                    "title": "Shoe Dog: A Memoir by the Creator of NIKE"
                                },
                                {
                                    "average_rating": "4.38",
                                    "title": "Survivor In Death (In Death, #20)"
                                },
                                {
                                    "average_rating": "4.73",
                                    "title": "The Authoritative Calvin and Hobbes: A Calvin and Hobbes Treasury"
                                },
                                {
                                    "average_rating": "4.31",
                                    "title": "Murder of Crows (The Others, #2)"
                                },
                                {
                                    "average_rating": "4.29",
                                    "title": "Preacher, Volume 5: Dixie Fried"
                                },
                                {
                                    "average_rating": "4.25",
                                    "title": "Preacher, Volume 4: Ancient History"
                                },
                                {
                                    "average_rating": "4.33",
                                    "title": "The Heavenly Man: The Remarkable True Story of Chinese Christian Brother Yun"
                                },
                                {
                                    "average_rating": "4.23",
                                    "title": "UnSouled (Unwind, #3)"
                                },
                                {
                                    "average_rating": "4.26",
                                    "title": "The Miracle of Mindfulness: An Introduction to the Practice of Meditation"
                                },
                                {
                                    "average_rating": "4.22",
                                    "title": "David Gets In Trouble"
                                },
                                {
                                    "average_rating": "4.32",
                                    "title": "Last Breath (The Morganville Vampires, #11)"
                                },
                                {
                                    "average_rating": "4.31",
                                    "title": "Rock Chick Rescue (Rock Chick, #2)"
                                },
                                {
                                    "average_rating": "4.5",
                                    "title": "Locke & Key, Vol. 5: Clockworks"
                                },
                                {
                                    "average_rating": "4.28",
                                    "title": "Flotsam"
                                },
                                {
                                    "average_rating": "4.23",
                                    "title": "The Lion and the Mouse"
                                },
                                {
                                    "average_rating": "4.32",
                                    "title": "The Collected Poems"
                                },
                                {
                                    "average_rating": "4.31",
                                    "title": "Barrayar (Vorkosigan Saga, #7)"
                                },
                                {
                                    "average_rating": "4.21",
                                    "title": "Alice in the Country of Hearts, Vol. 01 (Alice in the Country of Hearts, #1)"
                                },
                                {
                                    "average_rating": "4.22",
                                    "title": "Lord of the Shadows (Cirque Du Freak, #11)"
                                },
                                {
                                    "average_rating": "4.31",
                                    "title": "The Endurance: Shackleton's Legendary Antarctic Expedition"
                                },
                                {
                                    "average_rating": "4.31",
                                    "title": "The Candymakers (The Candymakers, #1)"
                                },
                                {
                                    "average_rating": "4.39",
                                    "title": "Winnie the Pooh and Tigger Too (Disney's Wonderful World of Reading)"
                                },
                                {
                                    "average_rating": "4.47",
                                    "title": "Hamilton: The Revolution"
                                },
                                {
                                    "average_rating": "4.25",
                                    "title": "The Taste of Home Cookbook"
                                },
                                {
                                    "average_rating": "4.24",
                                    "title": "Goddess (Starcrossed, #3)"
                                },
                                {
                                    "average_rating": "4.26",
                                    "title": "Waylander (The Drenai Saga, #3)"
                                },
                                {
                                    "average_rating": "4.43",
                                    "title": "The Wheel of Time: Boxed Set #1 (Wheel of Time, #1-3)"
                                },
                                {
                                    "average_rating": "4.38",
                                    "title": "Excalibur (The Warlord Chronicles, #3)"
                                },
                                {
                                    "average_rating": "4.24",
                                    "title": "Foreign Influence (Scot Harvath, #9)"
                                },
                                {
                                    "average_rating": "4.24",
                                    "title": "Dark Magic (Dark, #4)"
                                },
                                {
                                    "average_rating": "4.25",
                                    "title": "Barnyard Dance"
                                },
                                {
                                    "average_rating": "4.22",
                                    "title": "Field of Prey (Lucas Davenport, #24)"
                                },
                                {
                                    "average_rating": "4.25",
                                    "title": "Rush Too Far (Rosemary Beach, #4; Too Far, #4)"
                                },
                                {
                                    "average_rating": "4.28",
                                    "title": "Animalia"
                                },
                                {
                                    "average_rating": "4.27",
                                    "title": "Stone Butch Blues"
                                },
                                {
                                    "average_rating": "4.21",
                                    "title": "A Fish Out of Water"
                                },
                                {
                                    "average_rating": "4.3",
                                    "title": "The Running Dream"
                                },
                                {
                                    "average_rating": "4.29",
                                    "title": "Epilogue (The Dark Duet, #3)"
                                },
                                {
                                    "average_rating": "4.39",
                                    "title": "The Morganville Vampires, Volume 3 (The Morganville Vampires, #5-6)"
                                },
                                {
                                    "average_rating": "4.44",
                                    "title": "Locke & Key, Vol. 4: Keys to the Kingdom"
                                },
                                {
                                    "average_rating": "4.28",
                                    "title": "Horde (Razorland, #3)"
                                },
                                {
                                    "average_rating": "4.21",
                                    "title": "The Mixed-Up Chameleon"
                                },
                                {
                                    "average_rating": "4.29",
                                    "title": "Bad Moon Rising (Dark-Hunter #18; Were-Hunter #4; Hellchaser #2)"
                                },
                                {
                                    "average_rating": "4.38",
                                    "title": "Breathe (Colorado Mountain, #4)"
                                },
                                {
                                    "average_rating": "4.29",
                                    "title": "This Book Is Not Good for You (Secret, #3)"
                                },
                                {
                                    "average_rating": "4.44",
                                    "title": "The Declaration of Independence and The Constitution of the United States"
                                },
                                {
                                    "average_rating": "4.37",
                                    "title": "Indebted (The Premonition, #3)"
                                },
                                {
                                    "average_rating": "4.33",
                                    "title": "Judgment in Death (In Death, #11)"
                                },
                                {
                                    "average_rating": "4.36",
                                    "title": "Innocent in Death (In Death, #24)"
                                },
                                {
                                    "average_rating": "4.4",
                                    "title": "Fourth Grave Beneath My Feet (Charley Davidson, #4)"
                                },
                                {
                                    "average_rating": "4.27",
                                    "title": "Madeline and the Bad Hat"
                                },
                                {
                                    "average_rating": "4.43",
                                    "title": "Facing Your Giants: A David and Goliath Story for Everyday People"
                                },
                                {
                                    "average_rating": "4.42",
                                    "title": "Ina May's Guide to Childbirth"
                                },
                                {
                                    "average_rating": "4.31",
                                    "title": "Anne Frank : The Biography"
                                },
                                {
                                    "average_rating": "4.3",
                                    "title": "The Sweet Gum Tree"
                                },
                                {
                                    "average_rating": "4.24",
                                    "title": "Glory over Everything: Beyond The Kitchen House"
                                },
                                {
                                    "average_rating": "4.26",
                                    "title": "Class A (Cherub, #2)"
                                },
                                {
                                    "average_rating": "4.28",
                                    "title": "A New Song (Mitford Years, #5)"
                                },
                                {
                                    "average_rating": "4.31",
                                    "title": "Dust of Dreams (The Malazan Book of the Fallen, #9)"
                                },
                                {
                                    "average_rating": "4.21",
                                    "title": "Lord Loss (The Demonata, #1)"
                                },
                                {
                                    "average_rating": "4.28",
                                    "title": "Sometimes It Lasts (Sea Breeze, #5)"
                                },
                                {
                                    "average_rating": "4.36",
                                    "title": "The Power of the Dog"
                                },
                                {
                                    "average_rating": "4.22",
                                    "title": "America's First Daughter"
                                },
                                {
                                    "average_rating": "4.43",
                                    "title": "The Undead Pool (The Hollows, #12)"
                                },
                                {
                                    "average_rating": "4.32",
                                    "title": "The Fate of Ten (Lorien Legacies, #6)"
                                },
                                {
                                    "average_rating": "4.26",
                                    "title": "Takedown (Scot Harvath, #5)"
                                },
                                {
                                    "average_rating": "4.35",
                                    "title": "Sweet Reckoning (Sweet, #3)"
                                },
                                {
                                    "average_rating": "4.3",
                                    "title": "Perfect (Second Opportunities, #2)"
                                },
                                {
                                    "average_rating": "4.26",
                                    "title": "The Three Little Pigs"
                                },
                                {
                                    "average_rating": "4.42",
                                    "title": "Bright Side (Bright Side, #1)"
                                },
                                {
                                    "average_rating": "4.24",
                                    "title": "Maximum Security (Cherub, #3)"
                                },
                                {
                                    "average_rating": "4.33",
                                    "title": "March: Book One (March, #1)"
                                },
                                {
                                    "average_rating": "4.27",
                                    "title": "Everything That Rises Must Converge: Stories"
                                },
                                {
                                    "average_rating": "4.33",
                                    "title": "Caressed by Ice (Psy-Changeling #3)"
                                },
                                {
                                    "average_rating": "4.36",
                                    "title": "The Code of the Woosters (Jeeves, #7)"
                                },
                                {
                                    "average_rating": "4.31",
                                    "title": "The Autobiography of Martin Luther King, Jr."
                                },
                                {
                                    "average_rating": "4.37",
                                    "title": "The Knowledge of the Holy"
                                },
                                {
                                    "average_rating": "4.26",
                                    "title": "Batman, Volume 2: The City of Owls"
                                },
                                {
                                    "average_rating": "4.21",
                                    "title": "Magic's Pawn (Valdemar: Last Herald-Mage #1)"
                                },
                                {
                                    "average_rating": "4.22",
                                    "title": "CivilWarLand in Bad Decline"
                                },
                                {
                                    "average_rating": "4.22",
                                    "title": "The Happy Prince"
                                },
                                {
                                    "average_rating": "4.61",
                                    "title": "Standing for Something: 10 Neglected Virtues That Will Heal Our Hearts and Homes"
                                },
                                {
                                    "average_rating": "4.22",
                                    "title": "Notorious RBG: The Life and Times of Ruth Bader Ginsburg"
                                },
                                {
                                    "average_rating": "4.27",
                                    "title": "Invincible (Chronicles of Nick, #2)"
                                },
                                {
                                    "average_rating": "4.73",
                                    "title": "The Indispensable Calvin and Hobbes"
                                },
                                {
                                    "average_rating": "4.3",
                                    "title": "Witness in Death (In Death, #10)"
                                },
                                {
                                    "average_rating": "4.27",
                                    "title": "Reaper's Legacy (Reapers MC, #2)"
                                },
                                {
                                    "average_rating": "4.27",
                                    "title": "Her Final Breath (Tracy Crosswhite, #2)"
                                },
                                {
                                    "average_rating": "4.33",
                                    "title": "Something Wonderful (Sequels, #2)"
                                },
                                {
                                    "average_rating": "4.24",
                                    "title": "Archangel's Consort (Guild Hunter, #3)"
                                },
                                {
                                    "average_rating": "4.23",
                                    "title": "Sacajawea (Lewis & Clark Expedition)"
                                },
                                {
                                    "average_rating": "4.33",
                                    "title": "Avatar: The Last Airbender (The Rift, #1)"
                                },
                                {
                                    "average_rating": "4.34",
                                    "title": "The Black Widow (Gabriel Allon, #16)"
                                },
                                {
                                    "average_rating": "4.51",
                                    "title": "Believing Christ: The Parable of the Bicycle and Other Good News"
                                },
                                {
                                    "average_rating": "4.28",
                                    "title": "The Code Book: The Science of Secrecy from Ancient Egypt to Quantum Cryptography"
                                },
                                {
                                    "average_rating": "4.59",
                                    "title": "The Mortal Instruments (The Mortal Instruments #1-4)"
                                },
                                {
                                    "average_rating": "4.25",
                                    "title": "Foxe's Book of Martyrs"
                                },
                                {
                                    "average_rating": "4.45",
                                    "title": "Diary of a Wimpy Kid: #1-4"
                                },
                                {
                                    "average_rating": "4.41",
                                    "title": "The Peacegiver: How Christ Offers to Heal Our Hearts and Homes"
                                },
                                {
                                    "average_rating": "4.43",
                                    "title": "Rock Chick Redemption (Rock Chick, #3)"
                                },
                                {
                                    "average_rating": "4.27",
                                    "title": "The Walking Dead, Vol. 07: The Calm Before"
                                },
                                {
                                    "average_rating": "4.24",
                                    "title": "Curious George Rides a Bike"
                                },
                                {
                                    "average_rating": "4.33",
                                    "title": "Preacher, Volume 8: All Hell's a-Coming"
                                },
                                {
                                    "average_rating": "4.24",
                                    "title": "The Little Sisters of Eluria (The Dark Tower, #0.5)"
                                },
                                {
                                    "average_rating": "4.26",
                                    "title": "The Dot"
                                },
                                {
                                    "average_rating": "4.21",
                                    "title": "استمتع بحياتك"
                                },
                                {
                                    "average_rating": "4.3",
                                    "title": "Preacher, Volume 7: Salvation"
                                },
                                {
                                    "average_rating": "4.39",
                                    "title": "I Want My Hat Back"
                                },
                                {
                                    "average_rating": "4.35",
                                    "title": "The Brothers Lionheart"
                                },
                                {
                                    "average_rating": "4.3",
                                    "title": "Loyalty in Death (In Death, #9)"
                                },
                                {
                                    "average_rating": "4.25",
                                    "title": "Generation Kill: Devil Dogs, Iceman, Captain America, and the New Face of American War"
                                },
                                {
                                    "average_rating": "4.31",
                                    "title": "Playing with Fire (Skulduggery Pleasant, #2)"
                                },
                                {
                                    "average_rating": "4.33",
                                    "title": "Forever with You (Fixed, #3)"
                                },
                                {
                                    "average_rating": "4.22",
                                    "title": "Sons of Destiny (Cirque Du Freak, #12)"
                                },
                                {
                                    "average_rating": "4.28",
                                    "title": "The Icewind Dale Trilogy Collector's Edition (Forgotten Realms: Icewind Dale, #1-3; Legend of Drizzt, #4-6)"
                                },
                                {
                                    "average_rating": "4.37",
                                    "title": "Bumi Manusia"
                                },
                                {
                                    "average_rating": "4.39",
                                    "title": "Martin Eden"
                                },
                                {
                                    "average_rating": "4.34",
                                    "title": "Wieża Jaskółki (Saga o Wiedźminie, #6)"
                                },
                                {
                                    "average_rating": "4.31",
                                    "title": "Genghis: Lords of the Bow (Conqueror, #2)"
                                },
                                {
                                    "average_rating": "4.28",
                                    "title": "Loving Mr. Daniels"
                                },
                                {
                                    "average_rating": "4.21",
                                    "title": "Go Away, Big Green Monster!"
                                },
                                {
                                    "average_rating": "4.24",
                                    "title": "Steel Magnolias (DPS Acting Edition)"
                                },
                                {
                                    "average_rating": "4.22",
                                    "title": "The Lives of Christopher Chant (Chrestomanci, #2)"
                                },
                                {
                                    "average_rating": "4.23",
                                    "title": "Snowmen at Night"
                                },
                                {
                                    "average_rating": "4.28",
                                    "title": "Futures and Frosting (Chocolate Lovers, #2)"
                                },
                                {
                                    "average_rating": "4.29",
                                    "title": "Rise of the Elgen (Michael Vey, #2)"
                                },
                                {
                                    "average_rating": "4.21",
                                    "title": "Sempre (Sempre, #1)"
                                },
                                {
                                    "average_rating": "4.47",
                                    "title": "Magic Shifts (Kate Daniels, #8)"
                                },
                                {
                                    "average_rating": "4.29",
                                    "title": "The Warrior's Apprentice (Vorkosigan Saga, #2)"
                                },
                                {
                                    "average_rating": "4.29",
                                    "title": "The Complete Phantom of the Opera"
                                },
                                {
                                    "average_rating": "4.22",
                                    "title": "The Unusual Suspects (The Sisters Grimm, #2)"
                                },
                                {
                                    "average_rating": "4.29",
                                    "title": "Life Together: The Classic Exploration of Christian Community"
                                },
                                {
                                    "average_rating": "4.38",
                                    "title": "The Dark Forest (Remembrance of Earth’s Past, #2)"
                                },
                                {
                                    "average_rating": "4.33",
                                    "title": "Heir to the Shadows (The Black Jewels, #2)"
                                },
                                {
                                    "average_rating": "4.43",
                                    "title": "Treachery in Death (In Death, #32)"
                                },
                                {
                                    "average_rating": "4.41",
                                    "title": "Blood Rites (The Grey Wolves, #2)"
                                },
                                {
                                    "average_rating": "4.21",
                                    "title": "Every Man Dies Alone"
                                },
                                {
                                    "average_rating": "4.31",
                                    "title": "Betrayal in Death (In Death, #12)"
                                },
                                {
                                    "average_rating": "4.28",
                                    "title": "Pillar of Light (The Work and the Glory, #1)"
                                },
                                {
                                    "average_rating": "4.36",
                                    "title": "The Cloud Searchers (Amulet, #3)"
                                },
                                {
                                    "average_rating": "4.41",
                                    "title": "Tiger's Destiny (The Tiger Saga, #4)"
                                },
                                {
                                    "average_rating": "4.41",
                                    "title": "Elixir (Covenant, #3.5)"
                                },
                                {
                                    "average_rating": "4.25",
                                    "title": "Saving Grace"
                                },
                                {
                                    "average_rating": "4.43",
                                    "title": "Musashi"
                                },
                                {
                                    "average_rating": "4.31",
                                    "title": "One for the Murphys"
                                },
                                {
                                    "average_rating": "4.24",
                                    "title": "Fresh Wind, Fresh Fire: What Happens When God's Spirit Invades the Heart of His People"
                                },
                                {
                                    "average_rating": "4.33",
                                    "title": "Last Chance to See"
                                },
                                {
                                    "average_rating": "4.46",
                                    "title": "Pretty Little Liars (TV Series)"
                                },
                                {
                                    "average_rating": "4.31",
                                    "title": "Remy (Real, #3)"
                                },
                                {
                                    "average_rating": "4.5",
                                    "title": "Rock Chick Revenge (Rock Chick, #5)"
                                },
                                {
                                    "average_rating": "4.25",
                                    "title": "Dear Zoo: A Lift-the-Flap Book"
                                },
                                {
                                    "average_rating": "4.42",
                                    "title": "Death Note, Vol. 3: Hard Run (Death Note, #3)"
                                },
                                {
                                    "average_rating": "4.27",
                                    "title": "The Lost Stories (Ranger's Apprentice, #11)"
                                },
                                {
                                    "average_rating": "4.24",
                                    "title": "How to Talk So Kids Will Listen & Listen So Kids Will Talk"
                                },
                                {
                                    "average_rating": "4.23",
                                    "title": "All-of-a-Kind Family (All-of-a-Kind Family, #1)"
                                },
                                {
                                    "average_rating": "4.24",
                                    "title": "A Bridge Too Far"
                                },
                                {
                                    "average_rating": "4.71",
                                    "title": "Homicidal Psycho Jungle Cat: A Calvin and Hobbes Collection"
                                },
                                {
                                    "average_rating": "4.41",
                                    "title": "Master of the Senate (The Years of Lyndon Johnson, #3)"
                                },
                                {
                                    "average_rating": "4.4",
                                    "title": "Arch of Triumph: A Novel of a Man Without a Country"
                                },
                                {
                                    "average_rating": "4.37",
                                    "title": "The Hammer of Thor (Magnus Chase and the Gods of Asgard, #2)"
                                },
                                {
                                    "average_rating": "4.26",
                                    "title": "Far from the Tree: Parents, Children, and the Search for Identity"
                                },
                                {
                                    "average_rating": "4.32",
                                    "title": "Bones of the Hills (Conqueror, #3)"
                                },
                                {
                                    "average_rating": "4.24",
                                    "title": "Change Your Thoughts - Change Your Life: Living the Wisdom of the Tao"
                                },
                                {
                                    "average_rating": "4.28",
                                    "title": "All But My Life: A Memoir"
                                },
                                {
                                    "average_rating": "4.33",
                                    "title": "All-Star Superman, Vol. 2"
                                },
                                {
                                    "average_rating": "4.25",
                                    "title": "The World of Ice & Fire: The Untold History of Westeros and the Game of Thrones"
                                },
                                {
                                    "average_rating": "4.21",
                                    "title": "Miracle in the Andes"
                                },
                                {
                                    "average_rating": "4.43",
                                    "title": "The War that Saved My Life (The War That Saved My Life #1)"
                                },
                                {
                                    "average_rating": "4.45",
                                    "title": "The Beast (Black Dagger Brotherhood, #14)"
                                },
                                {
                                    "average_rating": "4.34",
                                    "title": "Cardcaptor Sakura: Master of the Clow, Vol. 1 (Cardcaptor Sakura, #7)"
                                },
                                {
                                    "average_rating": "4.28",
                                    "title": "Gunmetal Magic (Kate Daniels, #5.5)"
                                },
                                {
                                    "average_rating": "4.46",
                                    "title": "Rock Chick Renegade (Rock Chick, #4)"
                                },
                                {
                                    "average_rating": "4.47",
                                    "title": "Darkest Powers Trilogy (Darkest Powers, #1-3)"
                                },
                                {
                                    "average_rating": "4.32",
                                    "title": "Indulgence in Death (In Death, #31)"
                                },
                                {
                                    "average_rating": "4.21",
                                    "title": "The Little Red Caboose (Little Golden Book)"
                                },
                                {
                                    "average_rating": "4.32",
                                    "title": "Mufaro's Beautiful Daughters: An African Tale"
                                },
                                {
                                    "average_rating": "4.27",
                                    "title": "Mastery"
                                },
                                {
                                    "average_rating": "4.27",
                                    "title": "Amelia Bedelia and the Surprise Shower"
                                },
                                {
                                    "average_rating": "4.27",
                                    "title": "Spell of the Highlander (Highlander, #7)"
                                },
                                {
                                    "average_rating": "4.21",
                                    "title": "Follow the River"
                                },
                                {
                                    "average_rating": "4.25",
                                    "title": "In Harm's Way: The Sinking of the U.S.S. Indianapolis and the Extraordinary Story of Its Survivors"
                                },
                                {
                                    "average_rating": "4.52",
                                    "title": "Thank You, Mr. Falker"
                                },
                                {
                                    "average_rating": "4.51",
                                    "title": "Captive Prince: Volume Two (Captive Prince, #2)"
                                },
                                {
                                    "average_rating": "4.54",
                                    "title": "A Court of Wings and Ruin (A Court of Thorns and Roses, #3)"
                                },
                                {
                                    "average_rating": "4.4",
                                    "title": "The Faceless Ones (Skulduggery Pleasant, #3)"
                                },
                                {
                                    "average_rating": "4.35",
                                    "title": "Transmetropolitan, Vol. 2: Lust for Life (Transmetropolitan, #2)"
                                },
                                {
                                    "average_rating": "4.24",
                                    "title": "Dark Fire (Matthew Shardlake, #2)"
                                },
                                {
                                    "average_rating": "4.24",
                                    "title": "Beautiful Beginning (Beautiful Bastard, #3.5)"
                                },
                                {
                                    "average_rating": "4.23",
                                    "title": "The Assassin and the Pirate Lord (Throne of Glass, #0.1)"
                                },
                                {
                                    "average_rating": "4.25",
                                    "title": "Come Back, Amelia Bedelia"
                                },
                                {
                                    "average_rating": "4.39",
                                    "title": "The Brothers K"
                                },
                                {
                                    "average_rating": "4.41",
                                    "title": "A Dog's Journey (A Dog's Purpose, #2)"
                                },
                                {
                                    "average_rating": "4.43",
                                    "title": "The Meaning of Marriage: Facing the Complexities of Commitment with the Wisdom of God"
                                },
                                {
                                    "average_rating": "4.23",
                                    "title": "The Short Stories"
                                },
                                {
                                    "average_rating": "4.3",
                                    "title": "Binge"
                                },
                                {
                                    "average_rating": "4.32",
                                    "title": "Black Lies"
                                },
                                {
                                    "average_rating": "4.22",
                                    "title": "Rome (Marked Men, #3)"
                                },
                                {
                                    "average_rating": "4.28",
                                    "title": "Giraffes Can't Dance"
                                },
                                {
                                    "average_rating": "4.34",
                                    "title": "Heal Your Body: The Mental Causes for Physical Illness and the Metaphysical Way to Overcome Them"
                                },
                                {
                                    "average_rating": "4.28",
                                    "title": "The Cartel"
                                },
                                {
                                    "average_rating": "4.23",
                                    "title": "Raid (Unfinished Hero, #3)"
                                },
                                {
                                    "average_rating": "4.49",
                                    "title": "Fifth Grave Past the Light (Charley Davidson, #5)"
                                },
                                {
                                    "average_rating": "4.32",
                                    "title": "Revelation (Matthew Shardlake, #4)"
                                },
                                {
                                    "average_rating": "4.4",
                                    "title": "100 Love Sonnets"
                                },
                                {
                                    "average_rating": "4.33",
                                    "title": "Fire Inside (Chaos, #2)"
                                },
                                {
                                    "average_rating": "4.25",
                                    "title": "The Neutronium Alchemist (Night's Dawn, #2)"
                                },
                                {
                                    "average_rating": "4.35",
                                    "title": "The Darkest Seduction (Lords of the Underworld #9)"
                                },
                                {
                                    "average_rating": "4.23",
                                    "title": "Tall, Tatted and Tempting (The Reed Brothers, #1)"
                                },
                                {
                                    "average_rating": "4.36",
                                    "title": "The Dresden Files:  Storm Front, Volume 1-  The Gathering Storm"
                                },
                                {
                                    "average_rating": "4.31",
                                    "title": "Eleventh Grade Burns (The Chronicles of Vladimir Tod, #4)"
                                },
                                {
                                    "average_rating": "4.32",
                                    "title": "When We Were Very Young (Winnie-the-Pooh, #3)"
                                },
                                {
                                    "average_rating": "4.39",
                                    "title": "The Truth Seeker (O'Malley #3)"
                                },
                                {
                                    "average_rating": "4.29",
                                    "title": "The Winter Rose (The Tea Rose, #2)"
                                },
                                {
                                    "average_rating": "4.22",
                                    "title": "The Last Full Measure (The Civil War Trilogy, #3)"
                                },
                                {
                                    "average_rating": "4.29",
                                    "title": "Post Captain (Aubrey/Maturin, #2)"
                                },
                                {
                                    "average_rating": "4.27",
                                    "title": "The Belgariad, Vol. 1: Pawn of Prophecy / Queen of Sorcery / Magician's Gambit (The Belgariad, #1-3)"
                                },
                                {
                                    "average_rating": "4.29",
                                    "title": "One More Chance (Rosemary Beach, #8; Chance, #2)"
                                },
                                {
                                    "average_rating": "4.33",
                                    "title": "Purity in Death (In Death, #15)"
                                },
                                {
                                    "average_rating": "4.23",
                                    "title": "The Hollow Hills (Arthurian Saga, #2)"
                                },
                                {
                                    "average_rating": "4.22",
                                    "title": "Marching Powder: A True Story of Friendship, Cocaine, and South America's Strangest Jail"
                                },
                                {
                                    "average_rating": "4.21",
                                    "title": "Hogwarts: An Incomplete and Unreliable Guide (Pottermore Presents, #3)"
                                },
                                {
                                    "average_rating": "4.27",
                                    "title": "Ronia, the Robber's Daughter"
                                },
                                {
                                    "average_rating": "4.33",
                                    "title": "Dark Guardian (Dark, #9)"
                                },
                                {
                                    "average_rating": "4.3",
                                    "title": "Dark Fire (Dark, #6)"
                                },
                                {
                                    "average_rating": "4.3",
                                    "title": "Citizen: An American Lyric"
                                },
                                {
                                    "average_rating": "4.28",
                                    "title": "Carry on, Jeeves (Jeeves, #3)"
                                },
                                {
                                    "average_rating": "4.23",
                                    "title": "Systematic Theology: An Introduction to Biblical Doctrine"
                                },
                                {
                                    "average_rating": "4.29",
                                    "title": "Dust & Decay (Rot & Ruin, #2)"
                                },
                                {
                                    "average_rating": "4.25",
                                    "title": "An Army at Dawn: The War in North Africa, 1942-1943 (World War II Liberation Trilogy, #1)"
                                },
                                {
                                    "average_rating": "4.3",
                                    "title": "Seduction in Death (In Death, #13)"
                                },
                                {
                                    "average_rating": "4.33",
                                    "title": "Bone: Quest for the Spark, Vol. 1"
                                },
                                {
                                    "average_rating": "4.28",
                                    "title": "No Mercy (Dark-Hunter #18, Were-Hunter, #5)"
                                },
                                {
                                    "average_rating": "4.28",
                                    "title": "The Vor Game (Vorkosigan Saga, #6)"
                                },
                                {
                                    "average_rating": "4.3",
                                    "title": "Choosing to SEE"
                                },
                                {
                                    "average_rating": "4.29",
                                    "title": "The Unabridged Journals of Sylvia Plath"
                                },
                                {
                                    "average_rating": "4.53",
                                    "title": "This Is Water: Some Thoughts, Delivered on a Significant Occasion, about Living a Compassionate Life"
                                },
                                {
                                    "average_rating": "4.23",
                                    "title": "QED: The Strange Theory of Light and Matter"
                                },
                                {
                                    "average_rating": "4.24",
                                    "title": "Mastiff (Beka Cooper, #3)"
                                },
                                {
                                    "average_rating": "4.25",
                                    "title": "Batman: Hush, Vol. 2"
                                },
                                {
                                    "average_rating": "4.35",
                                    "title": "Chasing the Prophecy (Beyonders, #3)"
                                },
                                {
                                    "average_rating": "4.4",
                                    "title": "The Assassin and the Desert (Throne of Glass, #0.3)"
                                },
                                {
                                    "average_rating": "4.21",
                                    "title": "Once and Always (Sequels, #1)"
                                },
                                {
                                    "average_rating": "4.23",
                                    "title": "Bloodline (Sigma Force, #8)"
                                },
                                {
                                    "average_rating": "4.28",
                                    "title": "Death of Kings (The Saxon Stories, #6)"
                                },
                                {
                                    "average_rating": "4.24",
                                    "title": "Auschwitz"
                                },
                                {
                                    "average_rating": "4.33",
                                    "title": "Born in Death (In Death, #23)"
                                },
                                {
                                    "average_rating": "4.36",
                                    "title": "درخت زیبای من"
                                },
                                {
                                    "average_rating": "4.44",
                                    "title": "Return (Redemption, #3)"
                                },
                                {
                                    "average_rating": "4.24",
                                    "title": "Dom Casmurro"
                                },
                                {
                                    "average_rating": "4.22",
                                    "title": "Love★Com, Vol. 1"
                                },
                                {
                                    "average_rating": "4.22",
                                    "title": "The Lions of Little Rock"
                                },
                                {
                                    "average_rating": "4.35",
                                    "title": "Hetalia: Axis Powers, Vol. 1 (Hetalia: Axis Powers, #1)"
                                },
                                {
                                    "average_rating": "4.47",
                                    "title": "Finding Nemo"
                                },
                                {
                                    "average_rating": "4.29",
                                    "title": "Calling Doctor Amelia Bedelia"
                                },
                                {
                                    "average_rating": "4.27",
                                    "title": "These High, Green Hills (Mitford Years, #3)"
                                },
                                {
                                    "average_rating": "4.38",
                                    "title": "Now We Are Six (Winnie-the-Pooh, #4)"
                                },
                                {
                                    "average_rating": "4.27",
                                    "title": "Taken by Midnight (Midnight Breed, #8)"
                                },
                                {
                                    "average_rating": "4.37",
                                    "title": "The Law of Moses (The Law of Moses, #1)"
                                },
                                {
                                    "average_rating": "4.28",
                                    "title": "Fallen Crest Family (Fallen Crest High, #2)"
                                },
                                {
                                    "average_rating": "4.26",
                                    "title": "L.A. Requiem (Elvis Cole, #8)"
                                },
                                {
                                    "average_rating": "4.23",
                                    "title": "Dark Challenge (Dark, #5)"
                                },
                                {
                                    "average_rating": "4.21",
                                    "title": "Scarecrow (Shane Schofield, #3)"
                                },
                                {
                                    "average_rating": "4.25",
                                    "title": "The Earthsea Trilogy"
                                },
                                {
                                    "average_rating": "4.25",
                                    "title": "A Sick Day for Amos McGee"
                                },
                                {
                                    "average_rating": "4.42",
                                    "title": "Tales from a Not-So-Happy Heartbreaker (Dork Diaries, #6)"
                                },
                                {
                                    "average_rating": "4.28",
                                    "title": "Perfect Scoundrels (Heist Society, #3)"
                                },
                                {
                                    "average_rating": "4.37",
                                    "title": "The Pigeon Wants a Puppy!"
                                },
                                {
                                    "average_rating": "4.35",
                                    "title": "Mornings in Jenin"
                                },
                                {
                                    "average_rating": "4.28",
                                    "title": "The Faraway Tree Stories (The Faraway Tree #1-3)"
                                },
                                {
                                    "average_rating": "4.25",
                                    "title": "The Walking Dead, Vol. 09: Here We Remain"
                                },
                                {
                                    "average_rating": "4.48",
                                    "title": "Black Butler, Vol. 2 (Black Butler, #2)"
                                },
                                {
                                    "average_rating": "4.38",
                                    "title": "Death Note, Vol. 4: Love (Death Note, #4)"
                                },
                                {
                                    "average_rating": "4.35",
                                    "title": "The Autumn Republic (Powder Mage, #3)"
                                },
                                {
                                    "average_rating": "4.33",
                                    "title": "The Walking Dead, Vol. 11: Fear the Hunters"
                                },
                                {
                                    "average_rating": "4.21",
                                    "title": "The Friend Zone (Game On, #2)"
                                },
                                {
                                    "average_rating": "4.39",
                                    "title": "The Rose and the Thorn (The Riyria Chronicles, #2)"
                                },
                                {
                                    "average_rating": "4.29",
                                    "title": "Frostbitten (Women of the Otherworld, #10)"
                                },
                                {
                                    "average_rating": "4.35",
                                    "title": "Blood Kiss (Black Dagger Legacy, #1)"
                                },
                                {
                                    "average_rating": "4.32",
                                    "title": "عائد إلى حيفا"
                                },
                                {
                                    "average_rating": "4.43",
                                    "title": "رباعيات صلاح جاهين"
                                },
                                {
                                    "average_rating": "4.32",
                                    "title": "The Love Song of J. Alfred Prufrock and Other Poems"
                                },
                                {
                                    "average_rating": "4.43",
                                    "title": "The Witch With No Name (The Hollows, #13)"
                                },
                                {
                                    "average_rating": "4.24",
                                    "title": "King (King, #1)"
                                },
                                {
                                    "average_rating": "4.38",
                                    "title": "Twilight and History"
                                }
                            ]
                        },
                        "text/html": [
                            "<table>",
                            "<tr><th>average_rating</th><th>title</th></tr>",
                            "<tr><td>4.34</td><td>The Hunger Games (The Hunger Games, #1)</td></tr>",
                            "<tr><td>4.44</td><td>Harry Potter and the Sorcerer&#39;s Stone (Harry Potter, #1)</td></tr>",
                            "<tr><td>4.25</td><td>To Kill a Mockingbird</td></tr>",
                            "<tr><td>4.26</td><td>The Fault in Our Stars</td></tr>",
                            "<tr><td>4.25</td><td>The Hobbit</td></tr>",
                            "<tr><td>4.24</td><td>Pride and Prejudice</td></tr>",
                            "<tr><td>4.26</td><td>The Kite Runner</td></tr>",
                            "<tr><td>4.24</td><td>Divergent (Divergent, #1)</td></tr>",
                            "<tr><td>4.3</td><td>Catching Fire (The Hunger Games, #2)</td></tr>",
                            "<tr><td>4.53</td><td>Harry Potter and the Prisoner of Azkaban (Harry Potter, #3)</td></tr>",
                            "<tr><td>4.34</td><td>The Fellowship of the Ring (The Lord of the Rings, #1)</td></tr>",
                            "<tr><td>4.46</td><td>Harry Potter and the Order of the Phoenix (Harry Potter, #5)</td></tr>",
                            "<tr><td>4.37</td><td>Harry Potter and the Chamber of Secrets (Harry Potter, #2)</td></tr>",
                            "<tr><td>4.53</td><td>Harry Potter and the Goblet of Fire (Harry Potter, #4)</td></tr>",
                            "<tr><td>4.61</td><td>Harry Potter and the Deathly Hallows (Harry Potter, #7)</td></tr>",
                            "<tr><td>4.54</td><td>Harry Potter and the Half-Blood Prince (Harry Potter, #6)</td></tr>",
                            "<tr><td>4.45</td><td>The Help</td></tr>",
                            "<tr><td>4.45</td><td>A Game of Thrones (A Song of Ice and Fire, #1)</td></tr>",
                            "<tr><td>4.23</td><td>The Lightning Thief (Percy Jackson and the Olympians, #1)</td></tr>",
                            "<tr><td>4.36</td><td>The Book Thief</td></tr>",
                            "<tr><td>4.29</td><td>Where the Sidewalk Ends</td></tr>",
                            "<tr><td>4.28</td><td>Gone with the Wind</td></tr>",
                            "<tr><td>4.34</td><td>A Thousand Splendid Suns</td></tr>",
                            "<tr><td>4.21</td><td>The Perks of Being a Wallflower</td></tr>",
                            "<tr><td>4.3</td><td>Ender&#39;s Game (Ender&#39;s Saga, #1)</td></tr>",
                            "<tr><td>4.28</td><td>The Little Prince</td></tr>",
                            "<tr><td>4.24</td><td>The Glass Castle</td></tr>",
                            "<tr><td>4.38</td><td>The Giving Tree</td></tr>",
                            "<tr><td>4.3</td><td>Night (The Night Trilogy #1)</td></tr>",
                            "<tr><td>4.25</td><td>The Princess Bride </td></tr>",
                            "<tr><td>4.22</td><td>The Girl Who Played with Fire (Millennium, #2)</td></tr>",
                            "<tr><td>4.22</td><td>Where the Wild Things Are</td></tr>",
                            "<tr><td>4.21</td><td>The Count of Monte Cristo</td></tr>",
                            "<tr><td>4.4</td><td>A Clash of Kings  (A Song of Ice and Fire, #2)</td></tr>",
                            "<tr><td>4.27</td><td>Me Before You (Me Before You, #1)</td></tr>",
                            "<tr><td>4.23</td><td>Anne of Green Gables (Anne of Green Gables, #1)</td></tr>",
                            "<tr><td>4.34</td><td>City of Glass (The Mortal Instruments, #3)</td></tr>",
                            "<tr><td>4.54</td><td>A Storm of Swords (A Song of Ice and Fire, #3)</td></tr>",
                            "<tr><td>4.39</td><td>The Martian</td></tr>",
                            "<tr><td>4.29</td><td>The Pillars of the Earth (The Kingsbridge Series, #1)</td></tr>",
                            "<tr><td>4.31</td><td>All the Light We Cannot See</td></tr>",
                            "<tr><td>4.4</td><td>Unbroken: A World War II Story of Survival, Resilience, and Redemption</td></tr>",
                            "<tr><td>4.23</td><td>The Sea of Monsters (Percy Jackson and the Olympians, #2)</td></tr>",
                            "<tr><td>4.21</td><td>City of Ashes (The Mortal Instruments, #2)</td></tr>",
                            "<tr><td>4.42</td><td>The Two Towers (The Lord of the Rings, #2)</td></tr>",
                            "<tr><td>4.29</td><td>Green Eggs and Ham</td></tr>",
                            "<tr><td>4.39</td><td>The Battle of the Labyrinth (Percy Jackson and the Olympians, #4)</td></tr>",
                            "<tr><td>4.51</td><td>The Return of the King (The Lord of the Rings, #3)</td></tr>",
                            "<tr><td>4.35</td><td>The Lost Hero (The Heroes of Olympus, #1)</td></tr>",
                            "<tr><td>4.34</td><td>The Stand</td></tr>",
                            "<tr><td>4.5</td><td>The Last Olympian (Percy Jackson and the Olympians, #5)</td></tr>",
                            "<tr><td>4.33</td><td>Clockwork Angel (The Infernal Devices, #1)</td></tr>",
                            "<tr><td>4.29</td><td>Matilda</td></tr>",
                            "<tr><td>4.31</td><td>A Dance with Dragons (A Song of Ice and Fire, #5)</td></tr>",
                            "<tr><td>4.47</td><td>The Lord of the Rings (The Lord of the Rings, #1-3)</td></tr>",
                            "<tr><td>4.35</td><td>Watchmen</td></tr>",
                            "<tr><td>4.55</td><td>The Name of the Wind (The Kingkiller Chronicle, #1)</td></tr>",
                            "<tr><td>4.23</td><td>And Then There Were None</td></tr>",
                            "<tr><td>4.33</td><td>The Titan&#39;s Curse (Percy Jackson and the Olympians, #3)</td></tr>",
                            "<tr><td>4.31</td><td>Ready Player One</td></tr>",
                            "<tr><td>4.24</td><td>The Chronicles of Narnia (Chronicles of Narnia, #1-7)</td></tr>",
                            "<tr><td>4.23</td><td>Twilight: The Complete Illustrated Movie Companion</td></tr>",
                            "<tr><td>4.35</td><td>East of Eden</td></tr>",
                            "<tr><td>4.43</td><td>Wonder</td></tr>",
                            "<tr><td>4.24</td><td>The Shadow of the Wind (The Cemetery of Forgotten Books,  #1)</td></tr>",
                            "<tr><td>4.24</td><td>A Tree Grows in Brooklyn</td></tr>",
                            "<tr><td>4.54</td><td>The Nightingale</td></tr>",
                            "<tr><td>4.36</td><td>The Godfather</td></tr>",
                            "<tr><td>4.34</td><td>A Light in the Attic</td></tr>",
                            "<tr><td>4.25</td><td>Good Omens: The Nice and Accurate Prophecies of Agnes Nutter, Witch</td></tr>",
                            "<tr><td>4.28</td><td>Cutting for Stone</td></tr>",
                            "<tr><td>4.44</td><td>The Son of Neptune (The Heroes of Olympus, #2)</td></tr>",
                            "<tr><td>4.29</td><td>11/22/63</td></tr>",
                            "<tr><td>4.29</td><td>The Very Hungry Caterpillar Board Book</td></tr>",
                            "<tr><td>4.57</td><td>The Wise Man&#39;s Fear (The Kingkiller Chronicle, #2)</td></tr>",
                            "<tr><td>4.22</td><td>The Thorn Birds</td></tr>",
                            "<tr><td>4.3</td><td>City of Lost Souls (The Mortal Instruments, #5)</td></tr>",
                            "<tr><td>4.22</td><td>A Prayer for Owen Meany</td></tr>",
                            "<tr><td>4.25</td><td>The Last Lecture</td></tr>",
                            "<tr><td>4.3</td><td>Still Alice</td></tr>",
                            "<tr><td>4.33</td><td>Reflected in You (Crossfire, #2)</td></tr>",
                            "<tr><td>4.37</td><td>The Ultimate Hitchhiker&#39;s Guide to the Galaxy</td></tr>",
                            "<tr><td>4.27</td><td>Goodnight Moon</td></tr>",
                            "<tr><td>4.46</td><td>Clockwork Prince (The Infernal Devices, #2)</td></tr>",
                            "<tr><td>4.34</td><td>Oh, The Places You&#39;ll Go!</td></tr>",
                            "<tr><td>4.21</td><td>The Screwtape Letters</td></tr>",
                            "<tr><td>4.36</td><td>How the Grinch Stole Christmas!</td></tr>",
                            "<tr><td>4.25</td><td>V for Vendetta</td></tr>",
                            "<tr><td>4.22</td><td>The BFG</td></tr>",
                            "<tr><td>4.3</td><td>Frostbite (Vampire Academy, #2)</td></tr>",
                            "<tr><td>4.43</td><td>The Final Empire (Mistborn, #1)</td></tr>",
                            "<tr><td>4.35</td><td>The Lorax</td></tr>",
                            "<tr><td>4.24</td><td>Throne of Glass (Throne of Glass, #1)</td></tr>",
                            "<tr><td>4.37</td><td>Shadow Kiss (Vampire Academy, #3)</td></tr>",
                            "<tr><td>4.26</td><td>Fried Green Tomatoes at the Whistle Stop Cafe</td></tr>",
                            "<tr><td>4.23</td><td>The Five Love Languages: How to Express Heartfelt Commitment to Your Mate</td></tr>",
                            "<tr><td>4.37</td><td>Spirit Bound (Vampire Academy, #5)</td></tr>",
                            "<tr><td>4.35</td><td>Blood Promise (Vampire Academy, #4)</td></tr>",
                            "<tr><td>4.74</td><td>Harry Potter Boxset (Harry Potter, #1-7)</td></tr>",
                            "<tr><td>4.47</td><td>The Mark of Athena (The Heroes of Olympus, #3)</td></tr>",
                            "<tr><td>4.21</td><td>Dark Lover (Black Dagger Brotherhood, #1)</td></tr>",
                            "<tr><td>4.23</td><td>The Invention of Wings</td></tr>",
                            "<tr><td>4.26</td><td>Fall of Giants (The Century Trilogy, #1)</td></tr>",
                            "<tr><td>4.34</td><td>Winnie-the-Pooh (Winnie-the-Pooh, #1)</td></tr>",
                            "<tr><td>4.24</td><td>If You Give a Mouse a Cookie</td></tr>",
                            "<tr><td>4.35</td><td>A Man Called Ove</td></tr>",
                            "<tr><td>4.59</td><td>Clockwork Princess (The Infernal Devices, #3)</td></tr>",
                            "<tr><td>4.31</td><td>Dragonfly in Amber (Outlander, #2)</td></tr>",
                            "<tr><td>4.43</td><td>Holy Bible: King James Version</td></tr>",
                            "<tr><td>4.48</td><td>The Hobbit: Graphic Novel</td></tr>",
                            "<tr><td>4.33</td><td>Man&#39;s Search for Meaning</td></tr>",
                            "<tr><td>4.3</td><td>The Brothers Karamazov</td></tr>",
                            "<tr><td>4.42</td><td>The Green Mile</td></tr>",
                            "<tr><td>4.22</td><td>The Prophet</td></tr>",
                            "<tr><td>4.35</td><td>Maus I: A Survivor&#39;s Tale: My Father Bleeds History (Maus, #1)</td></tr>",
                            "<tr><td>4.31</td><td>Mere Christianity</td></tr>",
                            "<tr><td>4.3</td><td>The Walking Dead, Vol. 01: Days Gone Bye</td></tr>",
                            "<tr><td>4.48</td><td>Redeeming Love</td></tr>",
                            "<tr><td>4.21</td><td>The One (The Selection, #3)</td></tr>",
                            "<tr><td>4.49</td><td>The Hunger Games Trilogy Boxset (The Hunger Games, #1-3)</td></tr>",
                            "<tr><td>4.37</td><td>The Complete Stories and Poems</td></tr>",
                            "<tr><td>4.42</td><td>The Hiding Place: The Triumphant True Story of Corrie Ten Boom</td></tr>",
                            "<tr><td>4.29</td><td>The Adventures of Sherlock Holmes</td></tr>",
                            "<tr><td>4.22</td><td>The Prince of Tides</td></tr>",
                            "<tr><td>4.23</td><td>The Dragon Reborn (Wheel of Time, #3)</td></tr>",
                            "<tr><td>4.23</td><td>Batman: Year One</td></tr>",
                            "<tr><td>4.34</td><td>Hopeless (Hopeless, #1)</td></tr>",
                            "<tr><td>4.42</td><td>Last Sacrifice (Vampire Academy, #6)</td></tr>",
                            "<tr><td>4.29</td><td>The Velveteen Rabbit</td></tr>",
                            "<tr><td>4.28</td><td>Corduroy</td></tr>",
                            "<tr><td>4.38</td><td>Voyager (Outlander, #3)</td></tr>",
                            "<tr><td>4.22</td><td>The Phantom Tollbooth</td></tr>",
                            "<tr><td>4.64</td><td>The Way of Kings (The Stormlight Archive, #1)</td></tr>",
                            "<tr><td>4.35</td><td>The Well of Ascension (Mistborn, #2)</td></tr>",
                            "<tr><td>4.25</td><td>Batman: The Dark Knight Returns (The Dark Knight Saga, #1)</td></tr>",
                            "<tr><td>4.3</td><td>Scarlet (The Lunar Chronicles, #2)</td></tr>",
                            "<tr><td>4.42</td><td>Death Note, Vol. 1: Boredom (Death Note, #1)</td></tr>",
                            "<tr><td>4.32</td><td>The Master and Margarita</td></tr>",
                            "<tr><td>4.22</td><td>The Restaurant at the End of the Universe (Hitchhiker&#39;s Guide, #2)</td></tr>",
                            "<tr><td>4.46</td><td>The Hero of Ages (Mistborn, #3)</td></tr>",
                            "<tr><td>4.48</td><td>City of Heavenly Fire (The Mortal Instruments, #6)</td></tr>",
                            "<tr><td>4.34</td><td>Love You Forever</td></tr>",
                            "<tr><td>4.32</td><td>The Boys in the Boat: Nine Americans and Their Epic Quest for Gold at the 1936 Berlin Olympics</td></tr>",
                            "<tr><td>4.23</td><td>The Drawing of the Three (The Dark Tower, #2)</td></tr>",
                            "<tr><td>4.29</td><td>The Polar Express</td></tr>",
                            "<tr><td>4.29</td><td>The True Story of the 3 Little Pigs</td></tr>",
                            "<tr><td>4.3</td><td>The Twilight Saga Breaking Dawn Part 1: The Official Illustrated Movie Companion (The Twilight Saga: The Official Illustrated Movie Companion, #4)</td></tr>",
                            "<tr><td>4.23</td><td>World Without End (The Kingsbridge Series, #2)</td></tr>",
                            "<tr><td>4.29</td><td>Slammed (Slammed, #1)</td></tr>",
                            "<tr><td>4.22</td><td>Alexander and the Terrible, Horrible, No Good, Very Bad Day</td></tr>",
                            "<tr><td>4.26</td><td>Americanah</td></tr>",
                            "<tr><td>4.27</td><td>Born to Run: A Hidden Tribe, Superathletes, and the Greatest Race the World Has Never Seen</td></tr>",
                            "<tr><td>4.22</td><td>Madeline</td></tr>",
                            "<tr><td>4.54</td><td>The House of Hades (The Heroes of Olympus, #4)</td></tr>",
                            "<tr><td>4.31</td><td>On Writing: A Memoir of the Craft</td></tr>",
                            "<tr><td>4.34</td><td>Drums of Autumn (Outlander, #4)</td></tr>",
                            "<tr><td>4.29</td><td>Prodigy (Legend, #2)</td></tr>",
                            "<tr><td>4.51</td><td>The Hunger Games: Official Illustrated Movie Companion</td></tr>",
                            "<tr><td>4.21</td><td>Bleach, Volume 01</td></tr>",
                            "<tr><td>4.21</td><td>The Shadow Rising (Wheel of Time, #4)</td></tr>",
                            "<tr><td>4.26</td><td>Shantaram</td></tr>",
                            "<tr><td>4.24</td><td>The Waste Lands (The Dark Tower, #3)</td></tr>",
                            "<tr><td>4.21</td><td>Hyperion (Hyperion Cantos, #1)</td></tr>",
                            "<tr><td>4.42</td><td>Roots: The Saga of an American Family</td></tr>",
                            "<tr><td>4.36</td><td>Batman: The Killing Joke</td></tr>",
                            "<tr><td>4.34</td><td>Different Seasons</td></tr>",
                            "<tr><td>4.33</td><td>The Little House Collection (Little House, #1-9)</td></tr>",
                            "<tr><td>4.24</td><td>Wool Omnibus (Silo, #1)</td></tr>",
                            "<tr><td>4.26</td><td>Lamb: The Gospel According to Biff, Christ&#39;s Childhood Pal</td></tr>",
                            "<tr><td>4.3</td><td>The Lies of Locke Lamora (Gentleman Bastard, #1)</td></tr>",
                            "<tr><td>4.26</td><td>The Storyteller</td></tr>",
                            "<tr><td>4.23</td><td>Obsidian (Lux, #1)</td></tr>",
                            "<tr><td>4.49</td><td>Crown of Midnight (Throne of Glass, #2)</td></tr>",
                            "<tr><td>4.22</td><td>Mort (Death, #1; Discworld, #4)</td></tr>",
                            "<tr><td>4.47</td><td>Lonesome Dove</td></tr>",
                            "<tr><td>4.22</td><td>Bloodlines (Bloodlines, #1)</td></tr>",
                            "<tr><td>4.3</td><td>Ender&#39;s Shadow (Ender&#39;s Shadow, #1)</td></tr>",
                            "<tr><td>4.34</td><td>Schindler&#39;s List</td></tr>",
                            "<tr><td>4.29</td><td>The Autobiography of Malcolm X</td></tr>",
                            "<tr><td>4.3</td><td>Preludes &amp; Nocturnes (The Sandman #1)</td></tr>",
                            "<tr><td>4.5</td><td>The Complete Sherlock Holmes</td></tr>",
                            "<tr><td>4.46</td><td>Cress (The Lunar Chronicles, #3)</td></tr>",
                            "<tr><td>4.34</td><td>A Fine Balance</td></tr>",
                            "<tr><td>4.61</td><td>Calvin and Hobbes</td></tr>",
                            "<tr><td>4.33</td><td>Falling Up</td></tr>",
                            "<tr><td>4.31</td><td>The Complete Grimm&#39;s Fairy Tales</td></tr>",
                            "<tr><td>4.24</td><td>On Dublin Street (On Dublin Street, #1)</td></tr>",
                            "<tr><td>4.23</td><td>Fruits Basket, Vol. 1</td></tr>",
                            "<tr><td>4.24</td><td>Wizard and Glass (The Dark Tower, #4)</td></tr>",
                            "<tr><td>4.23</td><td>The Invention of Hugo Cabret</td></tr>",
                            "<tr><td>4.36</td><td>Ouran High School Host Club, Vol. 1 (Ouran High School Host Club, #1)</td></tr>",
                            "<tr><td>4.21</td><td>Fallen Too Far (Rosemary Beach, #1; Too Far, #1)</td></tr>",
                            "<tr><td>4.3</td><td>Howl&#39;s Moving Castle (Howl&#39;s Moving Castle, #1)</td></tr>",
                            "<tr><td>4.23</td><td>Persepolis: The Story of a Childhood (Persepolis, #1)</td></tr>",
                            "<tr><td>4.35</td><td>Naruto, Vol. 01: The Tests of the Ninja (Naruto, #1)</td></tr>",
                            "<tr><td>4.37</td><td>Shōgun (Asian Saga, #1)</td></tr>",
                            "<tr><td>4.45</td><td>Lover Awakened (Black Dagger Brotherhood, #3)</td></tr>",
                            "<tr><td>4.29</td><td>A Court of Thorns and Roses (A Court of Thorns and Roses, #1)</td></tr>",
                            "<tr><td>4.21</td><td>Chicka Chicka Boom Boom</td></tr>",
                            "<tr><td>4.26</td><td>Animal Farm / 1984</td></tr>",
                            "<tr><td>4.32</td><td>When Breath Becomes Air</td></tr>",
                            "<tr><td>4.26</td><td>Red Rising (Red Rising, #1)</td></tr>",
                            "<tr><td>4.23</td><td>Walking Disaster (Beautiful, #2)</td></tr>",
                            "<tr><td>4.77</td><td>Words of Radiance (The Stormlight Archive, #2)</td></tr>",
                            "<tr><td>4.36</td><td>Guess How Much I Love You</td></tr>",
                            "<tr><td>4.26</td><td>The Fiery Cross (Outlander, #5)</td></tr>",
                            "<tr><td>4.3</td><td>Team of Rivals: The Political Genius of Abraham Lincoln</td></tr>",
                            "<tr><td>4.24</td><td>Harold and the Purple Crayon</td></tr>",
                            "<tr><td>4.35</td><td>Lover Eternal (Black Dagger Brotherhood, #2)</td></tr>",
                            "<tr><td>4.23</td><td>Second Foundation (Foundation #3)</td></tr>",
                            "<tr><td>4.49</td><td>Fullmetal Alchemist, Vol. 1 (Fullmetal Alchemist, #1)</td></tr>",
                            "<tr><td>4.32</td><td>Guards! Guards! (Discworld, #8)</td></tr>",
                            "<tr><td>4.23</td><td>Old Man&#39;s War (Old Man&#39;s War, #1)</td></tr>",
                            "<tr><td>4.25</td><td>His Dark Materials (His Dark Materials #1-3)</td></tr>",
                            "<tr><td>4.26</td><td>The Edge of Never (The Edge of Never, #1)</td></tr>",
                            "<tr><td>4.27</td><td>The Dark Tower (The Dark Tower, #7)</td></tr>",
                            "<tr><td>4.29</td><td>Surely You&#39;re Joking, Mr. Feynman!: Adventures of a Curious Character</td></tr>",
                            "<tr><td>4.42</td><td>The Complete Anne of Green Gables Boxed Set (Anne of Green Gables, #1-8)</td></tr>",
                            "<tr><td>4.34</td><td>The Gathering Storm (Wheel of Time, #12)</td></tr>",
                            "<tr><td>4.3</td><td>Point of Retreat (Slammed, #2)</td></tr>",
                            "<tr><td>4.59</td><td>J.R.R. Tolkien 4-Book Boxed Set: The Hobbit and The Lord of the Rings</td></tr>",
                            "<tr><td>4.44</td><td>Dr. Seuss&#39;s Green Eggs and Ham: For Soprano, Boy Soprano, and Orchestra</td></tr>",
                            "<tr><td>4.4</td><td>Between the World and Me</td></tr>",
                            "<tr><td>4.26</td><td>The Big Short: Inside the Doomsday Machine</td></tr>",
                            "<tr><td>4.36</td><td>A Monster Calls</td></tr>",
                            "<tr><td>4.42</td><td>Towers of Midnight (Wheel of Time, #13)</td></tr>",
                            "<tr><td>4.25</td><td>The Day of the Jackal</td></tr>",
                            "<tr><td>4.31</td><td>All Creatures Great and Small (All Creatures Great and Small, #1-2)</td></tr>",
                            "<tr><td>4.45</td><td>The Monster at the End of this Book</td></tr>",
                            "<tr><td>4.37</td><td>Champion (Legend, #3)</td></tr>",
                            "<tr><td>4.65</td><td>The Essential Calvin and Hobbes: A Calvin and Hobbes Treasury</td></tr>",
                            "<tr><td>4.21</td><td>Royal Assassin (Farseer Trilogy, #2)</td></tr>",
                            "<tr><td>4.53</td><td>Heir of Fire (Throne of Glass, #3)</td></tr>",
                            "<tr><td>4.43</td><td>A Breath of Snow and Ashes (Outlander, #6)</td></tr>",
                            "<tr><td>4.41</td><td>The Blood of Olympus (The Heroes of Olympus, #5)</td></tr>",
                            "<tr><td>4.25</td><td>Saga, Vol. 1 (Saga, #1)</td></tr>",
                            "<tr><td>4.37</td><td>Effortless (Thoughtless, #2)</td></tr>",
                            "<tr><td>4.24</td><td>The One and Only Ivan</td></tr>",
                            "<tr><td>4.21</td><td>Career of Evil (Cormoran Strike, #3)</td></tr>",
                            "<tr><td>4.29</td><td>Winter of the World (The Century Trilogy #2)</td></tr>",
                            "<tr><td>4.31</td><td>Tao Te Ching</td></tr>",
                            "<tr><td>4.27</td><td>Kane and Abel (Kane and Abel, #1)</td></tr>",
                            "<tr><td>4.28</td><td>The Great Divorce</td></tr>",
                            "<tr><td>4.28</td><td>The Complete Fairy Tales</td></tr>",
                            "<tr><td>4.34</td><td>New Moon: The Complete Illustrated Movie Companion (The Twilight Saga: The Official Illustrated Movie Companion, #2)</td></tr>",
                            "<tr><td>4.33</td><td>Maybe Someday (Maybe, #1)</td></tr>",
                            "<tr><td>4.21</td><td>Anne of the Island (Anne of Green Gables, #3)</td></tr>",
                            "<tr><td>4.22</td><td>Finale (Hush, Hush, #4)</td></tr>",
                            "<tr><td>4.3</td><td>Summer Knight (The Dresden Files, #4)</td></tr>",
                            "<tr><td>4.3</td><td>Ugly Love</td></tr>",
                            "<tr><td>4.22</td><td>Gabriel&#39;s Rapture (Gabriel&#39;s Inferno, #2)</td></tr>",
                            "<tr><td>4.25</td><td>Cryptonomicon</td></tr>",
                            "<tr><td>4.24</td><td>Moneyball: The Art of Winning an Unfair Game</td></tr>",
                            "<tr><td>4.33</td><td>Exodus</td></tr>",
                            "<tr><td>4.33</td><td>Onyx (Lux, #2)</td></tr>",
                            "<tr><td>4.28</td><td>Unravel Me (Shatter Me, #2)</td></tr>",
                            "<tr><td>4.42</td><td>Attack on Titan, Vol. 1 (Attack on Titan, #1)</td></tr>",
                            "<tr><td>4.36</td><td>Between Shades of Gray</td></tr>",
                            "<tr><td>4.27</td><td>A Little Life</td></tr>",
                            "<tr><td>4.34</td><td>Aristotle and Dante Discover the Secrets of the Universe (Aristotle and Dante Discover the Secrets of the Universe, #1)</td></tr>",
                            "<tr><td>4.21</td><td>Anne of Avonlea (Anne of Green Gables, #2)</td></tr>",
                            "<tr><td>4.24</td><td>This Present Darkness (Darkness, #1)</td></tr>",
                            "<tr><td>4.21</td><td>The Coincidence of Callie &amp; Kayden (The Coincidence, #1)</td></tr>",
                            "<tr><td>4.39</td><td>The Foundation Trilogy (Foundation, #1-3)</td></tr>",
                            "<tr><td>4.32</td><td>Death Masks (The Dresden Files, #5)</td></tr>",
                            "<tr><td>4.22</td><td>Stellaluna</td></tr>",
                            "<tr><td>4.27</td><td>Before They Are Hanged (The First Law #2)</td></tr>",
                            "<tr><td>4.35</td><td>Cosmos</td></tr>",
                            "<tr><td>4.22</td><td>A Scandal in Bohemia (The Adventures of Sherlock Holmes, #1)</td></tr>",
                            "<tr><td>4.21</td><td>The Reckoning (Darkest Powers, #3)</td></tr>",
                            "<tr><td>4.23</td><td>Red Seas Under Red Skies (Gentleman Bastard, #2)</td></tr>",
                            "<tr><td>4.28</td><td>City of Thieves</td></tr>",
                            "<tr><td>4.29</td><td>Abhorsen (Abhorsen, #3)</td></tr>",
                            "<tr><td>4.6</td><td>Queen of Shadows (Throne of Glass, #4)</td></tr>",
                            "<tr><td>4.41</td><td>Maus II: A Survivor&#39;s Tale: And Here My Troubles Began (Maus, #2)</td></tr>",
                            "<tr><td>4.36</td><td>The Night Before Christmas</td></tr>",
                            "<tr><td>4.42</td><td>An Echo in the Bone (Outlander, #7)</td></tr>",
                            "<tr><td>4.26</td><td>Miss Nelson Is Missing! (Miss Nelson, #1)</td></tr>",
                            "<tr><td>4.3</td><td>Lover Revealed (Black Dagger Brotherhood, #4)</td></tr>",
                            "<tr><td>4.25</td><td>&#39;Salem&#39;s Lot</td></tr>",
                            "<tr><td>4.21</td><td>Never Too Far (Rosemary Beach, #2; Too Far, #2)</td></tr>",
                            "<tr><td>4.33</td><td>Blood Rites (The Dresden Files, #6)</td></tr>",
                            "<tr><td>4.72</td><td>A Court of Mist and Fury (A Court of Thorns and Roses, #2)</td></tr>",
                            "<tr><td>4.42</td><td>Band of Brothers: E Company, 506th Regiment, 101st Airborne from Normandy to Hitler&#39;s Eagle&#39;s Nest</td></tr>",
                            "<tr><td>4.46</td><td>The Complete Sherlock Holmes, Vol 2</td></tr>",
                            "<tr><td>4.42</td><td>One Piece, Volume 01: Romance Dawn (One Piece, #1)</td></tr>",
                            "<tr><td>4.23</td><td>I Am Pilgrim (Pilgrim, #1)</td></tr>",
                            "<tr><td>4.26</td><td>Go the Fuck to Sleep</td></tr>",
                            "<tr><td>4.33</td><td>Lover Unbound (Black Dagger Brotherhood, #5)</td></tr>",
                            "<tr><td>4.36</td><td>Going Postal (Discworld, #33; Moist von Lipwig, #1)</td></tr>",
                            "<tr><td>4.37</td><td>The Book of Mormon: Another Testament of Jesus Christ</td></tr>",
                            "<tr><td>4.43</td><td>Dead Beat (The Dresden Files, #7)</td></tr>",
                            "<tr><td>4.46</td><td>Golden Son (Red Rising, #2)</td></tr>",
                            "<tr><td>4.47</td><td>Night Watch (Discworld, #29; City Watch, #6)</td></tr>",
                            "<tr><td>4.26</td><td>Last Argument of Kings (The First Law, #3)</td></tr>",
                            "<tr><td>4.29</td><td>Lirael (Abhorsen, #2)</td></tr>",
                            "<tr><td>4.37</td><td>Black Butler, Vol. 1 (Black Butler, #1)</td></tr>",
                            "<tr><td>4.49</td><td>Winter (The Lunar Chronicles, #4)</td></tr>",
                            "<tr><td>4.4</td><td>The Hunger Games Tribute Guide</td></tr>",
                            "<tr><td>4.27</td><td>The Warded Man (Demon Cycle, #1)</td></tr>",
                            "<tr><td>4.28</td><td>The Serpent&#39;s Shadow (Kane Chronicles, #3)</td></tr>",
                            "<tr><td>4.41</td><td>Proven Guilty (The Dresden Files, #8)</td></tr>",
                            "<tr><td>4.27</td><td>Small Gods (Discworld, #13)</td></tr>",
                            "<tr><td>4.5</td><td>A Memory of Light (Wheel of Time, #14)</td></tr>",
                            "<tr><td>4.34</td><td>Janet Evanovich Three and Four Two-Book Set (Stephanie Plum, #3-4)</td></tr>",
                            "<tr><td>4.53</td><td>The Complete Maus (Maus, #1-2)</td></tr>",
                            "<tr><td>4.41</td><td>White Night (The Dresden Files, #9)</td></tr>",
                            "<tr><td>4.28</td><td>The Burning Bridge (Ranger&#39;s Apprentice, #2)</td></tr>",
                            "<tr><td>4.34</td><td>Lone Survivor: The Eyewitness Account of Operation Redwing and the Lost Heroes of SEAL Team 10</td></tr>",
                            "<tr><td>4.27</td><td>Shadow&#39;s Edge (Night Angel, #2)</td></tr>",
                            "<tr><td>4.36</td><td>The Golden Lily (Bloodlines, #2)</td></tr>",
                            "<tr><td>4.43</td><td>The Stand: Captain Trips</td></tr>",
                            "<tr><td>4.21</td><td>Cabin Fever (Diary of a Wimpy Kid, #6)</td></tr>",
                            "<tr><td>4.29</td><td>Beyond the Shadows (Night Angel, #3)</td></tr>",
                            "<tr><td>4.21</td><td>Make Way for Ducklings</td></tr>",
                            "<tr><td>4.43</td><td>Small Favor (The Dresden Files, #10)</td></tr>",
                            "<tr><td>4.43</td><td>The Walking Dead, Compendium 1</td></tr>",
                            "<tr><td>4.26</td><td>Grip of the Shadow Plague (Fablehaven, #3)</td></tr>",
                            "<tr><td>4.32</td><td>The Memoirs of Sherlock Holmes</td></tr>",
                            "<tr><td>4.36</td><td>The Complete Persepolis</td></tr>",
                            "<tr><td>4.35</td><td>A Dog&#39;s Purpose (A Dog&#39;s Purpose, #1)</td></tr>",
                            "<tr><td>4.32</td><td>An Ember in the Ashes (An Ember in the Ashes, #1)</td></tr>",
                            "<tr><td>4.27</td><td>Alanna: The First Adventure (Song of the Lioness, #1)</td></tr>",
                            "<tr><td>4.38</td><td>Lover Avenged (Black Dagger Brotherhood, #7)</td></tr>",
                            "<tr><td>4.23</td><td>Wild Swans: Three Daughters of China</td></tr>",
                            "<tr><td>4.21</td><td>The Complete Poems of Emily Dickinson</td></tr>",
                            "<tr><td>4.56</td><td>A Storm of Swords: Blood and Gold (A Song of Ice and Fire, #3: Part 2 of 2)</td></tr>",
                            "<tr><td>4.35</td><td>Small Great Things</td></tr>",
                            "<tr><td>4.21</td><td>Days of Blood &amp; Starlight (Daughter of Smoke &amp; Bone, #2)</td></tr>",
                            "<tr><td>4.24</td><td>Jitterbug Perfume</td></tr>",
                            "<tr><td>4.32</td><td>The Battle for Skandia (Ranger&#39;s Apprentice, #4)</td></tr>",
                            "<tr><td>4.26</td><td>The Darkest Minds (The Darkest Minds, #1)</td></tr>",
                            "<tr><td>4.4</td><td>Fairy Tail, Vol. 1 (Fairy Tail, #1)</td></tr>",
                            "<tr><td>4.41</td><td>Lover Mine (Black Dagger Brotherhood, #8)</td></tr>",
                            "<tr><td>4.24</td><td>The Iron Queen (The Iron Fey, #3)</td></tr>",
                            "<tr><td>4.36</td><td>The House at Pooh Corner (Winnie-the-Pooh, #2)</td></tr>",
                            "<tr><td>4.24</td><td>The Black Prism (Lightbringer, #1)</td></tr>",
                            "<tr><td>4.3</td><td>The Killer Angels (The Civil War Trilogy, #2)</td></tr>",
                            "<tr><td>4.24</td><td>Ptolemy&#39;s Gate (Bartimaeus, #3)</td></tr>",
                            "<tr><td>4.34</td><td>Opal (Lux, #3)</td></tr>",
                            "<tr><td>4.37</td><td>Out of My Mind</td></tr>",
                            "<tr><td>4.25</td><td>Confess</td></tr>",
                            "<tr><td>4.44</td><td>It Ends with Us</td></tr>",
                            "<tr><td>4.28</td><td>Dream Country (The Sandman #3)</td></tr>",
                            "<tr><td>4.4</td><td>Being Mortal: Medicine and What Matters in the End</td></tr>",
                            "<tr><td>4.31</td><td>Long Walk to Freedom</td></tr>",
                            "<tr><td>4.34</td><td>The Power of One (The Power of One, #1)</td></tr>",
                            "<tr><td>4.54</td><td>Changes (The Dresden Files, #12)</td></tr>",
                            "<tr><td>4.35</td><td>The Story of Ferdinand</td></tr>",
                            "<tr><td>4.29</td><td>Impulse (Impulse, #1)</td></tr>",
                            "<tr><td>4.44</td><td>Eclipse: The Complete Illustrated Movie Companion (The Twilight Saga: The Official Illustrated Movie Companion, #3)</td></tr>",
                            "<tr><td>4.6</td><td>A Voice in the Wind (Mark of the Lion, #1)</td></tr>",
                            "<tr><td>4.31</td><td>The Twilight Saga Complete Collection  (Twilight, #1-4 + 3.5)</td></tr>",
                            "<tr><td>4.29</td><td>Batman: The Long Halloween</td></tr>",
                            "<tr><td>4.35</td><td>Secrets of the Dragon Sanctuary (Fablehaven, #4)</td></tr>",
                            "<tr><td>4.45</td><td>Turn Coat (The Dresden Files, #11)</td></tr>",
                            "<tr><td>4.23</td><td>The Mitten</td></tr>",
                            "<tr><td>4.23</td><td>Click, Clack, Moo: Cows That Type</td></tr>",
                            "<tr><td>4.36</td><td>Iron Kissed (Mercy Thompson, #3)</td></tr>",
                            "<tr><td>4.44</td><td>Ignite Me (Shatter Me, #3)</td></tr>",
                            "<tr><td>4.31</td><td>Blood Bound (Mercy Thompson, #2)</td></tr>",
                            "<tr><td>4.51</td><td>Cold Days (The Dresden Files, #14)</td></tr>",
                            "<tr><td>4.3</td><td>All Things Bright and Beautiful (All Creatures Great and Small)</td></tr>",
                            "<tr><td>4.31</td><td>Infinite Jest</td></tr>",
                            "<tr><td>4.22</td><td>Warbreaker (Warbreaker, #1)</td></tr>",
                            "<tr><td>4.24</td><td>Shakespeare&#39;s Sonnets</td></tr>",
                            "<tr><td>4.46</td><td>Six of Crows (Six of Crows, #1)</td></tr>",
                            "<tr><td>4.21</td><td>Same Kind of Different as Me</td></tr>",
                            "<tr><td>4.21</td><td>Mountains Beyond Mountains: The Quest of Dr. Paul Farmer, A Man Who Would Cure the World</td></tr>",
                            "<tr><td>4.3</td><td>Beneath This Man (This Man, #2)</td></tr>",
                            "<tr><td>4.23</td><td>The Richest Man in Babylon</td></tr>",
                            "<tr><td>4.35</td><td>The Great Dune Trilogy  </td></tr>",
                            "<tr><td>4.25</td><td>Ghost Story (The Dresden Files,  #13)</td></tr>",
                            "<tr><td>4.21</td><td>Mother Night</td></tr>",
                            "<tr><td>4.35</td><td>Essential Tales and Poems</td></tr>",
                            "<tr><td>4.39</td><td>My Utmost for His Highest</td></tr>",
                            "<tr><td>4.25</td><td>The Wee Free Men (Discworld, #30; Tiffany Aching, #1)</td></tr>",
                            "<tr><td>4.5</td><td>Written in My Own Heart&#39;s Blood (Outlander, #8)</td></tr>",
                            "<tr><td>4.24</td><td>The Desert Spear (Demon Cycle, #2)</td></tr>",
                            "<tr><td>4.36</td><td>Endurance: Shackleton&#39;s Incredible Voyage</td></tr>",
                            "<tr><td>4.37</td><td>The Love Dare</td></tr>",
                            "<tr><td>4.21</td><td>Born in Fire (Born In Trilogy, #1)</td></tr>",
                            "<tr><td>4.23</td><td>Reason to Breathe (Breathing, #1)</td></tr>",
                            "<tr><td>4.57</td><td>The Mortal Instruments Boxed Set: City of Bones; City of Ashes; City of Glass (The Mortal Instruments, #1-3)</td></tr>",
                            "<tr><td>4.42</td><td>Keys to the Demon Prison (Fablehaven, #5)</td></tr>",
                            "<tr><td>4.21</td><td>Real (Real, #1)</td></tr>",
                            "<tr><td>4.42</td><td>Reckless (Thoughtless, #3)</td></tr>",
                            "<tr><td>4.22</td><td>Strega Nona</td></tr>",
                            "<tr><td>4.29</td><td>Don&#39;t Let the Pigeon Drive the Bus!</td></tr>",
                            "<tr><td>4.27</td><td>The Dream Thieves (The Raven Cycle, #2)</td></tr>",
                            "<tr><td>4.28</td><td>The Raven</td></tr>",
                            "<tr><td>4.63</td><td>The Calvin and Hobbes Tenth Anniversary Book</td></tr>",
                            "<tr><td>4.28</td><td>Half of a Yellow Sun</td></tr>",
                            "<tr><td>4.5</td><td>Morning Star (Red Rising, #3)</td></tr>",
                            "<tr><td>4.25</td><td>Magician: Master (The Riftwar Saga, #2)</td></tr>",
                            "<tr><td>4.26</td><td>Anne Frank Remembered: The Story of the Woman Who Helped to Hide the Frank Family</td></tr>",
                            "<tr><td>4.31</td><td>One Foot in the Grave (Night Huntress, #2)</td></tr>",
                            "<tr><td>4.21</td><td>A Bear Called Paddington (Paddington, #1)</td></tr>",
                            "<tr><td>4.26</td><td>InuYasha: Turning Back Time (InuYasha, #1)</td></tr>",
                            "<tr><td>4.35</td><td>These Is My Words: The Diary of Sarah Agnes Prine, 1881-1901, Arizona Territories (Sarah Agnes Prine, #1)</td></tr>",
                            "<tr><td>4.41</td><td>The Kissing Hand</td></tr>",
                            "<tr><td>4.29</td><td>The Emperor of All Maladies: A Biography of Cancer</td></tr>",
                            "<tr><td>4.28</td><td>Glass (Crank, #2)</td></tr>",
                            "<tr><td>4.25</td><td>In the Hand of the Goddess (Song of the Lioness, #2)</td></tr>",
                            "<tr><td>4.22</td><td>Bird by Bird: Some Instructions on Writing and Life</td></tr>",
                            "<tr><td>4.28</td><td>Lioness Rampant (Song of the Lioness, #4)</td></tr>",
                            "<tr><td>4.24</td><td>A Bad Case of Stripes</td></tr>",
                            "<tr><td>4.27</td><td>Homeland (Forgotten Realms: The Dark Elf Trilogy, #1; Legend of Drizzt, #1)</td></tr>",
                            "<tr><td>4.28</td><td>Stoner</td></tr>",
                            "<tr><td>4.34</td><td>Bone Crossed (Mercy Thompson, #4)</td></tr>",
                            "<tr><td>4.41</td><td>The Indigo Spell (Bloodlines, #3)</td></tr>",
                            "<tr><td>4.43</td><td>Dreamfever (Fever, #4)</td></tr>",
                            "<tr><td>4.44</td><td>The Doll&#39;s House (The Sandman #2)</td></tr>",
                            "<tr><td>4.26</td><td>Dust (Silo, #3)</td></tr>",
                            "<tr><td>4.46</td><td>Shadowfever (Fever, #5)</td></tr>",
                            "<tr><td>4.47</td><td>Blood Song (Raven&#39;s Shadow, #1)</td></tr>",
                            "<tr><td>4.22</td><td>Rules of Attraction (Perfect Chemistry, #2)</td></tr>",
                            "<tr><td>4.44</td><td>Someone Knows My Name</td></tr>",
                            "<tr><td>4.27</td><td>Reaper Man (Discworld, #11; Death, #2)</td></tr>",
                            "<tr><td>4.3</td><td>Piercing the Darkness (Darkness, #2)</td></tr>",
                            "<tr><td>4.33</td><td>Battlefield of the Mind: Winning the Battle in Your Mind</td></tr>",
                            "<tr><td>4.28</td><td>Lover Unleashed (Black Dagger Brotherhood, #9)</td></tr>",
                            "<tr><td>4.23</td><td>If You Give a Pig a Pancake </td></tr>",
                            "<tr><td>4.3</td><td>Bloodfever (Fever, #2)</td></tr>",
                            "<tr><td>4.34</td><td>Faefever (Fever, #3)</td></tr>",
                            "<tr><td>4.33</td><td>The Evolution of Mara Dyer (Mara Dyer, #2)</td></tr>",
                            "<tr><td>4.26</td><td>The Sword of Summer (Magnus Chase and the Gods of Asgard, #1)</td></tr>",
                            "<tr><td>4.38</td><td>Silver Borne (Mercy Thompson, #5)</td></tr>",
                            "<tr><td>4.29</td><td>Fool&#39;s Errand (Tawny Man, #1)</td></tr>",
                            "<tr><td>4.22</td><td>Jewels of the Sun (Gallaghers of Ardmore, #1)</td></tr>",
                            "<tr><td>4.24</td><td>Forever Too Far (Rosemary Beach, #3; Too Far, #3)</td></tr>",
                            "<tr><td>4.49</td><td>A Storm of Swords: Steel and Snow (A Song of Ice and Fire, #3: Part 1 of 2)</td></tr>",
                            "<tr><td>4.31</td><td>The Power of a Praying Wife</td></tr>",
                            "<tr><td>4.48</td><td>Harry Potter: Film Wizardry</td></tr>",
                            "<tr><td>4.23</td><td>The Republic of Thieves (Gentleman Bastard, #3)</td></tr>",
                            "<tr><td>4.22</td><td>World After (Penryn &amp; the End of Days, #2)</td></tr>",
                            "<tr><td>4.26</td><td>Bring Up the Bodies (Thomas Cromwell, #2)</td></tr>",
                            "<tr><td>4.39</td><td>Losing Hope (Hopeless, #2)</td></tr>",
                            "<tr><td>4.36</td><td>Men at Arms (Discworld, #15; City Watch #2)</td></tr>",
                            "<tr><td>4.24</td><td>American Assassin (Mitch Rapp, #1)</td></tr>",
                            "<tr><td>4.24</td><td>Daring Greatly: How the Courage to Be Vulnerable Transforms the Way We Live, Love, Parent, and Lead</td></tr>",
                            "<tr><td>4.34</td><td>The Miraculous Journey of Edward Tulane</td></tr>",
                            "<tr><td>4.21</td><td>The Third Wheel (Diary of a Wimpy Kid, #7)</td></tr>",
                            "<tr><td>4.24</td><td>Burned (Burned, #1)</td></tr>",
                            "<tr><td>4.36</td><td>The Complete Tales</td></tr>",
                            "<tr><td>4.55</td><td>Skin Game (The Dresden Files, #15)</td></tr>",
                            "<tr><td>4.34</td><td>The Qur&#39;an / القرآن الكريم</td></tr>",
                            "<tr><td>4.22</td><td>Hogfather (Discworld, #20; Death, #4)</td></tr>",
                            "<tr><td>4.34</td><td>Identical</td></tr>",
                            "<tr><td>4.52</td><td>The Stand: Soul Survivors</td></tr>",
                            "<tr><td>4.31</td><td>The Sneetches and Other Stories</td></tr>",
                            "<tr><td>4.26</td><td>Skip Beat!, Vol. 01</td></tr>",
                            "<tr><td>4.21</td><td>Batman: The Dark Knight Returns #1</td></tr>",
                            "<tr><td>4.66</td><td>The Harry Potter Collection 1-4 (Harry Potter, #1-4)</td></tr>",
                            "<tr><td>4.26</td><td>The Importance of Being Earnest and Other Plays</td></tr>",
                            "<tr><td>4.43</td><td>This Man Confessed (This Man, #3)</td></tr>",
                            "<tr><td>4.24</td><td>Scott Pilgrim, Volume 2: Scott Pilgrim vs. The World</td></tr>",
                            "<tr><td>4.28</td><td>Black Hawk Down</td></tr>",
                            "<tr><td>4.29</td><td>Firefight (The Reckoners, #2)</td></tr>",
                            "<tr><td>4.25</td><td>Elon Musk: Inventing the Future</td></tr>",
                            "<tr><td>4.28</td><td>Caliban&#39;s War (The Expanse, #2)</td></tr>",
                            "<tr><td>4.33</td><td>Barely Breathing (Breathing, #2)</td></tr>",
                            "<tr><td>4.24</td><td>Kingdom Come</td></tr>",
                            "<tr><td>4.23</td><td>Papillon</td></tr>",
                            "<tr><td>4.21</td><td>The Wishing Spell (The Land of Stories, #1)</td></tr>",
                            "<tr><td>4.63</td><td>A Song of Ice and Fire (A Song of Ice and Fire, #1-4)</td></tr>",
                            "<tr><td>4.24</td><td>Sea Swept (Chesapeake Bay Saga, #1)</td></tr>",
                            "<tr><td>4.45</td><td>The Blinding Knife (Lightbringer, #2)</td></tr>",
                            "<tr><td>4.22</td><td>The Icebound Land (Ranger&#39;s Apprentice, #3)</td></tr>",
                            "<tr><td>4.58</td><td>Empire of Storms (Throne of Glass, #5)</td></tr>",
                            "<tr><td>4.26</td><td>Alexander Hamilton</td></tr>",
                            "<tr><td>4.41</td><td>The Cat in the Hat and Other Dr. Seuss Favorites</td></tr>",
                            "<tr><td>4.3</td><td>The Deal (Off-Campus, #1)</td></tr>",
                            "<tr><td>4.21</td><td>Tikki Tikki Tembo</td></tr>",
                            "<tr><td>4.47</td><td>Lady Midnight (The Dark Artifices, #1)</td></tr>",
                            "<tr><td>4.41</td><td>Sapiens: A Brief History of Humankind</td></tr>",
                            "<tr><td>4.49</td><td>The Complete Works</td></tr>",
                            "<tr><td>4.47</td><td>Fireproof</td></tr>",
                            "<tr><td>4.27</td><td>The Demon-Haunted World: Science as a Candle in the Dark</td></tr>",
                            "<tr><td>4.61</td><td>Holy Bible: New International Version</td></tr>",
                            "<tr><td>4.35</td><td>Lover Reborn (Black Dagger Brotherhood, #10)</td></tr>",
                            "<tr><td>4.57</td><td>Saga, Vol. 2 (Saga, #2)</td></tr>",
                            "<tr><td>4.54</td><td>Jesus Calling: Enjoying Peace in His Presence</td></tr>",
                            "<tr><td>4.29</td><td>A Pocket for Corduroy</td></tr>",
                            "<tr><td>4.23</td><td>Bonhoeffer: Pastor, Martyr, Prophet, Spy</td></tr>",
                            "<tr><td>4.38</td><td>The Pursuit of God</td></tr>",
                            "<tr><td>4.23</td><td>The Iron Knight (The Iron Fey, #4)</td></tr>",
                            "<tr><td>4.32</td><td>Magician (The Riftwar Saga, #1-2)</td></tr>",
                            "<tr><td>4.26</td><td>Feet of Clay (Discworld, #19; City Watch, #3)</td></tr>",
                            "<tr><td>4.46</td><td>The Millennium Trilogy (Millennium Trilogy, #1-3)</td></tr>",
                            "<tr><td>4.34</td><td>Destined for an Early Grave (Night Huntress, #4)</td></tr>",
                            "<tr><td>4.31</td><td>At Grave&#39;s End (Night Huntress, #3)</td></tr>",
                            "<tr><td>4.25</td><td>ساق البامبو</td></tr>",
                            "<tr><td>4.38</td><td>Fool&#39;s Fate (Tawny Man, #3)</td></tr>",
                            "<tr><td>4.29</td><td>Every Which Way But Dead (The Hollows, #3)</td></tr>",
                            "<tr><td>4.29</td><td>The Total Money Makeover: A Proven Plan for Financial Fitness</td></tr>",
                            "<tr><td>4.23</td><td>Night Pleasures (Dark-Hunter, #1)</td></tr>",
                            "<tr><td>4.26</td><td>The Player of Games (Culture, #2)</td></tr>",
                            "<tr><td>4.21</td><td>Mile High (Up in the Air, #2)</td></tr>",
                            "<tr><td>4.41</td><td>November 9</td></tr>",
                            "<tr><td>4.27</td><td>The Song of Achilles</td></tr>",
                            "<tr><td>4.26</td><td>Columbine</td></tr>",
                            "<tr><td>4.24</td><td>Yellow Crocus</td></tr>",
                            "<tr><td>4.54</td><td>Season of Mists (The Sandman #4)</td></tr>",
                            "<tr><td>4.44</td><td>Origin (Lux, #4)</td></tr>",
                            "<tr><td>4.27</td><td>Angle of Repose</td></tr>",
                            "<tr><td>4.32</td><td>Golden Fool (Tawny Man, #2)</td></tr>",
                            "<tr><td>4.27</td><td>Persepolis, Volume 1</td></tr>",
                            "<tr><td>4.4</td><td>The Further Adventures of Sherlock Holmes: After Sir Arthur Conan Doyle (Classic Crime)</td></tr>",
                            "<tr><td>4.35</td><td>Princeps&#39; Fury (Codex Alera, #5)</td></tr>",
                            "<tr><td>4.31</td><td>Chrysanthemum</td></tr>",
                            "<tr><td>4.36</td><td>The Winds of War (The Henry Family, #1)</td></tr>",
                            "<tr><td>4.23</td><td>The Last Kingdom (The Saxon Stories, #1)</td></tr>",
                            "<tr><td>4.24</td><td>Exile (Forgotten Realms: The Dark Elf Trilogy, #2; Legend of Drizzt, #2)</td></tr>",
                            "<tr><td>4.29</td><td>Only the Good Spy Young (Gallagher Girls, #4)</td></tr>",
                            "<tr><td>4.33</td><td>Rurouni Kenshin, Vol. 1: Meiji Swordsman Romantic Story (Rurouni Kenshin, #1)</td></tr>",
                            "<tr><td>4.42</td><td>Nothing to Envy: Ordinary Lives in North Korea</td></tr>",
                            "<tr><td>4.24</td><td>Collide (Collide, #1)</td></tr>",
                            "<tr><td>4.37</td><td>First Lord&#39;s Fury (Codex Alera, #6)</td></tr>",
                            "<tr><td>4.34</td><td>The Sea of Tranquility</td></tr>",
                            "<tr><td>4.23</td><td>Persepolis 2: The Story of a Return (Persepolis, #2)</td></tr>",
                            "<tr><td>4.33</td><td>Mastering the Art of French Cooking</td></tr>",
                            "<tr><td>4.36</td><td>Blue Exorcist, Vol. 1  (Blue Exorcist, #1)</td></tr>",
                            "<tr><td>4.22</td><td>The False Prince (The Ascendance Trilogy #1)</td></tr>",
                            "<tr><td>4.23</td><td>The Waste Land and Other Poems</td></tr>",
                            "<tr><td>4.22</td><td>Little Bear</td></tr>",
                            "<tr><td>4.29</td><td>Thud! (Discworld, #34; City Watch #7)</td></tr>",
                            "<tr><td>4.29</td><td>Into the Wild (Warriors, #1)</td></tr>",
                            "<tr><td>4.21</td><td>Bury My Heart at Wounded Knee: An Indian History of the American West</td></tr>",
                            "<tr><td>4.24</td><td>The Pianist: The Extraordinary Story of One Man&#39;s Survival in Warsaw, 1939–45</td></tr>",
                            "<tr><td>4.28</td><td>Swan Song</td></tr>",
                            "<tr><td>4.38</td><td>Captain&#39;s Fury (Codex Alera, #4)</td></tr>",
                            "<tr><td>4.21</td><td>The Last Coyote (Harry Bosch, #4; Harry Bosch Universe, #4)</td></tr>",
                            "<tr><td>4.34</td><td>The Bronze Horseman (The Bronze Horseman, #1)</td></tr>",
                            "<tr><td>4.28</td><td>Act of Treason (Mitch Rapp, #9)</td></tr>",
                            "<tr><td>4.27</td><td>Academ&#39;s Fury (Codex Alera, #2)</td></tr>",
                            "<tr><td>4.63</td><td>A Song of Ice and Fire (A Song of Ice and Fire, #1-5)</td></tr>",
                            "<tr><td>4.37</td><td>The Story of a New Name (The Neapolitan Novels #2)</td></tr>",
                            "<tr><td>4.3</td><td>Soul Eater, Vol. 01 (Soul Eater, #1)</td></tr>",
                            "<tr><td>4.32</td><td>Peter Pan (A Little Golden Book)</td></tr>",
                            "<tr><td>4.39</td><td>Dance with the Devil (Dark-Hunter #3)</td></tr>",
                            "<tr><td>4.32</td><td>Blue Lily, Lily Blue (The Raven Cycle, #3)</td></tr>",
                            "<tr><td>4.25</td><td>Monsters of Men (Chaos Walking, #3)</td></tr>",
                            "<tr><td>4.24</td><td>Beautiful Stranger (Beautiful Bastard, #2)</td></tr>",
                            "<tr><td>4.33</td><td>SantaLand Diaries</td></tr>",
                            "<tr><td>4.4</td><td>Maid-sama! Vol. 01 (Maid-sama!, #1)</td></tr>",
                            "<tr><td>4.29</td><td>Tiny Beautiful Things: Advice on Love and Life from Dear Sugar</td></tr>",
                            "<tr><td>4.24</td><td>The Fall of Five (Lorien Legacies, #4)</td></tr>",
                            "<tr><td>4.23</td><td>The Daylight War (Demon Cycle, #3)</td></tr>",
                            "<tr><td>4.29</td><td>A Hat Full of Sky (Discworld, #32; Tiffany Aching, #2)</td></tr>",
                            "<tr><td>4.47</td><td>We Should All Be Feminists</td></tr>",
                            "<tr><td>4.26</td><td>River Marked (Mercy Thompson, #6)</td></tr>",
                            "<tr><td>4.3</td><td>Memorial Day (Mitch Rapp, #7)</td></tr>",
                            "<tr><td>4.32</td><td>Wild Magic (Immortals, #1)</td></tr>",
                            "<tr><td>4.45</td><td>You Are Special (Wemmicksville, #1)</td></tr>",
                            "<tr><td>4.31</td><td>Half the Sky: Turning Oppression into Opportunity for Women Worldwide</td></tr>",
                            "<tr><td>4.48</td><td>The Assassin&#39;s Blade (Throne of Glass, #0.1-0.5)</td></tr>",
                            "<tr><td>4.36</td><td>Cursor&#39;s Fury (Codex Alera, #3)</td></tr>",
                            "<tr><td>4.43</td><td>The World of Winnie-the-Pooh (Winnie-the-Pooh, #1-2)</td></tr>",
                            "<tr><td>4.22</td><td>Undaunted Courage: The Pioneering First Mission to Explore America&#39;s Wild Frontier</td></tr>",
                            "<tr><td>4.23</td><td>Sojourn (Forgotten Realms: The Dark Elf Trilogy, #3; Legend of Drizzt, #3)</td></tr>",
                            "<tr><td>4.37</td><td>Ender&#39;s Game, Volume 1: Battle School (Ender&#39;s Saga)</td></tr>",
                            "<tr><td>4.23</td><td>Kimi ni Todoke: From Me to You, Vol. 1</td></tr>",
                            "<tr><td>4.29</td><td>As a Man Thinketh</td></tr>",
                            "<tr><td>4.26</td><td>Twisted Perfection (Rosemary Beach, #5; Perfection, #1)</td></tr>",
                            "<tr><td>4.27</td><td>Milk and Honey</td></tr>",
                            "<tr><td>4.25</td><td>Thief of Time (Discworld, #26; Death, #5)</td></tr>",
                            "<tr><td>4.27</td><td>The Napping House</td></tr>",
                            "<tr><td>4.25</td><td>Practicing the Power of Now: Essential Teachings, Meditations, and Exercises from the Power of Now</td></tr>",
                            "<tr><td>4.29</td><td>Awake at Dawn (Shadow Falls, #2)</td></tr>",
                            "<tr><td>4.29</td><td>The Road to the Dark Tower: Exploring Stephen King&#39;s Magnum Opus</td></tr>",
                            "<tr><td>4.21</td><td>Dead Poets Society</td></tr>",
                            "<tr><td>4.24</td><td>The Fifth Elephant (Discworld, #24; City Watch, #5)</td></tr>",
                            "<tr><td>4.25</td><td>The Sorcerer in the North (Ranger&#39;s Apprentice, #5)</td></tr>",
                            "<tr><td>4.22</td><td>Autobiography of a Yogi</td></tr>",
                            "<tr><td>4.22</td><td>Hexed (The Iron Druid Chronicles, #2)</td></tr>",
                            "<tr><td>4.33</td><td>Twenty Love Poems and a Song of Despair</td></tr>",
                            "<tr><td>4.29</td><td>Grounded (Up in the Air, #3)</td></tr>",
                            "<tr><td>4.3</td><td>Hinds&#39; Feet on High Places</td></tr>",
                            "<tr><td>4.56</td><td>Saga, Vol. 3 (Saga, #3)</td></tr>",
                            "<tr><td>4.31</td><td>Lilac Girls</td></tr>",
                            "<tr><td>4.24</td><td>While It Lasts (Sea Breeze, #3)</td></tr>",
                            "<tr><td>4.33</td><td>The Siege of Macindaw (Ranger&#39;s Apprentice, #6)</td></tr>",
                            "<tr><td>4.26</td><td>A Grief Observed</td></tr>",
                            "<tr><td>4.23</td><td>Transmetropolitan, Vol. 1: Back on the Street (Transmetropolitan, #1)</td></tr>",
                            "<tr><td>4.3</td><td>Emperor Mage (Immortals, #3)</td></tr>",
                            "<tr><td>4.3</td><td>Shadows of Self (Mistborn, #5)</td></tr>",
                            "<tr><td>4.45</td><td>Archer&#39;s Voice</td></tr>",
                            "<tr><td>4.27</td><td>I, Claudius (Claudius, #1)</td></tr>",
                            "<tr><td>4.26</td><td>The Good, the Bad, and the Undead (The Hollows, #2)</td></tr>",
                            "<tr><td>4.23</td><td>Dreams of Gods &amp; Monsters (Daughter of Smoke &amp; Bone, #3)</td></tr>",
                            "<tr><td>4.25</td><td>Deadhouse Gates (The Malazan Book of the Fallen, #2)</td></tr>",
                            "<tr><td>4.36</td><td>Consent to Kill (Mitch Rapp, #8)</td></tr>",
                            "<tr><td>4.31</td><td>The Warmth of Other Suns: The Epic Story of America&#39;s Great Migration</td></tr>",
                            "<tr><td>4.32</td><td>Separation of Power (Mitch Rapp, #5)</td></tr>",
                            "<tr><td>4.41</td><td>Homegoing</td></tr>",
                            "<tr><td>4.43</td><td>Left to Tell: Discovering God Amidst the Rwandan Holocaust</td></tr>",
                            "<tr><td>4.24</td><td>Battle Royale</td></tr>",
                            "<tr><td>4.26</td><td>Knuffle Bunny: A Cautionary Tale (Knuffle Bunny, #1)</td></tr>",
                            "<tr><td>4.23</td><td>The Gashlycrumb Tinies (The Vinegar Works, #1)</td></tr>",
                            "<tr><td>4.22</td><td>What We Talk About When We Talk About Love</td></tr>",
                            "<tr><td>4.21</td><td>Theft of Swords (The Riyria Revelations, #1-2)</td></tr>",
                            "<tr><td>4.21</td><td>Necessary Lies (Necessary Lies, #1)</td></tr>",
                            "<tr><td>4.49</td><td>The Complete Tales and Poems of Winnie-the-Pooh (Winnie-the-Pooh, #1-4)</td></tr>",
                            "<tr><td>4.32</td><td>Divergent Series Complete Box Set (Divergent, #1-3)</td></tr>",
                            "<tr><td>4.23</td><td>Making Money (Discworld, #36; Moist Von Lipwig, #2)</td></tr>",
                            "<tr><td>4.33</td><td>Never Fade (The Darkest Minds, #2)</td></tr>",
                            "<tr><td>4.33</td><td>For a Few Demons More (The Hollows, #5)</td></tr>",
                            "<tr><td>4.55</td><td>Mistborn Trilogy Boxed Set (Mistborn, #1-3)</td></tr>",
                            "<tr><td>4.23</td><td>The Complete Adventures of Curious George</td></tr>",
                            "<tr><td>4.29</td><td>Sailor Moon, #1 (Sailor Moon, #1)</td></tr>",
                            "<tr><td>4.29</td><td>Momo</td></tr>",
                            "<tr><td>4.3</td><td>The Power of Myth</td></tr>",
                            "<tr><td>4.21</td><td>Claim Me (Stark Trilogy, #2)</td></tr>",
                            "<tr><td>4.31</td><td>Transfer of Power (Mitch Rapp, #3)</td></tr>",
                            "<tr><td>4.23</td><td>Ariel</td></tr>",
                            "<tr><td>4.3</td><td>Batman, Volume 1: The Court of Owls</td></tr>",
                            "<tr><td>4.38</td><td>The Outlaw Demon Wails (The Hollows, #6)</td></tr>",
                            "<tr><td>4.25</td><td>Gregor and the Code of Claw (Underland Chronicles, #5)</td></tr>",
                            "<tr><td>4.43</td><td>A Game of You (The Sandman #5)</td></tr>",
                            "<tr><td>4.6</td><td>An Echo in the Darkness (Mark of the Lion, #2)</td></tr>",
                            "<tr><td>4.25</td><td>Tai-Pan (Asian Saga, #2)</td></tr>",
                            "<tr><td>4.25</td><td>The Truth (Discworld, #25; Industrial Revolution, #2)</td></tr>",
                            "<tr><td>4.24</td><td>The Blue Sword (Damar, #1)</td></tr>",
                            "<tr><td>4.3</td><td>Lover at Last (Black Dagger Brotherhood, #11)</td></tr>",
                            "<tr><td>4.45</td><td>Vampire Academy: The Ultimate Guide (Vampire Academy)</td></tr>",
                            "<tr><td>4.3</td><td>Gödel, Escher, Bach: An Eternal Golden Braid</td></tr>",
                            "<tr><td>4.28</td><td>Trickster&#39;s Queen (Daughter of the Lioness, #2)</td></tr>",
                            "<tr><td>4.23</td><td>The Poetry of Robert Frost (Collected Poems, Complete &amp; Unabridged)</td></tr>",
                            "<tr><td>4.21</td><td>What&#39;s So Amazing About Grace?</td></tr>",
                            "<tr><td>4.3</td><td>Kill Shot (Mitch Rapp, #2)</td></tr>",
                            "<tr><td>4.28</td><td>Hard Luck (Diary of a Wimpy Kid, #8)</td></tr>",
                            "<tr><td>4.44</td><td>Magic Strikes (Kate Daniels, #3)</td></tr>",
                            "<tr><td>4.35</td><td>Kurt Vonnegut&#39;s Cat&#39;s Cradle (Modern Critical Interpretations)</td></tr>",
                            "<tr><td>4.33</td><td>The Emperor&#39;s Soul</td></tr>",
                            "<tr><td>4.21</td><td>Frog and Toad Together (Frog and Toad, #2)</td></tr>",
                            "<tr><td>4.39</td><td>The Fiery Heart (Bloodlines, #4)</td></tr>",
                            "<tr><td>4.46</td><td>Magic Bleeds (Kate Daniels, #4)</td></tr>",
                            "<tr><td>4.26</td><td>If You Take a Mouse to School</td></tr>",
                            "<tr><td>4.3</td><td>Finding Cinderella (Hopeless, #2.5)</td></tr>",
                            "<tr><td>4.25</td><td>Beauty from Pain (Beauty, #1)</td></tr>",
                            "<tr><td>4.21</td><td>The Hero and the Crown (Damar, #2)</td></tr>",
                            "<tr><td>4.22</td><td>Desert Solitaire</td></tr>",
                            "<tr><td>4.57</td><td>Vampire Academy Box Set (Vampire Academy, #1-4)</td></tr>",
                            "<tr><td>4.23</td><td>The Right Stuff</td></tr>",
                            "<tr><td>4.22</td><td>The Tell-Tale Heart</td></tr>",
                            "<tr><td>4.23</td><td>Stone Soup</td></tr>",
                            "<tr><td>4.61</td><td>Harry Potter and the Chamber of Secrets: Sheet Music for Flute with C.D</td></tr>",
                            "<tr><td>4.21</td><td>Death: The High Cost of Living Collected</td></tr>",
                            "<tr><td>4.27</td><td>Destroy Me (Shatter Me, #1.5)</td></tr>",
                            "<tr><td>4.32</td><td>The Paper Bag Princess</td></tr>",
                            "<tr><td>4.26</td><td>Love Unrehearsed (Love, #2)</td></tr>",
                            "<tr><td>4.55</td><td>Brief Lives (The Sandman #7)</td></tr>",
                            "<tr><td>4.45</td><td>Fables and Reflections (The Sandman #6)</td></tr>",
                            "<tr><td>4.3</td><td>The Source</td></tr>",
                            "<tr><td>4.29</td><td>ثلاثية غرناطة</td></tr>",
                            "<tr><td>4.27</td><td>We&#39;re Going on a Bear Hunt</td></tr>",
                            "<tr><td>4.61</td><td>Vampire Academy Collection (Vampire Academy, #1-3)</td></tr>",
                            "<tr><td>4.24</td><td>Pandora&#39;s Star</td></tr>",
                            "<tr><td>4.3</td><td>The Raven and other poems</td></tr>",
                            "<tr><td>4.33</td><td>Magic Burns (Kate Daniels, #2)</td></tr>",
                            "<tr><td>4.42</td><td>Dragon Ball, Vol. 1: The Monkey King (Dragon Ball, #1)</td></tr>",
                            "<tr><td>4.21</td><td>A Hunger Like No Other (Immortals After Dark #2)</td></tr>",
                            "<tr><td>4.26</td><td>The High King (The Chronicles of Prydain #5)</td></tr>",
                            "<tr><td>4.47</td><td>Ficciones</td></tr>",
                            "<tr><td>4.24</td><td>Winter Prey (Lucas Davenport, #5)</td></tr>",
                            "<tr><td>4.28</td><td>The Complete Short Stories</td></tr>",
                            "<tr><td>4.26</td><td>The Atonement Child</td></tr>",
                            "<tr><td>4.25</td><td>The Rithmatist (The Rithmatist, #1)</td></tr>",
                            "<tr><td>4.22</td><td>The Christmas Shoes (Christmas Hope #1)</td></tr>",
                            "<tr><td>4.25</td><td>Mystery Man (Dream Man, #1)</td></tr>",
                            "<tr><td>4.22</td><td>Curious George Goes to the Hospital</td></tr>",
                            "<tr><td>4.26</td><td>The Bride (Lairds&#39; Fiancées, #1)</td></tr>",
                            "<tr><td>4.31</td><td>Erak&#39;s Ransom (Ranger&#39;s Apprentice, #7)</td></tr>",
                            "<tr><td>4.38</td><td>Halt&#39;s Peril (Ranger&#39;s Apprentice, #9)</td></tr>",
                            "<tr><td>4.25</td><td>Betty Crocker&#39;s Cookbook</td></tr>",
                            "<tr><td>4.33</td><td>Executive Power (Mitch Rapp, #6)</td></tr>",
                            "<tr><td>4.44</td><td>The Essential Rumi</td></tr>",
                            "<tr><td>4.39</td><td>Memories of Ice (The Malazan Book of the Fallen, #3)</td></tr>",
                            "<tr><td>4.32</td><td>The Realms of the Gods (Immortals, #4)</td></tr>",
                            "<tr><td>4.26</td><td>The Darkest Kiss (Lords of the Underworld #2)</td></tr>",
                            "<tr><td>4.34</td><td>Pure (Covenant, #2)</td></tr>",
                            "<tr><td>4.22</td><td>Hammered (The Iron Druid Chronicles, #3)</td></tr>",
                            "<tr><td>4.3</td><td>No Rest for the Wicked (Immortals After Dark #3)</td></tr>",
                            "<tr><td>4.32</td><td>Extreme Measures (Mitch Rapp, #11)</td></tr>",
                            "<tr><td>4.47</td><td>Saga, Vol. 4 (Saga, #4)</td></tr>",
                            "<tr><td>4.32</td><td>Seduced in the Dark (The Dark Duet, #2)</td></tr>",
                            "<tr><td>4.35</td><td>Pursuit of Honor (Mitch Rapp, #12)</td></tr>",
                            "<tr><td>4.59</td><td>Acheron (Dark-Hunter #14)</td></tr>",
                            "<tr><td>4.58</td><td>Percy Jackson and the Olympians (Percy Jackson and the Olympians, #1-3)</td></tr>",
                            "<tr><td>4.22</td><td>The Ripper (The Vampire Diaries: Stefan&#39;s Diaries, #4)</td></tr>",
                            "<tr><td>4.36</td><td>Salt to the Sea</td></tr>",
                            "<tr><td>4.59</td><td>The Lord of the Rings: The Art of The Fellowship of the Ring</td></tr>",
                            "<tr><td>4.28</td><td>Tales from a Not-So-Popular Party Girl (Dork Diaries, #2)</td></tr>",
                            "<tr><td>4.62</td><td>Crooked Kingdom (Six of Crows, #2)</td></tr>",
                            "<tr><td>4.27</td><td>Trickster&#39;s Choice (Daughter of the Lioness, #1)</td></tr>",
                            "<tr><td>4.33</td><td>The Arrival</td></tr>",
                            "<tr><td>4.23</td><td>Noble House (Asian Saga, #5)</td></tr>",
                            "<tr><td>4.57</td><td>NARUTO -ナルト- 巻ノ四十三</td></tr>",
                            "<tr><td>4.77</td><td>Harry Potter Boxed Set, Books 1-5 (Harry Potter, #1-5)</td></tr>",
                            "<tr><td>4.21</td><td>The Mad Ship (Liveship Traders, #2)</td></tr>",
                            "<tr><td>4.26</td><td>Inside the Human Body (The Magic School Bus, #3)</td></tr>",
                            "<tr><td>4.48</td><td>A Game of Thrones: The Graphic Novel, Vol. 1</td></tr>",
                            "<tr><td>4.4</td><td>The Exploits of Sherlock Holmes</td></tr>",
                            "<tr><td>4.29</td><td>Those Who Leave and Those Who Stay (The Neapolitan Novels #3)</td></tr>",
                            "<tr><td>4.21</td><td>Ship of Destiny (Liveship Traders, #3)</td></tr>",
                            "<tr><td>4.28</td><td>Daughter of the Forest  (Sevenwaters, #1)</td></tr>",
                            "<tr><td>4.23</td><td>Complications: A Surgeon&#39;s Notes on an Imperfect Science</td></tr>",
                            "<tr><td>4.23</td><td>Side Jobs: Stories from the Dresden Files (The Dresden Files, #12.5)</td></tr>",
                            "<tr><td>4.29</td><td>Mort: The Play</td></tr>",
                            "<tr><td>4.21</td><td>Skulduggery Pleasant (Skulduggery Pleasant, #1)</td></tr>",
                            "<tr><td>4.39</td><td>Men at Arms: The Play</td></tr>",
                            "<tr><td>4.21</td><td>Carpe Corpus (The Morganville Vampires, #6)</td></tr>",
                            "<tr><td>4.28</td><td>A Fistful of Charms (The Hollows, #4)</td></tr>",
                            "<tr><td>4.25</td><td>UnWholly (Unwind, #2)</td></tr>",
                            "<tr><td>4.25</td><td>Consider the Lobster and Other Essays</td></tr>",
                            "<tr><td>4.45</td><td>The Bands of Mourning (Mistborn, #6)</td></tr>",
                            "<tr><td>4.27</td><td>The Road Not Taken and Other Poems</td></tr>",
                            "<tr><td>4.26</td><td>Simon vs. the Homo Sapiens Agenda</td></tr>",
                            "<tr><td>4.29</td><td>The Little House</td></tr>",
                            "<tr><td>4.28</td><td>Survival in Auschwitz</td></tr>",
                            "<tr><td>4.51</td><td>The Hitchhiker&#39;s Guide to the Galaxy: A Trilogy in Four Parts</td></tr>",
                            "<tr><td>4.35</td><td>Frost Burned (Mercy Thompson, #7)</td></tr>",
                            "<tr><td>4.36</td><td>Night Play (Dark-Hunter #5, Were-Hunter #1)</td></tr>",
                            "<tr><td>4.31</td><td>Knowing God</td></tr>",
                            "<tr><td>4.59</td><td>The Kindly Ones (The Sandman #9)</td></tr>",
                            "<tr><td>4.48</td><td>Worlds&#39; End (The Sandman #8)</td></tr>",
                            "<tr><td>4.25</td><td>The Mastery of Love: A Practical Guide to the Art of Relationship --Toltec Wisdom Book</td></tr>",
                            "<tr><td>4.31</td><td>Driven (Driven, #1)</td></tr>",
                            "<tr><td>4.27</td><td>Hunting Ground (Alpha &amp; Omega, #2)</td></tr>",
                            "<tr><td>4.21</td><td>Centennial</td></tr>",
                            "<tr><td>4.24</td><td>Dragonsong (Harper Hall, #1)</td></tr>",
                            "<tr><td>4.23</td><td>Noughts &amp; Crosses (Noughts &amp; Crosses, #1)</td></tr>",
                            "<tr><td>4.24</td><td>The Enchantress (The Secrets of the Immortal Nicholas Flamel, #6)</td></tr>",
                            "<tr><td>4.33</td><td>Taken at Dusk (Shadow Falls, #3)</td></tr>",
                            "<tr><td>4.32</td><td>The Raven King (The Raven Cycle, #4)</td></tr>",
                            "<tr><td>4.3</td><td>Term Limits</td></tr>",
                            "<tr><td>4.34</td><td>Letters to a Young Poet</td></tr>",
                            "<tr><td>4.25</td><td>Night Embrace (Dark-Hunter #2)</td></tr>",
                            "<tr><td>4.26</td><td>Les Fleurs du Mal</td></tr>",
                            "<tr><td>4.22</td><td>The Last Mile (Amos Decker, #2)</td></tr>",
                            "<tr><td>4.43</td><td>Magic Slays (Kate Daniels, #5)</td></tr>",
                            "<tr><td>4.26</td><td>The Third Option (Mitch Rapp, #4)</td></tr>",
                            "<tr><td>4.44</td><td>The Complete Stories</td></tr>",
                            "<tr><td>4.25</td><td>Tricked (The Iron Druid Chronicles, #4)</td></tr>",
                            "<tr><td>4.47</td><td>The Coldest Winter Ever</td></tr>",
                            "<tr><td>4.23</td><td>Zen Mind, Beginner&#39;s Mind: Informal Talks on Zen Meditation and Practice</td></tr>",
                            "<tr><td>4.27</td><td>Emperor of Thorns (The Broken Empire, #3)</td></tr>",
                            "<tr><td>4.25</td><td>The Rise of Theodore Roosevelt</td></tr>",
                            "<tr><td>4.58</td><td>Just Mercy: A Story of Justice and Redemption</td></tr>",
                            "<tr><td>4.28</td><td>This Side of the Grave (Night Huntress, #5)</td></tr>",
                            "<tr><td>4.24</td><td>First Test (Protector of the Small, #1)</td></tr>",
                            "<tr><td>4.21</td><td>Giovanni&#39;s Room</td></tr>",
                            "<tr><td>4.31</td><td>The Little Mouse, the Red Ripe Strawberry, and the Big Hungry Bear</td></tr>",
                            "<tr><td>4.21</td><td>Neil Gaiman&#39;s Neverwhere</td></tr>",
                            "<tr><td>4.33</td><td>The Hidden Oracle (The Trials of Apollo, #1)</td></tr>",
                            "<tr><td>4.24</td><td>Once Burned (Night Prince, #1)</td></tr>",
                            "<tr><td>4.21</td><td>The End of Eternity</td></tr>",
                            "<tr><td>4.22</td><td>Love Comes Softly (Love Comes Softly, #1)</td></tr>",
                            "<tr><td>4.46</td><td>The Broken Eye (Lightbringer, #3)</td></tr>",
                            "<tr><td>4.25</td><td>The Collected Poems of W.B. Yeats</td></tr>",
                            "<tr><td>4.3</td><td>Lady Knight (Protector of the Small, #4)</td></tr>",
                            "<tr><td>4.3</td><td>Rudolph the Red-Nosed Reindeer</td></tr>",
                            "<tr><td>4.36</td><td>The Walking Dead, Book One (The Walking Dead #1-12)</td></tr>",
                            "<tr><td>4.22</td><td>Wintersmith (Discworld, #35; Tiffany Aching, #3)</td></tr>",
                            "<tr><td>4.21</td><td>The Miracle Worker</td></tr>",
                            "<tr><td>4.51</td><td>Fueled (Driven, #2)</td></tr>",
                            "<tr><td>4.28</td><td>Good Night, Mr. Tom</td></tr>",
                            "<tr><td>4.34</td><td>The Exiled Queen (Seven Realms, #2)</td></tr>",
                            "<tr><td>4.37</td><td>Wicked Deeds on a Winter&#39;s Night (Immortals After Dark #4)</td></tr>",
                            "<tr><td>4.32</td><td>Sleeping Beauty (Disney Princess, 5)</td></tr>",
                            "<tr><td>4.32</td><td>Out of Breath (Breathing, #3)</td></tr>",
                            "<tr><td>4.23</td><td>The Ragamuffin Gospel: Good News for the Bedraggled, Beat-Up, and Burnt Out</td></tr>",
                            "<tr><td>4.22</td><td>The Shock Doctrine: The Rise of Disaster Capitalism</td></tr>",
                            "<tr><td>4.3</td><td>The Return of Sherlock Holmes</td></tr>",
                            "<tr><td>4.27</td><td>Llama Llama Red Pajama</td></tr>",
                            "<tr><td>4.32</td><td>House of Chains (The Malazan Book of the Fallen, #4)</td></tr>",
                            "<tr><td>4.43</td><td>Opposition (Lux, #5)</td></tr>",
                            "<tr><td>4.21</td><td>Calling Me Home</td></tr>",
                            "<tr><td>4.42</td><td>The Emperor of Nihon-Ja (Ranger&#39;s Apprentice, #10)</td></tr>",
                            "<tr><td>4.82</td><td>The Complete Calvin and Hobbes</td></tr>",
                            "<tr><td>4.29</td><td>Pulse (Collide, #2)</td></tr>",
                            "<tr><td>4.42</td><td>Bone: The Complete Edition</td></tr>",
                            "<tr><td>4.21</td><td>Wolf-Speaker (Immortals, #2)</td></tr>",
                            "<tr><td>4.28</td><td>A Supposedly Fun Thing I&#39;ll Never Do Again:  Essays and Arguments</td></tr>",
                            "<tr><td>4.21</td><td>Nana, Vol. 1 (Nana, #1)</td></tr>",
                            "<tr><td>4.4</td><td>Beauty and the Beast (Disney)</td></tr>",
                            "<tr><td>4.53</td><td>The Wake (The Sandman #10)</td></tr>",
                            "<tr><td>4.36</td><td>Lady and the Tramp</td></tr>",
                            "<tr><td>4.27</td><td>Squire (Protector of the Small, #3)</td></tr>",
                            "<tr><td>4.35</td><td>Out of Sight, Out of Time (Gallagher Girls, #5)</td></tr>",
                            "<tr><td>4.25</td><td>Just for Now (Sea Breeze, #4)</td></tr>",
                            "<tr><td>4.26</td><td>The Charm School</td></tr>",
                            "<tr><td>4.23</td><td>Y: The Last Man, Vol. 2: Cycles (Y: The Last Man, #2)</td></tr>",
                            "<tr><td>4.35</td><td>White Witch, Black Curse (The Hollows, #7)</td></tr>",
                            "<tr><td>4.39</td><td>The Gray Wolf Throne (Seven Realms, #3)</td></tr>",
                            "<tr><td>4.41</td><td>Scott Pilgrim, Volume 6: Scott Pilgrim&#39;s Finest Hour</td></tr>",
                            "<tr><td>4.26</td><td>The Cabinet of Curiosities (Pendergast, #3)</td></tr>",
                            "<tr><td>4.32</td><td>The Practice of the Presence of God</td></tr>",
                            "<tr><td>4.23</td><td>Buried Prey (Lucas Davenport, #21)</td></tr>",
                            "<tr><td>4.25</td><td>Love Does: Discover a Secretly Incredible Life in an Ordinary World</td></tr>",
                            "<tr><td>4.27</td><td>The Intelligent Investor (Collins Business Essentials)</td></tr>",
                            "<tr><td>4.26</td><td>The Heroes (First Law World, #5)</td></tr>",
                            "<tr><td>4.33</td><td>The Real Mother Goose</td></tr>",
                            "<tr><td>4.22</td><td>The Opportunist (Love Me with Lies, #1)</td></tr>",
                            "<tr><td>4.25</td><td>A Kingdom of Dreams (Westmoreland, #1)</td></tr>",
                            "<tr><td>4.39</td><td>The Story of the Lost Child (The Neapolitan Novels, #4)</td></tr>",
                            "<tr><td>4.35</td><td>Rise of Empire (The Riyria Revelations, #3-4)</td></tr>",
                            "<tr><td>4.35</td><td>I Shall Wear Midnight (Discworld, #38; Tiffany Aching, #4)</td></tr>",
                            "<tr><td>4.38</td><td>Beautiful Player (Beautiful Bastard, #3)</td></tr>",
                            "<tr><td>4.24</td><td>Creativity, Inc.: Overcoming the Unseen Forces That Stand in the Way of True Inspiration</td></tr>",
                            "<tr><td>4.56</td><td>Harry Potter Page to Screen: The Complete Filmmaking Journey</td></tr>",
                            "<tr><td>4.28</td><td>The Darkest Pleasure (Lords of the Underworld #3)</td></tr>",
                            "<tr><td>4.21</td><td>Panda Bear, Panda Bear, What Do You See?</td></tr>",
                            "<tr><td>4.34</td><td>Edenbrooke (Edenbrooke, #1)</td></tr>",
                            "<tr><td>4.28</td><td>Sweet Peril (Sweet, #2)</td></tr>",
                            "<tr><td>4.73</td><td>Harry Potter Collection (Harry Potter, #1-6)</td></tr>",
                            "<tr><td>4.43</td><td>Sookie Stackhouse 7-copy Boxed Set (Sookie Stackhouse, #1-7)</td></tr>",
                            "<tr><td>4.44</td><td>Anne McCaffrey&#39;s Dragonflight #1</td></tr>",
                            "<tr><td>4.28</td><td>Trapped (The Iron Druid Chronicles, #5)</td></tr>",
                            "<tr><td>4.32</td><td>Illuminae (The Illuminae Files, #1)</td></tr>",
                            "<tr><td>4.38</td><td>War and Remembrance (The Henry Family, #2)</td></tr>",
                            "<tr><td>4.53</td><td>A Game of Thrones / A Clash of Kings (A Song of Ice and Fire, #1-2)</td></tr>",
                            "<tr><td>4.25</td><td>Fear (Gone, #5)</td></tr>",
                            "<tr><td>4.34</td><td>Protect and Defend (Mitch Rapp, #10)</td></tr>",
                            "<tr><td>4.37</td><td>Silver Shadows (Bloodlines, #5)</td></tr>",
                            "<tr><td>4.29</td><td>Tricks (Tricks, #1)</td></tr>",
                            "<tr><td>4.46</td><td>Heir of Novron (The Riyria Revelations, #5-6)</td></tr>",
                            "<tr><td>4.24</td><td>A Good Man is Hard to Find and Other Stories</td></tr>",
                            "<tr><td>4.25</td><td>The Walking Dead, Vol. 02: Miles Behind Us</td></tr>",
                            "<tr><td>4.22</td><td>Alice&#39;s Adventures in Wonderland &amp; Other Stories</td></tr>",
                            "<tr><td>4.39</td><td>Black Magic Sanction (The Hollows, #8)</td></tr>",
                            "<tr><td>4.31</td><td>The Best of H.P. Lovecraft: Bloodcurdling Tales of Horror and the Macabre</td></tr>",
                            "<tr><td>4.45</td><td>Pale Demon (The Hollows, #9)</td></tr>",
                            "<tr><td>4.25</td><td>The Call of Cthulhu and Other Weird Stories</td></tr>",
                            "<tr><td>4.25</td><td>Glory in Death (In Death, #2)</td></tr>",
                            "<tr><td>4.29</td><td>Batman: Hush</td></tr>",
                            "<tr><td>4.29</td><td>The Magic Faraway Tree (The Faraway Tree, #2)</td></tr>",
                            "<tr><td>4.25</td><td>Midnight Awakening (Midnight Breed, #3)</td></tr>",
                            "<tr><td>4.31</td><td>Tales from a Not-So-Talented Pop Star (Dork Diaries, #3)</td></tr>",
                            "<tr><td>4.41</td><td>Deity (Covenant, #3)</td></tr>",
                            "<tr><td>4.38</td><td>Dark Desires After Dusk (Immortals After Dark #6)</td></tr>",
                            "<tr><td>4.25</td><td>Searching for Dragons (Enchanted Forest Chronicles, #2)</td></tr>",
                            "<tr><td>4.22</td><td>Kiss of Death (The Morganville Vampires, #8)</td></tr>",
                            "<tr><td>4.24</td><td>Maximum Ride, Vol. 1 (Maximum Ride: The Manga, #1)</td></tr>",
                            "<tr><td>4.27</td><td>for colored girls who have considered suicide/when the rainbow is enuf</td></tr>",
                            "<tr><td>4.23</td><td>Twice Bitten (Chicagoland Vampires, #3)</td></tr>",
                            "<tr><td>4.49</td><td>Born a Crime: Stories From a South African Childhood</td></tr>",
                            "<tr><td>4.26</td><td>The Secret (Highlands&#39; Lairds #1)</td></tr>",
                            "<tr><td>4.38</td><td>The Power of a Praying Woman</td></tr>",
                            "<tr><td>4.22</td><td>Hand, Hand, Fingers, Thumb</td></tr>",
                            "<tr><td>4.32</td><td>Dark Needs at Night&#39;s Edge (Immortals After Dark #5)</td></tr>",
                            "<tr><td>4.28</td><td>Hellsing, Vol. 01 (Hellsing, #1)</td></tr>",
                            "<tr><td>4.35</td><td>The Physician (Cole Family Trilogy, #1)</td></tr>",
                            "<tr><td>4.47</td><td>Demon from the Dark (Immortals After Dark #10)</td></tr>",
                            "<tr><td>4.37</td><td>The King (Black Dagger Brotherhood, #12)</td></tr>",
                            "<tr><td>4.25</td><td>When Nietzsche Wept</td></tr>",
                            "<tr><td>4.23</td><td>Not a Fan: Becoming a Completely Committed Follower of Jesus</td></tr>",
                            "<tr><td>4.29</td><td>Scott Pilgrim, Volume 3: Scott Pilgrim &amp; The Infinite Sadness</td></tr>",
                            "<tr><td>4.27</td><td>The Winter King (The Warlord Chronicles, #1)</td></tr>",
                            "<tr><td>4.25</td><td>Matterhorn</td></tr>",
                            "<tr><td>4.35</td><td>The Cost of Discipleship</td></tr>",
                            "<tr><td>4.37</td><td>A Gentleman in Moscow</td></tr>",
                            "<tr><td>4.49</td><td>The New Jim Crow: Mass Incarceration in the Age of Colorblindness</td></tr>",
                            "<tr><td>4.27</td><td>Ghost Town (The Morganville Vampires, #9)</td></tr>",
                            "<tr><td>4.32</td><td>Experiencing God: Knowing and Doing the Will of God, Workbook</td></tr>",
                            "<tr><td>4.26</td><td>Dragonsinger (Harper Hall, #2)</td></tr>",
                            "<tr><td>4.21</td><td>D.Gray-man, Volume 01</td></tr>",
                            "<tr><td>4.29</td><td>Avatar: The Last Airbender (The Search, #1)</td></tr>",
                            "<tr><td>4.36</td><td>Fire and Ice (Warriors, #2)</td></tr>",
                            "<tr><td>4.33</td><td>The Darkest Whisper (Lords of the Underworld #4)</td></tr>",
                            "<tr><td>4.34</td><td>Frog and Toad All Year (Frog and Toad, #3)</td></tr>",
                            "<tr><td>4.33</td><td>The Dark Elf Trilogy Collector&#39;s Edition (Forgotten Realms: Dark Elf Trilogy, #1-3; Legend of Drizzt, #1-3)</td></tr>",
                            "<tr><td>4.22</td><td>Sin City, Vol. 4: That Yellow Bastard (Sin City, #4)</td></tr>",
                            "<tr><td>4.23</td><td>Krew elfów (Saga o Wiedźminie, #3)</td></tr>",
                            "<tr><td>4.29</td><td>The Kings of Clonmel (Ranger&#39;s Apprentice, #8)</td></tr>",
                            "<tr><td>4.28</td><td>The Revenge of Seven (Lorien Legacies, #5)</td></tr>",
                            "<tr><td>4.27</td><td>The Pale Horseman (The Saxon Stories, #2)</td></tr>",
                            "<tr><td>4.21</td><td>Marvels</td></tr>",
                            "<tr><td>4.3</td><td>Judas Unchained</td></tr>",
                            "<tr><td>4.21</td><td>The Barefoot Contessa Cookbook</td></tr>",
                            "<tr><td>4.37</td><td>Marked / Betrayed / Chosen / Untamed (House of Night, #1-4)</td></tr>",
                            "<tr><td>4.25</td><td>Anne Frank: Beyond the Diary - A Photographic Remembrance</td></tr>",
                            "<tr><td>4.31</td><td>Kushiel&#39;s Chosen (Phèdre&#39;s Trilogy, #2)</td></tr>",
                            "<tr><td>4.45</td><td>The Far Side Gallery 3</td></tr>",
                            "<tr><td>4.29</td><td>When Things Fall Apart: Heart Advice for Difficult Times</td></tr>",
                            "<tr><td>4.34</td><td>The Last Man (Mitch Rapp, #13)</td></tr>",
                            "<tr><td>4.32</td><td>Scott Pilgrim, Volume 4: Scott Pilgrim Gets It Together</td></tr>",
                            "<tr><td>4.23</td><td>Complete Me (Stark Trilogy, #3)</td></tr>",
                            "<tr><td>4.35</td><td>Fool&#39;s Assassin (The Fitz and the Fool, #1)</td></tr>",
                            "<tr><td>4.29</td><td>The Gamble (Colorado Mountain, #1)</td></tr>",
                            "<tr><td>4.23</td><td>The Twilight Saga: The Official Illustrated Guide (Twilight, #4.5)</td></tr>",
                            "<tr><td>4.26</td><td>Demons</td></tr>",
                            "<tr><td>4.36</td><td>Seize the Night (Dark-Hunter #6)</td></tr>",
                            "<tr><td>4.55</td><td>Harry Potter: A Pop-Up Book: Based on the Film Phenomenon</td></tr>",
                            "<tr><td>4.36</td><td>Making Faces</td></tr>",
                            "<tr><td>4.28</td><td>Once We Were Brothers</td></tr>",
                            "<tr><td>4.29</td><td>Fallout (Crank, #3)</td></tr>",
                            "<tr><td>4.41</td><td>How the Light Gets In (Chief Inspector Armand Gamache, #9)</td></tr>",
                            "<tr><td>4.36</td><td>Book of Mormon, Doctrine and Covenants, Pearl of Great Price</td></tr>",
                            "<tr><td>4.32</td><td>God&#39;s Smuggler</td></tr>",
                            "<tr><td>4.22</td><td>Just Go to Bed</td></tr>",
                            "<tr><td>4.33</td><td>Miss Nelson Is Back (Miss Nelson, #2)</td></tr>",
                            "<tr><td>4.22</td><td>Page (Protector of the Small, #2)</td></tr>",
                            "<tr><td>4.25</td><td>Fight with Me (With Me in Seattle, #2)</td></tr>",
                            "<tr><td>4.21</td><td>Black: The Birth of Evil (The Circle, #1)</td></tr>",
                            "<tr><td>4.28</td><td>Chess Story</td></tr>",
                            "<tr><td>4.46</td><td>The Lion King: A little Golden Book</td></tr>",
                            "<tr><td>4.22</td><td>The Lion (John Corey, #5)</td></tr>",
                            "<tr><td>4.31</td><td>Kiss of the Highlander (Highlander, #4)</td></tr>",
                            "<tr><td>4.21</td><td>Roadside Picnic</td></tr>",
                            "<tr><td>4.43</td><td>Motorcycle Man (Dream Man, #4)</td></tr>",
                            "<tr><td>4.28</td><td>Preacher, Volume 2: Until the End of the World</td></tr>",
                            "<tr><td>4.53</td><td>The Lord of the Rings: Weapons and Warfare</td></tr>",
                            "<tr><td>4.26</td><td>Twilight (The Mediator, #6)</td></tr>",
                            "<tr><td>4.29</td><td>Dumbo: A Little Golden Book</td></tr>",
                            "<tr><td>4.43</td><td>Marked / Betrayed / Chosen / Untamed / Hunted (House of Night #1-5)</td></tr>",
                            "<tr><td>4.34</td><td>A Torch Against the Night (An Ember in the Ashes, #2)</td></tr>",
                            "<tr><td>4.25</td><td>Skippyjon Jones</td></tr>",
                            "<tr><td>4.34</td><td>The Complete Stories and Poems</td></tr>",
                            "<tr><td>4.26</td><td>Devil in Winter (Wallflowers, #3)</td></tr>",
                            "<tr><td>4.3</td><td>White: The Great Pursuit (The Circle, #3)</td></tr>",
                            "<tr><td>4.37</td><td>The Darkest Passion (Lords of the Underworld #5)</td></tr>",
                            "<tr><td>4.36</td><td>Selected Stories</td></tr>",
                            "<tr><td>4.24</td><td>Smiley&#39;s People</td></tr>",
                            "<tr><td>4.36</td><td>Redemption (Redemption, #1)</td></tr>",
                            "<tr><td>4.33</td><td>Alice&#39;s Adventures in Wonderland: A Pop-Up Adaptation</td></tr>",
                            "<tr><td>4.32</td><td>Piano/Vocal/Guitar Sheet Music: The Chronicles of Narnia: The Lion, the Witch and The Wardrobe</td></tr>",
                            "<tr><td>4.32</td><td>100 Selected Poems</td></tr>",
                            "<tr><td>4.4</td><td>Forest of Secrets (Warriors, #3)</td></tr>",
                            "<tr><td>4.42</td><td>Night Broken (Mercy Thompson, #8)</td></tr>",
                            "<tr><td>4.32</td><td>Lords of the North (The Saxon Stories, #3)</td></tr>",
                            "<tr><td>4.39</td><td>As Sure as the Dawn (Mark of the Lion, #3)</td></tr>",
                            "<tr><td>4.24</td><td>Down London Road (On Dublin Street, #2)</td></tr>",
                            "<tr><td>4.31</td><td>The Walking Dead, Vol. 03: Safety Behind Bars</td></tr>",
                            "<tr><td>4.23</td><td>A Knight in Shining Armor</td></tr>",
                            "<tr><td>4.46</td><td>Labyrinths:  Selected Stories and Other Writings</td></tr>",
                            "<tr><td>4.34</td><td>Tiger&#39;s Quest (The Tiger Saga, #2)</td></tr>",
                            "<tr><td>4.41</td><td>The Day the Crayons Quit</td></tr>",
                            "<tr><td>4.4</td><td>Kisses from Katie: A Story of Relentless Love and Redemption</td></tr>",
                            "<tr><td>4.26</td><td>The Success Principles: How to Get from Where You Are to Where You Want to Be</td></tr>",
                            "<tr><td>4.25</td><td>The Autobiography of Henry VIII: With Notes by His Fool, Will Somers</td></tr>",
                            "<tr><td>4.56</td><td>Crashed (Driven, #3)</td></tr>",
                            "<tr><td>4.28</td><td>Stone Soup</td></tr>",
                            "<tr><td>4.33</td><td>A Gathering of Shadows (Shades of Magic, #2)</td></tr>",
                            "<tr><td>4.23</td><td>Barefoot Contessa Back to Basics</td></tr>",
                            "<tr><td>4.21</td><td>A Rule Against Murder (Chief Inspector Armand Gamache, #4)</td></tr>",
                            "<tr><td>4.59</td><td>The Lord of the Rings: The Return of the King: Visual Companion</td></tr>",
                            "<tr><td>4.28</td><td>美少女戦士セーラームーン新装版 1 [Bishōjo Senshi Sailor Moon Shinsōban 1]</td></tr>",
                            "<tr><td>4.21</td><td>Kiss an Angel</td></tr>",
                            "<tr><td>4.26</td><td>Immortal in Death (In Death, #3)</td></tr>",
                            "<tr><td>4.47</td><td>The Walking Dead, Vol. 08: Made to Suffer</td></tr>",
                            "<tr><td>4.41</td><td>Pleasure of a Dark Prince (Immortals After Dark #9)</td></tr>",
                            "<tr><td>4.21</td><td>The Crossing (Harry Bosch, #20; Mickey Haller, #7; Harry Bosch Universe, #25)</td></tr>",
                            "<tr><td>4.37</td><td>Kushiel&#39;s Avatar (Phèdre&#39;s Trilogy, #3)</td></tr>",
                            "<tr><td>4.39</td><td>The Aleph and Other Stories </td></tr>",
                            "<tr><td>4.23</td><td>The Long Goodbye (Philip Marlowe, #6)</td></tr>",
                            "<tr><td>4.29</td><td>Sisters</td></tr>",
                            "<tr><td>4.37</td><td>Nemesis Games (The Expanse, #5)</td></tr>",
                            "<tr><td>4.29</td><td>A Return to Love: Reflections on the Principles of &quot;A Course in Miracles&quot;</td></tr>",
                            "<tr><td>4.29</td><td>Mine (Real, #2)</td></tr>",
                            "<tr><td>4.3</td><td>Tatiana and Alexander (The Bronze Horseman, #2)</td></tr>",
                            "<tr><td>4.24</td><td>Archangel&#39;s Kiss (Guild Hunter, #2)</td></tr>",
                            "<tr><td>4.75</td><td>It&#39;s a Magical World: A Calvin and Hobbes Collection</td></tr>",
                            "<tr><td>4.24</td><td>Avatar: The Last Airbender (The Promise, #1)</td></tr>",
                            "<tr><td>4.4</td><td>Miecz przeznaczenia (Saga o Wiedźminie, #2)</td></tr>",
                            "<tr><td>4.22</td><td>Y: The Last Man, Vol. 8: Kimono Dragons (Y: The Last Man, #8)</td></tr>",
                            "<tr><td>4.27</td><td>Y: The Last Man, Vol. 5: Ring of Truth (Y: The Last Man, #5)</td></tr>",
                            "<tr><td>4.44</td><td>Saga, Vol. 5 (Saga, #5)</td></tr>",
                            "<tr><td>4.27</td><td>Red Country (First Law World, #6)</td></tr>",
                            "<tr><td>4.28</td><td>The Lords of Discipline</td></tr>",
                            "<tr><td>4.52</td><td>The Darkest Hour (Warriors, #6)</td></tr>",
                            "<tr><td>4.24</td><td>Kiss of the Night (Dark-Hunter, #4)</td></tr>",
                            "<tr><td>4.37</td><td>He Chose the Nails</td></tr>",
                            "<tr><td>4.4</td><td>With the Old Breed: At Peleliu and Okinawa</td></tr>",
                            "<tr><td>4.34</td><td>Midnight Tides (The Malazan Book of the Fallen, #5)</td></tr>",
                            "<tr><td>4.27</td><td>The Hidden Messages in Water</td></tr>",
                            "<tr><td>4.34</td><td>India After Gandhi: The History of the World&#39;s Largest Democracy</td></tr>",
                            "<tr><td>4.27</td><td>The Sight (Warriors: Power of Three, #1)</td></tr>",
                            "<tr><td>4.3</td><td>Bad for You (Sea Breeze, #7)</td></tr>",
                            "<tr><td>4.21</td><td>Gifted Hands: The Ben Carson Story</td></tr>",
                            "<tr><td>4.25</td><td>The Little Old Lady Who Was Not Afraid of Anything</td></tr>",
                            "<tr><td>4.35</td><td>The Holiness of God</td></tr>",
                            "<tr><td>4.22</td><td>Wemberly Worried</td></tr>",
                            "<tr><td>4.21</td><td>Born of Night (The League, #1)</td></tr>",
                            "<tr><td>4.21</td><td>Murder Must Advertise  (Lord Peter Wimsey, #10)</td></tr>",
                            "<tr><td>4.27</td><td>Dead Heat (Alpha &amp; Omega #4)</td></tr>",
                            "<tr><td>4.31</td><td>The Way to Cook</td></tr>",
                            "<tr><td>4.31</td><td>Vampire Knight, Vol. 9</td></tr>",
                            "<tr><td>4.53</td><td>The Walking Dead, Compendium 2</td></tr>",
                            "<tr><td>4.21</td><td>Flyy Girl (Flyy Girl, #1)</td></tr>",
                            "<tr><td>4.61</td><td>The Sandman: King of Dreams</td></tr>",
                            "<tr><td>4.22</td><td>Stephen King&#39;s N.</td></tr>",
                            "<tr><td>4.24</td><td>By the Sword (Valdemar)</td></tr>",
                            "<tr><td>4.25</td><td>Owen</td></tr>",
                            "<tr><td>4.31</td><td>The America&#39;s Test Kitchen Family Cookbook</td></tr>",
                            "<tr><td>4.23</td><td>Rumpelstiltskin</td></tr>",
                            "<tr><td>4.32</td><td>A Higher Call: An Incredible True Story of Combat and Chivalry in the War-Torn Skies of World War II</td></tr>",
                            "<tr><td>4.22</td><td>It Ain&#39;t Me, Babe (Hades Hangmen, #1)</td></tr>",
                            "<tr><td>4.38</td><td>The Sandman: The Dream Hunters</td></tr>",
                            "<tr><td>4.27</td><td>The Stories of John Cheever</td></tr>",
                            "<tr><td>4.29</td><td>Extreme Prey (Lucas Davenport, #26)</td></tr>",
                            "<tr><td>4.25</td><td>Phantoms in the Brain: Probing the Mysteries of the Human Mind</td></tr>",
                            "<tr><td>4.32</td><td>Divided in Death (In Death, #18)</td></tr>",
                            "<tr><td>4.26</td><td>Very Good Lives: The Fringe Benefits of Failure and the Importance of Imagination</td></tr>",
                            "<tr><td>4.29</td><td>The Walking Dead, Vol. 10: What We Become</td></tr>",
                            "<tr><td>4.24</td><td>A Leaf on the Wind of All Hallows (Outlander, #8.5)</td></tr>",
                            "<tr><td>4.24</td><td>The Last Detective (Elvis Cole, #9)</td></tr>",
                            "<tr><td>4.6</td><td>Ender&#39;s Game, Volume 2: Command School</td></tr>",
                            "<tr><td>4.76</td><td>ESV Study Bible</td></tr>",
                            "<tr><td>4.24</td><td>Auschwitz: A Doctor&#39;s Eyewitness Account</td></tr>",
                            "<tr><td>4.21</td><td>Disappearing Acts</td></tr>",
                            "<tr><td>4.41</td><td>Fruits Basket, Vol. 7</td></tr>",
                            "<tr><td>4.33</td><td>Reunion in Death (In Death, #14)</td></tr>",
                            "<tr><td>4.22</td><td>Where Is God When It Hurts?</td></tr>",
                            "<tr><td>4.24</td><td>Kushiel&#39;s Justice (Imriel&#39;s Trilogy, #2)</td></tr>",
                            "<tr><td>4.24</td><td>The Orenda</td></tr>",
                            "<tr><td>4.31</td><td>The Julian Chapter (Wonder Story)</td></tr>",
                            "<tr><td>4.38</td><td>Secret History (Mistborn, #3.5)</td></tr>",
                            "<tr><td>4.21</td><td>The Five Love Languages of Children</td></tr>",
                            "<tr><td>4.33</td><td>Visions in Death (In Death, #19)</td></tr>",
                            "<tr><td>4.37</td><td>Safe with Me (With Me in Seattle, #5)</td></tr>",
                            "<tr><td>4.21</td><td>Monster in His Eyes (Monster in His Eyes, #1)</td></tr>",
                            "<tr><td>4.27</td><td>Vision in Silver (The Others, #3)</td></tr>",
                            "<tr><td>4.34</td><td>Imitation in Death (In Death, #17)</td></tr>",
                            "<tr><td>4.34</td><td>The Book with No Pictures</td></tr>",
                            "<tr><td>4.23</td><td>Anne Frank&#39;s Tales from the Secret Annex</td></tr>",
                            "<tr><td>4.22</td><td>The Gift of Therapy: An Open Letter to a New Generation of Therapists and Their Patients</td></tr>",
                            "<tr><td>4.26</td><td>The Belgariad Boxed Set: Pawn of Prophecy / Queen of Sorcery / Magician&#39;s Gambit / Castle of Wizardry / Enchanters&#39; End Game (The Belgariad, #1-5)</td></tr>",
                            "<tr><td>4.21</td><td>Envy (Fallen Angels, #3)</td></tr>",
                            "<tr><td>4.21</td><td>Dream Warrior (Dream-Hunter #4; Dark-Hunter #17)</td></tr>",
                            "<tr><td>4.39</td><td>The Lord God Made Them All</td></tr>",
                            "<tr><td>4.4</td><td>The Frog and Toad Treasury: Frog and Toad are Friends/Frog and Toad Together/Frog and Toad All Year  (Frog and Toad #1-3)</td></tr>",
                            "<tr><td>4.44</td><td>Rock Chick Reckoning (Rock Chick, #6)</td></tr>",
                            "<tr><td>4.28</td><td>Fish in a Tree</td></tr>",
                            "<tr><td>4.28</td><td>Fables, Vol. 8: Wolves</td></tr>",
                            "<tr><td>4.34</td><td>Dark Demon (Dark, #16)</td></tr>",
                            "<tr><td>4.34</td><td>The Walking Dead, Vol. 14: No Way Out</td></tr>",
                            "<tr><td>4.35</td><td>The Walking Dead, Book Two (The Walking Dead #13-24)</td></tr>",
                            "<tr><td>4.38</td><td>The Return of the Prodigal Son: A Story of Homecoming</td></tr>",
                            "<tr><td>4.27</td><td>The Lions of Al-Rassan</td></tr>",
                            "<tr><td>4.24</td><td>The 5 Greatest Warriors (Jack West Jr, #3)</td></tr>",
                            "<tr><td>4.35</td><td>Brotherhood in Death (In Death, #42)</td></tr>",
                            "<tr><td>4.4</td><td>The Invaders (Brotherband Chronicles, #2)</td></tr>",
                            "<tr><td>4.65</td><td>The Absolute Sandman, Volume One</td></tr>",
                            "<tr><td>4.55</td><td>Rock Chick Regret (Rock Chick, #7)</td></tr>",
                            "<tr><td>4.43</td><td>The Walking Dead, Book Three (The Walking Dead #25-36)</td></tr>",
                            "<tr><td>4.4</td><td>Transmetropolitan, Vol. 3: Year of the Bastard (Transmetropolitan, #3)</td></tr>",
                            "<tr><td>4.32</td><td>A Severe Mercy: A Story of Faith, Tragedy and Triumph</td></tr>",
                            "<tr><td>4.26</td><td>Point of Impact (Bob Lee Swagger, #1)</td></tr>",
                            "<tr><td>4.22</td><td>Punk 57</td></tr>",
                            "<tr><td>4.24</td><td>Pygmalion &amp; My Fair Lady</td></tr>",
                            "<tr><td>4.26</td><td>Magic&#39;s Price (Valdemar: Last Herald-Mage #3)</td></tr>",
                            "<tr><td>4.23</td><td>The Hedge Knight (The Tales of Dunk and Egg, #1)</td></tr>",
                            "<tr><td>4.27</td><td>Death Note, Vol. 8: Target (Death Note, #8)</td></tr>",
                            "<tr><td>4.26</td><td>X-Men: The Dark Phoenix Saga</td></tr>",
                            "<tr><td>4.22</td><td>Manufacturing Consent: The Political Economy of the Mass Media</td></tr>",
                            "<tr><td>4.39</td><td>Endless Knight (The Arcana Chronicles, #2)</td></tr>",
                            "<tr><td>4.28</td><td>The Complete Poems</td></tr>",
                            "<tr><td>4.46</td><td>Ouran High School Host Club, Vol. 2 (Ouran High School Host Club, #2)</td></tr>",
                            "<tr><td>4.27</td><td>The Problem Child (The Sisters Grimm, #3)</td></tr>",
                            "<tr><td>4.53</td><td>Fearless: The Heroic Story of One Navy SEAL&#39;s Sacrifice in the Hunt for Osama Bin Laden and the Unwavering Devotion of the Woman Who Loved Him</td></tr>",
                            "<tr><td>4.58</td><td>The Last Question</td></tr>",
                            "<tr><td>4.25</td><td>The Death of Kings (Emperor, #2)</td></tr>",
                            "<tr><td>4.44</td><td>Naruto, Vol. 05: Exam Hell (Naruto, #5)</td></tr>",
                            "<tr><td>4.52</td><td>The Tale of Three Trees</td></tr>",
                            "<tr><td>4.28</td><td>Crash into You (Pushing the Limits, #3)</td></tr>",
                            "<tr><td>4.5</td><td>The Book of Disquiet</td></tr>",
                            "<tr><td>4.26</td><td>Once Upon a Crime (The Sisters Grimm, #4)</td></tr>",
                            "<tr><td>4.24</td><td>Fables, Vol. 9: Sons of Empire</td></tr>",
                            "<tr><td>4.28</td><td>Starlight (Warriors: The New Prophecy, #4)</td></tr>",
                            "<tr><td>4.34</td><td>Creation in Death (In Death, #25)</td></tr>",
                            "<tr><td>4.28</td><td>Llama Llama Mad at Mama</td></tr>",
                            "<tr><td>4.3</td><td>Branded by Fire (Psy-Changeling #6)</td></tr>",
                            "<tr><td>4.29</td><td>The Bird and the Sword (The Bird and the Sword Chronicles, #1)</td></tr>",
                            "<tr><td>4.28</td><td>Sovereign (Matthew Shardlake, #3)</td></tr>",
                            "<tr><td>4.48</td><td>On Food and Cooking: The Science and Lore of the Kitchen</td></tr>",
                            "<tr><td>4.29</td><td>Magic and Other Misdemeanors (The Sisters Grimm, #5)</td></tr>",
                            "<tr><td>4.31</td><td>Delusion in Death (In Death, #35)</td></tr>",
                            "<tr><td>4.21</td><td>Run Baby Run</td></tr>",
                            "<tr><td>4.34</td><td>Tortured for Christ N/E</td></tr>",
                            "<tr><td>4.26</td><td>The Inimitable Jeeves (Jeeves, #2)</td></tr>",
                            "<tr><td>4.35</td><td>Death Note, Vol. 5: Whiteout (Death Note, #5)</td></tr>",
                            "<tr><td>4.38</td><td>Homicide: A Year on the Killing Streets</td></tr>",
                            "<tr><td>4.36</td><td>A Work in Progress</td></tr>",
                            "<tr><td>4.32</td><td>The Secret Race: Inside the Hidden World of the Tour de France: Doping, Cover-ups, and Winning at All Costs</td></tr>",
                            "<tr><td>4.24</td><td>Monster Hunter Vendetta (Monster Hunter International, #2)</td></tr>",
                            "<tr><td>4.32</td><td>Big Nate on a Roll (Big Nate Novels, #3)</td></tr>",
                            "<tr><td>4.23</td><td>The New Bedside, Bathtub and Armchair Companion to Agatha Christie</td></tr>",
                            "<tr><td>4.28</td><td>Shadow&#39;s Claim (Immortals After Dark, #13; The Dacians, #1)</td></tr>",
                            "<tr><td>4.3</td><td>Twilight (Warriors: The New Prophecy, #5)</td></tr>",
                            "<tr><td>4.48</td><td>Evicted: Poverty and Profit in the American City</td></tr>",
                            "<tr><td>4.42</td><td>The Assassin and the Empire (Throne of Glass, #0.5)</td></tr>",
                            "<tr><td>4.22</td><td>Deep and Dark and Dangerous (A Ghost Story)</td></tr>",
                            "<tr><td>4.52</td><td>The Green Mile, Part 4: The Bad Death of Eduard Delacroix</td></tr>",
                            "<tr><td>4.28</td><td>Pani Jeziora (Saga o Wiedźminie, #7)</td></tr>",
                            "<tr><td>4.23</td><td>Philosophical Investigations</td></tr>",
                            "<tr><td>4.38</td><td>Enemy of God (The Warlord Chronicles, #2)</td></tr>",
                            "<tr><td>4.29</td><td>Cage (Corps Security, #2)</td></tr>",
                            "<tr><td>4.26</td><td>Archangel&#39;s Blade (Guild Hunter, #4)</td></tr>",
                            "<tr><td>4.47</td><td>Kiss of Snow (Psy-Changeling #10)</td></tr>",
                            "<tr><td>4.34</td><td>Yotsuba&amp;!, Vol. 01 (Yotsuba&amp;! #1)</td></tr>",
                            "<tr><td>4.33</td><td>Dark Legend (Dark, #8)</td></tr>",
                            "<tr><td>4.53</td><td>Courageous</td></tr>",
                            "<tr><td>4.38</td><td>Convicted (Consequences, #3)</td></tr>",
                            "<tr><td>4.45</td><td>Praying God&#39;s Word: Breaking Free From Spiritual Strongholds</td></tr>",
                            "<tr><td>4.32</td><td>The Missing Piece Meets the Big O </td></tr>",
                            "<tr><td>4.27</td><td>Coming Home</td></tr>",
                            "<tr><td>4.31</td><td>The Staff of Serapis (Percy Jackson &amp; Kane Chronicles Crossover #2)</td></tr>",
                            "<tr><td>4.22</td><td>A Different Blue</td></tr>",
                            "<tr><td>4.24</td><td>Sailing Alone Around the Room: New and Selected Poems</td></tr>",
                            "<tr><td>4.32</td><td>Mirror Dance (Vorkosigan Saga, #8)</td></tr>",
                            "<tr><td>4.38</td><td>Stone Cold Touch (The Dark Elements, #2)</td></tr>",
                            "<tr><td>4.43</td><td>Incendiary (The Premonition, #4)</td></tr>",
                            "<tr><td>4.31</td><td>Financial Peace Revisited</td></tr>",
                            "<tr><td>4.49</td><td>At Peace (The &#39;Burg, #2)</td></tr>",
                            "<tr><td>4.36</td><td>Echo</td></tr>",
                            "<tr><td>4.3</td><td>MacRieve (Immortals After Dark, #14)</td></tr>",
                            "<tr><td>4.21</td><td>American Tabloid (Underworld USA, #1)</td></tr>",
                            "<tr><td>4.34</td><td>Origin in Death (In Death, #21)</td></tr>",
                            "<tr><td>4.32</td><td>Firestar&#39;s Quest (Warriors Super Edition, #1)</td></tr>",
                            "<tr><td>4.23</td><td>This is Not My Hat</td></tr>",
                            "<tr><td>4.45</td><td>Rejoice (Redemption, #4)</td></tr>",
                            "<tr><td>4.29</td><td>Tales From the Hood (The Sisters Grimm, #6)</td></tr>",
                            "<tr><td>4.25</td><td>What the Bleep Do We Know!?: Discovering the Endless Possibilities for Altering Your Everyday Reality</td></tr>",
                            "<tr><td>4.23</td><td>Gentle Rogue (Malory-Anderson Family, #3)</td></tr>",
                            "<tr><td>4.34</td><td>The Shepherd&#39;s Crown (Discworld, #41; Tiffany Aching, #5)</td></tr>",
                            "<tr><td>4.41</td><td>Death Note, Vol. 7: Zero (Death Note, #7)</td></tr>",
                            "<tr><td>4.58</td><td>Styxx (Dark-Hunter, #22)</td></tr>",
                            "<tr><td>4.26</td><td>Essentials of Classic Italian Cooking</td></tr>",
                            "<tr><td>4.28</td><td>The Girl Who Was on Fire: Your Favorite Authors on Suzanne Collins&#39; Hunger Games Trilogy</td></tr>",
                            "<tr><td>4.25</td><td>A Bargain for Frances</td></tr>",
                            "<tr><td>4.23</td><td>Calculated in Death (In Death, #36)</td></tr>",
                            "<tr><td>4.23</td><td>The Shadow Throne (The Ascendance Trilogy, #3)</td></tr>",
                            "<tr><td>4.23</td><td>Memórias Póstumas de Brás Cubas</td></tr>",
                            "<tr><td>4.3</td><td>Kushiel&#39;s Mercy (Imriel&#39;s Trilogy, #3)</td></tr>",
                            "<tr><td>4.34</td><td>Burn for Me (Hidden Legacy, #1)</td></tr>",
                            "<tr><td>4.31</td><td>Vampire Knight, Vol. 4 (Vampire Knight, #4)</td></tr>",
                            "<tr><td>4.44</td><td>Press Here</td></tr>",
                            "<tr><td>4.36</td><td>Dawn of Wonder (The Wakening, #1)</td></tr>",
                            "<tr><td>4.28</td><td>Celebrity in Death (In Death, #34)</td></tr>",
                            "<tr><td>4.39</td><td>Every Thing on It</td></tr>",
                            "<tr><td>4.28</td><td>The Snowman</td></tr>",
                            "<tr><td>4.21</td><td>Nash (Marked Men, #4)</td></tr>",
                            "<tr><td>4.48</td><td>Just One Drop (The Grey Wolves, #3)</td></tr>",
                            "<tr><td>4.26</td><td>Billions &amp; Billions: Thoughts on Life and Death at the Brink of the Millennium</td></tr>",
                            "<tr><td>4.21</td><td>Sharpe&#39;s Rifles (Sharpe, #6)</td></tr>",
                            "<tr><td>4.26</td><td>Gaudy Night (Lord Peter Wimsey, #12)</td></tr>",
                            "<tr><td>4.5</td><td>Kings Rising (Captive Prince, #3)</td></tr>",
                            "<tr><td>4.39</td><td>I Love You Through and Through</td></tr>",
                            "<tr><td>4.26</td><td>Black Dawn (The Morganville Vampires, #12)</td></tr>",
                            "<tr><td>4.21</td><td>Parable of the Talents (Earthseed, #2)</td></tr>",
                            "<tr><td>4.5</td><td>Locke &amp; Key, Vol. 6: Alpha &amp; Omega</td></tr>",
                            "<tr><td>4.28</td><td>The Country Mouse and the City Mouse; The Fox and the Crow; The Dog and His Bone</td></tr>",
                            "<tr><td>4.37</td><td>The Assassin and the Underworld (Throne of Glass, #0.4)</td></tr>",
                            "<tr><td>4.36</td><td>Infamous (Chronicles of Nick, #3)</td></tr>",
                            "<tr><td>4.49</td><td>Reunion (Redemption, #5)</td></tr>",
                            "<tr><td>4.42</td><td>H.M.S. Surprise</td></tr>",
                            "<tr><td>4.29</td><td>Strangers in Death (In Death, #26)</td></tr>",
                            "<tr><td>4.46</td><td>The Complete Adventures of Peter Rabbit</td></tr>",
                            "<tr><td>4.48</td><td>A Charlie Brown Christmas</td></tr>",
                            "<tr><td>4.21</td><td>Sin City: Una Dura Despedida, #1 de 3</td></tr>",
                            "<tr><td>4.22</td><td>Hostage to Pleasure (Psy-Changeling, #5)</td></tr>",
                            "<tr><td>4.23</td><td>Random Family: Love, Drugs, Trouble, and Coming of Age in the Bronx</td></tr>",
                            "<tr><td>4.28</td><td>Old School (Diary of a Wimpy Kid, #10)</td></tr>",
                            "<tr><td>4.43</td><td>Avatar: The Last Airbender (The Promise, #2)</td></tr>",
                            "<tr><td>4.3</td><td>Little Bear&#39;s Friend</td></tr>",
                            "<tr><td>4.34</td><td>The Complete Works of H.P. Lovecraft</td></tr>",
                            "<tr><td>4.26</td><td>You Were Mine (Rosemary Beach, #9)</td></tr>",
                            "<tr><td>4.58</td><td>The Annotated Sherlock Holmes: The Four Novels and the Fifty-Six Short Stories Complete (2 Volume Set)</td></tr>",
                            "<tr><td>4.3</td><td>Devil&#39;s Game (Reapers MC, #3)</td></tr>",
                            "<tr><td>4.22</td><td>There&#39;s a Nightmare in My Closet</td></tr>",
                            "<tr><td>4.43</td><td>Breaking Free: Discover the Victory of Total Surrender</td></tr>",
                            "<tr><td>4.28</td><td>Out to Canaan (Mitford Years, #4)</td></tr>",
                            "<tr><td>4.28</td><td>Thankless in Death (In Death, #37)</td></tr>",
                            "<tr><td>4.29</td><td>Will You Please Be Quiet, Please?</td></tr>",
                            "<tr><td>4.4</td><td>The Selected Poetry of Rainer Maria Rilke</td></tr>",
                            "<tr><td>4.21</td><td>Eternal Rider (Lords of Deliverance, #1, Demonica, #6)</td></tr>",
                            "<tr><td>4.25</td><td>Concealed in Death (In Death, #38)</td></tr>",
                            "<tr><td>4.32</td><td>Women&#39;s Bodies, Women&#39;s Wisdom: Creating Physical and Emotional Health and Healing</td></tr>",
                            "<tr><td>4.21</td><td>Planetary, Volume 1: All Over the World and Other Stories</td></tr>",
                            "<tr><td>4.47</td><td>The Green Mile, Part 2: The Mouse on the Mile</td></tr>",
                            "<tr><td>4.48</td><td>Assata: An Autobiography</td></tr>",
                            "<tr><td>4.76</td><td>Mark of the Lion Trilogy</td></tr>",
                            "<tr><td>4.41</td><td>The Weight of Glory</td></tr>",
                            "<tr><td>4.25</td><td>There are No Children Here: The Story of Two Boys Growing Up in the Other America</td></tr>",
                            "<tr><td>4.22</td><td>Happily Ever After (The Selection, #0.4, 0.5, 2.5, 2.6)</td></tr>",
                            "<tr><td>4.4</td><td>Transmetropolitan, Vol. 5: Lonely City (Transmetropolitan, #5)</td></tr>",
                            "<tr><td>4.34</td><td>Fruits Basket, Vol. 2</td></tr>",
                            "<tr><td>4.22</td><td>Wait for It</td></tr>",
                            "<tr><td>4.28</td><td>The Book on the Taboo Against Knowing Who You Are</td></tr>",
                            "<tr><td>4.28</td><td>Up from the Grave (Night Huntress, #7)</td></tr>",
                            "<tr><td>4.29</td><td>The Blood Mirror (Lightbringer, #4)</td></tr>",
                            "<tr><td>4.34</td><td>Her Daughter&#39;s Dream (Marta&#39;s Legacy, #2)</td></tr>",
                            "<tr><td>4.46</td><td>Rock Chick Revolution (Rock Chick, #8)</td></tr>",
                            "<tr><td>4.24</td><td>Each Peach Pear Plum</td></tr>",
                            "<tr><td>4.24</td><td>The Phoenix Project: A Novel About IT, DevOps, and Helping Your Business Win</td></tr>",
                            "<tr><td>4.5</td><td>Humans of New York</td></tr>",
                            "<tr><td>4.39</td><td>Red Notice: A True Story of High Finance, Murder, and One Man’s Fight for Justice</td></tr>",
                            "<tr><td>4.63</td><td>The Divan</td></tr>",
                            "<tr><td>4.36</td><td>Twelfth Grade Kills (The Chronicles of Vladimir Tod, #5)</td></tr>",
                            "<tr><td>4.22</td><td>A. Lincoln</td></tr>",
                            "<tr><td>4.41</td><td>Four Great Tragedies: Hamlet / Othello / King Lear / Macbeth</td></tr>",
                            "<tr><td>4.24</td><td>If I Stay Collection (If I Stay, #1-2)</td></tr>",
                            "<tr><td>4.52</td><td>Rita Hayworth and Shawshank Redemption: A Story from Different Seasons</td></tr>",
                            "<tr><td>4.71</td><td>The Revenge of the Baby-Sat</td></tr>",
                            "<tr><td>4.37</td><td>Fables, Vol. 10: The Good Prince</td></tr>",
                            "<tr><td>4.47</td><td>Fallen Crest Public (Fallen Crest High, #3)</td></tr>",
                            "<tr><td>4.24</td><td>Dispatches</td></tr>",
                            "<tr><td>4.42</td><td>The Path to Power (The Years of Lyndon Johnson, #1)</td></tr>",
                            "<tr><td>4.38</td><td>Love You to Death: The Unofficial Companion to the Vampire Diaries</td></tr>",
                            "<tr><td>4.28</td><td>Play of Passion (Psy-Changeling #9)</td></tr>",
                            "<tr><td>4.29</td><td>Angels in America</td></tr>",
                            "<tr><td>4.3</td><td>The Will (Magdalene, #1)</td></tr>",
                            "<tr><td>4.54</td><td>A Grimm Warning (The Land of Stories, #3)</td></tr>",
                            "<tr><td>4.25</td><td>Never Love a Highlander (McCabe Trilogy, #3)</td></tr>",
                            "<tr><td>4.31</td><td>The Pragmatic Programmer: From Journeyman to Master</td></tr>",
                            "<tr><td>4.36</td><td>Y: The Last Man - The Deluxe Edition Book One</td></tr>",
                            "<tr><td>4.31</td><td>Unattainable (Undeniable, #3)</td></tr>",
                            "<tr><td>4.25</td><td>Vampire Chronicles: Interview with the Vampire, The Vampire Lestat, The Queen of the Damned (Anne Rice)</td></tr>",
                            "<tr><td>4.28</td><td>Hot Ticket (Sinners on Tour, #3)</td></tr>",
                            "<tr><td>4.4</td><td>Harry Potter Schoolbooks Box Set: Two Classic Books from the Library of Hogwarts School of Witchcraft and Wizardry</td></tr>",
                            "<tr><td>4.21</td><td>The Infernal Devices: Clockwork Angel (The Infernal Devices: Manga, #1)</td></tr>",
                            "<tr><td>4.38</td><td>Sixth Grave on the Edge (Charley Davidson, #6)</td></tr>",
                            "<tr><td>4.4</td><td>The Royal Ranger (Ranger&#39;s Apprentice, #12)</td></tr>",
                            "<tr><td>4.26</td><td>The Lord of the Rings Sketchbook</td></tr>",
                            "<tr><td>4.43</td><td>Shadows over Innsmouth</td></tr>",
                            "<tr><td>4.27</td><td>Bite Me If You Can (Argeneau #6)</td></tr>",
                            "<tr><td>4.46</td><td>The Golden Dynasty (Fantasyland, #2)</td></tr>",
                            "<tr><td>4.32</td><td>The Folk of the Faraway Tree (The Faraway Tree, #3)</td></tr>",
                            "<tr><td>4.71</td><td>Preach My Gospel: A Guide To Missionary Service</td></tr>",
                            "<tr><td>4.27</td><td>Like a Fire Burning (The Work and the Glory, #2)</td></tr>",
                            "<tr><td>4.21</td><td>Friends and Lovers</td></tr>",
                            "<tr><td>4.39</td><td>Death Note, Vol. 6: Give-and-Take (Death Note, #6)</td></tr>",
                            "<tr><td>4.23</td><td>When Crickets Cry</td></tr>",
                            "<tr><td>4.3</td><td>Until Lilly (Until, #3)</td></tr>",
                            "<tr><td>4.22</td><td>Bambi</td></tr>",
                            "<tr><td>4.48</td><td>The Complete Tales and Poems</td></tr>",
                            "<tr><td>4.27</td><td>When Christ and His Saints Slept  (Henry II &amp; Eleanor of Aquitaine, #1)</td></tr>",
                            "<tr><td>4.33</td><td>Pinocchio</td></tr>",
                            "<tr><td>4.47</td><td>The Complete Short Novels</td></tr>",
                            "<tr><td>4.28</td><td>The Berenstain Bears Go to School</td></tr>",
                            "<tr><td>4.28</td><td>Curious George Takes a Job</td></tr>",
                            "<tr><td>4.25</td><td>Unhinged (Splintered, #2)</td></tr>",
                            "<tr><td>4.39</td><td>Streams in the Desert</td></tr>",
                            "<tr><td>4.52</td><td>Carrie / &#39;Salem&#39;s Lot / The Shining</td></tr>",
                            "<tr><td>4.67</td><td>The Way of Kings, Part 1 (The Stormlight Archive #1.1)</td></tr>",
                            "<tr><td>4.45</td><td>Dark Days (Skulduggery Pleasant, #4)</td></tr>",
                            "<tr><td>4.5</td><td>The Green Mile, Part 3: Coffey&#39;s Hands</td></tr>",
                            "<tr><td>4.32</td><td>If I Die (Soul Screamers, #5)</td></tr>",
                            "<tr><td>4.33</td><td>Amazing Grace</td></tr>",
                            "<tr><td>4.44</td><td>Ouran High School Host Club, Vol. 3 (Ouran High School Host Club, #3)</td></tr>",
                            "<tr><td>4.35</td><td>On the Night You Were Born</td></tr>",
                            "<tr><td>4.25</td><td>Justice: What&#39;s the Right Thing to Do?</td></tr>",
                            "<tr><td>4.26</td><td>13 Hours: The Inside Account of What Really Happened In Benghazi</td></tr>",
                            "<tr><td>4.59</td><td>City of Bones / City of Ashes / City of Glass / City of Fallen Angels / City of Lost Souls (The Mortal Instruments, #1-5)</td></tr>",
                            "<tr><td>4.27</td><td>Roller Girl</td></tr>",
                            "<tr><td>4.28</td><td>Ghost Wars: The Secret History of the CIA, Afghanistan, and bin Laden from the Soviet Invasion to September 10, 2001</td></tr>",
                            "<tr><td>4.38</td><td>Bone: Tall Tales</td></tr>",
                            "<tr><td>4.31</td><td>Peace Child: An Unforgettable Story of Primitive Jungle Treachery in the 20th Century</td></tr>",
                            "<tr><td>4.26</td><td>Second Shift: Order (Shift, #2)</td></tr>",
                            "<tr><td>4.25</td><td>Curious George Visits the Library</td></tr>",
                            "<tr><td>4.3</td><td>Truth Will Prevail (The Work and the Glory, #3)</td></tr>",
                            "<tr><td>4.39</td><td>Fruits Basket, Vol. 4</td></tr>",
                            "<tr><td>4.25</td><td>How I Raised Myself from Failure to Success in Selling</td></tr>",
                            "<tr><td>4.45</td><td>Wicked - Piano/Vocal Arrangement</td></tr>",
                            "<tr><td>4.36</td><td>Kulti</td></tr>",
                            "<tr><td>4.24</td><td>The Fifth Dominion (Imajica Part #1/2)</td></tr>",
                            "<tr><td>4.34</td><td>The Pagan Lord (The Saxon Stories, #7)</td></tr>",
                            "<tr><td>4.25</td><td>See You at the Top</td></tr>",
                            "<tr><td>4.25</td><td>In the Clearing (Tracy Crosswhite, #3)</td></tr>",
                            "<tr><td>4.23</td><td>Staked (The Iron Druid Chronicles, #8)</td></tr>",
                            "<tr><td>4.45</td><td>Harry Potter and Philosophy: If Aristotle Ran Hogwarts</td></tr>",
                            "<tr><td>4.22</td><td>Do No Harm: Stories of Life, Death and Brain Surgery</td></tr>",
                            "<tr><td>4.29</td><td>Dark Destiny (Dark, #13)</td></tr>",
                            "<tr><td>4.32</td><td>The Auschwitz Escape</td></tr>",
                            "<tr><td>4.28</td><td>One Flew Over the Cuckoo&#39;s Nest</td></tr>",
                            "<tr><td>4.31</td><td>Ever After (Lost Love, #2)</td></tr>",
                            "<tr><td>4.29</td><td>The Dark Is Rising Sequence  (The Dark Is Rising #1-5)</td></tr>",
                            "<tr><td>4.4</td><td>The Healer (O&#39;Malley #5)</td></tr>",
                            "<tr><td>4.4</td><td>The Guardian (O&#39;Malley #2)</td></tr>",
                            "<tr><td>4.54</td><td>Ouran High School Host Club, Vol. 15 (Ouran High School Host Club, #15)</td></tr>",
                            "<tr><td>4.23</td><td>キスよりも早く1 [Kisu Yorimo Hayaku 1] (Faster than a Kiss #1)</td></tr>",
                            "<tr><td>4.29</td><td>Artemis Fowl Boxed Set, Bks 1-5 (Artemis Fowl, #1-5)</td></tr>",
                            "<tr><td>4.26</td><td>The Field of Swords (Emperor, #3)</td></tr>",
                            "<tr><td>4.38</td><td>The Protector (O&#39;Malley #4)</td></tr>",
                            "<tr><td>4.37</td><td>The Wheel of Time: Boxed Set  (Wheel of Time, #1-8)</td></tr>",
                            "<tr><td>4.4</td><td>Diary ng Panget</td></tr>",
                            "<tr><td>4.55</td><td>The Green Mile, Part 6: Coffey on the Mile</td></tr>",
                            "<tr><td>4.27</td><td>Miles to Go (The Walk, #2)</td></tr>",
                            "<tr><td>4.29</td><td>No Place to Run (KGI, #2)</td></tr>",
                            "<tr><td>4.33</td><td>The Dragonslayer (Bone, #4)</td></tr>",
                            "<tr><td>4.21</td><td>Rain Reign</td></tr>",
                            "<tr><td>4.52</td><td>Avatar Volume 1: The Last Airbender (Avatar #1)</td></tr>",
                            "<tr><td>4.29</td><td>Deeper Than Midnight (Midnight Breed, #9)</td></tr>",
                            "<tr><td>4.21</td><td>Mercy Blade (Jane Yellowrock, #3)</td></tr>",
                            "<tr><td>4.25</td><td>Skippyjon Jones in Mummy Trouble (Skippyjon Jones, #3)</td></tr>",
                            "<tr><td>4.28</td><td>Hairy Maclary from Donaldson&#39;s Dairy</td></tr>",
                            "<tr><td>4.23</td><td>The Incredible Hulk: Planet Hulk</td></tr>",
                            "<tr><td>4.25</td><td>Rumors of War (Children of the Promise, #1)</td></tr>",
                            "<tr><td>4.32</td><td>In This Mountain (Mitford Years, #7)</td></tr>",
                            "<tr><td>4.46</td><td>Fruits Basket, Vol. 14</td></tr>",
                            "<tr><td>4.27</td><td>Hawkeye, Volume 2: Little Hits</td></tr>",
                            "<tr><td>4.27</td><td>Hands Of Light</td></tr>",
                            "<tr><td>4.28</td><td>A Series of Unfortunate Events Box: The Complete Wreck (Books 1-13)</td></tr>",
                            "<tr><td>4.32</td><td>Independence (Significance, #4)</td></tr>",
                            "<tr><td>4.56</td><td>Gemina (The Illuminae Files, #2)</td></tr>",
                            "<tr><td>4.26</td><td>Any Human Heart</td></tr>",
                            "<tr><td>4.41</td><td>Fifty Shades Duo: Fifty Shades Darker / Fifty Shades Freed (Fifty Shades, #2-3)</td></tr>",
                            "<tr><td>4.26</td><td>Festive in Death (In Death, #39)</td></tr>",
                            "<tr><td>4.23</td><td>The Penderwicks on Gardam Street (The Penderwicks, #2)</td></tr>",
                            "<tr><td>4.23</td><td>A Bite to Remember (Argeneau #5)</td></tr>",
                            "<tr><td>4.23</td><td>Just a Mess (Little Critter)</td></tr>",
                            "<tr><td>4.29</td><td>The Gods of War (Emperor, #4)</td></tr>",
                            "<tr><td>4.36</td><td>The Obelisk Gate (The Broken Earth, #2)</td></tr>",
                            "<tr><td>4.32</td><td>Counterfeit Gods: The Empty Promises of Money, Sex, and Power, and the Only Hope that Matters</td></tr>",
                            "<tr><td>4.24</td><td>Beyond Band of Brothers: The War Memoirs of Major Dick Winters</td></tr>",
                            "<tr><td>4.24</td><td>Honor Among Enemies (Honor Harrington, #6)</td></tr>",
                            "<tr><td>4.33</td><td>Obsession in Death (In Death, #40)</td></tr>",
                            "<tr><td>4.33</td><td>Crush</td></tr>",
                            "<tr><td>4.33</td><td>Until Nico (Until, #4)</td></tr>",
                            "<tr><td>4.45</td><td>Fruits Basket, Vol. 15</td></tr>",
                            "<tr><td>4.32</td><td>Plenty</td></tr>",
                            "<tr><td>4.25</td><td>Vicious (Sinners of Saint, #1)</td></tr>",
                            "<tr><td>4.52</td><td>Attack on Titan: No Regrets, Volume 01</td></tr>",
                            "<tr><td>4.72</td><td>Attack of the Deranged Mutant Killer Monster Snow Goons</td></tr>",
                            "<tr><td>4.62</td><td>The Hate U Give</td></tr>",
                            "<tr><td>4.21</td><td>المانيفستو</td></tr>",
                            "<tr><td>4.24</td><td>Dynasty of Evil (Star Wars: Darth Bane, #3)</td></tr>",
                            "<tr><td>4.22</td><td>Flag in Exile (Honor Harrington, #5)</td></tr>",
                            "<tr><td>4.37</td><td>Berserk, Vol. 1 (Berserk, #1)</td></tr>",
                            "<tr><td>4.34</td><td>Egomaniac</td></tr>",
                            "<tr><td>4.25</td><td>Scaredy Squirrel (Scaredy Squirrel)</td></tr>",
                            "<tr><td>4.33</td><td>Gathering Darkness (Falling Kingdoms, #3)</td></tr>",
                            "<tr><td>4.47</td><td>Soul Eater, Vol. 02 (Soul Eater, #2)</td></tr>",
                            "<tr><td>4.34</td><td>Fame (Firstborn, #1)</td></tr>",
                            "<tr><td>4.41</td><td>Transmetropolitan, Vol. 4: The New Scum (Transmetropolitan, #4)</td></tr>",
                            "<tr><td>4.34</td><td>Truce (Neighbor from Hell, #4)</td></tr>",
                            "<tr><td>4.32</td><td>Vampire, Interrupted (Argeneau #9)</td></tr>",
                            "<tr><td>4.24</td><td>Hello, Mrs. Piggle-Wiggle (Mrs. Piggle Wiggle, #4)</td></tr>",
                            "<tr><td>4.26</td><td>The Secret of the Unicorn (Tintin, #11)</td></tr>",
                            "<tr><td>4.26</td><td>The Gay Science</td></tr>",
                            "<tr><td>4.38</td><td>Fruits Basket, Vol. 3</td></tr>",
                            "<tr><td>4.25</td><td>Fantasy in Death (In Death, #30)</td></tr>",
                            "<tr><td>4.3</td><td>The Places That Scare You: A Guide to Fearlessness in Difficult Times</td></tr>",
                            "<tr><td>4.25</td><td>Lost Stars (Star Wars: Journey to the Force Awakens)</td></tr>",
                            "<tr><td>4.34</td><td>Hard Limit (Hacker, #4)</td></tr>",
                            "<tr><td>4.57</td><td>Magic Binds (Kate Daniels, #9)</td></tr>",
                            "<tr><td>4.24</td><td>The River Why</td></tr>",
                            "<tr><td>4.27</td><td>The Fall of Berlin 1945</td></tr>",
                            "<tr><td>4.48</td><td>UnDivided (Unwind, #4)</td></tr>",
                            "<tr><td>4.22</td><td>Economics in One Lesson: The Shortest &amp; Surest Way to Understand Basic Economics</td></tr>",
                            "<tr><td>4.37</td><td>Darker After Midnight (Midnight Breed, #10)</td></tr>",
                            "<tr><td>4.25</td><td>Mad Dogs (Cherub, #8)</td></tr>",
                            "<tr><td>4.28</td><td>Percy Jackson and the Sword of Hades (Percy Jackson and the Olympians, #4.5)</td></tr>",
                            "<tr><td>4.23</td><td>The Walking Dead, Vol. 13: Too Far Gone</td></tr>",
                            "<tr><td>4.31</td><td>Kindred in Death (In Death, #29)</td></tr>",
                            "<tr><td>4.41</td><td>The Story of Ruby Bridges</td></tr>",
                            "<tr><td>4.39</td><td>Stand Tall, Molly Lou Melon</td></tr>",
                            "<tr><td>4.34</td><td>The Complete Robot (Robot #0.3)</td></tr>",
                            "<tr><td>4.22</td><td>Wild Seed (Patternmaster, #1)</td></tr>",
                            "<tr><td>4.46</td><td>The Summer I Turned Pretty Trilogy: The Summer I Turned Pretty; It&#39;s Not Summer Without You; We&#39;ll Always Have Summer</td></tr>",
                            "<tr><td>4.48</td><td>Mortal Coil (Skulduggery Pleasant, #5)</td></tr>",
                            "<tr><td>4.4</td><td>Seventh Grave and No Body (Charley Davidson, #7)</td></tr>",
                            "<tr><td>4.29</td><td>Necronomicon: The Best Weird Tales</td></tr>",
                            "<tr><td>4.53</td><td>Maid-sama! Vol. 02 (Maid-sama! #2)</td></tr>",
                            "<tr><td>4.33</td><td>Batman, Volume 3: Death of the Family</td></tr>",
                            "<tr><td>4.22</td><td>Selected Poems</td></tr>",
                            "<tr><td>4.27</td><td>Hope: A Memoir of Survival in Cleveland</td></tr>",
                            "<tr><td>4.31</td><td>A Kiss for Little Bear (An I Can Read Book) by Minarik, Else Holmelund [1984]</td></tr>",
                            "<tr><td>4.31</td><td>Bleach, Volume 03</td></tr>",
                            "<tr><td>4.22</td><td>The Space Between (Outlander, #7.5)</td></tr>",
                            "<tr><td>4.22</td><td>Cinderella</td></tr>",
                            "<tr><td>4.31</td><td>Heartstone (Matthew Shardlake, #5)</td></tr>",
                            "<tr><td>4.63</td><td>One Piece, Volume 38: Rocketman!! (One Piece, #38)</td></tr>",
                            "<tr><td>4.22</td><td>The Center Cannot Hold: My Journey Through Madness</td></tr>",
                            "<tr><td>4.23</td><td>Neighbor Dearest</td></tr>",
                            "<tr><td>4.25</td><td>Vampires are Forever (Argeneau #8)</td></tr>",
                            "<tr><td>4.48</td><td>The Lion King (Disney&#39;s Wonderful World of Reading)</td></tr>",
                            "<tr><td>4.33</td><td>Danger in the Shadows (O&#39;Malley #0.5)</td></tr>",
                            "<tr><td>4.25</td><td>Animal-Speak: The Spiritual &amp; Magical Powers of Creatures Great &amp; Small</td></tr>",
                            "<tr><td>4.31</td><td>Lake in the Clouds (Wilderness, #3)</td></tr>",
                            "<tr><td>4.39</td><td>Tyrant (King, #2)</td></tr>",
                            "<tr><td>4.48</td><td>The Chronicles of Narnia - The Lion, the Witch, and the Wardrobe Official Illustrated Movie Companion</td></tr>",
                            "<tr><td>4.5</td><td>Humans of New York: Stories</td></tr>",
                            "<tr><td>4.21</td><td>The Other Side of Dawn (Tomorrow, #7)</td></tr>",
                            "<tr><td>4.23</td><td>The Tiger Who Came to Tea</td></tr>",
                            "<tr><td>4.43</td><td>A Civil Campaign (Vorkosigan Saga, #12)</td></tr>",
                            "<tr><td>4.27</td><td>Vampire Knight, Vol. 3 (Vampire Knight, #3)</td></tr>",
                            "<tr><td>4.24</td><td>Money, and the Law of Attraction: Learning to Attract Wealth, Health, and Happiness</td></tr>",
                            "<tr><td>4.3</td><td>Copper Sun</td></tr>",
                            "<tr><td>4.27</td><td>Dark River (Warriors: Power of Three, #2)</td></tr>",
                            "<tr><td>4.39</td><td>The Last Council (Amulet, #4)</td></tr>",
                            "<tr><td>4.3</td><td>Froi of the Exiles (Lumatere Chronicles, #2)</td></tr>",
                            "<tr><td>4.25</td><td>13 Gifts (Willow Falls, #3)</td></tr>",
                            "<tr><td>4.26</td><td>Salvation in Death (In Death, #27)</td></tr>",
                            "<tr><td>4.23</td><td>Death Without Company (Walt Longmire, #2)</td></tr>",
                            "<tr><td>4.45</td><td>Ouran High School Host Club, Vol. 4 (Ouran High School Host Club, #4)</td></tr>",
                            "<tr><td>4.46</td><td>Henry&#39;s Freedom Box: A True Story from the Underground Railroad</td></tr>",
                            "<tr><td>4.29</td><td>A Thousand Boy Kisses</td></tr>",
                            "<tr><td>4.51</td><td>The Green Mile, Part 5: Night Journey</td></tr>",
                            "<tr><td>4.22</td><td>Bread and   Wine: A Love Letter to Life Around the Table with Recipes</td></tr>",
                            "<tr><td>4.25</td><td>Parts (Parts, #1)</td></tr>",
                            "<tr><td>4.23</td><td>Nourishing Traditions: The Cookbook That Challenges Politically Correct Nutrition and the Diet Dictocrats</td></tr>",
                            "<tr><td>4.49</td><td>Sherlock Holmes and the Case of the Hound of the Baskervilles (Illustrated Classic Editions)</td></tr>",
                            "<tr><td>4.46</td><td>Rock Bottom (Tristan &amp; Danika, #2)</td></tr>",
                            "<tr><td>4.25</td><td>Vampire Knight, Vol. 2 (Vampire Knight, #2)</td></tr>",
                            "<tr><td>4.45</td><td>Ride Steady (Chaos, #3)</td></tr>",
                            "<tr><td>4.4</td><td>Sherlock Holmes of Baker Street: A Life of the World&#39;s First Consulting Detective</td></tr>",
                            "<tr><td>4.31</td><td>Marked in Flesh (The Others, #4)</td></tr>",
                            "<tr><td>4.34</td><td>الحرافيش</td></tr>",
                            "<tr><td>4.48</td><td>Blue exorcist, Tome 2</td></tr>",
                            "<tr><td>4.35</td><td>Night Light (Restoration #2)</td></tr>",
                            "<tr><td>4.5</td><td>Out of the Dark (The Grey Wolves, #4)</td></tr>",
                            "<tr><td>4.32</td><td>The Everafter War (The Sisters Grimm, #7)</td></tr>",
                            "<tr><td>4.25</td><td>Means of Ascent (The Years of Lyndon Johnson, #2)</td></tr>",
                            "<tr><td>4.35</td><td>The Mauritius Command</td></tr>",
                            "<tr><td>4.22</td><td>Y: The Last Man, Vol. 3: One Small Step (Y: The Last Man, #3)</td></tr>",
                            "<tr><td>4.25</td><td>Bear Snores On</td></tr>",
                            "<tr><td>4.33</td><td>Bury Your Dead (Chief Inspector Armand Gamache, #6)</td></tr>",
                            "<tr><td>4.38</td><td>Rising Storm (Warriors, #4)</td></tr>",
                            "<tr><td>4.23</td><td>The Brutal Telling (Chief Inspector Armand Gamache, #5)</td></tr>",
                            "<tr><td>4.24</td><td>The Souls of Black Folk</td></tr>",
                            "<tr><td>4.48</td><td>The Crimson Crown (Seven Realms, #4)</td></tr>",
                            "<tr><td>4.27</td><td>Eragon &amp; Eldest (Inheritance, #1-2)</td></tr>",
                            "<tr><td>4.36</td><td>The Wrong Side of Goodbye (Harry Bosch, #21; Harry Bosch Universe, #26)</td></tr>",
                            "<tr><td>4.22</td><td>Barbarians at the Gate: The Fall of RJR Nabisco</td></tr>",
                            "<tr><td>4.27</td><td>My Family and Other Animals (Corfu Trilogy, #1)</td></tr>",
                            "<tr><td>4.3</td><td>Cathedral</td></tr>",
                            "<tr><td>4.41</td><td>Fantastic Beasts and Where to Find Them: The Original Screenplay</td></tr>",
                            "<tr><td>4.26</td><td>The Body</td></tr>",
                            "<tr><td>4.25</td><td>Chicken Soup with Rice: A Book of Months (The Nutshell Library)</td></tr>",
                            "<tr><td>4.3</td><td>Hunted (The Iron Druid Chronicles, #6)</td></tr>",
                            "<tr><td>4.55</td><td>The Complete Novels</td></tr>",
                            "<tr><td>4.32</td><td>Pale Blue Dot: A Vision of the Human Future in Space</td></tr>",
                            "<tr><td>4.25</td><td>Simple Perfection (Rosemary Beach, #6; Perfection, #2)</td></tr>",
                            "<tr><td>4.29</td><td>Scorpia Rising (Alex Rider #9)</td></tr>",
                            "<tr><td>4.25</td><td>Journey to the End of the Night</td></tr>",
                            "<tr><td>4.29</td><td>Stalingrad: The Fateful Siege, 1942–1943</td></tr>",
                            "<tr><td>4.21</td><td>Beast Master, Vol. 1 (Beast Master, #1)</td></tr>",
                            "<tr><td>4.28</td><td>The Defector (Gabriel Allon, #9)</td></tr>",
                            "<tr><td>4.21</td><td>Unlimited Power : The New Science Of Personal Achievement</td></tr>",
                            "<tr><td>4.59</td><td>BookRags Summary:  A Storm of Swords</td></tr>",
                            "<tr><td>4.29</td><td>Written in Red (The Others, #1)</td></tr>",
                            "<tr><td>4.21</td><td>Gregor and the Marks of Secret (Underland Chronicles, #4)</td></tr>",
                            "<tr><td>4.39</td><td>The Prodigal God: Recovering the Heart of the Christian Faith</td></tr>",
                            "<tr><td>4.32</td><td>A Deepness in the Sky (Zones of Thought, #2)</td></tr>",
                            "<tr><td>4.4</td><td>Gates of Fire: An Epic Novel of the Battle of Thermopylae</td></tr>",
                            "<tr><td>4.23</td><td>Gabriel&#39;s Redemption (Gabriel&#39;s Inferno, #3)</td></tr>",
                            "<tr><td>4.33</td><td>Scott Pilgrim, Volume 5: Scott Pilgrim Vs. the Universe</td></tr>",
                            "<tr><td>4.26</td><td>Leave Me Breathless (Ross Siblings, #3)</td></tr>",
                            "<tr><td>4.33</td><td>Play (Stage Dive, #2)</td></tr>",
                            "<tr><td>4.39</td><td>Twilight and Philosophy: Vampires, Vegetarians, and the Pursuit of Immortality</td></tr>",
                            "<tr><td>4.25</td><td>D-Day, June 6, 1944: The Battle for the Normandy Beaches</td></tr>",
                            "<tr><td>4.23</td><td>A Long Walk to Water: Based on a True Story</td></tr>",
                            "<tr><td>4.4</td><td>Light (Gone, #6)</td></tr>",
                            "<tr><td>4.26</td><td>Rapture in Death (In Death, #4)</td></tr>",
                            "<tr><td>4.38</td><td>Whispers at Moonrise (Shadow Falls, #4)</td></tr>",
                            "<tr><td>4.42</td><td>A Dangerous Path (Warriors, #5)</td></tr>",
                            "<tr><td>4.26</td><td>Bloodhound (Beka Cooper, #2)</td></tr>",
                            "<tr><td>4.42</td><td>The Night Angel Trilogy (Night Angel, #1-3)</td></tr>",
                            "<tr><td>4.66</td><td>The Holy Bible: English Standard Version</td></tr>",
                            "<tr><td>4.34</td><td>Unleash the Night (Dark Hunter, #8; Were-Hunter, #2)</td></tr>",
                            "<tr><td>4.27</td><td>Be Here Now</td></tr>",
                            "<tr><td>4.34</td><td>Genghis: Birth of an Empire (Conqueror, #1)</td></tr>",
                            "<tr><td>4.35</td><td>Kiss of a Demon King (Immortals After Dark #7)</td></tr>",
                            "<tr><td>4.42</td><td>The Bonehunters (Malazan Book of the Fallen, #6)</td></tr>",
                            "<tr><td>4.32</td><td>Battle Cry of Freedom</td></tr>",
                            "<tr><td>4.36</td><td>The Little Mermaid</td></tr>",
                            "<tr><td>4.34</td><td>Because of Mr. Terupt</td></tr>",
                            "<tr><td>4.25</td><td>One Grave at a Time (Night Huntress, #6)</td></tr>",
                            "<tr><td>4.4</td><td>Apollyon (Covenant, #4)</td></tr>",
                            "<tr><td>4.35</td><td>Complete Poems, 1904-1962</td></tr>",
                            "<tr><td>4.26</td><td>The Rembrandt Affair (Gabriel Allon, #10)</td></tr>",
                            "<tr><td>4.22</td><td>The Ruby Circle (Bloodlines, #6)</td></tr>",
                            "<tr><td>4.24</td><td>Where the Mountain Meets the Moon</td></tr>",
                            "<tr><td>4.51</td><td>Father Mine (Black Dagger Brotherhood, #6.5)</td></tr>",
                            "<tr><td>4.34</td><td>Peace Is Every Step: The Path of Mindfulness in Everyday Life</td></tr>",
                            "<tr><td>4.3</td><td>Electric Daisy, Vol. 1 (Dengeki Daisy, #1)</td></tr>",
                            "<tr><td>4.21</td><td>Eternal Kiss of Darkness (Night Huntress World, #2)</td></tr>",
                            "<tr><td>4.27</td><td>The Missing Piece</td></tr>",
                            "<tr><td>4.27</td><td>Freedom™ (Daemon, #2)</td></tr>",
                            "<tr><td>4.63</td><td>Jesus the Christ</td></tr>",
                            "<tr><td>4.49</td><td>Disney&#39;s the Lion King</td></tr>",
                            "<tr><td>4.29</td><td>Fables, Vol. 4: March of the Wooden Soldiers</td></tr>",
                            "<tr><td>4.27</td><td>Preacher, Volume 3: Proud Americans</td></tr>",
                            "<tr><td>4.24</td><td>Madeline&#39;s Rescue</td></tr>",
                            "<tr><td>4.38</td><td>A Perfect Blood (The Hollows, #10)</td></tr>",
                            "<tr><td>4.23</td><td>Joni: An Unforgettable Story</td></tr>",
                            "<tr><td>4.29</td><td>Second Grave on the Left (Charley Davidson, #2)</td></tr>",
                            "<tr><td>4.29</td><td>We Were Soldiers Once... and Young: Ia Drang - The Battle that Changed the War in Vietnam</td></tr>",
                            "<tr><td>4.57</td><td>Percy Jackson and the Olympians Boxed Set (Percy Jackson and the Olympians, #1-5)</td></tr>",
                            "<tr><td>4.25</td><td>Trials of Death (Cirque Du Freak, #5)</td></tr>",
                            "<tr><td>4.27</td><td>The Score (Off-Campus, #3)</td></tr>",
                            "<tr><td>4.26</td><td>Even Now (Lost Love, #1)</td></tr>",
                            "<tr><td>4.49</td><td>Magic Rises (Kate Daniels, #6)</td></tr>",
                            "<tr><td>4.3</td><td>Red: The Heroic Rescue (The Circle, #2)</td></tr>",
                            "<tr><td>4.29</td><td>A Trick of the Light (Chief Inspector Armand Gamache, #7)</td></tr>",
                            "<tr><td>4.28</td><td>White Hot Kiss (The Dark Elements, #1)</td></tr>",
                            "<tr><td>4.25</td><td>At the Mountains of Madness and Other Tales of Terror</td></tr>",
                            "<tr><td>4.34</td><td>The Complete Stories</td></tr>",
                            "<tr><td>4.49</td><td>Kürk Mantolu Madonna</td></tr>",
                            "<tr><td>4.43</td><td>Lothaire (Immortals After Dark #12)</td></tr>",
                            "<tr><td>4.28</td><td>Knuffle Bunny Too: A Case of Mistaken Identity (Knuffle Bunny, #2)</td></tr>",
                            "<tr><td>4.26</td><td>Midnight (Warriors: The New Prophecy, #1)</td></tr>",
                            "<tr><td>4.4</td><td>Promises in Death (In Death, #28)</td></tr>",
                            "<tr><td>4.31</td><td>The Fifth Season (The Broken Earth, #1)</td></tr>",
                            "<tr><td>4.28</td><td>The Mysterious Benedict Society and the Prisoner&#39;s Dilemma (The Mysterious Benedict Society, #3)</td></tr>",
                            "<tr><td>4.23</td><td>Orthodoxy</td></tr>",
                            "<tr><td>4.33</td><td>The Long Haul (Diary of a Wimpy Kid, #9)</td></tr>",
                            "<tr><td>4.32</td><td>The Negotiator (O&#39;Malley, #1)</td></tr>",
                            "<tr><td>4.34</td><td>Fair Game (Alpha &amp; Omega, #3)</td></tr>",
                            "<tr><td>4.26</td><td>The Son of Sobek (Percy Jackson &amp; Kane Chronicles Crossover, #1)</td></tr>",
                            "<tr><td>4.32</td><td>Passion Unleashed (Demonica #3)</td></tr>",
                            "<tr><td>4.25</td><td>Just for You (Little Critter)</td></tr>",
                            "<tr><td>4.24</td><td>Daughter of the Empire (The Empire Trilogy, #1)</td></tr>",
                            "<tr><td>4.39</td><td>Dreams of a Dark Warrior (Immortals After Dark #11)</td></tr>",
                            "<tr><td>4.22</td><td>Own the Wind (Chaos, #1)</td></tr>",
                            "<tr><td>4.35</td><td>Tiger&#39;s Voyage (The Tiger Saga, #3)</td></tr>",
                            "<tr><td>4.22</td><td>The Going-To-Bed Book</td></tr>",
                            "<tr><td>4.26</td><td>Shadow Divers</td></tr>",
                            "<tr><td>4.26</td><td>Ceremony in Death (In Death, #5)</td></tr>",
                            "<tr><td>4.27</td><td>Mila 18</td></tr>",
                            "<tr><td>4.23</td><td>Bite Club (The Morganville Vampires, #10)</td></tr>",
                            "<tr><td>4.24</td><td>A Sand County Almanac and Sketches Here and There</td></tr>",
                            "<tr><td>4.21</td><td>The China Study: The Most Comprehensive Study of Nutrition Ever Conducted And the Startling Implications for Diet, Weight Loss, And Long-term Health</td></tr>",
                            "<tr><td>4.47</td><td>The Gruffalo</td></tr>",
                            "<tr><td>4.43</td><td>Tokyo Ghoul, tome 1 (Tokyo Ghoul, #1)</td></tr>",
                            "<tr><td>4.28</td><td>Sword Song (The Saxon Stories, #4)</td></tr>",
                            "<tr><td>4.38</td><td>Truth (Consequences, #2)</td></tr>",
                            "<tr><td>4.3</td><td>We Wish to Inform You That Tomorrow We Will Be Killed with Our Families</td></tr>",
                            "<tr><td>4.25</td><td>Seeds of Rebellion (Beyonders, #2)</td></tr>",
                            "<tr><td>4.23</td><td>Chosen Prey (Lucas Davenport, #12)</td></tr>",
                            "<tr><td>4.43</td><td>Raymond E. Feist&#39;s Magician Master</td></tr>",
                            "<tr><td>4.25</td><td>Bossman</td></tr>",
                            "<tr><td>4.32</td><td>The Black Dagger Brotherhood: An Insider&#39;s Guide</td></tr>",
                            "<tr><td>4.36</td><td>Locke &amp; Key, Vol. 2: Head Games</td></tr>",
                            "<tr><td>4.25</td><td>Hopscotch</td></tr>",
                            "<tr><td>4.23</td><td>Fallen (Will Trent, #5)</td></tr>",
                            "<tr><td>4.27</td><td>Stars Above (The Lunar Chronicles, #4.5)</td></tr>",
                            "<tr><td>4.27</td><td>Stories of Your Life and Others</td></tr>",
                            "<tr><td>4.42</td><td>Sweet Dreams (Colorado Mountain, #2)</td></tr>",
                            "<tr><td>4.25</td><td>Nicholas and Alexandra</td></tr>",
                            "<tr><td>4.28</td><td>Her Mother&#39;s Hope (Marta&#39;s Legacy, #1)</td></tr>",
                            "<tr><td>4.24</td><td>Slouching Towards Bethlehem</td></tr>",
                            "<tr><td>4.26</td><td>Addicted</td></tr>",
                            "<tr><td>4.23</td><td>The Vampire Prince (Cirque Du Freak, #6)</td></tr>",
                            "<tr><td>4.35</td><td>Perfect (Impulse, #2)</td></tr>",
                            "<tr><td>4.33</td><td>Play with Me (With Me in Seattle, #3)</td></tr>",
                            "<tr><td>4.37</td><td>Portrait in Death (In Death, #16)</td></tr>",
                            "<tr><td>4.25</td><td>Y: The Last Man, Vol. 4: Safeword (Y: The Last Man, #4)</td></tr>",
                            "<tr><td>4.25</td><td>Y: The Last Man, Vol. 7: Paper Dolls (Y: The Last Man, #7)</td></tr>",
                            "<tr><td>4.23</td><td>The Walking Dead, Vol. 04: The Heart&#39;s Desire</td></tr>",
                            "<tr><td>4.33</td><td>The Stonekeeper&#39;s Curse (Amulet, #2)</td></tr>",
                            "<tr><td>4.68</td><td>The Days Are Just Packed: A Calvin and Hobbes Collection</td></tr>",
                            "<tr><td>4.21</td><td>Discipline and Punish: The Birth of the Prison</td></tr>",
                            "<tr><td>4.32</td><td>Devil May Cry (Dark-Hunter, #11)</td></tr>",
                            "<tr><td>4.44</td><td>Magician: Apprentice  (Raymond E. Feist&#39;s Magician: Apprentice #1)</td></tr>",
                            "<tr><td>4.29</td><td>A Woman After God&#39;s Own Heart</td></tr>",
                            "<tr><td>4.26</td><td>Twilight: The Graphic Novel, Vol. 2  (Twilight: The Graphic Novel, #2)</td></tr>",
                            "<tr><td>4.23</td><td>Raw (RAW Family, #1)</td></tr>",
                            "<tr><td>4.31</td><td>The Great Book of Amber (The Chronicles of Amber, #1-10)</td></tr>",
                            "<tr><td>4.32</td><td>The Darkest Lie (Lords of the Underworld #6)</td></tr>",
                            "<tr><td>4.32</td><td>Czas pogardy (Saga o Wiedźminie, #4)</td></tr>",
                            "<tr><td>4.32</td><td>Paradise (Second Opportunities, #1)</td></tr>",
                            "<tr><td>4.22</td><td>The Recruit (Cherub, #1)</td></tr>",
                            "<tr><td>4.22</td><td>Fermat&#39;s Enigma: The Epic Quest to Solve the World&#39;s Greatest Mathematical Problem</td></tr>",
                            "<tr><td>4.24</td><td>The Hero With a Thousand Faces</td></tr>",
                            "<tr><td>4.21</td><td>Bad Blood (Virgil Flowers, #4)</td></tr>",
                            "<tr><td>4.22</td><td>Police (Harry Hole, #10)</td></tr>",
                            "<tr><td>4.24</td><td>The Confusion (The Baroque Cycle, #2)</td></tr>",
                            "<tr><td>4.21</td><td>Hellboy, Vol. 3: The Chained Coffin and Others (Hellboy, #3)</td></tr>",
                            "<tr><td>4.31</td><td>The Dark Highlander (Highlander, #5)</td></tr>",
                            "<tr><td>4.34</td><td>The Immortal Highlander (Highlander, #6)</td></tr>",
                            "<tr><td>4.23</td><td>The Runaway King (The Ascendance Trilogy, #2)</td></tr>",
                            "<tr><td>4.27</td><td>Y: The Last Man, Vol. 9: Motherland (Y: The Last Man, #9)</td></tr>",
                            "<tr><td>4.43</td><td>Hunter x Hunter, Vol. 01 (Hunter x Hunter, #1)</td></tr>",
                            "<tr><td>4.34</td><td>Vengeance in Death (In Death, #6)</td></tr>",
                            "<tr><td>4.65</td><td>A Game of Thrones: Comic Book, Issue 1</td></tr>",
                            "<tr><td>4.42</td><td>Where I&#39;m Calling From: New and Selected Stories</td></tr>",
                            "<tr><td>4.23</td><td>Darke (Septimus Heap, #6)</td></tr>",
                            "<tr><td>4.34</td><td>Y: The Last Man, Vol. 10: Whys and Wherefores (Y: The Last Man, #10)</td></tr>",
                            "<tr><td>4.54</td><td>The Constitution of the United States of America</td></tr>",
                            "<tr><td>4.27</td><td>Hark! A Vagrant</td></tr>",
                            "<tr><td>4.22</td><td>The Tibetan Book of Living and Dying</td></tr>",
                            "<tr><td>4.27</td><td>The Soldiers of Halla (Pendragon, #10)</td></tr>",
                            "<tr><td>4.37</td><td>The Improbable Adventures of Sherlock Holmes</td></tr>",
                            "<tr><td>4.45</td><td>The Fire Next Time</td></tr>",
                            "<tr><td>4.35</td><td>Don&#39;t Let the Pigeon Stay Up Late!</td></tr>",
                            "<tr><td>4.51</td><td>Percy Jackson&#39;s Greek Gods (A Percy Jackson and the Olympians Guide)</td></tr>",
                            "<tr><td>4.24</td><td>Undone (Will Trent, #3)</td></tr>",
                            "<tr><td>4.22</td><td>The Dragonriders of Pern (Dragonriders of Pern, #1-3)</td></tr>",
                            "<tr><td>4.46</td><td>A Great Reckoning (Chief Inspector Armand Gamache, #12)</td></tr>",
                            "<tr><td>4.29</td><td>The Burning Land (The Saxon Stories, #5)</td></tr>",
                            "<tr><td>4.25</td><td>A Color of His Own</td></tr>",
                            "<tr><td>4.31</td><td>Don&#39;t Panic: The Official Hitchhiker&#39;s Guide to the Galaxy Companion</td></tr>",
                            "<tr><td>4.25</td><td>Vicious (Villains, #1)</td></tr>",
                            "<tr><td>4.23</td><td>The Rent Collector</td></tr>",
                            "<tr><td>4.36</td><td>Until You (Fall Away, #1.5)</td></tr>",
                            "<tr><td>4.3</td><td>The Walking Dead, Vol. 05: The Best Defense</td></tr>",
                            "<tr><td>4.24</td><td>Portrait of a Spy (Gabriel Allon, #11)</td></tr>",
                            "<tr><td>4.22</td><td>The Crossover</td></tr>",
                            "<tr><td>4.36</td><td>In The Afterlight (The Darkest Minds, #3)</td></tr>",
                            "<tr><td>4.3</td><td>Totto-chan: The Little Girl at the Window</td></tr>",
                            "<tr><td>4.38</td><td>Kamisama Kiss, Vol. 1</td></tr>",
                            "<tr><td>4.45</td><td>Sherlock Holmes: The Complete Novels and Stories, Volume I</td></tr>",
                            "<tr><td>4.42</td><td>The Far Side Gallery</td></tr>",
                            "<tr><td>4.26</td><td>The Eternity Cure (Blood of Eden, #2)</td></tr>",
                            "<tr><td>4.31</td><td>Holiday in Death (In Death, #7)</td></tr>",
                            "<tr><td>4.4</td><td>Thief (Love Me with Lies, #3)</td></tr>",
                            "<tr><td>4.25</td><td>Legend (The Drenai Saga, #1)</td></tr>",
                            "<tr><td>4.24</td><td>All My Friends Are Dead</td></tr>",
                            "<tr><td>4.41</td><td>Bleach, Volume 15</td></tr>",
                            "<tr><td>4.37</td><td>And the Band Played On: Politics, People, and the AIDS Epidemic</td></tr>",
                            "<tr><td>4.27</td><td>Found in You (Fixed, #2)</td></tr>",
                            "<tr><td>4.23</td><td>Midnight Rising (Midnight Breed, #4)</td></tr>",
                            "<tr><td>4.22</td><td>The Feast of the Goat</td></tr>",
                            "<tr><td>4.25</td><td>Drums, Girls &amp; Dangerous Pie (Drums, Girls &amp; Dangerous Pie, #1)</td></tr>",
                            "<tr><td>4.28</td><td>The Pursuit of Holiness</td></tr>",
                            "<tr><td>4.25</td><td>Halo: The Fall of Reach</td></tr>",
                            "<tr><td>4.45</td><td>Ever After (The Hollows, #11)</td></tr>",
                            "<tr><td>4.66</td><td>The Calvin and Hobbes Lazy Sunday Book</td></tr>",
                            "<tr><td>4.21</td><td>Y: The Last Man, Vol. 6: Girl on Girl (Y: The Last Man, #6)</td></tr>",
                            "<tr><td>4.22</td><td>If You Give a Pig a Party</td></tr>",
                            "<tr><td>4.27</td><td>Servant of the Empire (The Empire Trilogy, #2)</td></tr>",
                            "<tr><td>4.26</td><td>This Book Is Full of Spiders: Seriously, Dude, Don&#39;t Touch It (John Dies at the End, #2)</td></tr>",
                            "<tr><td>4.25</td><td>Desire Unchained (Demonica #2)</td></tr>",
                            "<tr><td>4.29</td><td>The Dhammapada</td></tr>",
                            "<tr><td>4.33</td><td>Law Man (Dream Man, #3)</td></tr>",
                            "<tr><td>4.38</td><td>Through Gates of Splendor</td></tr>",
                            "<tr><td>4.22</td><td>Dirty Red (Love Me with Lies, #2)</td></tr>",
                            "<tr><td>4.24</td><td>The Hating Game</td></tr>",
                            "<tr><td>4.25</td><td>Goliath (Leviathan, #3)</td></tr>",
                            "<tr><td>4.22</td><td>Reborn! Vol. 01: Reborn Arrives! (Reborn!, #1)</td></tr>",
                            "<tr><td>4.21</td><td>Criminal (Will Trent, #6)</td></tr>",
                            "<tr><td>4.21</td><td>I&#39;m Just Here for the Food: Food + Heat = Cooking</td></tr>",
                            "<tr><td>4.39</td><td>All Things Wise and Wonderful</td></tr>",
                            "<tr><td>4.34</td><td>Reaper&#39;s Gale (The Malazan Book of the Fallen, #7)</td></tr>",
                            "<tr><td>4.41</td><td>Locke &amp; Key, Vol. 3: Crown of Shadows</td></tr>",
                            "<tr><td>4.21</td><td>Blue-Eyed Devil (Travises, #2)</td></tr>",
                            "<tr><td>4.29</td><td>Batman: The Black Mirror</td></tr>",
                            "<tr><td>4.22</td><td>Killers of the Dawn (Cirque Du Freak, #9)</td></tr>",
                            "<tr><td>4.47</td><td>Tramp for the Lord</td></tr>",
                            "<tr><td>4.41</td><td>Remember (Redemption, #2)</td></tr>",
                            "<tr><td>4.34</td><td>The Last Seven Months of Anne Frank</td></tr>",
                            "<tr><td>4.3</td><td>The System of the World (The Baroque Cycle, #3)</td></tr>",
                            "<tr><td>4.3</td><td>Twice Tempted (Night Prince, #2)</td></tr>",
                            "<tr><td>4.29</td><td>Collected Poems, 1909-1962</td></tr>",
                            "<tr><td>4.39</td><td>Beauty and the Beast</td></tr>",
                            "<tr><td>4.32</td><td>Lead (Stage Dive, #3)</td></tr>",
                            "<tr><td>4.23</td><td>Big Nate Strikes Again (Big Nate Novels, #2)</td></tr>",
                            "<tr><td>4.41</td><td>Pete the Cat: I Love My White Shoes</td></tr>",
                            "<tr><td>4.32</td><td>Son of the Shadows (Sevenwaters, #2)</td></tr>",
                            "<tr><td>4.26</td><td>Barefoot Contessa Family Style: Easy Ideas and Recipes That Make Everyone Feel Like Family</td></tr>",
                            "<tr><td>4.25</td><td>Vain (The Seven Deadly, #1)</td></tr>",
                            "<tr><td>4.26</td><td>Veil of Midnight (Midnight Breed, #5)</td></tr>",
                            "<tr><td>4.33</td><td>Preacher, Volume 9: Alamo</td></tr>",
                            "<tr><td>4.58</td><td>Collected Fictions</td></tr>",
                            "<tr><td>4.24</td><td>Just Me in the Tub (Mercer Mayer&#39;s Little Critter)</td></tr>",
                            "<tr><td>4.24</td><td>Crush (Crash, #3)</td></tr>",
                            "<tr><td>4.32</td><td>The Walking Dead, Vol. 06: This Sorrowful Life</td></tr>",
                            "<tr><td>4.33</td><td>The Farseer Trilogy (Farseer Trilogy #1-3)</td></tr>",
                            "<tr><td>4.39</td><td>Third Grave Dead Ahead (Charley Davidson, #3)</td></tr>",
                            "<tr><td>4.32</td><td>The Heart of Betrayal (The Remnant Chronicles, #2)</td></tr>",
                            "<tr><td>4.29</td><td>First They Killed My Father: A Daughter of Cambodia Remembers</td></tr>",
                            "<tr><td>4.24</td><td>Sometimes a Great Notion</td></tr>",
                            "<tr><td>4.37</td><td>Chosen at Nightfall (Shadow Falls, #5)</td></tr>",
                            "<tr><td>4.3</td><td>Rock with Me (With Me in Seattle, #4)</td></tr>",
                            "<tr><td>4.24</td><td>Driving Miss Daisy</td></tr>",
                            "<tr><td>4.27</td><td>Hardpressed (Hacker, #2)</td></tr>",
                            "<tr><td>4.35</td><td>Conspiracy in Death (In Death, #8)</td></tr>",
                            "<tr><td>4.28</td><td>Shattered (The Iron Druid Chronicles, #7)</td></tr>",
                            "<tr><td>4.22</td><td>The First Commandment (Scot Harvath, #6)</td></tr>",
                            "<tr><td>4.45</td><td>Complete Works of Oscar Wilde</td></tr>",
                            "<tr><td>4.21</td><td>The Nature of the Beast (Chief Inspector Armand Gamache #11)</td></tr>",
                            "<tr><td>4.53</td><td>Black Butler, Vol. 3 (Black Butler, #3)</td></tr>",
                            "<tr><td>4.31</td><td>The Crown Tower (The Riyria Chronicles, #1)</td></tr>",
                            "<tr><td>4.31</td><td>Daytripper</td></tr>",
                            "<tr><td>4.28</td><td>Accordance (Significance, #2)</td></tr>",
                            "<tr><td>4.42</td><td>Tales from a Not-So-Smart Miss Know-It-All (Dork Diaries, #5)</td></tr>",
                            "<tr><td>4.28</td><td>Three Little Kittens</td></tr>",
                            "<tr><td>4.35</td><td>Before Jamaica Lane (On Dublin Street, #3)</td></tr>",
                            "<tr><td>4.23</td><td>The Bitter Kingdom (Fire and Thorns, #3)</td></tr>",
                            "<tr><td>4.34</td><td>Frosty the Snowman (Frosty the Snowman)</td></tr>",
                            "<tr><td>4.34</td><td>Preacher, Volume 6: War in the Sun</td></tr>",
                            "<tr><td>4.23</td><td>The Queen of Attolia (The Queen&#39;s Thief, #2)</td></tr>",
                            "<tr><td>4.22</td><td>Honor&#39;s Splendour</td></tr>",
                            "<tr><td>4.23</td><td>Deep Kiss of Winter (Includes: Immortals After Dark, #8; Alien Huntress, #3.5)</td></tr>",
                            "<tr><td>4.21</td><td>Wild Man (Dream Man, #2)</td></tr>",
                            "<tr><td>4.32</td><td>Sleeping Beauty: a Little Golden Book (Disney Princess)</td></tr>",
                            "<tr><td>4.42</td><td>The Darkest Surrender  (Lords of the Underworld #8)</td></tr>",
                            "<tr><td>4.22</td><td>A Mango-Shaped Space</td></tr>",
                            "<tr><td>4.67</td><td>Life Application Study Bible: NIV</td></tr>",
                            "<tr><td>4.34</td><td>The Sandman: Endless Nights</td></tr>",
                            "<tr><td>4.32</td><td>Boy&#39;s Life</td></tr>",
                            "<tr><td>4.49</td><td>The Green Mile, Part 1: The Two Dead Girls</td></tr>",
                            "<tr><td>4.33</td><td>Toll the Hounds (The Malazan Book of the Fallen, #8)</td></tr>",
                            "<tr><td>4.31</td><td>Right Ho, Jeeves (Jeeves, #6)</td></tr>",
                            "<tr><td>4.23</td><td>If You&#39;re Reading This, It&#39;s Too Late (Secret, #2)</td></tr>",
                            "<tr><td>4.31</td><td>Moonrise (Warriors: The New Prophecy, #2)</td></tr>",
                            "<tr><td>4.3</td><td>A Child&#39;s Garden of Verses</td></tr>",
                            "<tr><td>4.34</td><td>The Walking Dead, Vol. 12: Life Among Them</td></tr>",
                            "<tr><td>4.25</td><td>Pedagogy of the Oppressed</td></tr>",
                            "<tr><td>4.26</td><td>The Gospel According to Jesus Christ</td></tr>",
                            "<tr><td>4.41</td><td>Avatar: The Last Airbender: The Lost Adventures</td></tr>",
                            "<tr><td>4.32</td><td>الطنطورية</td></tr>",
                            "<tr><td>4.45</td><td>Miss Rumphius</td></tr>",
                            "<tr><td>4.24</td><td>Days with Frog and Toad (Frog and Toad, #4)</td></tr>",
                            "<tr><td>4.37</td><td>The King of Attolia (The Queen&#39;s Thief, #3)</td></tr>",
                            "<tr><td>4.28</td><td>What Do You Care What Other People Think?</td></tr>",
                            "<tr><td>4.21</td><td>The Honor of the Queen (Honor Harrington, #2)</td></tr>",
                            "<tr><td>4.27</td><td>Angels in America, Part One: Millennium Approaches</td></tr>",
                            "<tr><td>4.22</td><td>Dreaming of You (The Gamblers, #2)</td></tr>",
                            "<tr><td>4.24</td><td>The Complete Poems</td></tr>",
                            "<tr><td>4.33</td><td>Almost Heaven (Sequels, #3)</td></tr>",
                            "<tr><td>4.31</td><td>Three Day Road</td></tr>",
                            "<tr><td>4.27</td><td>Trust in Me (Wait for You, #1.5)</td></tr>",
                            "<tr><td>4.5</td><td>Naruto, Vol. 11: Impassioned Efforts (Naruto, #11)</td></tr>",
                            "<tr><td>4.27</td><td>The Untethered Soul: The Journey Beyond Yourself</td></tr>",
                            "<tr><td>4.22</td><td>The Prize</td></tr>",
                            "<tr><td>4.3</td><td>One Tiny Lie (Ten Tiny Breaths, #2)</td></tr>",
                            "<tr><td>4.44</td><td>United We Spy (Gallagher Girls, #6)</td></tr>",
                            "<tr><td>4.36</td><td>The Morganville Vampires, Volume 1 (The Morganville Vampires, #1-2)</td></tr>",
                            "<tr><td>4.48</td><td>Three Comrades</td></tr>",
                            "<tr><td>4.36</td><td>Chrzest ognia (Saga o Wiedźminie, #5)</td></tr>",
                            "<tr><td>4.22</td><td>Surface Detail (Culture #9)</td></tr>",
                            "<tr><td>4.35</td><td>The Fixed Trilogy (Fixed, #1-3)</td></tr>",
                            "<tr><td>4.35</td><td>Guards! Guards!: The Play</td></tr>",
                            "<tr><td>4.35</td><td>The Pigeon Finds a Hot Dog!</td></tr>",
                            "<tr><td>4.57</td><td>الرحيق المختوم</td></tr>",
                            "<tr><td>4.29</td><td>The Shadows (Black Dagger Brotherhood, #13)</td></tr>",
                            "<tr><td>4.33</td><td>Wethering the Storm (The Storm, #2)</td></tr>",
                            "<tr><td>4.24</td><td>The Enchanted Wood (The Faraway Tree, #1)</td></tr>",
                            "<tr><td>4.3</td><td>Cardcaptor Sakura, Vol. 1 (Cardcaptor Sakura, #1)</td></tr>",
                            "<tr><td>4.31</td><td>The Pioneer Woman Cooks: Food from My Frontier </td></tr>",
                            "<tr><td>4.31</td><td>Defiance (Significance, #3)</td></tr>",
                            "<tr><td>4.52</td><td>Magic Breaks (Kate Daniels, #7)</td></tr>",
                            "<tr><td>4.42</td><td>New York to Dallas (In Death, #33)</td></tr>",
                            "<tr><td>4.31</td><td>The Longest Day</td></tr>",
                            "<tr><td>4.29</td><td>Mistress of the Empire (The Empire Trilogy, #3)</td></tr>",
                            "<tr><td>4.56</td><td>Harry Potter and the Order of the Phoenix (Harry Potter, #5, Part 1)</td></tr>",
                            "<tr><td>4.41</td><td>One Tuesday Morning (9/11, #1)</td></tr>",
                            "<tr><td>4.34</td><td>The Wall of Winnipeg and Me</td></tr>",
                            "<tr><td>4.22</td><td>Cross Justice (Alex Cross, #23)</td></tr>",
                            "<tr><td>4.29</td><td>Intuition (The Premonition, #2)</td></tr>",
                            "<tr><td>4.25</td><td>Secret Prey (Lucas Davenport, #9)</td></tr>",
                            "<tr><td>4.21</td><td>The Complete Clive Barker&#39;s The Great And Secret Show</td></tr>",
                            "<tr><td>4.27</td><td>His Last Bow: 8 Stories</td></tr>",
                            "<tr><td>4.36</td><td>Ecstasy Unveiled (Demonica #4)</td></tr>",
                            "<tr><td>4.35</td><td>Sunset (Warriors: The New Prophecy, #6)</td></tr>",
                            "<tr><td>4.56</td><td>The Divergent Series 2-Book Collection (Divergent, #1-2)</td></tr>",
                            "<tr><td>4.35</td><td>Sin Undone (Demonica #5)</td></tr>",
                            "<tr><td>4.38</td><td>Unbeautifully (Undeniable, #2)</td></tr>",
                            "<tr><td>4.44</td><td>Lady Luck (Colorado Mountain, #3)</td></tr>",
                            "<tr><td>4.33</td><td>Ransom (Highlands&#39; Lairds, #2)</td></tr>",
                            "<tr><td>4.26</td><td>From the Two Rivers: The Eye of the World, Part 1 (Wheel of time, #1-1)</td></tr>",
                            "<tr><td>4.22</td><td>Leaving (Bailey Flanigan, #1)</td></tr>",
                            "<tr><td>4.48</td><td>The World of the Hunger Games (Hunger Games Trilogy)</td></tr>",
                            "<tr><td>4.32</td><td>The Magic Strings of Frankie Presto</td></tr>",
                            "<tr><td>4.53</td><td>Fool&#39;s Quest  (The Fitz and The Fool, #2)</td></tr>",
                            "<tr><td>4.21</td><td>First Shift: Legacy (Shift, #1)</td></tr>",
                            "<tr><td>4.22</td><td>The Unlikely Spy</td></tr>",
                            "<tr><td>4.22</td><td>Dragon Slippers (Dragon Slippers, #1)</td></tr>",
                            "<tr><td>4.44</td><td>The Crippled God (The Malazan Book of the Fallen, #10)</td></tr>",
                            "<tr><td>4.38</td><td>Tales from a Not-So-Graceful Ice Princess (Dork Diaries, #4)</td></tr>",
                            "<tr><td>4.23</td><td>On Writing Well: The Classic Guide to Writing Nonfiction</td></tr>",
                            "<tr><td>4.35</td><td>Fire Touched (Mercy Thompson, #9)</td></tr>",
                            "<tr><td>4.25</td><td>Frosty the Snow Man</td></tr>",
                            "<tr><td>4.23</td><td>Savage Inequalities: Children in America&#39;s Schools</td></tr>",
                            "<tr><td>4.25</td><td>Little Princes: One Man&#39;s Promise to Bring Home the Lost Children of Nepal</td></tr>",
                            "<tr><td>4.44</td><td>The Poetry of Pablo Neruda</td></tr>",
                            "<tr><td>4.35</td><td>The Crimson Campaign (Powder Mage, #2)</td></tr>",
                            "<tr><td>4.38</td><td>The Looming Tower: Al-Qaeda and the Road to 9/11</td></tr>",
                            "<tr><td>4.31</td><td>Memory in Death (In Death, #22)</td></tr>",
                            "<tr><td>4.24</td><td>Tenth Grade Bleeds (The Chronicles of Vladimir Tod, #3)</td></tr>",
                            "<tr><td>4.23</td><td>Trinity</td></tr>",
                            "<tr><td>4.25</td><td>The Secret Servant (Gabriel Allon, #7)</td></tr>",
                            "<tr><td>4.23</td><td>A Light in the Window (Mitford Years, #2)</td></tr>",
                            "<tr><td>4.31</td><td>Dawn (Warriors: The New Prophecy, #3)</td></tr>",
                            "<tr><td>4.32</td><td>A Dance with Dragons: Dreams and Dust (A Song of Ice and Fire #5, Part 1 of 2)</td></tr>",
                            "<tr><td>4.26</td><td>Full Black (Scot Harvath, #10)</td></tr>",
                            "<tr><td>4.74</td><td>There&#39;s Treasure Everywhere: A Calvin and Hobbes Collection</td></tr>",
                            "<tr><td>4.25</td><td>The Evolutionary Void</td></tr>",
                            "<tr><td>4.42</td><td>The Twelve Chairs</td></tr>",
                            "<tr><td>4.38</td><td>The Beatles Anthology</td></tr>",
                            "<tr><td>4.36</td><td>Night World: The Ultimate Fan Guide</td></tr>",
                            "<tr><td>4.21</td><td>Dragonlance Chronicles (Dragonlance #1-3)</td></tr>",
                            "<tr><td>4.3</td><td>Fables, Vol. 6: Homelands</td></tr>",
                            "<tr><td>4.24</td><td>The Temporal Void</td></tr>",
                            "<tr><td>4.29</td><td>The Winner&#39;s Kiss (The Winner&#39;s Trilogy, #3)</td></tr>",
                            "<tr><td>4.33</td><td>Bad Things (Tristan &amp; Danika, #1)</td></tr>",
                            "<tr><td>4.3</td><td>Here be Dragons (Welsh Princes, #1)</td></tr>",
                            "<tr><td>4.22</td><td>Short Stories from Hogwarts of Heroism, Hardship and Dangerous Hobbies (Pottermore Presents, #1)</td></tr>",
                            "<tr><td>4.25</td><td>Path of Destruction (Star Wars: Darth Bane, #1)</td></tr>",
                            "<tr><td>4.32</td><td>The Making of the Atomic Bomb</td></tr>",
                            "<tr><td>4.26</td><td>Unveiled: Tamar (Lineage of Grace #1)</td></tr>",
                            "<tr><td>4.26</td><td>Angels in America, Part Two: Perestroika</td></tr>",
                            "<tr><td>4.23</td><td>The Complete Poetry and Prose</td></tr>",
                            "<tr><td>4.42</td><td>Death Note, Vol. 2: Confluence (Death Note, #2)</td></tr>",
                            "<tr><td>4.36</td><td>Akira, Vol. 1</td></tr>",
                            "<tr><td>4.23</td><td>Gakuen Alice, Vol. 01 (Gakuen Alice, #1)</td></tr>",
                            "<tr><td>4.37</td><td>The Miracle of Forgiveness</td></tr>",
                            "<tr><td>4.32</td><td>The Darkest Secret (Lords of the Underworld #7)</td></tr>",
                            "<tr><td>4.49</td><td>Sentinel (Covenant, #5)</td></tr>",
                            "<tr><td>4.4</td><td>The Sunne in Splendour</td></tr>",
                            "<tr><td>4.22</td><td>The Masterharper of Pern (Pern, #15)</td></tr>",
                            "<tr><td>4.24</td><td>Don&#39;t Make Me Think: A Common Sense Approach to Web Usability</td></tr>",
                            "<tr><td>4.23</td><td>Shrill: Notes from a Loud Woman</td></tr>",
                            "<tr><td>4.37</td><td>Queen of the Darkness (The Black Jewels, #3)</td></tr>",
                            "<tr><td>4.41</td><td>A Dance with Dragons: After the Feast (A Song of Ice and Fire #5, Part 2 of 2)</td></tr>",
                            "<tr><td>4.21</td><td>I Was So Mad</td></tr>",
                            "<tr><td>4.23</td><td>The Blue Castle </td></tr>",
                            "<tr><td>4.28</td><td>The Immortals Boxed Set (The Immortals, #1-3)</td></tr>",
                            "<tr><td>4.28</td><td>Shades of Midnight (Midnight Breed, #7)</td></tr>",
                            "<tr><td>4.25</td><td>The Hat</td></tr>",
                            "<tr><td>4.23</td><td>The Caine Mutiny</td></tr>",
                            "<tr><td>4.49</td><td>Saga, Vol. 6 (Saga, #6)</td></tr>",
                            "<tr><td>4.49</td><td>The Enchantress Returns (The Land of Stories, #2)</td></tr>",
                            "<tr><td>4.23</td><td>The Jordan Rules</td></tr>",
                            "<tr><td>4.21</td><td>The Heretic Queen</td></tr>",
                            "<tr><td>4.34</td><td>The Talisman (Volume 1): The Road of Trials</td></tr>",
                            "<tr><td>4.26</td><td>Hardline (Hacker, #3)</td></tr>",
                            "<tr><td>4.22</td><td>War</td></tr>",
                            "<tr><td>4.37</td><td>The Outcasts (Brotherband Chronicles, #1)</td></tr>",
                            "<tr><td>4.36</td><td>Case Closed, Vol. 1</td></tr>",
                            "<tr><td>4.29</td><td>Yu Yu Hakusho, Volume 1: Goodbye, Material World! (Yu Yu Hakusho, #1)</td></tr>",
                            "<tr><td>4.46</td><td>Shoe Dog: A Memoir by the Creator of NIKE</td></tr>",
                            "<tr><td>4.38</td><td>Survivor In Death (In Death, #20)</td></tr>",
                            "<tr><td>4.73</td><td>The Authoritative Calvin and Hobbes: A Calvin and Hobbes Treasury</td></tr>",
                            "<tr><td>4.31</td><td>Murder of Crows (The Others, #2)</td></tr>",
                            "<tr><td>4.29</td><td>Preacher, Volume 5: Dixie Fried</td></tr>",
                            "<tr><td>4.25</td><td>Preacher, Volume 4: Ancient History</td></tr>",
                            "<tr><td>4.33</td><td>The Heavenly Man: The Remarkable True Story of Chinese Christian Brother Yun</td></tr>",
                            "<tr><td>4.23</td><td>UnSouled (Unwind, #3)</td></tr>",
                            "<tr><td>4.26</td><td>The Miracle of Mindfulness: An Introduction to the Practice of Meditation</td></tr>",
                            "<tr><td>4.22</td><td>David Gets In Trouble</td></tr>",
                            "<tr><td>4.32</td><td>Last Breath (The Morganville Vampires, #11)</td></tr>",
                            "<tr><td>4.31</td><td>Rock Chick Rescue (Rock Chick, #2)</td></tr>",
                            "<tr><td>4.5</td><td>Locke &amp; Key, Vol. 5: Clockworks</td></tr>",
                            "<tr><td>4.28</td><td>Flotsam</td></tr>",
                            "<tr><td>4.23</td><td>The Lion and the Mouse</td></tr>",
                            "<tr><td>4.32</td><td>The Collected Poems</td></tr>",
                            "<tr><td>4.31</td><td>Barrayar (Vorkosigan Saga, #7)</td></tr>",
                            "<tr><td>4.21</td><td>Alice in the Country of Hearts, Vol. 01 (Alice in the Country of Hearts, #1)</td></tr>",
                            "<tr><td>4.22</td><td>Lord of the Shadows (Cirque Du Freak, #11)</td></tr>",
                            "<tr><td>4.31</td><td>The Endurance: Shackleton&#39;s Legendary Antarctic Expedition</td></tr>",
                            "<tr><td>4.31</td><td>The Candymakers (The Candymakers, #1)</td></tr>",
                            "<tr><td>4.39</td><td>Winnie the Pooh and Tigger Too (Disney&#39;s Wonderful World of Reading)</td></tr>",
                            "<tr><td>4.47</td><td>Hamilton: The Revolution</td></tr>",
                            "<tr><td>4.25</td><td>The Taste of Home Cookbook</td></tr>",
                            "<tr><td>4.24</td><td>Goddess (Starcrossed, #3)</td></tr>",
                            "<tr><td>4.26</td><td>Waylander (The Drenai Saga, #3)</td></tr>",
                            "<tr><td>4.43</td><td>The Wheel of Time: Boxed Set #1 (Wheel of Time, #1-3)</td></tr>",
                            "<tr><td>4.38</td><td>Excalibur (The Warlord Chronicles, #3)</td></tr>",
                            "<tr><td>4.24</td><td>Foreign Influence (Scot Harvath, #9)</td></tr>",
                            "<tr><td>4.24</td><td>Dark Magic (Dark, #4)</td></tr>",
                            "<tr><td>4.25</td><td>Barnyard Dance</td></tr>",
                            "<tr><td>4.22</td><td>Field of Prey (Lucas Davenport, #24)</td></tr>",
                            "<tr><td>4.25</td><td>Rush Too Far (Rosemary Beach, #4; Too Far, #4)</td></tr>",
                            "<tr><td>4.28</td><td>Animalia</td></tr>",
                            "<tr><td>4.27</td><td>Stone Butch Blues</td></tr>",
                            "<tr><td>4.21</td><td>A Fish Out of Water</td></tr>",
                            "<tr><td>4.3</td><td>The Running Dream</td></tr>",
                            "<tr><td>4.29</td><td>Epilogue (The Dark Duet, #3)</td></tr>",
                            "<tr><td>4.39</td><td>The Morganville Vampires, Volume 3 (The Morganville Vampires, #5-6)</td></tr>",
                            "<tr><td>4.44</td><td>Locke &amp; Key, Vol. 4: Keys to the Kingdom</td></tr>",
                            "<tr><td>4.28</td><td>Horde (Razorland, #3)</td></tr>",
                            "<tr><td>4.21</td><td>The Mixed-Up Chameleon</td></tr>",
                            "<tr><td>4.29</td><td>Bad Moon Rising (Dark-Hunter #18; Were-Hunter #4; Hellchaser #2)</td></tr>",
                            "<tr><td>4.38</td><td>Breathe (Colorado Mountain, #4)</td></tr>",
                            "<tr><td>4.29</td><td>This Book Is Not Good for You (Secret, #3)</td></tr>",
                            "<tr><td>4.44</td><td>The Declaration of Independence and The Constitution of the United States</td></tr>",
                            "<tr><td>4.37</td><td>Indebted (The Premonition, #3)</td></tr>",
                            "<tr><td>4.33</td><td>Judgment in Death (In Death, #11)</td></tr>",
                            "<tr><td>4.36</td><td>Innocent in Death (In Death, #24)</td></tr>",
                            "<tr><td>4.4</td><td>Fourth Grave Beneath My Feet (Charley Davidson, #4)</td></tr>",
                            "<tr><td>4.27</td><td>Madeline and the Bad Hat</td></tr>",
                            "<tr><td>4.43</td><td>Facing Your Giants: A David and Goliath Story for Everyday People</td></tr>",
                            "<tr><td>4.42</td><td>Ina May&#39;s Guide to Childbirth</td></tr>",
                            "<tr><td>4.31</td><td>Anne Frank : The Biography</td></tr>",
                            "<tr><td>4.3</td><td>The Sweet Gum Tree</td></tr>",
                            "<tr><td>4.24</td><td>Glory over Everything: Beyond The Kitchen House</td></tr>",
                            "<tr><td>4.26</td><td>Class A (Cherub, #2)</td></tr>",
                            "<tr><td>4.28</td><td>A New Song (Mitford Years, #5)</td></tr>",
                            "<tr><td>4.31</td><td>Dust of Dreams (The Malazan Book of the Fallen, #9)</td></tr>",
                            "<tr><td>4.21</td><td>Lord Loss (The Demonata, #1)</td></tr>",
                            "<tr><td>4.28</td><td>Sometimes It Lasts (Sea Breeze, #5)</td></tr>",
                            "<tr><td>4.36</td><td>The Power of the Dog</td></tr>",
                            "<tr><td>4.22</td><td>America&#39;s First Daughter</td></tr>",
                            "<tr><td>4.43</td><td>The Undead Pool (The Hollows, #12)</td></tr>",
                            "<tr><td>4.32</td><td>The Fate of Ten (Lorien Legacies, #6)</td></tr>",
                            "<tr><td>4.26</td><td>Takedown (Scot Harvath, #5)</td></tr>",
                            "<tr><td>4.35</td><td>Sweet Reckoning (Sweet, #3)</td></tr>",
                            "<tr><td>4.3</td><td>Perfect (Second Opportunities, #2)</td></tr>",
                            "<tr><td>4.26</td><td>The Three Little Pigs</td></tr>",
                            "<tr><td>4.42</td><td>Bright Side (Bright Side, #1)</td></tr>",
                            "<tr><td>4.24</td><td>Maximum Security (Cherub, #3)</td></tr>",
                            "<tr><td>4.33</td><td>March: Book One (March, #1)</td></tr>",
                            "<tr><td>4.27</td><td>Everything That Rises Must Converge: Stories</td></tr>",
                            "<tr><td>4.33</td><td>Caressed by Ice (Psy-Changeling #3)</td></tr>",
                            "<tr><td>4.36</td><td>The Code of the Woosters (Jeeves, #7)</td></tr>",
                            "<tr><td>4.31</td><td>The Autobiography of Martin Luther King, Jr.</td></tr>",
                            "<tr><td>4.37</td><td>The Knowledge of the Holy</td></tr>",
                            "<tr><td>4.26</td><td>Batman, Volume 2: The City of Owls</td></tr>",
                            "<tr><td>4.21</td><td>Magic&#39;s Pawn (Valdemar: Last Herald-Mage #1)</td></tr>",
                            "<tr><td>4.22</td><td>CivilWarLand in Bad Decline</td></tr>",
                            "<tr><td>4.22</td><td>The Happy Prince</td></tr>",
                            "<tr><td>4.61</td><td>Standing for Something: 10 Neglected Virtues That Will Heal Our Hearts and Homes</td></tr>",
                            "<tr><td>4.22</td><td>Notorious RBG: The Life and Times of Ruth Bader Ginsburg</td></tr>",
                            "<tr><td>4.27</td><td>Invincible (Chronicles of Nick, #2)</td></tr>",
                            "<tr><td>4.73</td><td>The Indispensable Calvin and Hobbes</td></tr>",
                            "<tr><td>4.3</td><td>Witness in Death (In Death, #10)</td></tr>",
                            "<tr><td>4.27</td><td>Reaper&#39;s Legacy (Reapers MC, #2)</td></tr>",
                            "<tr><td>4.27</td><td>Her Final Breath (Tracy Crosswhite, #2)</td></tr>",
                            "<tr><td>4.33</td><td>Something Wonderful (Sequels, #2)</td></tr>",
                            "<tr><td>4.24</td><td>Archangel&#39;s Consort (Guild Hunter, #3)</td></tr>",
                            "<tr><td>4.23</td><td>Sacajawea (Lewis &amp; Clark Expedition)</td></tr>",
                            "<tr><td>4.33</td><td>Avatar: The Last Airbender (The Rift, #1)</td></tr>",
                            "<tr><td>4.34</td><td>The Black Widow (Gabriel Allon, #16)</td></tr>",
                            "<tr><td>4.51</td><td>Believing Christ: The Parable of the Bicycle and Other Good News</td></tr>",
                            "<tr><td>4.28</td><td>The Code Book: The Science of Secrecy from Ancient Egypt to Quantum Cryptography</td></tr>",
                            "<tr><td>4.59</td><td>The Mortal Instruments (The Mortal Instruments #1-4)</td></tr>",
                            "<tr><td>4.25</td><td>Foxe&#39;s Book of Martyrs</td></tr>",
                            "<tr><td>4.45</td><td>Diary of a Wimpy Kid: #1-4</td></tr>",
                            "<tr><td>4.41</td><td>The Peacegiver: How Christ Offers to Heal Our Hearts and Homes</td></tr>",
                            "<tr><td>4.43</td><td>Rock Chick Redemption (Rock Chick, #3)</td></tr>",
                            "<tr><td>4.27</td><td>The Walking Dead, Vol. 07: The Calm Before</td></tr>",
                            "<tr><td>4.24</td><td>Curious George Rides a Bike</td></tr>",
                            "<tr><td>4.33</td><td>Preacher, Volume 8: All Hell&#39;s a-Coming</td></tr>",
                            "<tr><td>4.24</td><td>The Little Sisters of Eluria (The Dark Tower, #0.5)</td></tr>",
                            "<tr><td>4.26</td><td>The Dot</td></tr>",
                            "<tr><td>4.21</td><td>استمتع بحياتك</td></tr>",
                            "<tr><td>4.3</td><td>Preacher, Volume 7: Salvation</td></tr>",
                            "<tr><td>4.39</td><td>I Want My Hat Back</td></tr>",
                            "<tr><td>4.35</td><td>The Brothers Lionheart</td></tr>",
                            "<tr><td>4.3</td><td>Loyalty in Death (In Death, #9)</td></tr>",
                            "<tr><td>4.25</td><td>Generation Kill: Devil Dogs, Iceman, Captain America, and the New Face of American War</td></tr>",
                            "<tr><td>4.31</td><td>Playing with Fire (Skulduggery Pleasant, #2)</td></tr>",
                            "<tr><td>4.33</td><td>Forever with You (Fixed, #3)</td></tr>",
                            "<tr><td>4.22</td><td>Sons of Destiny (Cirque Du Freak, #12)</td></tr>",
                            "<tr><td>4.28</td><td>The Icewind Dale Trilogy Collector&#39;s Edition (Forgotten Realms: Icewind Dale, #1-3; Legend of Drizzt, #4-6)</td></tr>",
                            "<tr><td>4.37</td><td>Bumi Manusia</td></tr>",
                            "<tr><td>4.39</td><td>Martin Eden</td></tr>",
                            "<tr><td>4.34</td><td>Wieża Jaskółki (Saga o Wiedźminie, #6)</td></tr>",
                            "<tr><td>4.31</td><td>Genghis: Lords of the Bow (Conqueror, #2)</td></tr>",
                            "<tr><td>4.28</td><td>Loving Mr. Daniels</td></tr>",
                            "<tr><td>4.21</td><td>Go Away, Big Green Monster!</td></tr>",
                            "<tr><td>4.24</td><td>Steel Magnolias (DPS Acting Edition)</td></tr>",
                            "<tr><td>4.22</td><td>The Lives of Christopher Chant (Chrestomanci, #2)</td></tr>",
                            "<tr><td>4.23</td><td>Snowmen at Night</td></tr>",
                            "<tr><td>4.28</td><td>Futures and Frosting (Chocolate Lovers, #2)</td></tr>",
                            "<tr><td>4.29</td><td>Rise of the Elgen (Michael Vey, #2)</td></tr>",
                            "<tr><td>4.21</td><td>Sempre (Sempre, #1)</td></tr>",
                            "<tr><td>4.47</td><td>Magic Shifts (Kate Daniels, #8)</td></tr>",
                            "<tr><td>4.29</td><td>The Warrior&#39;s Apprentice (Vorkosigan Saga, #2)</td></tr>",
                            "<tr><td>4.29</td><td>The Complete Phantom of the Opera</td></tr>",
                            "<tr><td>4.22</td><td>The Unusual Suspects (The Sisters Grimm, #2)</td></tr>",
                            "<tr><td>4.29</td><td>Life Together: The Classic Exploration of Christian Community</td></tr>",
                            "<tr><td>4.38</td><td>The Dark Forest (Remembrance of Earth’s Past, #2)</td></tr>",
                            "<tr><td>4.33</td><td>Heir to the Shadows (The Black Jewels, #2)</td></tr>",
                            "<tr><td>4.43</td><td>Treachery in Death (In Death, #32)</td></tr>",
                            "<tr><td>4.41</td><td>Blood Rites (The Grey Wolves, #2)</td></tr>",
                            "<tr><td>4.21</td><td>Every Man Dies Alone</td></tr>",
                            "<tr><td>4.31</td><td>Betrayal in Death (In Death, #12)</td></tr>",
                            "<tr><td>4.28</td><td>Pillar of Light (The Work and the Glory, #1)</td></tr>",
                            "<tr><td>4.36</td><td>The Cloud Searchers (Amulet, #3)</td></tr>",
                            "<tr><td>4.41</td><td>Tiger&#39;s Destiny (The Tiger Saga, #4)</td></tr>",
                            "<tr><td>4.41</td><td>Elixir (Covenant, #3.5)</td></tr>",
                            "<tr><td>4.25</td><td>Saving Grace</td></tr>",
                            "<tr><td>4.43</td><td>Musashi</td></tr>",
                            "<tr><td>4.31</td><td>One for the Murphys</td></tr>",
                            "<tr><td>4.24</td><td>Fresh Wind, Fresh Fire: What Happens When God&#39;s Spirit Invades the Heart of His People</td></tr>",
                            "<tr><td>4.33</td><td>Last Chance to See</td></tr>",
                            "<tr><td>4.46</td><td>Pretty Little Liars (TV Series)</td></tr>",
                            "<tr><td>4.31</td><td>Remy (Real, #3)</td></tr>",
                            "<tr><td>4.5</td><td>Rock Chick Revenge (Rock Chick, #5)</td></tr>",
                            "<tr><td>4.25</td><td>Dear Zoo: A Lift-the-Flap Book</td></tr>",
                            "<tr><td>4.42</td><td>Death Note, Vol. 3: Hard Run (Death Note, #3)</td></tr>",
                            "<tr><td>4.27</td><td>The Lost Stories (Ranger&#39;s Apprentice, #11)</td></tr>",
                            "<tr><td>4.24</td><td>How to Talk So Kids Will Listen &amp; Listen So Kids Will Talk</td></tr>",
                            "<tr><td>4.23</td><td>All-of-a-Kind Family (All-of-a-Kind Family, #1)</td></tr>",
                            "<tr><td>4.24</td><td>A Bridge Too Far</td></tr>",
                            "<tr><td>4.71</td><td>Homicidal Psycho Jungle Cat: A Calvin and Hobbes Collection</td></tr>",
                            "<tr><td>4.41</td><td>Master of the Senate (The Years of Lyndon Johnson, #3)</td></tr>",
                            "<tr><td>4.4</td><td>Arch of Triumph: A Novel of a Man Without a Country</td></tr>",
                            "<tr><td>4.37</td><td>The Hammer of Thor (Magnus Chase and the Gods of Asgard, #2)</td></tr>",
                            "<tr><td>4.26</td><td>Far from the Tree: Parents, Children, and the Search for Identity</td></tr>",
                            "<tr><td>4.32</td><td>Bones of the Hills (Conqueror, #3)</td></tr>",
                            "<tr><td>4.24</td><td>Change Your Thoughts - Change Your Life: Living the Wisdom of the Tao</td></tr>",
                            "<tr><td>4.28</td><td>All But My Life: A Memoir</td></tr>",
                            "<tr><td>4.33</td><td>All-Star Superman, Vol. 2</td></tr>",
                            "<tr><td>4.25</td><td>The World of Ice &amp; Fire: The Untold History of Westeros and the Game of Thrones</td></tr>",
                            "<tr><td>4.21</td><td>Miracle in the Andes</td></tr>",
                            "<tr><td>4.43</td><td>The War that Saved My Life (The War That Saved My Life #1)</td></tr>",
                            "<tr><td>4.45</td><td>The Beast (Black Dagger Brotherhood, #14)</td></tr>",
                            "<tr><td>4.34</td><td>Cardcaptor Sakura: Master of the Clow, Vol. 1 (Cardcaptor Sakura, #7)</td></tr>",
                            "<tr><td>4.28</td><td>Gunmetal Magic (Kate Daniels, #5.5)</td></tr>",
                            "<tr><td>4.46</td><td>Rock Chick Renegade (Rock Chick, #4)</td></tr>",
                            "<tr><td>4.47</td><td>Darkest Powers Trilogy (Darkest Powers, #1-3)</td></tr>",
                            "<tr><td>4.32</td><td>Indulgence in Death (In Death, #31)</td></tr>",
                            "<tr><td>4.21</td><td>The Little Red Caboose (Little Golden Book)</td></tr>",
                            "<tr><td>4.32</td><td>Mufaro&#39;s Beautiful Daughters: An African Tale</td></tr>",
                            "<tr><td>4.27</td><td>Mastery</td></tr>",
                            "<tr><td>4.27</td><td>Amelia Bedelia and the Surprise Shower</td></tr>",
                            "<tr><td>4.27</td><td>Spell of the Highlander (Highlander, #7)</td></tr>",
                            "<tr><td>4.21</td><td>Follow the River</td></tr>",
                            "<tr><td>4.25</td><td>In Harm&#39;s Way: The Sinking of the U.S.S. Indianapolis and the Extraordinary Story of Its Survivors</td></tr>",
                            "<tr><td>4.52</td><td>Thank You, Mr. Falker</td></tr>",
                            "<tr><td>4.51</td><td>Captive Prince: Volume Two (Captive Prince, #2)</td></tr>",
                            "<tr><td>4.54</td><td>A Court of Wings and Ruin (A Court of Thorns and Roses, #3)</td></tr>",
                            "<tr><td>4.4</td><td>The Faceless Ones (Skulduggery Pleasant, #3)</td></tr>",
                            "<tr><td>4.35</td><td>Transmetropolitan, Vol. 2: Lust for Life (Transmetropolitan, #2)</td></tr>",
                            "<tr><td>4.24</td><td>Dark Fire (Matthew Shardlake, #2)</td></tr>",
                            "<tr><td>4.24</td><td>Beautiful Beginning (Beautiful Bastard, #3.5)</td></tr>",
                            "<tr><td>4.23</td><td>The Assassin and the Pirate Lord (Throne of Glass, #0.1)</td></tr>",
                            "<tr><td>4.25</td><td>Come Back, Amelia Bedelia</td></tr>",
                            "<tr><td>4.39</td><td>The Brothers K</td></tr>",
                            "<tr><td>4.41</td><td>A Dog&#39;s Journey (A Dog&#39;s Purpose, #2)</td></tr>",
                            "<tr><td>4.43</td><td>The Meaning of Marriage: Facing the Complexities of Commitment with the Wisdom of God</td></tr>",
                            "<tr><td>4.23</td><td>The Short Stories</td></tr>",
                            "<tr><td>4.3</td><td>Binge</td></tr>",
                            "<tr><td>4.32</td><td>Black Lies</td></tr>",
                            "<tr><td>4.22</td><td>Rome (Marked Men, #3)</td></tr>",
                            "<tr><td>4.28</td><td>Giraffes Can&#39;t Dance</td></tr>",
                            "<tr><td>4.34</td><td>Heal Your Body: The Mental Causes for Physical Illness and the Metaphysical Way to Overcome Them</td></tr>",
                            "<tr><td>4.28</td><td>The Cartel</td></tr>",
                            "<tr><td>4.23</td><td>Raid (Unfinished Hero, #3)</td></tr>",
                            "<tr><td>4.49</td><td>Fifth Grave Past the Light (Charley Davidson, #5)</td></tr>",
                            "<tr><td>4.32</td><td>Revelation (Matthew Shardlake, #4)</td></tr>",
                            "<tr><td>4.4</td><td>100 Love Sonnets</td></tr>",
                            "<tr><td>4.33</td><td>Fire Inside (Chaos, #2)</td></tr>",
                            "<tr><td>4.25</td><td>The Neutronium Alchemist (Night&#39;s Dawn, #2)</td></tr>",
                            "<tr><td>4.35</td><td>The Darkest Seduction (Lords of the Underworld #9)</td></tr>",
                            "<tr><td>4.23</td><td>Tall, Tatted and Tempting (The Reed Brothers, #1)</td></tr>",
                            "<tr><td>4.36</td><td>The Dresden Files:  Storm Front, Volume 1-  The Gathering Storm</td></tr>",
                            "<tr><td>4.31</td><td>Eleventh Grade Burns (The Chronicles of Vladimir Tod, #4)</td></tr>",
                            "<tr><td>4.32</td><td>When We Were Very Young (Winnie-the-Pooh, #3)</td></tr>",
                            "<tr><td>4.39</td><td>The Truth Seeker (O&#39;Malley #3)</td></tr>",
                            "<tr><td>4.29</td><td>The Winter Rose (The Tea Rose, #2)</td></tr>",
                            "<tr><td>4.22</td><td>The Last Full Measure (The Civil War Trilogy, #3)</td></tr>",
                            "<tr><td>4.29</td><td>Post Captain (Aubrey/Maturin, #2)</td></tr>",
                            "<tr><td>4.27</td><td>The Belgariad, Vol. 1: Pawn of Prophecy / Queen of Sorcery / Magician&#39;s Gambit (The Belgariad, #1-3)</td></tr>",
                            "<tr><td>4.29</td><td>One More Chance (Rosemary Beach, #8; Chance, #2)</td></tr>",
                            "<tr><td>4.33</td><td>Purity in Death (In Death, #15)</td></tr>",
                            "<tr><td>4.23</td><td>The Hollow Hills (Arthurian Saga, #2)</td></tr>",
                            "<tr><td>4.22</td><td>Marching Powder: A True Story of Friendship, Cocaine, and South America&#39;s Strangest Jail</td></tr>",
                            "<tr><td>4.21</td><td>Hogwarts: An Incomplete and Unreliable Guide (Pottermore Presents, #3)</td></tr>",
                            "<tr><td>4.27</td><td>Ronia, the Robber&#39;s Daughter</td></tr>",
                            "<tr><td>4.33</td><td>Dark Guardian (Dark, #9)</td></tr>",
                            "<tr><td>4.3</td><td>Dark Fire (Dark, #6)</td></tr>",
                            "<tr><td>4.3</td><td>Citizen: An American Lyric</td></tr>",
                            "<tr><td>4.28</td><td>Carry on, Jeeves (Jeeves, #3)</td></tr>",
                            "<tr><td>4.23</td><td>Systematic Theology: An Introduction to Biblical Doctrine</td></tr>",
                            "<tr><td>4.29</td><td>Dust &amp; Decay (Rot &amp; Ruin, #2)</td></tr>",
                            "<tr><td>4.25</td><td>An Army at Dawn: The War in North Africa, 1942-1943 (World War II Liberation Trilogy, #1)</td></tr>",
                            "<tr><td>4.3</td><td>Seduction in Death (In Death, #13)</td></tr>",
                            "<tr><td>4.33</td><td>Bone: Quest for the Spark, Vol. 1</td></tr>",
                            "<tr><td>4.28</td><td>No Mercy (Dark-Hunter #18, Were-Hunter, #5)</td></tr>",
                            "<tr><td>4.28</td><td>The Vor Game (Vorkosigan Saga, #6)</td></tr>",
                            "<tr><td>4.3</td><td>Choosing to SEE</td></tr>",
                            "<tr><td>4.29</td><td>The Unabridged Journals of Sylvia Plath</td></tr>",
                            "<tr><td>4.53</td><td>This Is Water: Some Thoughts, Delivered on a Significant Occasion, about Living a Compassionate Life</td></tr>",
                            "<tr><td>4.23</td><td>QED: The Strange Theory of Light and Matter</td></tr>",
                            "<tr><td>4.24</td><td>Mastiff (Beka Cooper, #3)</td></tr>",
                            "<tr><td>4.25</td><td>Batman: Hush, Vol. 2</td></tr>",
                            "<tr><td>4.35</td><td>Chasing the Prophecy (Beyonders, #3)</td></tr>",
                            "<tr><td>4.4</td><td>The Assassin and the Desert (Throne of Glass, #0.3)</td></tr>",
                            "<tr><td>4.21</td><td>Once and Always (Sequels, #1)</td></tr>",
                            "<tr><td>4.23</td><td>Bloodline (Sigma Force, #8)</td></tr>",
                            "<tr><td>4.28</td><td>Death of Kings (The Saxon Stories, #6)</td></tr>",
                            "<tr><td>4.24</td><td>Auschwitz</td></tr>",
                            "<tr><td>4.33</td><td>Born in Death (In Death, #23)</td></tr>",
                            "<tr><td>4.36</td><td>درخت زیبای من</td></tr>",
                            "<tr><td>4.44</td><td>Return (Redemption, #3)</td></tr>",
                            "<tr><td>4.24</td><td>Dom Casmurro</td></tr>",
                            "<tr><td>4.22</td><td>Love★Com, Vol. 1</td></tr>",
                            "<tr><td>4.22</td><td>The Lions of Little Rock</td></tr>",
                            "<tr><td>4.35</td><td>Hetalia: Axis Powers, Vol. 1 (Hetalia: Axis Powers, #1)</td></tr>",
                            "<tr><td>4.47</td><td>Finding Nemo</td></tr>",
                            "<tr><td>4.29</td><td>Calling Doctor Amelia Bedelia</td></tr>",
                            "<tr><td>4.27</td><td>These High, Green Hills (Mitford Years, #3)</td></tr>",
                            "<tr><td>4.38</td><td>Now We Are Six (Winnie-the-Pooh, #4)</td></tr>",
                            "<tr><td>4.27</td><td>Taken by Midnight (Midnight Breed, #8)</td></tr>",
                            "<tr><td>4.37</td><td>The Law of Moses (The Law of Moses, #1)</td></tr>",
                            "<tr><td>4.28</td><td>Fallen Crest Family (Fallen Crest High, #2)</td></tr>",
                            "<tr><td>4.26</td><td>L.A. Requiem (Elvis Cole, #8)</td></tr>",
                            "<tr><td>4.23</td><td>Dark Challenge (Dark, #5)</td></tr>",
                            "<tr><td>4.21</td><td>Scarecrow (Shane Schofield, #3)</td></tr>",
                            "<tr><td>4.25</td><td>The Earthsea Trilogy</td></tr>",
                            "<tr><td>4.25</td><td>A Sick Day for Amos McGee</td></tr>",
                            "<tr><td>4.42</td><td>Tales from a Not-So-Happy Heartbreaker (Dork Diaries, #6)</td></tr>",
                            "<tr><td>4.28</td><td>Perfect Scoundrels (Heist Society, #3)</td></tr>",
                            "<tr><td>4.37</td><td>The Pigeon Wants a Puppy!</td></tr>",
                            "<tr><td>4.35</td><td>Mornings in Jenin</td></tr>",
                            "<tr><td>4.28</td><td>The Faraway Tree Stories (The Faraway Tree #1-3)</td></tr>",
                            "<tr><td>4.25</td><td>The Walking Dead, Vol. 09: Here We Remain</td></tr>",
                            "<tr><td>4.48</td><td>Black Butler, Vol. 2 (Black Butler, #2)</td></tr>",
                            "<tr><td>4.38</td><td>Death Note, Vol. 4: Love (Death Note, #4)</td></tr>",
                            "<tr><td>4.35</td><td>The Autumn Republic (Powder Mage, #3)</td></tr>",
                            "<tr><td>4.33</td><td>The Walking Dead, Vol. 11: Fear the Hunters</td></tr>",
                            "<tr><td>4.21</td><td>The Friend Zone (Game On, #2)</td></tr>",
                            "<tr><td>4.39</td><td>The Rose and the Thorn (The Riyria Chronicles, #2)</td></tr>",
                            "<tr><td>4.29</td><td>Frostbitten (Women of the Otherworld, #10)</td></tr>",
                            "<tr><td>4.35</td><td>Blood Kiss (Black Dagger Legacy, #1)</td></tr>",
                            "<tr><td>4.32</td><td>عائد إلى حيفا</td></tr>",
                            "<tr><td>4.43</td><td>رباعيات صلاح جاهين</td></tr>",
                            "<tr><td>4.32</td><td>The Love Song of J. Alfred Prufrock and Other Poems</td></tr>",
                            "<tr><td>4.43</td><td>The Witch With No Name (The Hollows, #13)</td></tr>",
                            "<tr><td>4.24</td><td>King (King, #1)</td></tr>",
                            "<tr><td>4.38</td><td>Twilight and History</td></tr>",
                            "</table>"
                        ]
                    }
                }
            ],
            "execution_count": 18
        },
        {
            "cell_type": "markdown",
            "source": [
                "## QUESTION 4:  Thisbe\n",
                "\n",
                "Thisbe is planning to make a long-term display of popular books that she will update monthly, reflecting different time periods.  She wants to make it reader-centric by including titles that readers have averagely rated higher than the book's actual average rating. \n",
                "\n",
                "**Part A:**   Write a query that compares the publication time with average reader ratings.\n",
                "\n",
                "**Part B:**  She wants the list ordered by year, then the book title"
            ],
            "metadata": {
                "azdata_cell_guid": "c3cb4fa8-802c-4130-8740-2adf20ec6a15"
            },
            "attachments": {}
        },
        {
            "cell_type": "code",
            "source": [
                "-- Code here:\r\n",
                "USE BooksDB\r\n",
                "SELECT TOP(100) average_rating, title, original_publication_year, original_title\r\n",
                "FROM dbo.books\r\n",
                "GO"
            ],
            "metadata": {
                "azdata_cell_guid": "164e0a22-349f-45ed-afe8-0753d5a8c6fc",
                "tags": [],
                "language": "sql"
            },
            "outputs": [
                {
                    "output_type": "display_data",
                    "data": {
                        "text/html": "(100 rows affected)"
                    },
                    "metadata": {}
                },
                {
                    "output_type": "display_data",
                    "data": {
                        "text/html": "Total execution time: 00:00:00.057"
                    },
                    "metadata": {}
                },
                {
                    "output_type": "execute_result",
                    "metadata": {},
                    "execution_count": 19,
                    "data": {
                        "application/vnd.dataresource+json": {
                            "schema": {
                                "fields": [
                                    {
                                        "name": "average_rating"
                                    },
                                    {
                                        "name": "title"
                                    },
                                    {
                                        "name": "original_publication_year"
                                    },
                                    {
                                        "name": "original_title"
                                    }
                                ]
                            },
                            "data": [
                                {
                                    "average_rating": "4.34",
                                    "title": "The Hunger Games (The Hunger Games, #1)",
                                    "original_publication_year": "2008",
                                    "original_title": "The Hunger Games"
                                },
                                {
                                    "average_rating": "4.44",
                                    "title": "Harry Potter and the Sorcerer's Stone (Harry Potter, #1)",
                                    "original_publication_year": "1997",
                                    "original_title": "Harry Potter and the Philosopher's Stone"
                                },
                                {
                                    "average_rating": "3.57",
                                    "title": "Twilight (Twilight, #1)",
                                    "original_publication_year": "2005",
                                    "original_title": "Twilight"
                                },
                                {
                                    "average_rating": "4.25",
                                    "title": "To Kill a Mockingbird",
                                    "original_publication_year": "1960",
                                    "original_title": "To Kill a Mockingbird"
                                },
                                {
                                    "average_rating": "3.89",
                                    "title": "The Great Gatsby",
                                    "original_publication_year": "1925",
                                    "original_title": "The Great Gatsby"
                                },
                                {
                                    "average_rating": "4.26",
                                    "title": "The Fault in Our Stars",
                                    "original_publication_year": "2012",
                                    "original_title": "The Fault in Our Stars"
                                },
                                {
                                    "average_rating": "4.25",
                                    "title": "The Hobbit",
                                    "original_publication_year": "1937",
                                    "original_title": "The Hobbit or There and Back Again"
                                },
                                {
                                    "average_rating": "3.79",
                                    "title": "The Catcher in the Rye",
                                    "original_publication_year": "1951",
                                    "original_title": "The Catcher in the Rye"
                                },
                                {
                                    "average_rating": "3.85",
                                    "title": "Angels & Demons  (Robert Langdon, #1)",
                                    "original_publication_year": "2000",
                                    "original_title": "Angels & Demons "
                                },
                                {
                                    "average_rating": "4.24",
                                    "title": "Pride and Prejudice",
                                    "original_publication_year": "1813",
                                    "original_title": "Pride and Prejudice"
                                },
                                {
                                    "average_rating": "4.26",
                                    "title": "The Kite Runner",
                                    "original_publication_year": "2003",
                                    "original_title": "The Kite Runner "
                                },
                                {
                                    "average_rating": "4.24",
                                    "title": "Divergent (Divergent, #1)",
                                    "original_publication_year": "2011",
                                    "original_title": "Divergent"
                                },
                                {
                                    "average_rating": "4.14",
                                    "title": "1984",
                                    "original_publication_year": "1949",
                                    "original_title": "Nineteen Eighty-Four"
                                },
                                {
                                    "average_rating": "3.87",
                                    "title": "Animal Farm",
                                    "original_publication_year": "1945",
                                    "original_title": "Animal Farm: A Fairy Story"
                                },
                                {
                                    "average_rating": "4.1",
                                    "title": "The Diary of a Young Girl",
                                    "original_publication_year": "1947",
                                    "original_title": "Het Achterhuis: Dagboekbrieven 14 juni 1942 - 1 augustus 1944"
                                },
                                {
                                    "average_rating": "4.11",
                                    "title": "The Girl with the Dragon Tattoo (Millennium, #1)",
                                    "original_publication_year": "2005",
                                    "original_title": "Män som hatar kvinnor"
                                },
                                {
                                    "average_rating": "4.3",
                                    "title": "Catching Fire (The Hunger Games, #2)",
                                    "original_publication_year": "2009",
                                    "original_title": "Catching Fire"
                                },
                                {
                                    "average_rating": "4.53",
                                    "title": "Harry Potter and the Prisoner of Azkaban (Harry Potter, #3)",
                                    "original_publication_year": "1999",
                                    "original_title": "Harry Potter and the Prisoner of Azkaban"
                                },
                                {
                                    "average_rating": "4.34",
                                    "title": "The Fellowship of the Ring (The Lord of the Rings, #1)",
                                    "original_publication_year": "1954",
                                    "original_title": "The Fellowship of the Ring"
                                },
                                {
                                    "average_rating": "4.03",
                                    "title": "Mockingjay (The Hunger Games, #3)",
                                    "original_publication_year": "2010",
                                    "original_title": "Mockingjay"
                                },
                                {
                                    "average_rating": "4.46",
                                    "title": "Harry Potter and the Order of the Phoenix (Harry Potter, #5)",
                                    "original_publication_year": "2003",
                                    "original_title": "Harry Potter and the Order of the Phoenix"
                                },
                                {
                                    "average_rating": "3.77",
                                    "title": "The Lovely Bones",
                                    "original_publication_year": "2002",
                                    "original_title": "The Lovely Bones"
                                },
                                {
                                    "average_rating": "4.37",
                                    "title": "Harry Potter and the Chamber of Secrets (Harry Potter, #2)",
                                    "original_publication_year": "1998",
                                    "original_title": "Harry Potter and the Chamber of Secrets"
                                },
                                {
                                    "average_rating": "4.53",
                                    "title": "Harry Potter and the Goblet of Fire (Harry Potter, #4)",
                                    "original_publication_year": "2000",
                                    "original_title": "Harry Potter and the Goblet of Fire"
                                },
                                {
                                    "average_rating": "4.61",
                                    "title": "Harry Potter and the Deathly Hallows (Harry Potter, #7)",
                                    "original_publication_year": "2007",
                                    "original_title": "Harry Potter and the Deathly Hallows"
                                },
                                {
                                    "average_rating": "3.79",
                                    "title": "The Da Vinci Code (Robert Langdon, #2)",
                                    "original_publication_year": "2003",
                                    "original_title": "The Da Vinci Code"
                                },
                                {
                                    "average_rating": "4.54",
                                    "title": "Harry Potter and the Half-Blood Prince (Harry Potter, #6)",
                                    "original_publication_year": "2005",
                                    "original_title": "Harry Potter and the Half-Blood Prince"
                                },
                                {
                                    "average_rating": "3.64",
                                    "title": "Lord of the Flies",
                                    "original_publication_year": "1954",
                                    "original_title": "Lord of the Flies "
                                },
                                {
                                    "average_rating": "3.73",
                                    "title": "Romeo and Juliet",
                                    "original_publication_year": "1595",
                                    "original_title": "An Excellent conceited Tragedie of Romeo and Juliet"
                                },
                                {
                                    "average_rating": "4.03",
                                    "title": "Gone Girl",
                                    "original_publication_year": "2012",
                                    "original_title": "Gone Girl"
                                },
                                {
                                    "average_rating": "4.45",
                                    "title": "The Help",
                                    "original_publication_year": "2009",
                                    "original_title": "The Help"
                                },
                                {
                                    "average_rating": "3.84",
                                    "title": "Of Mice and Men",
                                    "original_publication_year": "1937",
                                    "original_title": "Of Mice and Men "
                                },
                                {
                                    "average_rating": "4.08",
                                    "title": "Memoirs of a Geisha",
                                    "original_publication_year": "1997",
                                    "original_title": "Memoirs of a Geisha"
                                },
                                {
                                    "average_rating": "3.67",
                                    "title": "Fifty Shades of Grey (Fifty Shades, #1)",
                                    "original_publication_year": "2011",
                                    "original_title": "Fifty Shades of Grey"
                                },
                                {
                                    "average_rating": "3.82",
                                    "title": "The Alchemist",
                                    "original_publication_year": "1988",
                                    "original_title": "O Alquimista"
                                },
                                {
                                    "average_rating": "4.12",
                                    "title": "The Giver (The Giver, #1)",
                                    "original_publication_year": "1993",
                                    "original_title": "The Giver"
                                },
                                {
                                    "average_rating": "4.19",
                                    "title": "The Lion, the Witch, and the Wardrobe (Chronicles of Narnia, #1)",
                                    "original_publication_year": "1950",
                                    "original_title": "The Lion, the Witch and the Wardrobe"
                                },
                                {
                                    "average_rating": "3.95",
                                    "title": "The Time Traveler's Wife",
                                    "original_publication_year": "2003",
                                    "original_title": "The Time Traveler's Wife"
                                },
                                {
                                    "average_rating": "4.45",
                                    "title": "A Game of Thrones (A Song of Ice and Fire, #1)",
                                    "original_publication_year": "1996",
                                    "original_title": "A Game of Thrones"
                                },
                                {
                                    "average_rating": "3.51",
                                    "title": "Eat, Pray, Love",
                                    "original_publication_year": "2006",
                                    "original_title": "Eat, pray, love: one woman's search for everything across Italy, India and Indonesia"
                                },
                                {
                                    "average_rating": "4.23",
                                    "title": "The Lightning Thief (Percy Jackson and the Olympians, #1)",
                                    "original_publication_year": "2005",
                                    "original_title": "The Lightning Thief"
                                },
                                {
                                    "average_rating": "4.04",
                                    "title": "Little Women (Little Women, #1)",
                                    "original_publication_year": "1868",
                                    "original_title": "Little Women"
                                },
                                {
                                    "average_rating": "4.1",
                                    "title": "Jane Eyre",
                                    "original_publication_year": "1847",
                                    "original_title": "Jane Eyre"
                                },
                                {
                                    "average_rating": "4.06",
                                    "title": "The Notebook (The Notebook, #1)",
                                    "original_publication_year": "1996",
                                    "original_title": "The Notebook"
                                },
                                {
                                    "average_rating": "3.88",
                                    "title": "Life of Pi",
                                    "original_publication_year": "2001",
                                    "original_title": "Life of Pi"
                                },
                                {
                                    "average_rating": "4.07",
                                    "title": "Water for Elephants",
                                    "original_publication_year": "2006",
                                    "original_title": "Water for Elephants"
                                },
                                {
                                    "average_rating": "4.36",
                                    "title": "The Book Thief",
                                    "original_publication_year": "2005",
                                    "original_title": "The Book Thief"
                                },
                                {
                                    "average_rating": "3.97",
                                    "title": "Fahrenheit 451",
                                    "original_publication_year": "1953",
                                    "original_title": "Fahrenheit 451"
                                },
                                {
                                    "average_rating": "3.52",
                                    "title": "New Moon (Twilight, #2)",
                                    "original_publication_year": "2006",
                                    "original_title": "New Moon (Twilight, #2)"
                                },
                                {
                                    "average_rating": "4.29",
                                    "title": "Where the Sidewalk Ends",
                                    "original_publication_year": "1974",
                                    "original_title": "Where the Sidewalk Ends: The Poems and Drawings of Shel Silverstein"
                                },
                                {
                                    "average_rating": "4.12",
                                    "title": "City of Bones (The Mortal Instruments, #1)",
                                    "original_publication_year": "2007",
                                    "original_title": "City of Bones"
                                },
                                {
                                    "average_rating": "3.69",
                                    "title": "Eclipse (Twilight, #3)",
                                    "original_publication_year": "2007",
                                    "original_title": "Eclipse"
                                },
                                {
                                    "average_rating": "3.86",
                                    "title": "Eragon (The Inheritance Cycle, #1)",
                                    "original_publication_year": "2002",
                                    "original_title": "Eragon"
                                },
                                {
                                    "average_rating": "4.2",
                                    "title": "The Hitchhiker's Guide to the Galaxy (Hitchhiker's Guide to the Galaxy, #1)",
                                    "original_publication_year": "1979",
                                    "original_title": "The Hitchhiker's Guide to the Galaxy"
                                },
                                {
                                    "average_rating": "3.97",
                                    "title": "Brave New World",
                                    "original_publication_year": "1932",
                                    "original_title": "Brave New World"
                                },
                                {
                                    "average_rating": "3.7",
                                    "title": "Breaking Dawn (Twilight, #4)",
                                    "original_publication_year": "2008",
                                    "original_title": "Breaking Dawn"
                                },
                                {
                                    "average_rating": "4.01",
                                    "title": "The Secret Life of Bees",
                                    "original_publication_year": "2001",
                                    "original_title": "The Secret Life of Bees"
                                },
                                {
                                    "average_rating": "3.8",
                                    "title": "The Adventures of Huckleberry Finn",
                                    "original_publication_year": "1884",
                                    "original_title": "The Adventures of Huckleberry Finn"
                                },
                                {
                                    "average_rating": "4.15",
                                    "title": "Charlotte's Web",
                                    "original_publication_year": "1952",
                                    "original_title": "Charlotte's Web"
                                },
                                {
                                    "average_rating": "3.85",
                                    "title": "The Curious Incident of the Dog in the Night-Time",
                                    "original_publication_year": "2003",
                                    "original_title": "The Curious Incident of the Dog in the Night-Time"
                                },
                                {
                                    "average_rating": "3.88",
                                    "title": "The Girl on the Train",
                                    "original_publication_year": "2015",
                                    "original_title": "The Girl on the Train"
                                },
                                {
                                    "average_rating": "3.94",
                                    "title": "The Golden Compass (His Dark Materials, #1)",
                                    "original_publication_year": "1995",
                                    "original_title": "Northern Lights"
                                },
                                {
                                    "average_rating": "4.12",
                                    "title": "Fangirl",
                                    "original_publication_year": "2013",
                                    "original_title": "NULL"
                                },
                                {
                                    "average_rating": "3.82",
                                    "title": "Wuthering Heights",
                                    "original_publication_year": "1847",
                                    "original_title": "Wuthering Heights"
                                },
                                {
                                    "average_rating": "4.06",
                                    "title": "My Sister's Keeper",
                                    "original_publication_year": "2004",
                                    "original_title": "My Sister's Keeper"
                                },
                                {
                                    "average_rating": "4.06",
                                    "title": "Slaughterhouse-Five",
                                    "original_publication_year": "1969",
                                    "original_title": "Slaughterhouse-Five, or The Children's Crusade: A Duty-Dance with Death "
                                },
                                {
                                    "average_rating": "4.28",
                                    "title": "Gone with the Wind",
                                    "original_publication_year": "1936",
                                    "original_title": "Gone with the Wind"
                                },
                                {
                                    "average_rating": "4.34",
                                    "title": "A Thousand Splendid Suns",
                                    "original_publication_year": "2007",
                                    "original_title": "A Thousand Splendid Suns"
                                },
                                {
                                    "average_rating": "4.21",
                                    "title": "The Perks of Being a Wallflower",
                                    "original_publication_year": "1999",
                                    "original_title": "The Perks of Being a Wallflower"
                                },
                                {
                                    "average_rating": "4.07",
                                    "title": "Insurgent (Divergent, #2)",
                                    "original_publication_year": "2012",
                                    "original_title": "Insurgent"
                                },
                                {
                                    "average_rating": "4.3",
                                    "title": "Ender's Game (Ender's Saga, #1)",
                                    "original_publication_year": "1985",
                                    "original_title": "Ender's Game"
                                },
                                {
                                    "average_rating": "3.75",
                                    "title": "Frankenstein",
                                    "original_publication_year": "1818",
                                    "original_title": "Frankenstein; or, The Modern Prometheus"
                                },
                                {
                                    "average_rating": "4.17",
                                    "title": "The Shining (The Shining #1)",
                                    "original_publication_year": "1977",
                                    "original_title": "The Shining"
                                },
                                {
                                    "average_rating": "3.84",
                                    "title": "The Host (The Host, #1)",
                                    "original_publication_year": "2008",
                                    "original_title": "The Host"
                                },
                                {
                                    "average_rating": "4.09",
                                    "title": "Looking for Alaska",
                                    "original_publication_year": "2005",
                                    "original_title": "Looking for Alaska"
                                },
                                {
                                    "average_rating": "3.75",
                                    "title": "Bridget Jones's Diary (Bridget Jones, #1)",
                                    "original_publication_year": "1996",
                                    "original_title": "NULL"
                                },
                                {
                                    "average_rating": "4.06",
                                    "title": "Sense and Sensibility",
                                    "original_publication_year": "1811",
                                    "original_title": "Sense and Sensibility"
                                },
                                {
                                    "average_rating": "3.93",
                                    "title": "Holes (Holes, #1)",
                                    "original_publication_year": "1998",
                                    "original_title": "Holes"
                                },
                                {
                                    "average_rating": "3.76",
                                    "title": "Filth",
                                    "original_publication_year": "1998",
                                    "original_title": "Filth"
                                },
                                {
                                    "average_rating": "3.7",
                                    "title": "The Devil Wears Prada (The Devil Wears Prada, #1)",
                                    "original_publication_year": "2003",
                                    "original_title": "The Devil Wears Prada"
                                },
                                {
                                    "average_rating": "3.73",
                                    "title": "The Odyssey",
                                    "original_publication_year": "-720",
                                    "original_title": "Ὀδύσσεια"
                                },
                                {
                                    "average_rating": "4.28",
                                    "title": "The Little Prince",
                                    "original_publication_year": "1946",
                                    "original_title": "Le Petit Prince"
                                },
                                {
                                    "average_rating": "4.24",
                                    "title": "The Glass Castle",
                                    "original_publication_year": "2005",
                                    "original_title": "The Glass Castle"
                                },
                                {
                                    "average_rating": "3.94",
                                    "title": "Into the Wild",
                                    "original_publication_year": "1996",
                                    "original_title": "Into the Wild"
                                },
                                {
                                    "average_rating": "3.81",
                                    "title": "A Tale of Two Cities",
                                    "original_publication_year": "1859",
                                    "original_title": "A Tale of Two Cities"
                                },
                                {
                                    "average_rating": "3.96",
                                    "title": "Jurassic Park (Jurassic Park, #1)",
                                    "original_publication_year": "1990",
                                    "original_title": "Jurassic Park"
                                },
                                {
                                    "average_rating": "4.38",
                                    "title": "The Giving Tree",
                                    "original_publication_year": "1964",
                                    "original_title": "The Giving Tree"
                                },
                                {
                                    "average_rating": "4.03",
                                    "title": "A Time to Kill",
                                    "original_publication_year": "1989",
                                    "original_title": "A Time to Kill"
                                },
                                {
                                    "average_rating": "4.3",
                                    "title": "Night (The Night Trilogy #1)",
                                    "original_publication_year": "1958",
                                    "original_title": "Un di Velt Hot Geshvign"
                                },
                                {
                                    "average_rating": "3.88",
                                    "title": "Paper Towns",
                                    "original_publication_year": "2008",
                                    "original_title": "Paper Towns"
                                },
                                {
                                    "average_rating": "4.25",
                                    "title": "The Princess Bride ",
                                    "original_publication_year": "1973",
                                    "original_title": "The Princess Bride"
                                },
                                {
                                    "average_rating": "4.06",
                                    "title": "The Outsiders",
                                    "original_publication_year": "1967",
                                    "original_title": "The Outsiders"
                                },
                                {
                                    "average_rating": "4.02",
                                    "title": "The Maze Runner (Maze Runner, #1)",
                                    "original_publication_year": "2009",
                                    "original_title": "The Maze Runner"
                                },
                                {
                                    "average_rating": "3.93",
                                    "title": "Freakonomics: A Rogue Economist Explores the Hidden Side of Everything (Freakonomics, #1)",
                                    "original_publication_year": "2005",
                                    "original_title": "Freakonomics: A Rogue Economist Explores the Hidden Side of Everything"
                                },
                                {
                                    "average_rating": "4.12",
                                    "title": "The Secret Garden",
                                    "original_publication_year": "1911",
                                    "original_title": "The Secret Garden"
                                },
                                {
                                    "average_rating": "4.04",
                                    "title": "One Hundred Years of Solitude",
                                    "original_publication_year": "1967",
                                    "original_title": "Cien años de soledad"
                                },
                                {
                                    "average_rating": "4.06",
                                    "title": "The Picture of Dorian Gray",
                                    "original_publication_year": "1891",
                                    "original_title": "The Picture of Dorian Gray"
                                },
                                {
                                    "average_rating": "3.88",
                                    "title": "Fifty Shades Freed (Fifty Shades, #3)",
                                    "original_publication_year": "2012",
                                    "original_title": "Fifty Shades Freed"
                                },
                                {
                                    "average_rating": "3.98",
                                    "title": "Dracula",
                                    "original_publication_year": "1897",
                                    "original_title": "Dracula"
                                },
                                {
                                    "average_rating": "4.22",
                                    "title": "The Girl Who Played with Fire (Millennium, #2)",
                                    "original_publication_year": "2006",
                                    "original_title": "Flickan som lekte med elden"
                                }
                            ]
                        },
                        "text/html": [
                            "<table>",
                            "<tr><th>average_rating</th><th>title</th><th>original_publication_year</th><th>original_title</th></tr>",
                            "<tr><td>4.34</td><td>The Hunger Games (The Hunger Games, #1)</td><td>2008</td><td>The Hunger Games</td></tr>",
                            "<tr><td>4.44</td><td>Harry Potter and the Sorcerer&#39;s Stone (Harry Potter, #1)</td><td>1997</td><td>Harry Potter and the Philosopher&#39;s Stone</td></tr>",
                            "<tr><td>3.57</td><td>Twilight (Twilight, #1)</td><td>2005</td><td>Twilight</td></tr>",
                            "<tr><td>4.25</td><td>To Kill a Mockingbird</td><td>1960</td><td>To Kill a Mockingbird</td></tr>",
                            "<tr><td>3.89</td><td>The Great Gatsby</td><td>1925</td><td>The Great Gatsby</td></tr>",
                            "<tr><td>4.26</td><td>The Fault in Our Stars</td><td>2012</td><td>The Fault in Our Stars</td></tr>",
                            "<tr><td>4.25</td><td>The Hobbit</td><td>1937</td><td>The Hobbit or There and Back Again</td></tr>",
                            "<tr><td>3.79</td><td>The Catcher in the Rye</td><td>1951</td><td>The Catcher in the Rye</td></tr>",
                            "<tr><td>3.85</td><td>Angels &amp; Demons  (Robert Langdon, #1)</td><td>2000</td><td>Angels &amp; Demons </td></tr>",
                            "<tr><td>4.24</td><td>Pride and Prejudice</td><td>1813</td><td>Pride and Prejudice</td></tr>",
                            "<tr><td>4.26</td><td>The Kite Runner</td><td>2003</td><td>The Kite Runner </td></tr>",
                            "<tr><td>4.24</td><td>Divergent (Divergent, #1)</td><td>2011</td><td>Divergent</td></tr>",
                            "<tr><td>4.14</td><td>1984</td><td>1949</td><td>Nineteen Eighty-Four</td></tr>",
                            "<tr><td>3.87</td><td>Animal Farm</td><td>1945</td><td>Animal Farm: A Fairy Story</td></tr>",
                            "<tr><td>4.1</td><td>The Diary of a Young Girl</td><td>1947</td><td>Het Achterhuis: Dagboekbrieven 14 juni 1942 - 1 augustus 1944</td></tr>",
                            "<tr><td>4.11</td><td>The Girl with the Dragon Tattoo (Millennium, #1)</td><td>2005</td><td>Män som hatar kvinnor</td></tr>",
                            "<tr><td>4.3</td><td>Catching Fire (The Hunger Games, #2)</td><td>2009</td><td>Catching Fire</td></tr>",
                            "<tr><td>4.53</td><td>Harry Potter and the Prisoner of Azkaban (Harry Potter, #3)</td><td>1999</td><td>Harry Potter and the Prisoner of Azkaban</td></tr>",
                            "<tr><td>4.34</td><td>The Fellowship of the Ring (The Lord of the Rings, #1)</td><td>1954</td><td>The Fellowship of the Ring</td></tr>",
                            "<tr><td>4.03</td><td>Mockingjay (The Hunger Games, #3)</td><td>2010</td><td>Mockingjay</td></tr>",
                            "<tr><td>4.46</td><td>Harry Potter and the Order of the Phoenix (Harry Potter, #5)</td><td>2003</td><td>Harry Potter and the Order of the Phoenix</td></tr>",
                            "<tr><td>3.77</td><td>The Lovely Bones</td><td>2002</td><td>The Lovely Bones</td></tr>",
                            "<tr><td>4.37</td><td>Harry Potter and the Chamber of Secrets (Harry Potter, #2)</td><td>1998</td><td>Harry Potter and the Chamber of Secrets</td></tr>",
                            "<tr><td>4.53</td><td>Harry Potter and the Goblet of Fire (Harry Potter, #4)</td><td>2000</td><td>Harry Potter and the Goblet of Fire</td></tr>",
                            "<tr><td>4.61</td><td>Harry Potter and the Deathly Hallows (Harry Potter, #7)</td><td>2007</td><td>Harry Potter and the Deathly Hallows</td></tr>",
                            "<tr><td>3.79</td><td>The Da Vinci Code (Robert Langdon, #2)</td><td>2003</td><td>The Da Vinci Code</td></tr>",
                            "<tr><td>4.54</td><td>Harry Potter and the Half-Blood Prince (Harry Potter, #6)</td><td>2005</td><td>Harry Potter and the Half-Blood Prince</td></tr>",
                            "<tr><td>3.64</td><td>Lord of the Flies</td><td>1954</td><td>Lord of the Flies </td></tr>",
                            "<tr><td>3.73</td><td>Romeo and Juliet</td><td>1595</td><td>An Excellent conceited Tragedie of Romeo and Juliet</td></tr>",
                            "<tr><td>4.03</td><td>Gone Girl</td><td>2012</td><td>Gone Girl</td></tr>",
                            "<tr><td>4.45</td><td>The Help</td><td>2009</td><td>The Help</td></tr>",
                            "<tr><td>3.84</td><td>Of Mice and Men</td><td>1937</td><td>Of Mice and Men </td></tr>",
                            "<tr><td>4.08</td><td>Memoirs of a Geisha</td><td>1997</td><td>Memoirs of a Geisha</td></tr>",
                            "<tr><td>3.67</td><td>Fifty Shades of Grey (Fifty Shades, #1)</td><td>2011</td><td>Fifty Shades of Grey</td></tr>",
                            "<tr><td>3.82</td><td>The Alchemist</td><td>1988</td><td>O Alquimista</td></tr>",
                            "<tr><td>4.12</td><td>The Giver (The Giver, #1)</td><td>1993</td><td>The Giver</td></tr>",
                            "<tr><td>4.19</td><td>The Lion, the Witch, and the Wardrobe (Chronicles of Narnia, #1)</td><td>1950</td><td>The Lion, the Witch and the Wardrobe</td></tr>",
                            "<tr><td>3.95</td><td>The Time Traveler&#39;s Wife</td><td>2003</td><td>The Time Traveler&#39;s Wife</td></tr>",
                            "<tr><td>4.45</td><td>A Game of Thrones (A Song of Ice and Fire, #1)</td><td>1996</td><td>A Game of Thrones</td></tr>",
                            "<tr><td>3.51</td><td>Eat, Pray, Love</td><td>2006</td><td>Eat, pray, love: one woman&#39;s search for everything across Italy, India and Indonesia</td></tr>",
                            "<tr><td>4.23</td><td>The Lightning Thief (Percy Jackson and the Olympians, #1)</td><td>2005</td><td>The Lightning Thief</td></tr>",
                            "<tr><td>4.04</td><td>Little Women (Little Women, #1)</td><td>1868</td><td>Little Women</td></tr>",
                            "<tr><td>4.1</td><td>Jane Eyre</td><td>1847</td><td>Jane Eyre</td></tr>",
                            "<tr><td>4.06</td><td>The Notebook (The Notebook, #1)</td><td>1996</td><td>The Notebook</td></tr>",
                            "<tr><td>3.88</td><td>Life of Pi</td><td>2001</td><td>Life of Pi</td></tr>",
                            "<tr><td>4.07</td><td>Water for Elephants</td><td>2006</td><td>Water for Elephants</td></tr>",
                            "<tr><td>4.36</td><td>The Book Thief</td><td>2005</td><td>The Book Thief</td></tr>",
                            "<tr><td>3.97</td><td>Fahrenheit 451</td><td>1953</td><td>Fahrenheit 451</td></tr>",
                            "<tr><td>3.52</td><td>New Moon (Twilight, #2)</td><td>2006</td><td>New Moon (Twilight, #2)</td></tr>",
                            "<tr><td>4.29</td><td>Where the Sidewalk Ends</td><td>1974</td><td>Where the Sidewalk Ends: The Poems and Drawings of Shel Silverstein</td></tr>",
                            "<tr><td>4.12</td><td>City of Bones (The Mortal Instruments, #1)</td><td>2007</td><td>City of Bones</td></tr>",
                            "<tr><td>3.69</td><td>Eclipse (Twilight, #3)</td><td>2007</td><td>Eclipse</td></tr>",
                            "<tr><td>3.86</td><td>Eragon (The Inheritance Cycle, #1)</td><td>2002</td><td>Eragon</td></tr>",
                            "<tr><td>4.2</td><td>The Hitchhiker&#39;s Guide to the Galaxy (Hitchhiker&#39;s Guide to the Galaxy, #1)</td><td>1979</td><td>The Hitchhiker&#39;s Guide to the Galaxy</td></tr>",
                            "<tr><td>3.97</td><td>Brave New World</td><td>1932</td><td>Brave New World</td></tr>",
                            "<tr><td>3.7</td><td>Breaking Dawn (Twilight, #4)</td><td>2008</td><td>Breaking Dawn</td></tr>",
                            "<tr><td>4.01</td><td>The Secret Life of Bees</td><td>2001</td><td>The Secret Life of Bees</td></tr>",
                            "<tr><td>3.8</td><td>The Adventures of Huckleberry Finn</td><td>1884</td><td>The Adventures of Huckleberry Finn</td></tr>",
                            "<tr><td>4.15</td><td>Charlotte&#39;s Web</td><td>1952</td><td>Charlotte&#39;s Web</td></tr>",
                            "<tr><td>3.85</td><td>The Curious Incident of the Dog in the Night-Time</td><td>2003</td><td>The Curious Incident of the Dog in the Night-Time</td></tr>",
                            "<tr><td>3.88</td><td>The Girl on the Train</td><td>2015</td><td>The Girl on the Train</td></tr>",
                            "<tr><td>3.94</td><td>The Golden Compass (His Dark Materials, #1)</td><td>1995</td><td>Northern Lights</td></tr>",
                            "<tr><td>4.12</td><td>Fangirl</td><td>2013</td><td>NULL</td></tr>",
                            "<tr><td>3.82</td><td>Wuthering Heights</td><td>1847</td><td>Wuthering Heights</td></tr>",
                            "<tr><td>4.06</td><td>My Sister&#39;s Keeper</td><td>2004</td><td>My Sister&#39;s Keeper</td></tr>",
                            "<tr><td>4.06</td><td>Slaughterhouse-Five</td><td>1969</td><td>Slaughterhouse-Five, or The Children&#39;s Crusade: A Duty-Dance with Death </td></tr>",
                            "<tr><td>4.28</td><td>Gone with the Wind</td><td>1936</td><td>Gone with the Wind</td></tr>",
                            "<tr><td>4.34</td><td>A Thousand Splendid Suns</td><td>2007</td><td>A Thousand Splendid Suns</td></tr>",
                            "<tr><td>4.21</td><td>The Perks of Being a Wallflower</td><td>1999</td><td>The Perks of Being a Wallflower</td></tr>",
                            "<tr><td>4.07</td><td>Insurgent (Divergent, #2)</td><td>2012</td><td>Insurgent</td></tr>",
                            "<tr><td>4.3</td><td>Ender&#39;s Game (Ender&#39;s Saga, #1)</td><td>1985</td><td>Ender&#39;s Game</td></tr>",
                            "<tr><td>3.75</td><td>Frankenstein</td><td>1818</td><td>Frankenstein; or, The Modern Prometheus</td></tr>",
                            "<tr><td>4.17</td><td>The Shining (The Shining #1)</td><td>1977</td><td>The Shining</td></tr>",
                            "<tr><td>3.84</td><td>The Host (The Host, #1)</td><td>2008</td><td>The Host</td></tr>",
                            "<tr><td>4.09</td><td>Looking for Alaska</td><td>2005</td><td>Looking for Alaska</td></tr>",
                            "<tr><td>3.75</td><td>Bridget Jones&#39;s Diary (Bridget Jones, #1)</td><td>1996</td><td>NULL</td></tr>",
                            "<tr><td>4.06</td><td>Sense and Sensibility</td><td>1811</td><td>Sense and Sensibility</td></tr>",
                            "<tr><td>3.93</td><td>Holes (Holes, #1)</td><td>1998</td><td>Holes</td></tr>",
                            "<tr><td>3.76</td><td>Filth</td><td>1998</td><td>Filth</td></tr>",
                            "<tr><td>3.7</td><td>The Devil Wears Prada (The Devil Wears Prada, #1)</td><td>2003</td><td>The Devil Wears Prada</td></tr>",
                            "<tr><td>3.73</td><td>The Odyssey</td><td>-720</td><td>Ὀδύσσεια</td></tr>",
                            "<tr><td>4.28</td><td>The Little Prince</td><td>1946</td><td>Le Petit Prince</td></tr>",
                            "<tr><td>4.24</td><td>The Glass Castle</td><td>2005</td><td>The Glass Castle</td></tr>",
                            "<tr><td>3.94</td><td>Into the Wild</td><td>1996</td><td>Into the Wild</td></tr>",
                            "<tr><td>3.81</td><td>A Tale of Two Cities</td><td>1859</td><td>A Tale of Two Cities</td></tr>",
                            "<tr><td>3.96</td><td>Jurassic Park (Jurassic Park, #1)</td><td>1990</td><td>Jurassic Park</td></tr>",
                            "<tr><td>4.38</td><td>The Giving Tree</td><td>1964</td><td>The Giving Tree</td></tr>",
                            "<tr><td>4.03</td><td>A Time to Kill</td><td>1989</td><td>A Time to Kill</td></tr>",
                            "<tr><td>4.3</td><td>Night (The Night Trilogy #1)</td><td>1958</td><td>Un di Velt Hot Geshvign</td></tr>",
                            "<tr><td>3.88</td><td>Paper Towns</td><td>2008</td><td>Paper Towns</td></tr>",
                            "<tr><td>4.25</td><td>The Princess Bride </td><td>1973</td><td>The Princess Bride</td></tr>",
                            "<tr><td>4.06</td><td>The Outsiders</td><td>1967</td><td>The Outsiders</td></tr>",
                            "<tr><td>4.02</td><td>The Maze Runner (Maze Runner, #1)</td><td>2009</td><td>The Maze Runner</td></tr>",
                            "<tr><td>3.93</td><td>Freakonomics: A Rogue Economist Explores the Hidden Side of Everything (Freakonomics, #1)</td><td>2005</td><td>Freakonomics: A Rogue Economist Explores the Hidden Side of Everything</td></tr>",
                            "<tr><td>4.12</td><td>The Secret Garden</td><td>1911</td><td>The Secret Garden</td></tr>",
                            "<tr><td>4.04</td><td>One Hundred Years of Solitude</td><td>1967</td><td>Cien años de soledad</td></tr>",
                            "<tr><td>4.06</td><td>The Picture of Dorian Gray</td><td>1891</td><td>The Picture of Dorian Gray</td></tr>",
                            "<tr><td>3.88</td><td>Fifty Shades Freed (Fifty Shades, #3)</td><td>2012</td><td>Fifty Shades Freed</td></tr>",
                            "<tr><td>3.98</td><td>Dracula</td><td>1897</td><td>Dracula</td></tr>",
                            "<tr><td>4.22</td><td>The Girl Who Played with Fire (Millennium, #2)</td><td>2006</td><td>Flickan som lekte med elden</td></tr>",
                            "</table>"
                        ]
                    }
                }
            ],
            "execution_count": 19
        }
    ]
}